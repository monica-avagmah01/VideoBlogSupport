{
 "cells": [
  {
   "cell_type": "code",
   "execution_count": 4,
   "metadata": {},
   "outputs": [
    {
     "data": {
      "text/plain": [
       "<sqlite3.Cursor at 0x7feab44346c0>"
      ]
     },
     "execution_count": 4,
     "metadata": {},
     "output_type": "execute_result"
    }
   ],
   "source": [
    "import sqlite3\n",
    "\n",
    "connection = sqlite3.connect(\"myTable5.db\") \n",
    "\n",
    "crsr = connection.cursor() \n",
    "  \n",
    "sql_command = \"\"\"CREATE TABLE student (  \n",
    "NAME varchar(30) PRIMARY KEY,  \n",
    "CLASS VARCHAR(20),  \n",
    "GRADE DOUBLE);\"\"\"\n",
    "  \n",
    "# execute the statement \n",
    "crsr.execute(sql_command)     \n",
    "\n"
   ]
  },
  {
   "cell_type": "code",
   "execution_count": 5,
   "metadata": {},
   "outputs": [
    {
     "data": {
      "text/plain": [
       "<sqlite3.Cursor at 0x7feab44346c0>"
      ]
     },
     "execution_count": 5,
     "metadata": {},
     "output_type": "execute_result"
    }
   ],
   "source": [
    "sql_command = \"\"\"INSERT INTO student VALUES (\"Jonathan\", \"Math\", 90);\"\"\"\n",
    "crsr.execute(sql_command) "
   ]
  },
  {
   "cell_type": "code",
   "execution_count": 6,
   "metadata": {},
   "outputs": [
    {
     "data": {
      "text/plain": [
       "<sqlite3.Cursor at 0x7feab44346c0>"
      ]
     },
     "execution_count": 6,
     "metadata": {},
     "output_type": "execute_result"
    }
   ],
   "source": [
    "sql_command = \"\"\"INSERT INTO student VALUES (\"Heather\", \"Math\", 100);\"\"\"\n",
    "crsr.execute(sql_command) "
   ]
  },
  {
   "cell_type": "code",
   "execution_count": 7,
   "metadata": {},
   "outputs": [
    {
     "data": {
      "text/plain": [
       "<sqlite3.Cursor at 0x7feab44346c0>"
      ]
     },
     "execution_count": 7,
     "metadata": {},
     "output_type": "execute_result"
    }
   ],
   "source": [
    "sql_command = \"\"\"INSERT INTO student VALUES (\"Alison\", \"History\", 85);\"\"\"\n",
    "crsr.execute(sql_command) "
   ]
  },
  {
   "cell_type": "code",
   "execution_count": 8,
   "metadata": {},
   "outputs": [
    {
     "data": {
      "text/plain": [
       "<sqlite3.Cursor at 0x7feab44346c0>"
      ]
     },
     "execution_count": 8,
     "metadata": {},
     "output_type": "execute_result"
    }
   ],
   "source": [
    "sql_command = \"\"\"INSERT INTO student VALUES (\"Pam\", \"History\", 95);\"\"\"\n",
    "crsr.execute(sql_command) "
   ]
  },
  {
   "cell_type": "code",
   "execution_count": 9,
   "metadata": {},
   "outputs": [
    {
     "data": {
      "text/plain": [
       "<sqlite3.Cursor at 0x7feab44346c0>"
      ]
     },
     "execution_count": 9,
     "metadata": {},
     "output_type": "execute_result"
    }
   ],
   "source": [
    "sql_command = \"select * from student\"\n",
    "crsr.execute(sql_command)"
   ]
  },
  {
   "cell_type": "code",
   "execution_count": 10,
   "metadata": {},
   "outputs": [
    {
     "name": "stdout",
     "output_type": "stream",
     "text": [
      "('Jonathan', 'Math', 90.0)\n",
      "('Heather', 'Math', 100.0)\n",
      "('Alison', 'History', 85.0)\n",
      "('Pam', 'History', 95.0)\n"
     ]
    }
   ],
   "source": [
    "records = crsr.fetchall()\n",
    "\n",
    "for rec in records:\n",
    "    print(rec)"
   ]
  },
  {
   "cell_type": "code",
   "execution_count": 11,
   "metadata": {},
   "outputs": [
    {
     "name": "stdout",
     "output_type": "stream",
     "text": [
      "('Pam', 95.0)\n",
      "('Heather', 100.0)\n"
     ]
    }
   ],
   "source": [
    "q = 'select NAME, max(GRADE) from student group by CLASS'\n",
    "r = crsr.execute(q)\n",
    "\n",
    "\n",
    "for r1 in r:\n",
    "    print(r1)"
   ]
  },
  {
   "cell_type": "code",
   "execution_count": 12,
   "metadata": {},
   "outputs": [
    {
     "name": "stdout",
     "output_type": "stream",
     "text": [
      "<sqlite3.Cursor object at 0x7feab44346c0>\n"
     ]
    }
   ],
   "source": [
    "print(crsr.execute('select * from student order by GRADE'))"
   ]
  },
  {
   "cell_type": "code",
   "execution_count": 13,
   "metadata": {},
   "outputs": [
    {
     "name": "stdout",
     "output_type": "stream",
     "text": [
      "[('Alison', 'History', 85.0), ('Jonathan', 'Math', 90.0), ('Pam', 'History', 95.0), ('Heather', 'Math', 100.0)]\n"
     ]
    }
   ],
   "source": [
    "print(crsr.fetchall())"
   ]
  },
  {
   "cell_type": "code",
   "execution_count": 14,
   "metadata": {},
   "outputs": [
    {
     "data": {
      "text/plain": [
       "<sqlite3.Cursor at 0x7feab44346c0>"
      ]
     },
     "execution_count": 14,
     "metadata": {},
     "output_type": "execute_result"
    }
   ],
   "source": [
    "crsr.execute('select * from student group by CLASS order by GRADE desc limit 2')"
   ]
  },
  {
   "cell_type": "code",
   "execution_count": 15,
   "metadata": {},
   "outputs": [
    {
     "name": "stdout",
     "output_type": "stream",
     "text": [
      "[('Heather', 'Math', 100.0), ('Pam', 'History', 95.0)]\n"
     ]
    }
   ],
   "source": [
    "print(crsr.fetchall())"
   ]
  },
  {
   "cell_type": "code",
   "execution_count": 16,
   "metadata": {},
   "outputs": [
    {
     "name": "stdout",
     "output_type": "stream",
     "text": [
      "3 : fizz\n",
      "5 : buzz\n",
      "6 : fizz\n",
      "9 : fizz\n",
      "10 : buzz\n",
      "12 : fizz\n",
      "15 : fizzbuzz\n",
      "18 : fizz\n",
      "20 : buzz\n",
      "21 : fizz\n",
      "24 : fizz\n",
      "25 : buzz\n",
      "27 : fizz\n",
      "30 : fizzbuzz\n",
      "33 : fizz\n",
      "35 : buzz\n",
      "36 : fizz\n",
      "39 : fizz\n",
      "40 : buzz\n",
      "42 : fizz\n",
      "45 : fizzbuzz\n",
      "48 : fizz\n",
      "50 : buzz\n",
      "51 : fizz\n",
      "54 : fizz\n",
      "55 : buzz\n",
      "57 : fizz\n",
      "60 : fizzbuzz\n",
      "63 : fizz\n",
      "65 : buzz\n",
      "66 : fizz\n",
      "69 : fizz\n",
      "70 : buzz\n",
      "72 : fizz\n",
      "75 : fizzbuzz\n",
      "78 : fizz\n",
      "80 : buzz\n",
      "81 : fizz\n",
      "84 : fizz\n",
      "85 : buzz\n",
      "87 : fizz\n",
      "90 : fizzbuzz\n",
      "93 : fizz\n",
      "95 : buzz\n",
      "96 : fizz\n",
      "99 : fizz\n"
     ]
    }
   ],
   "source": [
    "for i in range(1, 100):\n",
    "    if(i % 3 == 0 and i %5 == 0):\n",
    "        print(i,': fizzbuzz')\n",
    "    elif (i % 3 == 0):\n",
    "        print(i, ': fizz')\n",
    "    elif (i%5 == 0):\n",
    "        print(i, ': buzz')"
   ]
  },
  {
   "cell_type": "code",
   "execution_count": 17,
   "metadata": {},
   "outputs": [
    {
     "data": {
      "text/plain": [
       "<sqlite3.Cursor at 0x7feab44346c0>"
      ]
     },
     "execution_count": 17,
     "metadata": {},
     "output_type": "execute_result"
    }
   ],
   "source": [
    "crsr.execute('select NAME, MAX(GRADE) from student group by CLASS')"
   ]
  },
  {
   "cell_type": "code",
   "execution_count": 18,
   "metadata": {},
   "outputs": [
    {
     "name": "stdout",
     "output_type": "stream",
     "text": [
      "[('Pam', 95.0), ('Heather', 100.0)]\n"
     ]
    }
   ],
   "source": [
    "print(crsr.fetchall())"
   ]
  },
  {
   "cell_type": "code",
   "execution_count": null,
   "metadata": {},
   "outputs": [],
   "source": []
  }
 ],
 "metadata": {
  "kernelspec": {
   "display_name": "Python 3",
   "language": "python",
   "name": "python3"
  },
  "language_info": {
   "codemirror_mode": {
    "name": "ipython",
    "version": 3
   },
   "file_extension": ".py",
   "mimetype": "text/x-python",
   "name": "python",
   "nbconvert_exporter": "python",
   "pygments_lexer": "ipython3",
   "version": "3.6.6"
  }
 },
 "nbformat": 4,
 "nbformat_minor": 2
}
