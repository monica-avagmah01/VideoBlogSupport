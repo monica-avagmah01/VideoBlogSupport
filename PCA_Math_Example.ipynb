{
 "cells": [
  {
   "cell_type": "code",
   "execution_count": 37,
   "metadata": {},
   "outputs": [],
   "source": [
    "import numpy as np\n",
    "\n",
    "\n",
    "X = np.random.uniform(-20, 80, 20)\n",
    "\n",
    "V = np.random.normal(0, 2, 20)\n",
    "f_X = 3* X/20 + 5 \n",
    "\n",
    "data = [n1 + n2 for n1, n2 in zip(f_X, V)]\n",
    "\n"
   ]
  },
  {
   "cell_type": "code",
   "execution_count": null,
   "metadata": {},
   "outputs": [],
   "source": [
    "import matplotlib.pyplot as plt\n",
    "%matplotlib inline\n",
    "\n",
    "plt.scatter(X, data, color = 'red', alpha = 0.75)  \n",
    "#plt.plot(X, f_x, color = 'blue', alpha = 0.25)\n",
    "plt.show()"
   ]
  },
  {
   "cell_type": "code",
   "execution_count": null,
   "metadata": {},
   "outputs": [],
   "source": [
    "data = [0] * 20\n",
    "\n",
    "#for i in range(0, 20):\n",
    " #   data[i] = f_x[i] + Y[i]\n",
    "    \n",
    "a = [1,2,3]    \n",
    "b = [1,2,3]\n",
    "c = [n1 + n2 for n1, n2 in zip(a, b)]\n",
    "print(c)\n",
    " \n",
    "#print(X)\n",
    "#print(data)\n",
    "\n",
    "X = [75.9485152, -18.70259134, 61.49631671, 63.01722673, -5.48158302, 12.69743498,\n",
    "     -0.35802428, 41.29395142, 1.38726451, -4.77948581, 16.65776484,\n",
    "     61.60904793, -2.17615326, 63.75683413, 57.3749095,\n",
    "      45.81783102, -16.60319893,  51.85265251,  37.97245631,  79.49058881]\n",
    "Y = [14.452984095667956, 2.8477315428300667, 12.076886192408303, 14.65026019722474, \n",
    "     1.9551425676833882, 7.2934820757117595, 4.064118528525057, 9.682433281487526, \n",
    "     4.105040127162953, 0.9866854327701087, 4.603602032822884, 14.549245484131573, \n",
    "     6.128086363684178, 13.64291349030564, 15.188247414162976, 13.328681678515164, \n",
    "     4.530792443757193, 15.114534936651172, 10.137988510608203, 16.27220641213419]\n",
    "plt.scatter(X, data, color = 'red', alpha = 0.75)  \n",
    "#plt.plot(X, f_x, color = 'blue', alpha = 0.25)\n",
    "plt.show()"
   ]
  },
  {
   "cell_type": "code",
   "execution_count": 24,
   "metadata": {},
   "outputs": [
    {
     "name": "stdout",
     "output_type": "stream",
     "text": [
      "31.113587898\n",
      "9.280553140412252\n",
      "[ 44.8349273  -49.81617924  30.38272881  31.90363883 -36.59517092\n",
      " -18.41615292 -31.47161218  10.18036352 -29.72632339 -35.89307371\n",
      " -14.45582306  30.49546003 -33.28974116  32.64324623  26.2613216\n",
      "  14.70424312 -47.71678683  20.73906461   6.85886841  48.37700091]\n",
      "======\n",
      "[ 5.17243096 -6.4328216   2.79633305  5.36970706 -7.32541057 -1.98707106\n",
      " -5.21643461  0.40188014 -5.17551301 -8.29386771 -4.67695111  5.26869234\n",
      " -3.15246678  4.36236035  5.90769427  4.04812854 -4.7497607   5.8339818\n",
      "  0.85743537  6.99165327]\n"
     ]
    }
   ],
   "source": [
    "x_mean = np.mean(X)\n",
    "y_mean = np.mean(Y)\n",
    "\n",
    "print(np.mean(X))\n",
    "print(np.mean(Y))\n",
    "\n",
    "X = X - x_mean\n",
    "Y = Y - y_mean\n",
    "\n",
    "\n",
    "print(X)\n",
    "print(\"======\")\n",
    "print(Y)"
   ]
  },
  {
   "cell_type": "code",
   "execution_count": 28,
   "metadata": {},
   "outputs": [],
   "source": [
    "covariance_matrix = np.cov(X, Y)"
   ]
  },
  {
   "cell_type": "code",
   "execution_count": 29,
   "metadata": {},
   "outputs": [
    {
     "name": "stdout",
     "output_type": "stream",
     "text": [
      "[[1088.95727114  163.95552179]\n",
      " [ 163.95552179   27.44467561]]\n"
     ]
    }
   ],
   "source": [
    "print(covariance_matrix)"
   ]
  },
  {
   "cell_type": "code",
   "execution_count": 30,
   "metadata": {},
   "outputs": [],
   "source": [
    "eigen_values, eigen_vectors = np.linalg.eig(covariance_matrix)"
   ]
  },
  {
   "cell_type": "code",
   "execution_count": 31,
   "metadata": {},
   "outputs": [
    {
     "name": "stdout",
     "output_type": "stream",
     "text": [
      "[[ 0.98880018 -0.14924543]\n",
      " [ 0.14924543  0.98880018]]\n"
     ]
    }
   ],
   "source": [
    "print(eigen_vectors)"
   ]
  },
  {
   "cell_type": "code",
   "execution_count": 32,
   "metadata": {},
   "outputs": [
    {
     "name": "stdout",
     "output_type": "stream",
     "text": [
      "[1113.70404334    2.6979034 ]\n"
     ]
    }
   ],
   "source": [
    "print(eigen_values)"
   ]
  },
  {
   "cell_type": "code",
   "execution_count": null,
   "metadata": {},
   "outputs": [],
   "source": []
  }
 ],
 "metadata": {
  "kernelspec": {
   "display_name": "Python 3",
   "language": "python",
   "name": "python3"
  },
  "language_info": {
   "codemirror_mode": {
    "name": "ipython",
    "version": 3
   },
   "file_extension": ".py",
   "mimetype": "text/x-python",
   "name": "python",
   "nbconvert_exporter": "python",
   "pygments_lexer": "ipython3",
   "version": "3.6.5"
  }
 },
 "nbformat": 4,
 "nbformat_minor": 2
}
