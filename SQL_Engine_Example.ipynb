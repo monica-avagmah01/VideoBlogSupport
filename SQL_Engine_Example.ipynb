{
 "cells": [
  {
   "cell_type": "code",
   "execution_count": 1,
   "metadata": {},
   "outputs": [],
   "source": [
    "from sqlalchemy import create_engine\n",
    "from sqlalchemy.ext.declarative import declarative_base\n",
    "from sqlalchemy import Column, Integer, String\n",
    "from sqlalchemy.orm import sessionmaker\n",
    "from sqlalchemy import update\n",
    "\n",
    "\n",
    "engine = create_engine('sqlite:///:memory:', echo=True)"
   ]
  },
  {
   "cell_type": "code",
   "execution_count": 2,
   "metadata": {},
   "outputs": [],
   "source": [
    "Base = declarative_base()\n",
    "\n",
    "class Adult(Base):\n",
    "    __tablename__ = 'adult'\n",
    "    \n",
    "    age = Column(Integer)\n",
    "    workclass = Column(String)\n",
    "    fnlwgt = Column(Integer, primary_key=True)\n",
    "    education = Column(String)\n",
    "    education_num = Column(Integer)\n",
    "    marital_status = Column(String)\n",
    "    occupation = Column(String)\n",
    "    relationship = Column(String)\n",
    "    race = Column(String)\n",
    "    sex = Column(String)\n",
    "    capital_gain = Column(Integer)\n",
    "    capital_loss = Column(Integer)\n",
    "    hours_per_week = Column(Integer)\n",
    "    native_country = Column(String)\n",
    "    \n",
    "    def __repr__(self):\n",
    "        return \"<Adult(age='%i', education='%s', native_country='%s')>\" % (\n",
    "                        self.age, self.education, self.native_country)"
   ]
  },
  {
   "cell_type": "code",
   "execution_count": 3,
   "metadata": {},
   "outputs": [
    {
     "data": {
      "text/plain": [
       "Table('adult', MetaData(bind=None), Column('age', Integer(), table=<adult>), Column('workclass', String(), table=<adult>), Column('fnlwgt', Integer(), table=<adult>, primary_key=True, nullable=False), Column('education', String(), table=<adult>), Column('education_num', Integer(), table=<adult>), Column('marital_status', String(), table=<adult>), Column('occupation', String(), table=<adult>), Column('relationship', String(), table=<adult>), Column('race', String(), table=<adult>), Column('sex', String(), table=<adult>), Column('capital_gain', Integer(), table=<adult>), Column('capital_loss', Integer(), table=<adult>), Column('hours_per_week', Integer(), table=<adult>), Column('native_country', String(), table=<adult>), schema=None)"
      ]
     },
     "execution_count": 3,
     "metadata": {},
     "output_type": "execute_result"
    }
   ],
   "source": [
    "Adult.__table__"
   ]
  },
  {
   "cell_type": "code",
   "execution_count": 4,
   "metadata": {},
   "outputs": [
    {
     "name": "stdout",
     "output_type": "stream",
     "text": [
      "2018-09-22 11:49:47,599 INFO sqlalchemy.engine.base.Engine SELECT CAST('test plain returns' AS VARCHAR(60)) AS anon_1\n",
      "2018-09-22 11:49:47,599 INFO sqlalchemy.engine.base.Engine ()\n",
      "2018-09-22 11:49:47,600 INFO sqlalchemy.engine.base.Engine SELECT CAST('test unicode returns' AS VARCHAR(60)) AS anon_1\n",
      "2018-09-22 11:49:47,601 INFO sqlalchemy.engine.base.Engine ()\n",
      "2018-09-22 11:49:47,602 INFO sqlalchemy.engine.base.Engine PRAGMA table_info(\"adult\")\n",
      "2018-09-22 11:49:47,604 INFO sqlalchemy.engine.base.Engine ()\n",
      "2018-09-22 11:49:47,607 INFO sqlalchemy.engine.base.Engine \n",
      "CREATE TABLE adult (\n",
      "\tage INTEGER, \n",
      "\tworkclass VARCHAR, \n",
      "\tfnlwgt INTEGER NOT NULL, \n",
      "\teducation VARCHAR, \n",
      "\teducation_num INTEGER, \n",
      "\tmarital_status VARCHAR, \n",
      "\toccupation VARCHAR, \n",
      "\trelationship VARCHAR, \n",
      "\trace VARCHAR, \n",
      "\tsex VARCHAR, \n",
      "\tcapital_gain INTEGER, \n",
      "\tcapital_loss INTEGER, \n",
      "\thours_per_week INTEGER, \n",
      "\tnative_country VARCHAR, \n",
      "\tPRIMARY KEY (fnlwgt)\n",
      ")\n",
      "\n",
      "\n",
      "2018-09-22 11:49:47,608 INFO sqlalchemy.engine.base.Engine ()\n",
      "2018-09-22 11:49:47,609 INFO sqlalchemy.engine.base.Engine COMMIT\n"
     ]
    }
   ],
   "source": [
    "Base.metadata.create_all(engine)"
   ]
  },
  {
   "cell_type": "code",
   "execution_count": 5,
   "metadata": {},
   "outputs": [],
   "source": [
    "Session = sessionmaker(bind=engine)\n",
    "session = Session()\n"
   ]
  },
  {
   "cell_type": "code",
   "execution_count": 6,
   "metadata": {},
   "outputs": [],
   "source": [
    "a1 = Adult(age=22, workclass='Private', fnlwgt=325033, education='12th', education_num=8, marital_status='Never-married',\\\n",
    "                   occupation='Protective-serv', relationship='Own-child', race='Black', sex='Male', capital_gain=0,\\\n",
    "                   capital_loss=0, hours_per_week=35,native_country='United-States')\n",
    "\n",
    "\n",
    "session.add(a1)"
   ]
  },
  {
   "cell_type": "code",
   "execution_count": 7,
   "metadata": {},
   "outputs": [],
   "source": [
    "a2 = Adult(age=34, workclass='Private', fnlwgt=160216, education='Bachelors', education_num=13, marital_status='Never-married',\\\n",
    "                   occupation='Exec-managerial', relationship='Not-in-family', race='White', sex='Female', capital_gain=0,\\\n",
    "                   capital_loss=0, hours_per_week=55,native_country='United-States')\n",
    "\n",
    "a3 = Adult(age=30, workclass='Private', fnlwgt=345898, education='HS-grad', education_num=9, marital_status='Never-married',\\\n",
    "                   occupation='Craft-repair', relationship='Not-in-family', race='Black', sex='Male', capital_gain=0,\\\n",
    "                   capital_loss=0, hours_per_week=46,native_country='United-States')\n",
    "\n",
    "a4 = Adult(age=38, workclass='Private', fnlwgt=139180, education='Bachelors', education_num=13, marital_status='Divorced',\\\n",
    "                   occupation='Prof-speciality', relationship='Unmarried', race='Black', sex='Female', capital_gain=15020,\\\n",
    "                   capital_loss=0, hours_per_week=45,native_country='United-States')\n",
    "\n",
    "a5 = Adult(age=71, workclass='?', fnlwgt=287372, education='Doctorate', education_num=16, marital_status='Married-civ-spouse',\\\n",
    "                   occupation='?', relationship='Husband', race='White', sex='Male', capital_gain=0,\\\n",
    "                   capital_loss=0, hours_per_week=10,native_country='United-States')"
   ]
  },
  {
   "cell_type": "code",
   "execution_count": 8,
   "metadata": {},
   "outputs": [
    {
     "name": "stdout",
     "output_type": "stream",
     "text": [
      "2018-09-22 11:49:47,887 INFO sqlalchemy.engine.base.Engine BEGIN (implicit)\n",
      "2018-09-22 11:49:47,889 INFO sqlalchemy.engine.base.Engine INSERT INTO adult (age, workclass, fnlwgt, education, education_num, marital_status, occupation, relationship, race, sex, capital_gain, capital_loss, hours_per_week, native_country) VALUES (?, ?, ?, ?, ?, ?, ?, ?, ?, ?, ?, ?, ?, ?)\n",
      "2018-09-22 11:49:47,890 INFO sqlalchemy.engine.base.Engine ((22, 'Private', 325033, '12th', 8, 'Never-married', 'Protective-serv', 'Own-child', 'Black', 'Male', 0, 0, 35, 'United-States'), (34, 'Private', 160216, 'Bachelors', 13, 'Never-married', 'Exec-managerial', 'Not-in-family', 'White', 'Female', 0, 0, 55, 'United-States'), (30, 'Private', 345898, 'HS-grad', 9, 'Never-married', 'Craft-repair', 'Not-in-family', 'Black', 'Male', 0, 0, 46, 'United-States'), (38, 'Private', 139180, 'Bachelors', 13, 'Divorced', 'Prof-speciality', 'Unmarried', 'Black', 'Female', 15020, 0, 45, 'United-States'), (71, '?', 287372, 'Doctorate', 16, 'Married-civ-spouse', '?', 'Husband', 'White', 'Male', 0, 0, 10, 'United-States'))\n",
      "2018-09-22 11:49:47,892 INFO sqlalchemy.engine.base.Engine COMMIT\n"
     ]
    }
   ],
   "source": [
    "session.add(a2)\n",
    "session.add(a3)\n",
    "session.add(a4)\n",
    "session.add(a5)\n",
    "session.commit()"
   ]
  },
  {
   "cell_type": "code",
   "execution_count": 14,
   "metadata": {},
   "outputs": [
    {
     "name": "stdout",
     "output_type": "stream",
     "text": [
      "2018-09-22 11:55:28,199 INFO sqlalchemy.engine.base.Engine BEGIN (implicit)\n",
      "2018-09-22 11:55:28,201 INFO sqlalchemy.engine.base.Engine SELECT adult.age AS adult_age, adult.workclass AS adult_workclass, adult.fnlwgt AS adult_fnlwgt, adult.education AS adult_education, adult.education_num AS adult_education_num, adult.marital_status AS adult_marital_status, adult.occupation AS adult_occupation, adult.relationship AS adult_relationship, adult.race AS adult_race, adult.sex AS adult_sex, adult.capital_gain AS adult_capital_gain, adult.capital_loss AS adult_capital_loss, adult.hours_per_week AS adult_hours_per_week, adult.native_country AS adult_native_country \n",
      "FROM adult \n",
      "WHERE adult.fnlwgt = ?\n",
      "2018-09-22 11:55:28,202 INFO sqlalchemy.engine.base.Engine (325033,)\n",
      "2018-09-22 11:55:28,205 INFO sqlalchemy.engine.base.Engine SELECT adult.age AS adult_age, adult.workclass AS adult_workclass, adult.fnlwgt AS adult_fnlwgt, adult.education AS adult_education, adult.education_num AS adult_education_num, adult.marital_status AS adult_marital_status, adult.occupation AS adult_occupation, adult.relationship AS adult_relationship, adult.race AS adult_race, adult.sex AS adult_sex, adult.capital_gain AS adult_capital_gain, adult.capital_loss AS adult_capital_loss, adult.hours_per_week AS adult_hours_per_week, adult.native_country AS adult_native_country \n",
      "FROM adult \n",
      "WHERE adult.fnlwgt = ?\n",
      "2018-09-22 11:55:28,207 INFO sqlalchemy.engine.base.Engine (139180,)\n",
      "2018-09-22 11:55:28,210 INFO sqlalchemy.engine.base.Engine SELECT adult.age AS adult_age, adult.workclass AS adult_workclass, adult.fnlwgt AS adult_fnlwgt, adult.education AS adult_education, adult.education_num AS adult_education_num, adult.marital_status AS adult_marital_status, adult.occupation AS adult_occupation, adult.relationship AS adult_relationship, adult.race AS adult_race, adult.sex AS adult_sex, adult.capital_gain AS adult_capital_gain, adult.capital_loss AS adult_capital_loss, adult.hours_per_week AS adult_hours_per_week, adult.native_country AS adult_native_country \n",
      "FROM adult \n",
      "WHERE adult.fnlwgt = ?\n",
      "2018-09-22 11:55:28,211 INFO sqlalchemy.engine.base.Engine (160216,)\n",
      "2018-09-22 11:55:28,213 INFO sqlalchemy.engine.base.Engine SELECT adult.age AS adult_age, adult.workclass AS adult_workclass, adult.fnlwgt AS adult_fnlwgt, adult.education AS adult_education, adult.education_num AS adult_education_num, adult.marital_status AS adult_marital_status, adult.occupation AS adult_occupation, adult.relationship AS adult_relationship, adult.race AS adult_race, adult.sex AS adult_sex, adult.capital_gain AS adult_capital_gain, adult.capital_loss AS adult_capital_loss, adult.hours_per_week AS adult_hours_per_week, adult.native_country AS adult_native_country \n",
      "FROM adult \n",
      "WHERE adult.fnlwgt = ?\n",
      "2018-09-22 11:55:28,214 INFO sqlalchemy.engine.base.Engine (287372,)\n",
      "2018-09-22 11:55:28,217 INFO sqlalchemy.engine.base.Engine SELECT adult.age AS adult_age, adult.workclass AS adult_workclass, adult.fnlwgt AS adult_fnlwgt, adult.education AS adult_education, adult.education_num AS adult_education_num, adult.marital_status AS adult_marital_status, adult.occupation AS adult_occupation, adult.relationship AS adult_relationship, adult.race AS adult_race, adult.sex AS adult_sex, adult.capital_gain AS adult_capital_gain, adult.capital_loss AS adult_capital_loss, adult.hours_per_week AS adult_hours_per_week, adult.native_country AS adult_native_country \n",
      "FROM adult \n",
      "WHERE adult.fnlwgt = ?\n",
      "2018-09-22 11:55:28,217 INFO sqlalchemy.engine.base.Engine (345898,)\n",
      "2018-09-22 11:55:28,220 INFO sqlalchemy.engine.base.Engine UPDATE adult SET occupation=? WHERE adult.fnlwgt = ?\n",
      "2018-09-22 11:55:28,221 INFO sqlalchemy.engine.base.Engine ('Scientist', 287372)\n",
      "# of updated rows = 1\n",
      "2018-09-22 11:55:28,222 INFO sqlalchemy.engine.base.Engine COMMIT\n",
      "2018-09-22 11:55:28,225 INFO sqlalchemy.engine.base.Engine BEGIN (implicit)\n",
      "2018-09-22 11:55:28,226 INFO sqlalchemy.engine.base.Engine SELECT adult.age AS adult_age, adult.workclass AS adult_workclass, adult.fnlwgt AS adult_fnlwgt, adult.education AS adult_education, adult.education_num AS adult_education_num, adult.marital_status AS adult_marital_status, adult.occupation AS adult_occupation, adult.relationship AS adult_relationship, adult.race AS adult_race, adult.sex AS adult_sex, adult.capital_gain AS adult_capital_gain, adult.capital_loss AS adult_capital_loss, adult.hours_per_week AS adult_hours_per_week, adult.native_country AS adult_native_country \n",
      "FROM adult \n",
      "WHERE adult.fnlwgt = ?\n",
      "2018-09-22 11:55:28,227 INFO sqlalchemy.engine.base.Engine (325033,)\n",
      "2018-09-22 11:55:28,230 INFO sqlalchemy.engine.base.Engine SELECT adult.age AS adult_age, adult.workclass AS adult_workclass, adult.fnlwgt AS adult_fnlwgt, adult.education AS adult_education, adult.education_num AS adult_education_num, adult.marital_status AS adult_marital_status, adult.occupation AS adult_occupation, adult.relationship AS adult_relationship, adult.race AS adult_race, adult.sex AS adult_sex, adult.capital_gain AS adult_capital_gain, adult.capital_loss AS adult_capital_loss, adult.hours_per_week AS adult_hours_per_week, adult.native_country AS adult_native_country \n",
      "FROM adult \n",
      "WHERE adult.fnlwgt = ?\n",
      "2018-09-22 11:55:28,234 INFO sqlalchemy.engine.base.Engine (139180,)\n",
      "2018-09-22 11:55:28,236 INFO sqlalchemy.engine.base.Engine SELECT adult.age AS adult_age, adult.workclass AS adult_workclass, adult.fnlwgt AS adult_fnlwgt, adult.education AS adult_education, adult.education_num AS adult_education_num, adult.marital_status AS adult_marital_status, adult.occupation AS adult_occupation, adult.relationship AS adult_relationship, adult.race AS adult_race, adult.sex AS adult_sex, adult.capital_gain AS adult_capital_gain, adult.capital_loss AS adult_capital_loss, adult.hours_per_week AS adult_hours_per_week, adult.native_country AS adult_native_country \n",
      "FROM adult \n",
      "WHERE adult.fnlwgt = ?\n",
      "2018-09-22 11:55:28,237 INFO sqlalchemy.engine.base.Engine (160216,)\n",
      "2018-09-22 11:55:28,241 INFO sqlalchemy.engine.base.Engine SELECT adult.age AS adult_age, adult.workclass AS adult_workclass, adult.fnlwgt AS adult_fnlwgt, adult.education AS adult_education, adult.education_num AS adult_education_num, adult.marital_status AS adult_marital_status, adult.occupation AS adult_occupation, adult.relationship AS adult_relationship, adult.race AS adult_race, adult.sex AS adult_sex, adult.capital_gain AS adult_capital_gain, adult.capital_loss AS adult_capital_loss, adult.hours_per_week AS adult_hours_per_week, adult.native_country AS adult_native_country \n",
      "FROM adult \n",
      "WHERE adult.fnlwgt = ?\n",
      "2018-09-22 11:55:28,242 INFO sqlalchemy.engine.base.Engine (287372,)\n",
      "2018-09-22 11:55:28,244 INFO sqlalchemy.engine.base.Engine SELECT adult.age AS adult_age, adult.workclass AS adult_workclass, adult.fnlwgt AS adult_fnlwgt, adult.education AS adult_education, adult.education_num AS adult_education_num, adult.marital_status AS adult_marital_status, adult.occupation AS adult_occupation, adult.relationship AS adult_relationship, adult.race AS adult_race, adult.sex AS adult_sex, adult.capital_gain AS adult_capital_gain, adult.capital_loss AS adult_capital_loss, adult.hours_per_week AS adult_hours_per_week, adult.native_country AS adult_native_country \n",
      "FROM adult \n",
      "WHERE adult.fnlwgt = ?\n",
      "2018-09-22 11:55:28,245 INFO sqlalchemy.engine.base.Engine (345898,)\n",
      "2018-09-22 11:55:28,248 INFO sqlalchemy.engine.base.Engine UPDATE adult SET workclass=? WHERE adult.fnlwgt = ?\n",
      "2018-09-22 11:55:28,249 INFO sqlalchemy.engine.base.Engine ('Private', 287372)\n",
      "# of updated rows = 1\n",
      "2018-09-22 11:55:28,250 INFO sqlalchemy.engine.base.Engine COMMIT\n"
     ]
    }
   ],
   "source": [
    "upd = (session.query(Adult)\n",
    "       .filter(Adult.fnlwgt == 287372)\n",
    "       .update({\"occupation\": \"Scientist\"}))\n",
    "print(\"# of updated rows = {}\".format(upd))\n",
    "session.commit()\n",
    "upd = (session.query(Adult)\n",
    "       .filter(Adult.fnlwgt == 287372)\n",
    "       .update({'workclass': 'Private'}))\n",
    "print(\"# of updated rows = {}\".format(upd))\n",
    "session.commit()\n"
   ]
  },
  {
   "cell_type": "code",
   "execution_count": 15,
   "metadata": {},
   "outputs": [
    {
     "name": "stdout",
     "output_type": "stream",
     "text": [
      "2018-09-22 11:58:38,071 INFO sqlalchemy.engine.base.Engine BEGIN (implicit)\n",
      "2018-09-22 11:58:38,074 INFO sqlalchemy.engine.base.Engine INSERT INTO adult (age, workclass, fnlwgt, education, education_num, marital_status, occupation, relationship, race, sex, capital_gain, capital_loss, hours_per_week, native_country) VALUES (?, ?, ?, ?, ?, ?, ?, ?, ?, ?, ?, ?, ?, ?)\n",
      "2018-09-22 11:58:38,075 INFO sqlalchemy.engine.base.Engine ((34, 'Private', 123, 'Bachelors', 13, 'Never-married', 'Exec-managerial', 'Not-in-family', 'White', 'Female', 0, 0, 55, 'United-States'), (34, 'Private', 456, 'Bachelors', 13, 'Never-married', 'Exec-managerial', 'Not-in-family', 'White', 'Female', 0, 0, 55, 'United-States'))\n",
      "2018-09-22 11:58:38,077 INFO sqlalchemy.engine.base.Engine COMMIT\n"
     ]
    }
   ],
   "source": [
    "session.add_all([\n",
    "     Adult(age=34, workclass='Private', fnlwgt=123, education='Bachelors', education_num=13, marital_status='Never-married',\\\n",
    "                   occupation='Exec-managerial', relationship='Not-in-family', race='White', sex='Female', capital_gain=0,\\\n",
    "                   capital_loss=0, hours_per_week=55,native_country='United-States'),\n",
    "     Adult(age=34, workclass='Private', fnlwgt=456, education='Bachelors', education_num=13, marital_status='Never-married',\\\n",
    "                   occupation='Exec-managerial', relationship='Not-in-family', race='White', sex='Female', capital_gain=0,\\\n",
    "                   capital_loss=0, hours_per_week=55,native_country='United-States')])\n",
    "\n",
    "session.commit()"
   ]
  },
  {
   "cell_type": "code",
   "execution_count": 16,
   "metadata": {},
   "outputs": [
    {
     "name": "stdout",
     "output_type": "stream",
     "text": [
      "2018-09-22 11:59:41,782 INFO sqlalchemy.engine.base.Engine BEGIN (implicit)\n",
      "2018-09-22 11:59:41,788 INFO sqlalchemy.engine.base.Engine SELECT adult.age AS adult_age, adult.workclass AS adult_workclass, adult.fnlwgt AS adult_fnlwgt, adult.education AS adult_education, adult.education_num AS adult_education_num, adult.marital_status AS adult_marital_status, adult.occupation AS adult_occupation, adult.relationship AS adult_relationship, adult.race AS adult_race, adult.sex AS adult_sex, adult.capital_gain AS adult_capital_gain, adult.capital_loss AS adult_capital_loss, adult.hours_per_week AS adult_hours_per_week, adult.native_country AS adult_native_country \n",
      "FROM adult \n",
      "WHERE adult.fnlwgt = ?\n",
      "2018-09-22 11:59:41,791 INFO sqlalchemy.engine.base.Engine (123,)\n"
     ]
    },
    {
     "data": {
      "text/plain": [
       "[<Adult(age='34', education='Bachelors', native_country='United-States')>]"
      ]
     },
     "execution_count": 16,
     "metadata": {},
     "output_type": "execute_result"
    }
   ],
   "source": [
    "session.query(Adult).filter(Adult.fnlwgt == 123).all()"
   ]
  },
  {
   "cell_type": "code",
   "execution_count": 17,
   "metadata": {},
   "outputs": [
    {
     "name": "stdout",
     "output_type": "stream",
     "text": [
      "2018-09-22 12:00:00,020 INFO sqlalchemy.engine.base.Engine SELECT adult.age AS adult_age, adult.workclass AS adult_workclass, adult.fnlwgt AS adult_fnlwgt, adult.education AS adult_education, adult.education_num AS adult_education_num, adult.marital_status AS adult_marital_status, adult.occupation AS adult_occupation, adult.relationship AS adult_relationship, adult.race AS adult_race, adult.sex AS adult_sex, adult.capital_gain AS adult_capital_gain, adult.capital_loss AS adult_capital_loss, adult.hours_per_week AS adult_hours_per_week, adult.native_country AS adult_native_country \n",
      "FROM adult \n",
      "WHERE adult.fnlwgt = ?\n",
      "2018-09-22 12:00:00,022 INFO sqlalchemy.engine.base.Engine (456,)\n"
     ]
    },
    {
     "data": {
      "text/plain": [
       "[<Adult(age='34', education='Bachelors', native_country='United-States')>]"
      ]
     },
     "execution_count": 17,
     "metadata": {},
     "output_type": "execute_result"
    }
   ],
   "source": [
    "session.query(Adult).filter(Adult.fnlwgt == 456).all()"
   ]
  },
  {
   "cell_type": "code",
   "execution_count": 18,
   "metadata": {},
   "outputs": [
    {
     "name": "stdout",
     "output_type": "stream",
     "text": [
      "2018-09-22 12:01:13,537 INFO sqlalchemy.engine.base.Engine SELECT adult.age AS adult_age, adult.workclass AS adult_workclass, adult.fnlwgt AS adult_fnlwgt, adult.education AS adult_education, adult.education_num AS adult_education_num, adult.marital_status AS adult_marital_status, adult.occupation AS adult_occupation, adult.relationship AS adult_relationship, adult.race AS adult_race, adult.sex AS adult_sex, adult.capital_gain AS adult_capital_gain, adult.capital_loss AS adult_capital_loss, adult.hours_per_week AS adult_hours_per_week, adult.native_country AS adult_native_country \n",
      "FROM adult \n",
      "WHERE adult.fnlwgt = ?\n",
      "2018-09-22 12:01:13,539 INFO sqlalchemy.engine.base.Engine (325033,)\n",
      "2018-09-22 12:01:13,542 INFO sqlalchemy.engine.base.Engine SELECT adult.age AS adult_age, adult.workclass AS adult_workclass, adult.fnlwgt AS adult_fnlwgt, adult.education AS adult_education, adult.education_num AS adult_education_num, adult.marital_status AS adult_marital_status, adult.occupation AS adult_occupation, adult.relationship AS adult_relationship, adult.race AS adult_race, adult.sex AS adult_sex, adult.capital_gain AS adult_capital_gain, adult.capital_loss AS adult_capital_loss, adult.hours_per_week AS adult_hours_per_week, adult.native_country AS adult_native_country \n",
      "FROM adult \n",
      "WHERE adult.fnlwgt = ?\n",
      "2018-09-22 12:01:13,543 INFO sqlalchemy.engine.base.Engine (139180,)\n",
      "2018-09-22 12:01:13,545 INFO sqlalchemy.engine.base.Engine SELECT adult.age AS adult_age, adult.workclass AS adult_workclass, adult.fnlwgt AS adult_fnlwgt, adult.education AS adult_education, adult.education_num AS adult_education_num, adult.marital_status AS adult_marital_status, adult.occupation AS adult_occupation, adult.relationship AS adult_relationship, adult.race AS adult_race, adult.sex AS adult_sex, adult.capital_gain AS adult_capital_gain, adult.capital_loss AS adult_capital_loss, adult.hours_per_week AS adult_hours_per_week, adult.native_country AS adult_native_country \n",
      "FROM adult \n",
      "WHERE adult.fnlwgt = ?\n",
      "2018-09-22 12:01:13,547 INFO sqlalchemy.engine.base.Engine (160216,)\n",
      "2018-09-22 12:01:13,549 INFO sqlalchemy.engine.base.Engine SELECT adult.age AS adult_age, adult.workclass AS adult_workclass, adult.fnlwgt AS adult_fnlwgt, adult.education AS adult_education, adult.education_num AS adult_education_num, adult.marital_status AS adult_marital_status, adult.occupation AS adult_occupation, adult.relationship AS adult_relationship, adult.race AS adult_race, adult.sex AS adult_sex, adult.capital_gain AS adult_capital_gain, adult.capital_loss AS adult_capital_loss, adult.hours_per_week AS adult_hours_per_week, adult.native_country AS adult_native_country \n",
      "FROM adult \n",
      "WHERE adult.fnlwgt = ?\n",
      "2018-09-22 12:01:13,551 INFO sqlalchemy.engine.base.Engine (287372,)\n",
      "2018-09-22 12:01:13,554 INFO sqlalchemy.engine.base.Engine SELECT adult.age AS adult_age, adult.workclass AS adult_workclass, adult.fnlwgt AS adult_fnlwgt, adult.education AS adult_education, adult.education_num AS adult_education_num, adult.marital_status AS adult_marital_status, adult.occupation AS adult_occupation, adult.relationship AS adult_relationship, adult.race AS adult_race, adult.sex AS adult_sex, adult.capital_gain AS adult_capital_gain, adult.capital_loss AS adult_capital_loss, adult.hours_per_week AS adult_hours_per_week, adult.native_country AS adult_native_country \n",
      "FROM adult \n",
      "WHERE adult.fnlwgt = ?\n",
      "2018-09-22 12:01:13,555 INFO sqlalchemy.engine.base.Engine (345898,)\n",
      "2018-09-22 12:01:13,557 INFO sqlalchemy.engine.base.Engine DELETE FROM adult WHERE adult.fnlwgt = ?\n",
      "2018-09-22 12:01:13,558 INFO sqlalchemy.engine.base.Engine (123,)\n",
      "2018-09-22 12:01:13,559 INFO sqlalchemy.engine.base.Engine COMMIT\n",
      "1\n"
     ]
    }
   ],
   "source": [
    "del1 = session.query(Adult).filter(Adult.fnlwgt == 123).delete()\n",
    "session.commit()\n",
    "print(format(del1))"
   ]
  },
  {
   "cell_type": "code",
   "execution_count": 19,
   "metadata": {},
   "outputs": [
    {
     "name": "stdout",
     "output_type": "stream",
     "text": [
      "2018-09-22 12:01:38,914 INFO sqlalchemy.engine.base.Engine BEGIN (implicit)\n",
      "2018-09-22 12:01:38,917 INFO sqlalchemy.engine.base.Engine SELECT adult.age AS adult_age, adult.workclass AS adult_workclass, adult.fnlwgt AS adult_fnlwgt, adult.education AS adult_education, adult.education_num AS adult_education_num, adult.marital_status AS adult_marital_status, adult.occupation AS adult_occupation, adult.relationship AS adult_relationship, adult.race AS adult_race, adult.sex AS adult_sex, adult.capital_gain AS adult_capital_gain, adult.capital_loss AS adult_capital_loss, adult.hours_per_week AS adult_hours_per_week, adult.native_country AS adult_native_country \n",
      "FROM adult \n",
      "WHERE adult.fnlwgt = ?\n",
      "2018-09-22 12:01:38,918 INFO sqlalchemy.engine.base.Engine (325033,)\n",
      "2018-09-22 12:01:38,922 INFO sqlalchemy.engine.base.Engine SELECT adult.age AS adult_age, adult.workclass AS adult_workclass, adult.fnlwgt AS adult_fnlwgt, adult.education AS adult_education, adult.education_num AS adult_education_num, adult.marital_status AS adult_marital_status, adult.occupation AS adult_occupation, adult.relationship AS adult_relationship, adult.race AS adult_race, adult.sex AS adult_sex, adult.capital_gain AS adult_capital_gain, adult.capital_loss AS adult_capital_loss, adult.hours_per_week AS adult_hours_per_week, adult.native_country AS adult_native_country \n",
      "FROM adult \n",
      "WHERE adult.fnlwgt = ?\n",
      "2018-09-22 12:01:38,923 INFO sqlalchemy.engine.base.Engine (139180,)\n",
      "2018-09-22 12:01:38,925 INFO sqlalchemy.engine.base.Engine SELECT adult.age AS adult_age, adult.workclass AS adult_workclass, adult.fnlwgt AS adult_fnlwgt, adult.education AS adult_education, adult.education_num AS adult_education_num, adult.marital_status AS adult_marital_status, adult.occupation AS adult_occupation, adult.relationship AS adult_relationship, adult.race AS adult_race, adult.sex AS adult_sex, adult.capital_gain AS adult_capital_gain, adult.capital_loss AS adult_capital_loss, adult.hours_per_week AS adult_hours_per_week, adult.native_country AS adult_native_country \n",
      "FROM adult \n",
      "WHERE adult.fnlwgt = ?\n",
      "2018-09-22 12:01:38,927 INFO sqlalchemy.engine.base.Engine (160216,)\n",
      "2018-09-22 12:01:38,929 INFO sqlalchemy.engine.base.Engine SELECT adult.age AS adult_age, adult.workclass AS adult_workclass, adult.fnlwgt AS adult_fnlwgt, adult.education AS adult_education, adult.education_num AS adult_education_num, adult.marital_status AS adult_marital_status, adult.occupation AS adult_occupation, adult.relationship AS adult_relationship, adult.race AS adult_race, adult.sex AS adult_sex, adult.capital_gain AS adult_capital_gain, adult.capital_loss AS adult_capital_loss, adult.hours_per_week AS adult_hours_per_week, adult.native_country AS adult_native_country \n",
      "FROM adult \n",
      "WHERE adult.fnlwgt = ?\n",
      "2018-09-22 12:01:38,930 INFO sqlalchemy.engine.base.Engine (287372,)\n",
      "2018-09-22 12:01:38,932 INFO sqlalchemy.engine.base.Engine SELECT adult.age AS adult_age, adult.workclass AS adult_workclass, adult.fnlwgt AS adult_fnlwgt, adult.education AS adult_education, adult.education_num AS adult_education_num, adult.marital_status AS adult_marital_status, adult.occupation AS adult_occupation, adult.relationship AS adult_relationship, adult.race AS adult_race, adult.sex AS adult_sex, adult.capital_gain AS adult_capital_gain, adult.capital_loss AS adult_capital_loss, adult.hours_per_week AS adult_hours_per_week, adult.native_country AS adult_native_country \n",
      "FROM adult \n",
      "WHERE adult.fnlwgt = ?\n",
      "2018-09-22 12:01:38,933 INFO sqlalchemy.engine.base.Engine (345898,)\n",
      "2018-09-22 12:01:38,936 INFO sqlalchemy.engine.base.Engine SELECT adult.age AS adult_age, adult.workclass AS adult_workclass, adult.fnlwgt AS adult_fnlwgt, adult.education AS adult_education, adult.education_num AS adult_education_num, adult.marital_status AS adult_marital_status, adult.occupation AS adult_occupation, adult.relationship AS adult_relationship, adult.race AS adult_race, adult.sex AS adult_sex, adult.capital_gain AS adult_capital_gain, adult.capital_loss AS adult_capital_loss, adult.hours_per_week AS adult_hours_per_week, adult.native_country AS adult_native_country \n",
      "FROM adult \n",
      "WHERE adult.fnlwgt = ?\n",
      "2018-09-22 12:01:38,937 INFO sqlalchemy.engine.base.Engine (456,)\n",
      "2018-09-22 12:01:38,939 INFO sqlalchemy.engine.base.Engine DELETE FROM adult WHERE adult.fnlwgt = ?\n",
      "2018-09-22 12:01:38,940 INFO sqlalchemy.engine.base.Engine (456,)\n",
      "2018-09-22 12:01:38,942 INFO sqlalchemy.engine.base.Engine COMMIT\n",
      "1\n"
     ]
    }
   ],
   "source": [
    "del2 = session.query(Adult).filter(Adult.fnlwgt == 456).delete()\n",
    "session.commit()\n",
    "print(format(del2))"
   ]
  },
  {
   "cell_type": "code",
   "execution_count": 20,
   "metadata": {},
   "outputs": [],
   "source": [
    "from sqlalchemy import func"
   ]
  },
  {
   "cell_type": "code",
   "execution_count": 21,
   "metadata": {},
   "outputs": [
    {
     "name": "stdout",
     "output_type": "stream",
     "text": [
      "2018-09-22 12:05:07,439 INFO sqlalchemy.engine.base.Engine BEGIN (implicit)\n",
      "2018-09-22 12:05:07,441 INFO sqlalchemy.engine.base.Engine SELECT count(adult.fnlwgt) AS count_1, adult.age AS adult_age \n",
      "FROM adult GROUP BY adult.age\n",
      "2018-09-22 12:05:07,442 INFO sqlalchemy.engine.base.Engine ()\n"
     ]
    },
    {
     "data": {
      "text/plain": [
       "[(1, 22), (1, 30), (1, 34), (1, 38), (1, 71)]"
      ]
     },
     "execution_count": 21,
     "metadata": {},
     "output_type": "execute_result"
    }
   ],
   "source": [
    "session.query(func.count(Adult.fnlwgt), Adult.age).group_by(Adult.age).all()"
   ]
  },
  {
   "cell_type": "code",
   "execution_count": null,
   "metadata": {},
   "outputs": [],
   "source": []
  }
 ],
 "metadata": {
  "kernelspec": {
   "display_name": "Python 3",
   "language": "python",
   "name": "python3"
  },
  "language_info": {
   "codemirror_mode": {
    "name": "ipython",
    "version": 3
   },
   "file_extension": ".py",
   "mimetype": "text/x-python",
   "name": "python",
   "nbconvert_exporter": "python",
   "pygments_lexer": "ipython3",
   "version": "3.6.6"
  }
 },
 "nbformat": 4,
 "nbformat_minor": 2
}
