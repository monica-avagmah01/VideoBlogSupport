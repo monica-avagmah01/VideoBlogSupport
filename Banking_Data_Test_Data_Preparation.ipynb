{
 "cells": [
  {
   "cell_type": "code",
   "execution_count": 12,
   "metadata": {},
   "outputs": [
    {
     "name": "stdout",
     "output_type": "stream",
     "text": [
      "             ID   Transaction_ID              Date Indicator Type  \\\n",
      "0   IYH6EOT91IN  6I5V3CKDUVTER3U  16JAN37:23:42:31         D  RDD   \n",
      "1  6NF44HKS8VNP  68BV39T3U86732X  01MAR37:10:24:25         D  NWD   \n",
      "2  6LFE2QYJ56TM  6UHW3BHJGEWE93X  23APR38:09:33:09         C  MCR   \n",
      "3  61QE4KT94V5N  6XBA4KPWF94NEBQ  30SEP38:17:30:56         D  ETD   \n",
      "4  6XGA3KPVR7WH    5NFF4KADUV41J  23DEC37:19:37:08         C  OCD   \n",
      "\n",
      "  Disbursal_EM_Date Transaction_EM_Date   T_Mn    Amount  \n",
      "0        2038-02-30    31JAN37:00:00:00  SWEEP   1000.00  \n",
      "1        2038-12-30    31MAR37:00:00:00    ATM  10000.00  \n",
      "2        2038-07-30    31APR38:00:00:00  OTHER  23591.24  \n",
      "3        2039-05-29    30SEP38:00:00:00  OTHER  24000.00  \n",
      "4        2038-01-31    30DEC37:00:00:00    CHQ   4076.00  \n",
      "<class 'pandas.core.frame.DataFrame'>\n",
      "Index: 2648039 entries, 0 to 2648038\n",
      "Data columns (total 9 columns):\n",
      "ID                     object\n",
      "Transaction_ID         object\n",
      "Date                   object\n",
      "Indicator              object\n",
      "Type                   object\n",
      "Disbursal_EM_Date      object\n",
      "Transaction_EM_Date    object\n",
      "T_Mn                   object\n",
      "Amount                 float64\n",
      "dtypes: float64(1), object(8)\n",
      "memory usage: 202.0+ MB\n",
      "None\n",
      "25719\n"
     ]
    },
    {
     "name": "stderr",
     "output_type": "stream",
     "text": [
      "/home/monica/anaconda3/lib/python3.6/site-packages/ipykernel_launcher.py:17: DeprecationWarning: \n",
      ".ix is deprecated. Please use\n",
      ".loc for label based indexing or\n",
      ".iloc for positional indexing\n",
      "\n",
      "See the documentation here:\n",
      "http://pandas.pydata.org/pandas-docs/stable/indexing.html#ix-indexer-is-deprecated\n"
     ]
    },
    {
     "name": "stdout",
     "output_type": "stream",
     "text": [
      "             ID   Transaction_ID              Date  Indicator  Type  \\\n",
      "0   IYH6EOT91IN  6I5V3CKDUVTER3U  16JAN37:23:42:31          0     0   \n",
      "1  6NF44HKS8VNP  68BV39T3U86732X  01MAR37:10:24:25          0     1   \n",
      "2  6LFE2QYJ56TM  6UHW3BHJGEWE93X  23APR38:09:33:09          1     2   \n",
      "3  61QE4KT94V5N  6XBA4KPWF94NEBQ  30SEP38:17:30:56          0     3   \n",
      "4  6XGA3KPVR7WH    5NFF4KADUV41J  23DEC37:19:37:08          1     4   \n",
      "\n",
      "  Disbursal_EM_Date Transaction_EM_Date  T_Mn    Amount  \n",
      "0        2038-02-30    31JAN37:00:00:00     0  -1000.00  \n",
      "1        2038-12-30    31MAR37:00:00:00     1 -10000.00  \n",
      "2        2038-07-30    31APR38:00:00:00     2  23591.24  \n",
      "3        2039-05-29    30SEP38:00:00:00     2 -24000.00  \n",
      "4        2038-01-31    30DEC37:00:00:00     3   4076.00  \n",
      "<class 'pandas.core.frame.DataFrame'>\n",
      "RangeIndex: 25719 entries, 0 to 25718\n",
      "Data columns (total 4 columns):\n",
      "ID        25719 non-null object\n",
      "Type      25719 non-null float64\n",
      "T_Mn      25719 non-null float64\n",
      "Amount    25719 non-null float64\n",
      "dtypes: float64(3), object(1)\n",
      "memory usage: 803.8+ KB\n",
      "None\n"
     ]
    }
   ],
   "source": [
    "import pandas as pd\n",
    "import numpy as np\n",
    "\n",
    "transaction_data_test = pd.read_csv('/home/monica/hdfc_bank_data/test_data/TransactionData_Test.csv')\n",
    "transaction_data_test.rename(index=str, columns={'C2': 'ID', 'C3': 'Transaction_ID', 'C4': 'Date', 'C5': 'Indicator',\\\n",
    "                                                 'C6': 'Type', 'C8': 'Disbursal_EM_Date', 'C9': 'Transaction_EM_Date', \\\n",
    "                                                 'C10': 'T_Mn', 'C12': 'Amount'}, inplace=True)\n",
    "\n",
    "print(transaction_data_test.head())\n",
    "print(transaction_data_test.info())\n",
    "\n",
    "print(len(list(transaction_data_test['ID'].unique())))\n",
    "\n",
    "transaction_data_test['Indicator'] = transaction_data_test['Indicator'].map({'D': 0, 'C': 1})\n",
    "transaction_data_test['Type'],_ = pd.factorize(transaction_data_test['Type'])\n",
    "transaction_data_test['T_Mn'],_ = pd.factorize(transaction_data_test['T_Mn'])\n",
    "\n",
    "mask = (transaction_data_test['Indicator'] == 0)\n",
    "transaction_data_test.ix[mask, 'Amount'] = 0 - transaction_data_test.ix[mask, 'Amount'] \n",
    "\n",
    "print(transaction_data_test.head())\n",
    "\n",
    "test2 = transaction_data_test.groupby(['ID'])['Type', 'T_Mn', 'Amount'].mean().reset_index()\n",
    "\n",
    "print(test2.info())\n"
   ]
  },
  {
   "cell_type": "code",
   "execution_count": 13,
   "metadata": {},
   "outputs": [
    {
     "name": "stdout",
     "output_type": "stream",
     "text": [
      "<class 'pandas.core.frame.DataFrame'>\n",
      "RangeIndex: 48434 entries, 0 to 48433\n",
      "Data columns (total 2 columns):\n",
      "ID     48434 non-null object\n",
      "UID    48434 non-null object\n",
      "dtypes: object(2)\n",
      "memory usage: 756.9+ KB\n",
      "None\n"
     ]
    }
   ],
   "source": [
    "common_data_test = pd.read_csv('/home/monica/hdfc_bank_data/test_data/AggregateData_Test.csv')  \n",
    "\n",
    "common_data_test.rename(index=str, columns={'V2': 'ID', 'V3': 'Amt_1', 'V4': 'Amt_2', 'V5': 'Amt_3',\\\n",
    "                                             'V6': 'Amt_4', 'V7': 'Amt_5', 'V8': 'Amt_6','V9': 'Amt_7', 'V10': 'Amt_8', 'V11': 'Amt_9',\\\n",
    "                                             'V12': 'Amt_10', 'V13': 'Amt_11', 'V14': 'Amt_12', 'V15': 'Amt_13', 'V16': 'Amt_14', 'V17': 'Amt_15',\\\n",
    "                                             'V18': 'Amt_16', 'V19': 'Cnt_1', 'V20': 'Cnt_2','V21': 'Cnt_3', 'V22': 'Cnt_4', 'V23': 'Cnt_5', \\\n",
    "                                             'V24': 'Cnt_6', 'V25': 'Cnt_7', 'V26': 'Cnt_8','V27': 'Cnt_9', 'V28': 'Cnt_10', 'V29': 'Cnt_11', \\\n",
    "                                             'V30': 'Cnt_12', 'V31': 'Cnt_13', 'V32': 'Cnt_14','V33': 'Cnt_15', 'V34': 'Cnt_16', 'V35': 'Amt_17', \\\n",
    "                                             'V36': 'Amt_18', 'V37': 'Amt_19', 'V38': 'Cnt_17','V39': 'Cnt_18', 'V40': 'Cnt_19', 'V41': 'R_1', \\\n",
    "                                             'V42': 'R_2', 'V43': 'P_1', 'V44': 'P_2','V45': 'P_3', 'V46': 'P_4', 'V47': 'P_5', \\\n",
    "                                             'V48': 'P_6', 'V49': 'P_7', 'V50': 'Cnt_20','V51': 'Cnt_21', 'V52': 'Cnt_22', 'V53': 'Cnt_23',\\\n",
    "                                             'bad_flag': 'Bad_Flag'}, inplace=True)\n",
    "\n",
    "common_data_test['Amt_1'] = common_data_test['Amt_1'].map({'?': 0})\n",
    "common_data_test['Amt_2'] = common_data_test['Amt_2'].map({'?': 0})\n",
    "common_data_test['Amt_3'] = common_data_test['Amt_3'].map({'?': 0})\n",
    "common_data_test['Amt_4'] = common_data_test['Amt_4'].map({'?': 0})\n",
    "common_data_test['Amt_5'] = common_data_test['Amt_5'].map({'?': 0})\n",
    "common_data_test['Amt_6'] = common_data_test['Amt_6'].map({'?': 0})\n",
    "common_data_test['Amt_7'] = common_data_test['Amt_7'].map({'?': 0})\n",
    "common_data_test['Amt_8'] = common_data_test['Amt_8'].map({'?': 0})\n",
    "common_data_test['Amt_9'] = common_data_test['Amt_9'].map({'?': 0})\n",
    "common_data_test['Amt_10'] = common_data_test['Amt_10'].map({'?': 0})\n",
    "common_data_test['Amt_11'] = common_data_test['Amt_11'].map({'?': 0})\n",
    "common_data_test['Amt_12'] = common_data_test['Amt_12'].map({'?': 0})\n",
    "common_data_test['Amt_13'] = common_data_test['Amt_13'].map({'?': 0})\n",
    "common_data_test['Amt_14'] = common_data_test['Amt_14'].map({'?': 0})\n",
    "common_data_test['Amt_15'] = common_data_test['Amt_15'].map({'?': 0})\n",
    "common_data_test['Amt_16'] = common_data_test['Amt_16'].map({'?': 0})\n",
    "common_data_test['Amt_17'] = common_data_test['Amt_17'].map({'?': 0})\n",
    "common_data_test['Amt_18'] = common_data_test['Amt_18'].map({'?': 0})\n",
    "common_data_test['Amt_19'] = common_data_test['Amt_19'].map({'?': 0})\n",
    "\n",
    "\n",
    "common_data_test['Amt_1'] = pd.to_numeric(common_data_test['Amt_1'])\n",
    "common_data_test['Amt_2'] = pd.to_numeric(common_data_test['Amt_2'])\n",
    "common_data_test['Amt_3'] = pd.to_numeric(common_data_test['Amt_3'])\n",
    "common_data_test['Amt_4'] = pd.to_numeric(common_data_test['Amt_4'])\n",
    "common_data_test['Amt_5'] = pd.to_numeric(common_data_test['Amt_5'])\n",
    "common_data_test['Amt_6'] = pd.to_numeric(common_data_test['Amt_6'])\n",
    "common_data_test['Amt_7'] = pd.to_numeric(common_data_test['Amt_7'])\n",
    "common_data_test['Amt_8'] = pd.to_numeric(common_data_test['Amt_8'])\n",
    "common_data_test['Amt_9'] = pd.to_numeric(common_data_test['Amt_9'])\n",
    "common_data_test['Amt_10'] = pd.to_numeric(common_data_test['Amt_10'])\n",
    "common_data_test['Amt_11'] = pd.to_numeric(common_data_test['Amt_11'])\n",
    "common_data_test['Amt_12'] = pd.to_numeric(common_data_test['Amt_12'])\n",
    "common_data_test['Amt_13'] = pd.to_numeric(common_data_test['Amt_13'])\n",
    "common_data_test['Amt_14'] = pd.to_numeric(common_data_test['Amt_14'])\n",
    "common_data_test['Amt_15'] = pd.to_numeric(common_data_test['Amt_15'])\n",
    "common_data_test['Amt_16'] = pd.to_numeric(common_data_test['Amt_16'])\n",
    "common_data_test['Amt_17'] = pd.to_numeric(common_data_test['Amt_17'])\n",
    "common_data_test['Amt_18'] = pd.to_numeric(common_data_test['Amt_18'])\n",
    "common_data_test['Amt_19'] = pd.to_numeric(common_data_test['Amt_19'])\n",
    "\n",
    "common_data_test['Cnt_1'] = common_data_test['Cnt_1'].map({'?': 0})\n",
    "common_data_test['Cnt_2'] = common_data_test['Cnt_2'].map({'?': 0})\n",
    "common_data_test['Cnt_3'] = common_data_test['Cnt_3'].map({'?': 0})\n",
    "common_data_test['Cnt_4'] = common_data_test['Cnt_4'].map({'?': 0})\n",
    "common_data_test['Cnt_5'] = common_data_test['Cnt_5'].map({'?': 0})\n",
    "common_data_test['Cnt_6'] = common_data_test['Cnt_6'].map({'?': 0})\n",
    "common_data_test['Cnt_7'] = common_data_test['Cnt_7'].map({'?': 0})\n",
    "common_data_test['Cnt_8'] = common_data_test['Cnt_8'].map({'?': 0})\n",
    "common_data_test['Cnt_9'] = common_data_test['Cnt_9'].map({'?': 0})\n",
    "common_data_test['Cnt_10'] = common_data_test['Cnt_10'].map({'?': 0})\n",
    "common_data_test['Cnt_11'] = common_data_test['Cnt_11'].map({'?': 0})\n",
    "common_data_test['Cnt_12'] = common_data_test['Cnt_12'].map({'?': 0})\n",
    "common_data_test['Cnt_13'] = common_data_test['Cnt_13'].map({'?': 0})\n",
    "common_data_test['Cnt_14'] = common_data_test['Cnt_14'].map({'?': 0})\n",
    "common_data_test['Cnt_15'] = common_data_test['Cnt_15'].map({'?': 0})\n",
    "common_data_test['Cnt_16'] = common_data_test['Cnt_16'].map({'?': 0})\n",
    "common_data_test['Cnt_17'] = common_data_test['Cnt_17'].map({'?': 0})\n",
    "common_data_test['Cnt_18'] = common_data_test['Cnt_18'].map({'?': 0})\n",
    "common_data_test['Cnt_19'] = common_data_test['Cnt_19'].map({'?': 0})\n",
    "common_data_test['Cnt_20'] = common_data_test['Cnt_20'].map({'?': 0})\n",
    "common_data_test['Cnt_21'] = common_data_test['Cnt_21'].map({'?': 0})\n",
    "common_data_test['Cnt_22'] = common_data_test['Cnt_22'].map({'?': 0})\n",
    "common_data_test['Cnt_23'] = common_data_test['Cnt_23'].map({'?': 0})\n",
    "\n",
    "common_data_test['R_1'] = common_data_test['R_1'].map({'?': 0})\n",
    "common_data_test['R_2'] = common_data_test['R_2'].map({'?': 0})\n",
    "common_data_test['P_1'] = common_data_test['P_1'].map({'?': 0})\n",
    "common_data_test['P_2'] = common_data_test['P_2'].map({'?': 0})\n",
    "common_data_test['P_3'] = common_data_test['P_3'].map({'?': 0})\n",
    "common_data_test['P_4'] = common_data_test['P_4'].map({'?': 0})\n",
    "common_data_test['P_5'] = common_data_test['P_5'].map({'?': 0})\n",
    "common_data_test['P_6'] = common_data_test['P_6'].map({'?': 0})\n",
    "common_data_test['P_7'] = common_data_test['P_7'].map({'?': 0})\n",
    "\n",
    "common_data_test['Cnt_1'] = pd.to_numeric(common_data_test['Cnt_1'])\n",
    "common_data_test['Cnt_2'] = pd.to_numeric(common_data_test['Cnt_2'])\n",
    "common_data_test['Cnt_3'] = pd.to_numeric(common_data_test['Cnt_3'])\n",
    "common_data_test['Cnt_4'] = pd.to_numeric(common_data_test['Cnt_4'])\n",
    "common_data_test['Cnt_5'] = pd.to_numeric(common_data_test['Cnt_5'])\n",
    "common_data_test['Cnt_6'] = pd.to_numeric(common_data_test['Cnt_6'])\n",
    "common_data_test['Cnt_7'] = pd.to_numeric(common_data_test['Cnt_7'])\n",
    "common_data_test['Cnt_8'] = pd.to_numeric(common_data_test['Cnt_8'])\n",
    "common_data_test['Cnt_9'] = pd.to_numeric(common_data_test['Cnt_9'])\n",
    "common_data_test['Cnt_10'] = pd.to_numeric(common_data_test['Cnt_10'])\n",
    "common_data_test['Cnt_11'] = pd.to_numeric(common_data_test['Cnt_11'])\n",
    "common_data_test['Cnt_12'] = pd.to_numeric(common_data_test['Cnt_12'])\n",
    "common_data_test['Cnt_13'] = pd.to_numeric(common_data_test['Cnt_13'])\n",
    "common_data_test['Cnt_14'] = pd.to_numeric(common_data_test['Cnt_14'])\n",
    "common_data_test['Cnt_15'] = pd.to_numeric(common_data_test['Cnt_15'])\n",
    "common_data_test['Cnt_16'] = pd.to_numeric(common_data_test['Cnt_16'])\n",
    "common_data_test['Cnt_17'] = pd.to_numeric(common_data_test['Cnt_17'])\n",
    "common_data_test['Cnt_18'] = pd.to_numeric(common_data_test['Cnt_18'])\n",
    "common_data_test['Cnt_19'] = pd.to_numeric(common_data_test['Cnt_19'])\n",
    "common_data_test['Cnt_20'] = pd.to_numeric(common_data_test['Cnt_20'])\n",
    "common_data_test['Cnt_21'] = pd.to_numeric(common_data_test['Cnt_21'])\n",
    "common_data_test['Cnt_22'] = pd.to_numeric(common_data_test['Cnt_22'])\n",
    "common_data_test['Cnt_23'] = pd.to_numeric(common_data_test['Cnt_23'])\n",
    "\n",
    "\n",
    "\n",
    "\n",
    "common_data_test['R_1'] = pd.to_numeric(common_data_test['R_1'])\n",
    "common_data_test['R_2'] = pd.to_numeric(common_data_test['R_2'])\n",
    "common_data_test['P_1'] = pd.to_numeric(common_data_test['P_1'])\n",
    "common_data_test['P_2'] = pd.to_numeric(common_data_test['P_2'])\n",
    "common_data_test['P_3'] = pd.to_numeric(common_data_test['P_3'])\n",
    "common_data_test['P_4'] = pd.to_numeric(common_data_test['P_4'])\n",
    "common_data_test['P_5'] = pd.to_numeric(common_data_test['P_5'])\n",
    "common_data_test['P_6'] = pd.to_numeric(common_data_test['P_6'])\n",
    "common_data_test['P_7'] = pd.to_numeric(common_data_test['P_7'])\n",
    "\n",
    "test_agg_2 = common_data_test.groupby(['ID', 'UID'])['Amt_1'].mean().reset_index()\n",
    "\n",
    "test_agg_2.drop('Amt_1', axis=1, inplace=True)\n",
    "\n",
    "print(test_agg_2.info())\n"
   ]
  },
  {
   "cell_type": "code",
   "execution_count": 14,
   "metadata": {},
   "outputs": [
    {
     "name": "stdout",
     "output_type": "stream",
     "text": [
      "<class 'pandas.core.frame.DataFrame'>\n",
      "Int64Index: 48434 entries, 0 to 48433\n",
      "Data columns (total 5 columns):\n",
      "ID        48434 non-null object\n",
      "Type      48434 non-null float64\n",
      "T_Mn      48434 non-null float64\n",
      "Amount    48434 non-null float64\n",
      "UID       48434 non-null object\n",
      "dtypes: float64(3), object(2)\n",
      "memory usage: 2.2+ MB\n",
      "None\n"
     ]
    }
   ],
   "source": [
    "merged_data_test = pd.merge(test2, test_agg_2, on='ID')\n",
    "print(merged_data_test.info())"
   ]
  },
  {
   "cell_type": "code",
   "execution_count": 18,
   "metadata": {},
   "outputs": [
    {
     "name": "stdout",
     "output_type": "stream",
     "text": [
      "<class 'pandas.core.frame.DataFrame'>\n",
      "Int64Index: 48434 entries, 0 to 48433\n",
      "Data columns (total 5 columns):\n",
      "ID        48434 non-null object\n",
      "UID       48434 non-null object\n",
      "Type      48434 non-null float64\n",
      "T_Mn      48434 non-null float64\n",
      "Amount    23985 non-null float64\n",
      "dtypes: float64(3), object(2)\n",
      "memory usage: 2.2+ MB\n",
      "None\n"
     ]
    },
    {
     "name": "stderr",
     "output_type": "stream",
     "text": [
      "/home/monica/anaconda3/lib/python3.6/site-packages/ipykernel_launcher.py:3: RuntimeWarning: invalid value encountered in sqrt\n",
      "  This is separate from the ipykernel package so we can avoid doing imports until\n"
     ]
    }
   ],
   "source": [
    "merged_data_test['sqrt_Type'] = np.sqrt(merged_data_test['Type'])\n",
    "merged_data_test['sqrt_TMn'] = np.sqrt(merged_data_test['T_Mn'])\n",
    "merged_data_test['sqrt_Amount'] = np.sqrt(merged_data_test['Amount'])\n",
    "\n",
    "merged_data_test.drop(['Type', 'T_Mn', 'Amount'], axis=1, inplace=True)\n",
    "merged_data_test.rename(columns={'sqrt_Type':'Type', 'sqrt_TMn': 'T_Mn', 'sqrt_Amount': 'Amount'}, inplace=True)\n",
    "\n",
    "print(merged_data_test.info())"
   ]
  },
  {
   "cell_type": "code",
   "execution_count": 19,
   "metadata": {},
   "outputs": [
    {
     "name": "stdout",
     "output_type": "stream",
     "text": [
      "True\n",
      "False\n"
     ]
    }
   ],
   "source": [
    "print(merged_data_test.isnull().values.any())   # prints True\n",
    "merged_data_test = merged_data_test.fillna(0)                      # replace NaN values with 0\n",
    "print(merged_data_test.isnull().values.any())  \n",
    "\n",
    "merged_data_test.to_csv('/home/monica/hdfc_bank_data/test_data/common_data_test.csv')"
   ]
  },
  {
   "cell_type": "code",
   "execution_count": 20,
   "metadata": {},
   "outputs": [
    {
     "name": "stdout",
     "output_type": "stream",
     "text": [
      "<class 'pandas.core.frame.DataFrame'>\n",
      "Int64Index: 48434 entries, 0 to 48433\n",
      "Data columns (total 5 columns):\n",
      "ID        48434 non-null object\n",
      "UID       48434 non-null object\n",
      "Type      48434 non-null float64\n",
      "T_Mn      48434 non-null float64\n",
      "Amount    48434 non-null float64\n",
      "dtypes: float64(3), object(2)\n",
      "memory usage: 2.2+ MB\n",
      "None\n"
     ]
    }
   ],
   "source": [
    "print(merged_data_test.info())"
   ]
  },
  {
   "cell_type": "code",
   "execution_count": null,
   "metadata": {},
   "outputs": [],
   "source": []
  },
  {
   "cell_type": "code",
   "execution_count": null,
   "metadata": {},
   "outputs": [],
   "source": []
  }
 ],
 "metadata": {
  "kernelspec": {
   "display_name": "Python 3",
   "language": "python",
   "name": "python3"
  },
  "language_info": {
   "codemirror_mode": {
    "name": "ipython",
    "version": 3
   },
   "file_extension": ".py",
   "mimetype": "text/x-python",
   "name": "python",
   "nbconvert_exporter": "python",
   "pygments_lexer": "ipython3",
   "version": "3.6.6"
  }
 },
 "nbformat": 4,
 "nbformat_minor": 2
}
