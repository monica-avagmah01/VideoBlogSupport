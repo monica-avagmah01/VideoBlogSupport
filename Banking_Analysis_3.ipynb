{
 "cells": [
  {
   "cell_type": "code",
   "execution_count": 1,
   "metadata": {},
   "outputs": [
    {
     "name": "stderr",
     "output_type": "stream",
     "text": [
      "/home/monica/anaconda3/lib/python3.6/site-packages/sklearn/ensemble/weight_boosting.py:29: DeprecationWarning: numpy.core.umath_tests is an internal NumPy module and should not be imported. It will be removed in a future NumPy release.\n",
      "  from numpy.core.umath_tests import inner1d\n"
     ]
    }
   ],
   "source": [
    "import pandas as pd\n",
    "import numpy as np\n",
    "import matplotlib.pyplot as plt\n",
    "import datetime as dt\n",
    "import seaborn as sns\n",
    "from sklearn.preprocessing import StandardScaler\n",
    "from sklearn import metrics\n",
    "from sklearn.metrics import r2_score\n",
    "from sklearn.model_selection import train_test_split\n",
    "from sklearn.linear_model import LinearRegression\n",
    "from sklearn.preprocessing import PolynomialFeatures\n",
    "from sklearn.linear_model import ElasticNet\n",
    "from sklearn.model_selection import GridSearchCV\n",
    "from sklearn.linear_model import Lasso\n",
    "from sklearn.linear_model import Ridge\n",
    "from sklearn.ensemble import RandomForestRegressor\n",
    "import xgboost as xgb\n",
    "%matplotlib inline\n",
    "\n",
    "\n",
    "training_data = pd.read_csv('/home/monica/hdfc_bank_data/train_data/common_data.csv')\n",
    "test_data = pd.read_csv('/home/monica/hdfc_bank_data/test_data/common_data_test.csv')"
   ]
  },
  {
   "cell_type": "code",
   "execution_count": 2,
   "metadata": {},
   "outputs": [
    {
     "name": "stdout",
     "output_type": "stream",
     "text": [
      "<class 'pandas.core.frame.DataFrame'>\n",
      "RangeIndex: 26775 entries, 0 to 26774\n",
      "Data columns (total 7 columns):\n",
      "Unnamed: 0    26775 non-null int64\n",
      "ID            26775 non-null object\n",
      "UID           26775 non-null object\n",
      "Bad_Flag      26775 non-null int64\n",
      "Type          26775 non-null float64\n",
      "T_Mn          26775 non-null float64\n",
      "Amount        26775 non-null float64\n",
      "dtypes: float64(3), int64(2), object(2)\n",
      "memory usage: 1.4+ MB\n",
      "None\n"
     ]
    }
   ],
   "source": [
    "print(training_data.info())"
   ]
  },
  {
   "cell_type": "code",
   "execution_count": 3,
   "metadata": {},
   "outputs": [
    {
     "name": "stdout",
     "output_type": "stream",
     "text": [
      "<class 'pandas.core.frame.DataFrame'>\n",
      "RangeIndex: 48434 entries, 0 to 48433\n",
      "Data columns (total 6 columns):\n",
      "Unnamed: 0    48434 non-null int64\n",
      "ID            48434 non-null object\n",
      "UID           48434 non-null object\n",
      "Type          48434 non-null float64\n",
      "T_Mn          48434 non-null float64\n",
      "Amount        48434 non-null float64\n",
      "dtypes: float64(3), int64(1), object(2)\n",
      "memory usage: 2.2+ MB\n",
      "None\n"
     ]
    }
   ],
   "source": [
    "print(test_data.info())"
   ]
  },
  {
   "cell_type": "code",
   "execution_count": 4,
   "metadata": {},
   "outputs": [
    {
     "name": "stdout",
     "output_type": "stream",
     "text": [
      "[0 1]\n",
      "False\n",
      "False\n"
     ]
    }
   ],
   "source": [
    "print(training_data['Bad_Flag'].unique())\n",
    "\n",
    "print(training_data.isna().values.any()) \n",
    "print(test_data.isna().values.any())"
   ]
  },
  {
   "cell_type": "code",
   "execution_count": 5,
   "metadata": {},
   "outputs": [],
   "source": [
    "y = training_data['Bad_Flag']\n"
   ]
  },
  {
   "cell_type": "code",
   "execution_count": 6,
   "metadata": {},
   "outputs": [
    {
     "name": "stdout",
     "output_type": "stream",
     "text": [
      "0.9729281149743528\n",
      "55.934452433711265\n",
      "0.46805334962848133\n",
      "               Type        Amount          T_Mn\n",
      "count  26775.000000  26775.000000  26775.000000\n",
      "mean       4.957507     29.781418      1.528667\n",
      "std        0.972928     55.934452      0.468053\n",
      "min        0.000000      0.000000      0.000000\n",
      "25%        4.375495      0.000000      1.260779\n",
      "50%        4.905779      6.726659      1.471960\n",
      "75%        5.480251     42.773746      1.696769\n",
      "max       13.820275   3333.168649      3.316625\n"
     ]
    }
   ],
   "source": [
    "X = training_data[['Type', 'Amount', 'T_Mn' ]]\n",
    "\n",
    "#print(X.info())\n",
    "\n",
    "X_test = test_data[['Type', 'Amount', 'T_Mn']]\n",
    "\n",
    "#print(X_test.info())\n",
    "\n",
    "cols_train = X.columns\n",
    "cols_test = X_test.columns\n",
    "\n",
    "for col in cols_train:\n",
    "    print(X[col].std())\n",
    "        \n",
    "        \n",
    "X = X.dropna(how='all')\n",
    "\n",
    "\n",
    "print(X.describe())"
   ]
  },
  {
   "cell_type": "code",
   "execution_count": 7,
   "metadata": {},
   "outputs": [
    {
     "data": {
      "text/plain": [
       "array([[<matplotlib.axes._subplots.AxesSubplot object at 0x7fa51de4d898>,\n",
       "        <matplotlib.axes._subplots.AxesSubplot object at 0x7fa51ebdd358>],\n",
       "       [<matplotlib.axes._subplots.AxesSubplot object at 0x7fa51ec08668>,\n",
       "        <matplotlib.axes._subplots.AxesSubplot object at 0x7fa51ebb3978>]],\n",
       "      dtype=object)"
      ]
     },
     "execution_count": 7,
     "metadata": {},
     "output_type": "execute_result"
    },
    {
     "data": {
      "image/png": "[encoded data removed]",
      "text/plain": [
       "<Figure size 432x288 with 4 Axes>"
      ]
     },
     "metadata": {},
     "output_type": "display_data"
    }
   ],
   "source": [
    "#Since standard deviation for most columns is 0, dropping all those columns\n",
    "X.hist()"
   ]
  },
  {
   "cell_type": "code",
   "execution_count": 8,
   "metadata": {},
   "outputs": [
    {
     "data": {
      "image/png": "[encoded data removed]",
      "text/plain": [
       "<Figure size 432x288 with 2 Axes>"
      ]
     },
     "metadata": {},
     "output_type": "display_data"
    }
   ],
   "source": [
    "#corr = X.corr()\n",
    "#sns.heatmap(corr, mask=np.zeros_like(corr, dtype=np.bool), cmap=sns.diverging_palette(220, 10, as_cmap=True), square=False)\n",
    "#sns.heatmap(corr)\n",
    "\n",
    "sns.heatmap(X.corr(), mask=np.zeros_like(X.corr(), dtype=np.bool), cmap=sns.diverging_palette(220, 10, as_cmap=True), square=False)\n",
    "plt.show()"
   ]
  },
  {
   "cell_type": "code",
   "execution_count": 9,
   "metadata": {},
   "outputs": [
    {
     "name": "stdout",
     "output_type": "stream",
     "text": [
      "            Type    Amount      T_Mn\n",
      "Type    1.000000  0.005781  0.145069\n",
      "Amount  0.005781  1.000000 -0.015618\n",
      "T_Mn    0.145069 -0.015618  1.000000\n"
     ]
    }
   ],
   "source": [
    "print(X.corr())"
   ]
  },
  {
   "cell_type": "code",
   "execution_count": 10,
   "metadata": {},
   "outputs": [
    {
     "name": "stderr",
     "output_type": "stream",
     "text": [
      "/home/monica/anaconda3/lib/python3.6/site-packages/sklearn/utils/validation.py:475: DataConversionWarning: Data with input dtype int64 was converted to float64 by StandardScaler.\n",
      "  warnings.warn(msg, DataConversionWarning)\n"
     ]
    },
    {
     "data": {
      "text/plain": [
       "StandardScaler(copy=True, with_mean=True, with_std=True)"
      ]
     },
     "execution_count": 10,
     "metadata": {},
     "output_type": "execute_result"
    }
   ],
   "source": [
    "scaler = StandardScaler()\n",
    "X = scaler.fit_transform(X)\n",
    "\n",
    "X_test = scaler.transform(X_test)\n",
    "\n",
    "y = y.values.reshape(-1,1)\n",
    "\n",
    "y_Scaler = StandardScaler()\n",
    "y_Scaler.fit(y)\n",
    "\n",
    "\n",
    "\n",
    "\n",
    "\n",
    "\n"
   ]
  },
  {
   "cell_type": "code",
   "execution_count": 11,
   "metadata": {},
   "outputs": [],
   "source": [
    "poly = PolynomialFeatures(degree=8)\n",
    "X_ = poly.fit_transform(X)\n",
    "X_test_ = poly.fit_transform(X_test)"
   ]
  },
  {
   "cell_type": "code",
   "execution_count": 12,
   "metadata": {},
   "outputs": [
    {
     "name": "stdout",
     "output_type": "stream",
     "text": [
      "Linear Regression Plain: Model Score: 0.0028800810236577767\n",
      "Linear Regression Polynomial with degree 8: 0.011233009318053155\n"
     ]
    }
   ],
   "source": [
    "model = LinearRegression()\n",
    "\n",
    "model.fit(X, y)\n",
    "\n",
    "print(\"Linear Regression Plain: Model Score: {}\".format(model.score(X, y)))\n",
    "\n",
    "model.fit(X_,y)\n",
    "print(\"Linear Regression Polynomial with degree 8: {}\".format(model.score(X_,y)))\n",
    "\n"
   ]
  },
  {
   "cell_type": "code",
   "execution_count": 13,
   "metadata": {},
   "outputs": [
    {
     "name": "stdout",
     "output_type": "stream",
     "text": [
      "Lasso Regression, Model Score: 0.0002121665561950481\n"
     ]
    },
    {
     "name": "stderr",
     "output_type": "stream",
     "text": [
      "/home/monica/anaconda3/lib/python3.6/site-packages/sklearn/linear_model/coordinate_descent.py:491: ConvergenceWarning: Objective did not converge. You might want to increase the number of iterations. Fitting data with very small alpha may cause precision problems.\n",
      "  ConvergenceWarning)\n"
     ]
    }
   ],
   "source": [
    "model2 = Lasso()\n",
    "\n",
    "model2.fit(X_,y)\n",
    "print(\"Lasso Regression, Model Score: {}\".format(model2.score(X_, y)))\n"
   ]
  },
  {
   "cell_type": "code",
   "execution_count": 14,
   "metadata": {},
   "outputs": [
    {
     "name": "stdout",
     "output_type": "stream",
     "text": [
      "ElastiNet Model Score: 0.0002737809896363741\n"
     ]
    },
    {
     "name": "stderr",
     "output_type": "stream",
     "text": [
      "/home/monica/anaconda3/lib/python3.6/site-packages/sklearn/linear_model/coordinate_descent.py:491: ConvergenceWarning: Objective did not converge. You might want to increase the number of iterations. Fitting data with very small alpha may cause precision problems.\n",
      "  ConvergenceWarning)\n"
     ]
    }
   ],
   "source": [
    "model3 = ElasticNet(random_state=0)\n",
    "model3.fit(X_,y)\n",
    "print(\"ElastiNet Model Score: {}\".format(model3.score(X_, y)))"
   ]
  },
  {
   "cell_type": "code",
   "execution_count": 15,
   "metadata": {},
   "outputs": [
    {
     "name": "stderr",
     "output_type": "stream",
     "text": [
      "/home/monica/anaconda3/lib/python3.6/site-packages/sklearn/linear_model/ridge.py:112: LinAlgWarning: scipy.linalg.solve\n",
      "Ill-conditioned matrix detected. Result is not guaranteed to be accurate.\n",
      "Reciprocal condition number7.096554e-24\n",
      "  overwrite_a=True).T\n",
      "/home/monica/anaconda3/lib/python3.6/site-packages/sklearn/linear_model/ridge.py:112: LinAlgWarning: scipy.linalg.solve\n",
      "Ill-conditioned matrix detected. Result is not guaranteed to be accurate.\n",
      "Reciprocal condition number1.419311e-23\n",
      "  overwrite_a=True).T\n"
     ]
    },
    {
     "name": "stdout",
     "output_type": "stream",
     "text": [
      "Ridge Regression Model Score with grid: 0.011233156498083874\n",
      "Ridge Regression Model Score: 0.011233156498083874\n"
     ]
    }
   ],
   "source": [
    "model4 = Ridge()\n",
    "ridge_params = {'alpha': [0,0.5,1]}\n",
    "ridge_grid = GridSearchCV(model4, ridge_params, cv=5)\n",
    "ridge_grid.fit(X_,y)\n",
    "print(\"Ridge Regression Model Score with grid: {}\".format(ridge_grid.score(X_,y)))\n",
    "model4.fit(X_,y)\n",
    "print(\"Ridge Regression Model Score: {}\".format(model4.score(X_,y)))"
   ]
  },
  {
   "cell_type": "code",
   "execution_count": 16,
   "metadata": {},
   "outputs": [
    {
     "name": "stderr",
     "output_type": "stream",
     "text": [
      "/home/monica/anaconda3/lib/python3.6/site-packages/ipykernel_launcher.py:5: DataConversionWarning: A column-vector y was passed when a 1d array was expected. Please change the shape of y to (n_samples,), for example using ravel().\n",
      "  \"\"\"\n",
      "/home/monica/anaconda3/lib/python3.6/site-packages/ipykernel_launcher.py:5: DataConversionWarning: A column-vector y was passed when a 1d array was expected. Please change the shape of y to (n_samples,), for example using ravel().\n",
      "  \"\"\"\n",
      "/home/monica/anaconda3/lib/python3.6/site-packages/ipykernel_launcher.py:5: DataConversionWarning: A column-vector y was passed when a 1d array was expected. Please change the shape of y to (n_samples,), for example using ravel().\n",
      "  \"\"\"\n",
      "/home/monica/anaconda3/lib/python3.6/site-packages/ipykernel_launcher.py:5: DataConversionWarning: A column-vector y was passed when a 1d array was expected. Please change the shape of y to (n_samples,), for example using ravel().\n",
      "  \"\"\"\n",
      "/home/monica/anaconda3/lib/python3.6/site-packages/ipykernel_launcher.py:5: DataConversionWarning: A column-vector y was passed when a 1d array was expected. Please change the shape of y to (n_samples,), for example using ravel().\n",
      "  \"\"\"\n"
     ]
    },
    {
     "name": "stdout",
     "output_type": "stream",
     "text": [
      "Random Forest Regressor: 0.41820846055513394\n"
     ]
    }
   ],
   "source": [
    "model5 = RandomForestRegressor(n_estimators= 500, min_samples_split=4, min_samples_leaf=2)\n",
    "\n",
    "for i in range(5):\n",
    "    X_train_1, X_test_1, y_train_1, y_test_1 = train_test_split(X,y,test_size=0.30, random_state=i*34)\n",
    "    model5.fit(X_train_1, y_train_1)\n",
    "    \n",
    "    \n",
    "X_train_1, X_test_1, y_train_1, y_test_1 = train_test_split(X,y,test_size=0.30, random_state=43)    \n",
    "r2 = r2_score(y_test_1, model5.predict(X_test_1))\n",
    "print(\"Random Forest Regressor: {}\".format(r2))"
   ]
  },
  {
   "cell_type": "code",
   "execution_count": 17,
   "metadata": {},
   "outputs": [
    {
     "name": "stdout",
     "output_type": "stream",
     "text": [
      "XGB Regressor: 0.07530520037797861\n"
     ]
    }
   ],
   "source": [
    "model7 = xgb.XGBRegressor(n_estimators = 5000, learning_rate=0.01, objective='reg:linear')\n",
    "\n",
    "for i in range(5):\n",
    "    X_train_1, X_test_1, y_train_1, y_test_1 = train_test_split(X,y,test_size=0.30, random_state=i*34)\n",
    "    model7.fit(X_train_1, y_train_1)\n",
    "    \n",
    "    \n",
    "X_train_1, X_test_1, y_train_1, y_test_1 = train_test_split(X,y,test_size=0.30, random_state=43)    \n",
    "r2 = r2_score(y_test_1, model7.predict(X_test_1))\n",
    "print(\"XGB Regressor: {}\".format(r2))"
   ]
  },
  {
   "cell_type": "code",
   "execution_count": 18,
   "metadata": {},
   "outputs": [],
   "source": [
    "y_pred = model5.predict(X_test)"
   ]
  },
  {
   "cell_type": "code",
   "execution_count": 19,
   "metadata": {},
   "outputs": [
    {
     "name": "stdout",
     "output_type": "stream",
     "text": [
      "(48434,)\n"
     ]
    }
   ],
   "source": [
    "print(y_pred.shape)"
   ]
  },
  {
   "cell_type": "code",
   "execution_count": 20,
   "metadata": {},
   "outputs": [
    {
     "name": "stdout",
     "output_type": "stream",
     "text": [
      "(48434, 3)\n"
     ]
    }
   ],
   "source": [
    "print(X_test.shape)"
   ]
  },
  {
   "cell_type": "code",
   "execution_count": 24,
   "metadata": {},
   "outputs": [],
   "source": [
    "sub_df1 = pd.DataFrame()\n",
    "sub_df1['UID'] = test_data['UID']"
   ]
  },
  {
   "cell_type": "code",
   "execution_count": 25,
   "metadata": {},
   "outputs": [],
   "source": [
    "sub_df1['bad_flag'] = pd.Series(y_pred)"
   ]
  },
  {
   "cell_type": "code",
   "execution_count": 27,
   "metadata": {},
   "outputs": [],
   "source": [
    "sub_df1.to_csv('/home/monica/hdfc_bank_data/my_submission_1.csv')"
   ]
  },
  {
   "cell_type": "code",
   "execution_count": null,
   "metadata": {},
   "outputs": [],
   "source": []
  }
 ],
 "metadata": {
  "kernelspec": {
   "display_name": "Python 3",
   "language": "python",
   "name": "python3"
  },
  "language_info": {
   "codemirror_mode": {
    "name": "ipython",
    "version": 3
   },
   "file_extension": ".py",
   "mimetype": "text/x-python",
   "name": "python",
   "nbconvert_exporter": "python",
   "pygments_lexer": "ipython3",
   "version": "3.6.6"
  }
 },
 "nbformat": 4,
 "nbformat_minor": 2
}
