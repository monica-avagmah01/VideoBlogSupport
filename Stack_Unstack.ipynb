{
 "cells": [
  {
   "cell_type": "code",
   "execution_count": 1,
   "metadata": {},
   "outputs": [],
   "source": [
    "import pandas as pd\n",
    "\n",
    "df = pd.DataFrame(columns = ['Item', 'Shop1', 'Shop2', 'Shop3', 'Category'])\n",
    "df['Item']= pd.Series(['Shoes', 'TV', 'Book', 'Phone', 'Shirt'])\n",
    "df['Shop1']= pd.Series([40,50,60,70,20])\n",
    "df['Shop2']=pd.Series([79,34,12,34,32])\n",
    "df['Shop3'] = pd.Series([78,95,34,12,34])\n",
    "df['Category'] = pd.Series(['Clothes', 'Technology', 'Books', 'Technology', 'Clothes'])"
   ]
  },
  {
   "cell_type": "code",
   "execution_count": 2,
   "metadata": {},
   "outputs": [
    {
     "name": "stdout",
     "output_type": "stream",
     "text": [
      "    Item  Shop1  Shop2  Shop3    Category\n",
      "0  Shoes     40     79     78     Clothes\n",
      "1     TV     50     34     95  Technology\n",
      "2   Book     60     12     34       Books\n",
      "3  Phone     70     34     12  Technology\n",
      "4  Shirt     20     32     34     Clothes\n"
     ]
    }
   ],
   "source": [
    "print(df)"
   ]
  },
  {
   "cell_type": "code",
   "execution_count": 24,
   "metadata": {},
   "outputs": [
    {
     "name": "stdout",
     "output_type": "stream",
     "text": [
      "     Item    Category level_2   0\n",
      "0   Shoes     Clothes   Shop1  40\n",
      "1   Shoes     Clothes   Shop2  79\n",
      "2   Shoes     Clothes   Shop3  78\n",
      "3      TV  Technology   Shop1  50\n",
      "4      TV  Technology   Shop2  34\n",
      "5      TV  Technology   Shop3  95\n",
      "6    Book       Books   Shop1  60\n",
      "7    Book       Books   Shop2  12\n",
      "8    Book       Books   Shop3  34\n",
      "9   Phone  Technology   Shop1  70\n",
      "10  Phone  Technology   Shop2  34\n",
      "11  Phone  Technology   Shop3  12\n",
      "12  Shirt     Clothes   Shop1  20\n",
      "13  Shirt     Clothes   Shop2  32\n",
      "14  Shirt     Clothes   Shop3  34\n",
      "==================================================\n",
      "     Item    Category  Shops  Cost\n",
      "0   Shoes     Clothes  Shop1    40\n",
      "1   Shoes     Clothes  Shop2    79\n",
      "2   Shoes     Clothes  Shop3    78\n",
      "3      TV  Technology  Shop1    50\n",
      "4      TV  Technology  Shop2    34\n",
      "5      TV  Technology  Shop3    95\n",
      "6    Book       Books  Shop1    60\n",
      "7    Book       Books  Shop2    12\n",
      "8    Book       Books  Shop3    34\n",
      "9   Phone  Technology  Shop1    70\n",
      "10  Phone  Technology  Shop2    34\n",
      "11  Phone  Technology  Shop3    12\n",
      "12  Shirt     Clothes  Shop1    20\n",
      "13  Shirt     Clothes  Shop2    32\n",
      "14  Shirt     Clothes  Shop3    34\n"
     ]
    }
   ],
   "source": [
    "df1 = df.set_index(['Item','Category']).stack().reset_index()\n",
    "print(df1)\n",
    "print(\"=\"*50)\n",
    "df1.rename(columns={'level_2':'Shops', 0: 'Cost'},inplace=True)\n",
    "print(df1)"
   ]
  },
  {
   "cell_type": "code",
   "execution_count": 25,
   "metadata": {},
   "outputs": [
    {
     "name": "stdout",
     "output_type": "stream",
     "text": [
      "            min  max\n",
      "Category            \n",
      "Books        12   60\n",
      "Clothes      20   79\n",
      "Technology   12   95\n"
     ]
    }
   ],
   "source": [
    "print(df1.groupby('Category')['Cost'].agg(['min', 'max']))\n"
   ]
  },
  {
   "cell_type": "code",
   "execution_count": null,
   "metadata": {},
   "outputs": [],
   "source": []
  }
 ],
 "metadata": {
  "kernelspec": {
   "display_name": "Python 3",
   "language": "python",
   "name": "python3"
  },
  "language_info": {
   "codemirror_mode": {
    "name": "ipython",
    "version": 3
   },
   "file_extension": ".py",
   "mimetype": "text/x-python",
   "name": "python",
   "nbconvert_exporter": "python",
   "pygments_lexer": "ipython3",
   "version": "3.6.6"
  }
 },
 "nbformat": 4,
 "nbformat_minor": 2
}
