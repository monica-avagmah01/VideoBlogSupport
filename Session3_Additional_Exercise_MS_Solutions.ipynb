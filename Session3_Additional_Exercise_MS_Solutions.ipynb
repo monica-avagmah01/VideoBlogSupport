{
 "cells": [
  {
   "cell_type": "markdown",
   "metadata": {},
   "source": [
    "### Q1"
   ]
  },
  {
   "cell_type": "code",
   "execution_count": 1,
   "metadata": {},
   "outputs": [
    {
     "name": "stdout",
     "output_type": "stream",
     "text": [
      "key1: 123\n",
      "key2: [12, 22, 33]\n",
      "key3: ['item1', 'item2', 'item3']\n",
      "33\n"
     ]
    }
   ],
   "source": [
    "my_dict = {'key1': 123, 'key2': [12,22,33], 'key3':['item1', 'item2', 'item3']}\n",
    "\n",
    "\n",
    "for k, v in my_dict.items():\n",
    "    print(\"{}: {}\".format(k, v))\n",
    "    \n",
    "    \n",
    "print(my_dict['key2'][2])    "
   ]
  },
  {
   "cell_type": "markdown",
   "metadata": {},
   "source": [
    "### Q2"
   ]
  },
  {
   "cell_type": "code",
   "execution_count": 3,
   "metadata": {},
   "outputs": [
    {
     "data": {
      "text/plain": [
       "[1, 4, 9, 16, 25]"
      ]
     },
     "execution_count": 3,
     "metadata": {},
     "output_type": "execute_result"
    }
   ],
   "source": [
    "lst = [x**2 for x in range(1,6)]\n",
    "lst"
   ]
  },
  {
   "cell_type": "markdown",
   "metadata": {},
   "source": [
    "### Q3"
   ]
  },
  {
   "cell_type": "code",
   "execution_count": 4,
   "metadata": {},
   "outputs": [
    {
     "name": "stdout",
     "output_type": "stream",
     "text": [
      "Please enter the number to find factorial of: 5\n",
      "120\n"
     ]
    }
   ],
   "source": [
    "import functools \n",
    "\n",
    "x = int(input('Please enter the number to find factorial of: '))\n",
    "print (functools.reduce(lambda a,b : a*b, range(1, x+1), 1))"
   ]
  },
  {
   "cell_type": "markdown",
   "metadata": {},
   "source": [
    "### Q4"
   ]
  },
  {
   "cell_type": "code",
   "execution_count": 5,
   "metadata": {},
   "outputs": [
    {
     "name": "stdout",
     "output_type": "stream",
     "text": [
      "['hello']\n"
     ]
    }
   ],
   "source": [
    "lst = [1,2,[3,4],[5,[100,200,['hello']],23,11],1,7]\n",
    "\n",
    "print(lst[3][1][2])"
   ]
  },
  {
   "cell_type": "markdown",
   "metadata": {},
   "source": [
    "### Q5"
   ]
  },
  {
   "cell_type": "code",
   "execution_count": 8,
   "metadata": {},
   "outputs": [
    {
     "name": "stdout",
     "output_type": "stream",
     "text": [
      "hello\n"
     ]
    }
   ],
   "source": [
    "d = {'k1':[1,2,3,{'tricky':['oh','man','inception',{'target':[1,2,3,'hello']}]}]}\n",
    "\n",
    "print(d['k1'][3]['tricky'][3]['target'][3])"
   ]
  },
  {
   "cell_type": "markdown",
   "metadata": {},
   "source": [
    "### Q6"
   ]
  },
  {
   "cell_type": "code",
   "execution_count": 10,
   "metadata": {},
   "outputs": [
    {
     "name": "stdout",
     "output_type": "stream",
     "text": [
      "user_name\n"
     ]
    }
   ],
   "source": [
    "str1 = 'user_name@domain.com'\n",
    "\n",
    "print(str1[0:str1.index(\"@\")])"
   ]
  },
  {
   "cell_type": "markdown",
   "metadata": {},
   "source": [
    "### Q7"
   ]
  },
  {
   "cell_type": "code",
   "execution_count": 11,
   "metadata": {},
   "outputs": [
    {
     "name": "stdout",
     "output_type": "stream",
     "text": [
      "['banana', 'bandana', 'boredom', 'boil', 'book']\n"
     ]
    }
   ],
   "source": [
    "lst = ['crystal', 'banana', 'bandana', 'style', 'boredom', 'orange', 'boil', 'book']\n",
    "\n",
    "b_lst = list(filter(lambda x: True if x.lower()[0] == 'b' else False, lst))\n",
    "print(b_lst)\n"
   ]
  },
  {
   "cell_type": "markdown",
   "metadata": {},
   "source": [
    "### Q8"
   ]
  },
  {
   "cell_type": "code",
   "execution_count": 12,
   "metadata": {},
   "outputs": [
    {
     "name": "stdout",
     "output_type": "stream",
     "text": [
      "The number of the list elements beginning with b is : 5\n"
     ]
    }
   ],
   "source": [
    "import functools \n",
    "  \n",
    "# initializing list \n",
    "lst = ['crystal', 'banana', 'bandana', 'style', 'boredom', 'orange', 'boil', 'book']\n",
    "\n",
    "def add_bs(input_string):\n",
    "    if(input_string.lower()[0] == 'b'):\n",
    "        return 1\n",
    "    else:\n",
    "        return 0\n",
    "    \n",
    "  \n",
    "# using reduce to compute sum of list \n",
    "print (\"The number of the list elements beginning with b is : \",end=\"\") \n",
    "print (functools.reduce(lambda x,y : x+add_bs(y), lst, 0)) "
   ]
  },
  {
   "cell_type": "markdown",
   "metadata": {},
   "source": [
    "### Q9"
   ]
  },
  {
   "cell_type": "code",
   "execution_count": 16,
   "metadata": {},
   "outputs": [
    {
     "name": "stdout",
     "output_type": "stream",
     "text": [
      "Please enter the begining of the range of numbers for prime check: 5\n",
      "Please enter the end of the range of numbers for prime check: 17\n",
      "[5, 7, 11, 13, 17]\n"
     ]
    }
   ],
   "source": [
    "def flag_prime(num):\n",
    "    for n in range(2, int(num /2) + 1):\n",
    "        if(num % n == 0):\n",
    "            return False\n",
    "        \n",
    "    return True\n",
    "\n",
    "lower = int(input('Please enter the begining of the range of numbers for prime check: '))\n",
    "upper = int(input('Please enter the end of the range of numbers for prime check: '))\n",
    "lst_prime = list(filter(flag_prime, range(lower, upper+1)))\n",
    "print(lst_prime)"
   ]
  },
  {
   "cell_type": "code",
   "execution_count": null,
   "metadata": {},
   "outputs": [],
   "source": []
  }
 ],
 "metadata": {
  "kernelspec": {
   "display_name": "Python 3",
   "language": "python",
   "name": "python3"
  },
  "language_info": {
   "codemirror_mode": {
    "name": "ipython",
    "version": 3
   },
   "file_extension": ".py",
   "mimetype": "text/x-python",
   "name": "python",
   "nbconvert_exporter": "python",
   "pygments_lexer": "ipython3",
   "version": "3.6.6"
  }
 },
 "nbformat": 4,
 "nbformat_minor": 2
}
