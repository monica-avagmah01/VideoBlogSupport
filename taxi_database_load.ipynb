{
 "cells": [
  {
   "cell_type": "code",
   "execution_count": 1,
   "metadata": {},
   "outputs": [],
   "source": [
    "import pandas as pd\n",
    "\n",
    "taxi_df = pd.read_csv('data/taxi.csv')"
   ]
  },
  {
   "cell_type": "code",
   "execution_count": 2,
   "metadata": {},
   "outputs": [
    {
     "name": "stdout",
     "output_type": "stream",
     "text": [
      "   VendorID lpep_pickup_datetime lpep_dropoff_datetime store_and_fwd_flag  \\\n",
      "0         2  2017-01-01 00:01:15   2017-01-01 00:11:05                  N   \n",
      "1         2  2017-01-01 00:03:34   2017-01-01 00:09:00                  N   \n",
      "2         2  2017-01-01 00:04:02   2017-01-01 00:12:55                  N   \n",
      "3         2  2017-01-01 00:01:40   2017-01-01 00:14:23                  N   \n",
      "4         2  2017-01-01 00:00:51   2017-01-01 00:18:55                  N   \n",
      "\n",
      "   RatecodeID  PULocationID  DOLocationID  passenger_count  trip_distance  \\\n",
      "0           1            42           166                1           1.71   \n",
      "1           1            75            74                1           1.44   \n",
      "2           1            82            70                5           3.45   \n",
      "3           1           255           232                1           2.11   \n",
      "4           1           166           239                1           2.76   \n",
      "\n",
      "   fare_amount  extra  mta_tax  tip_amount  tolls_amount  ehail_fee  \\\n",
      "0          9.0    0.0      0.5        0.00           0.0        NaN   \n",
      "1          6.5    0.5      0.5        0.00           0.0        NaN   \n",
      "2         12.0    0.5      0.5        2.66           0.0        NaN   \n",
      "3         10.5    0.5      0.5        0.00           0.0        NaN   \n",
      "4         11.5    0.5      0.5        0.00           0.0        NaN   \n",
      "\n",
      "   improvement_surcharge  total_amount  payment_type  trip_type  \n",
      "0                    0.3          9.80             2          1  \n",
      "1                    0.3          7.80             2          1  \n",
      "2                    0.3         15.96             1          1  \n",
      "3                    0.3         11.80             2          1  \n",
      "4                    0.3         12.80             2          1  \n"
     ]
    }
   ],
   "source": [
    "print(taxi_df.head())"
   ]
  },
  {
   "cell_type": "code",
   "execution_count": null,
   "metadata": {},
   "outputs": [],
   "source": []
  }
 ],
 "metadata": {
  "kernelspec": {
   "display_name": "Python 3",
   "language": "python",
   "name": "python3"
  },
  "language_info": {
   "codemirror_mode": {
    "name": "ipython",
    "version": 3
   },
   "file_extension": ".py",
   "mimetype": "text/x-python",
   "name": "python",
   "nbconvert_exporter": "python",
   "pygments_lexer": "ipython3",
   "version": "3.6.5"
  }
 },
 "nbformat": 4,
 "nbformat_minor": 2
}
