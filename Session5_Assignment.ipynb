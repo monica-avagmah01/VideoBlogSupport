{
 "cells": [
  {
   "cell_type": "code",
   "execution_count": 20,
   "metadata": {},
   "outputs": [
    {
     "name": "stdout",
     "output_type": "stream",
     "text": [
      "   X\n",
      "0  7\n",
      "1  2\n",
      "2  0\n",
      "3  3\n",
      "4  4\n",
      "5  2\n",
      "6  5\n",
      "7  0\n",
      "8  3\n",
      "9  4\n",
      "   X  Y\n",
      "0  7  1\n",
      "1  2  2\n",
      "2  0  0\n",
      "3  3  1\n",
      "4  4  2\n",
      "5  2  3\n",
      "6  5  4\n",
      "7  0  0\n",
      "8  3  1\n",
      "9  4  2\n"
     ]
    }
   ],
   "source": [
    "import pandas as pd\n",
    "import numpy as np\n",
    "\n",
    "def cnt_zero_offset(lst):\n",
    "    offst_lst = []\n",
    "    for i in range(len(lst)):\n",
    "        if(i == 0 or lst[i::-1].count(0) == 0):\n",
    "            offst_lst.append(i+1)\n",
    "        else:\n",
    "            offst_lst.append(lst[i::-1].index(0))\n",
    "    return offst_lst\n",
    "            \n",
    "\n",
    "df = pd.DataFrame({'X':[7,2,0,3,4,2,5,0,3,4]})\n",
    "print (df)\n",
    "\n",
    "\n",
    "df['Y'] = cnt_zero_offset(list(df['X']))\n",
    "print(df)"
   ]
  },
  {
   "cell_type": "code",
   "execution_count": 61,
   "metadata": {},
   "outputs": [
    {
     "name": "stdout",
     "output_type": "stream",
     "text": [
      "   year  month  day  Timestamp\n",
      "0  2015      1    1 2015-01-01\n",
      "1  2015      1    2 2015-01-02\n",
      "2  2015      1    3 2015-01-03\n",
      "3  2015      1    4 2015-01-04\n",
      "4  2015      1    5 2015-01-05\n",
      "            Timestamp       num\n",
      "Timestamp                      \n",
      "2015-01-01 2015-01-01  0.542775\n",
      "2015-01-02 2015-01-02  0.866823\n",
      "2015-01-03 2015-01-03  0.579612\n",
      "2015-01-04 2015-01-04  0.562936\n",
      "2015-01-05 2015-01-05  0.149522\n",
      "The sum for Wednesdays is:  25.43492027123346\n",
      "The averages for the months are:  Timestamp\n",
      "1     0.528441\n",
      "2     0.495988\n",
      "3     0.493787\n",
      "4     0.394580\n",
      "5     0.446880\n",
      "6     0.490378\n",
      "7     0.468707\n",
      "8     0.486562\n",
      "9     0.507395\n",
      "10    0.479280\n",
      "11    0.499902\n",
      "12    0.586414\n",
      "Name: num, dtype: float64\n"
     ]
    },
    {
     "data": {
      "text/plain": [
       "array([[Timestamp('2015-04-01 00:00:00'), 0.975281269673588, 2],\n",
       "       [Timestamp('2015-06-28 00:00:00'), 0.9734439490219208, 6],\n",
       "       [Timestamp('2015-12-31 00:00:00'), 0.9993461688291456, 3]],\n",
       "      dtype=object)"
      ]
     },
     "execution_count": 61,
     "metadata": {},
     "output_type": "execute_result"
    }
   ],
   "source": [
    "import datetime as dt\n",
    "\n",
    "e = range(1,13)\n",
    "n = [31, 28, 31, 30, 31, 30, 31, 31, 30, 31, 30, 31]\n",
    "m = []\n",
    "d = []\n",
    "\n",
    "for i in range(12):\n",
    "    m.extend([e[i] for _ in range(n[i])])\n",
    "    \n",
    "for i in range(12):\n",
    "    d.extend(range(1,n[i]+1))\n",
    "    \n",
    "date_df = pd.DataFrame({'year': [2015]*365, \n",
    "                   'month': m,\n",
    "                   'day': d}) \n",
    "                   \n",
    "\n",
    "# returns datetime objects\n",
    "date_df['Timestamp'] = date_df.apply(lambda row: dt.datetime(row.year, row.month, row.day), \n",
    "                           axis=1)\n",
    "\n",
    "# converts to pandas timestamps if desired\n",
    "date_df['Timestamp'] = pd.to_datetime(date_df.Timestamp)\n",
    "\n",
    "print(date_df.head())\n",
    "\n",
    "\n",
    "date_df.index = pd.DatetimeIndex(date_df.Timestamp)\n",
    "date_df['num'] = np.random.rand(365)\n",
    "\n",
    "date_df.drop(['year', 'month', 'day'], axis = 1, inplace = True)\n",
    "print(date_df.head())\n",
    "\n",
    "date_df['weekday'] = date_df['Timestamp'].dt.dayofweek\n",
    "sums = date_df.groupby(date_df['weekday'])['num'].sum()\n",
    "print(\"The sum for Wednesdays is: \", sums[2])\n",
    "averages = date_df.groupby(date_df['Timestamp'].dt.month)['num'].mean()\n",
    "print(\"The averages for the months are: \", averages)\n",
    "maxs = date_df.groupby(date_df['Timestamp'].dt.month)['num'].max()\n",
    "date_df.loc[(date_df['num'] == max(maxs[:4]) ) | (date_df['num'] == max(maxs[4:8])) | (date_df['num'] == max(maxs[8:12]))].values\n",
    "\n"
   ]
  },
  {
   "cell_type": "code",
   "execution_count": null,
   "metadata": {},
   "outputs": [],
   "source": []
  }
 ],
 "metadata": {
  "kernelspec": {
   "display_name": "Python 3",
   "language": "python",
   "name": "python3"
  },
  "language_info": {
   "codemirror_mode": {
    "name": "ipython",
    "version": 3
   },
   "file_extension": ".py",
   "mimetype": "text/x-python",
   "name": "python",
   "nbconvert_exporter": "python",
   "pygments_lexer": "ipython3",
   "version": "3.6.6"
  }
 },
 "nbformat": 4,
 "nbformat_minor": 2
}
