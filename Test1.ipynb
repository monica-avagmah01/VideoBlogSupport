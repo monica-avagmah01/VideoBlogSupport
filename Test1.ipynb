{
 "cells": [
  {
   "cell_type": "markdown",
   "metadata": {},
   "source": [
    "### Write a program in Python with one class called Cipher. Within the constructor of this class, ask user for a string and store it. Use a static variable, key to store a randomly generated integer between 1 and 50 inclusive. Implement two methods, encrypt and decrypt within this class. Encrypt generates and prints a cipher text using the user-entered string and the key and decrypt generates decrypted string from ciphertext. The cipher only encrypts alpha and numeric (A-Z, a-z, 0-9). All Symbols, such as - , ; %, remain unencrypted. The cipher text can have special characters. Use generator expression to filter out alpha and numeric characters of the input string and to generate cipher text. Create an instance of this class, encrypt and decrypt back the user entered string."
   ]
  },
  {
   "cell_type": "markdown",
   "metadata": {},
   "source": [
    "#### Distribution of Points:\n",
    "===================================\n",
    "1. Definition of class - 100\n",
    "2. Correct use of static key variable - 100\n",
    "3. Correct definition of constructor - 150\n",
    "4. Correct definition of encrypt - 150\n",
    "5. Correct definition of decrypt - 150\n",
    "6. Use of generator expressions for encrypt and decrypt - 100\n",
    "7. Correct checking of alpha and numeric characters in string to be encrypted - 75\n",
    "8. Correct creation of Cipher object and invocation of encrypt, decrypt - 75\n",
    "9. Correct encrypted string - 50\n",
    "10. Correct decrypted string - 50"
   ]
  },
  {
   "cell_type": "markdown",
   "metadata": {},
   "source": [
    "#### Sample Output:"
   ]
  },
  {
   "cell_type": "markdown",
   "metadata": {},
   "source": [
    "Please enter the text to be encrypted: a#-pple\n",
    "<br>The key is:  8\n",
    "<br>The encrypted text is:  ixxtm\n",
    "<br>The decrypted text is:  apple\n",
    "\n"
   ]
  },
  {
   "cell_type": "code",
   "execution_count": null,
   "metadata": {},
   "outputs": [],
   "source": []
  }
 ],
 "metadata": {
  "kernelspec": {
   "display_name": "Python 3",
   "language": "python",
   "name": "python3"
  },
  "language_info": {
   "codemirror_mode": {
    "name": "ipython",
    "version": 3
   },
   "file_extension": ".py",
   "mimetype": "text/x-python",
   "name": "python",
   "nbconvert_exporter": "python",
   "pygments_lexer": "ipython3",
   "version": "3.6.6"
  }
 },
 "nbformat": 4,
 "nbformat_minor": 2
}
