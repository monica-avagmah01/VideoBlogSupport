{
 "cells": [
  {
   "cell_type": "code",
   "execution_count": 1,
   "metadata": {},
   "outputs": [
    {
     "name": "stderr",
     "output_type": "stream",
     "text": [
      "/home/monica/anaconda3/lib/python3.6/site-packages/sklearn/ensemble/weight_boosting.py:29: DeprecationWarning: numpy.core.umath_tests is an internal NumPy module and should not be imported. It will be removed in a future NumPy release.\n",
      "  from numpy.core.umath_tests import inner1d\n"
     ]
    }
   ],
   "source": [
    "import pandas as pd\n",
    "import json\n",
    "from pprint import pprint\n",
    "import numpy as np\n",
    "import matplotlib.pyplot as plt\n",
    "import datetime as dt\n",
    "import seaborn as sns\n",
    "from sklearn.preprocessing import StandardScaler\n",
    "from sklearn import metrics\n",
    "from sklearn.metrics import r2_score\n",
    "from sklearn.model_selection import train_test_split\n",
    "from sklearn.linear_model import LogisticRegression\n",
    "from sklearn.ensemble import RandomForestClassifier\n",
    "\n",
    "\n",
    "%matplotlib inline\n",
    "\n",
    "with open('/home/monica/leads_leadsq.json') as data_file:\n",
    "   data = json.load(data_file)\n"
   ]
  },
  {
   "cell_type": "code",
   "execution_count": 2,
   "metadata": {},
   "outputs": [
    {
     "name": "stderr",
     "output_type": "stream",
     "text": [
      "/home/monica/anaconda3/lib/python3.6/site-packages/IPython/core/interactiveshell.py:2785: DtypeWarning: Columns (3) have mixed types. Specify dtype option on import or set low_memory=False.\n",
      "  interactivity=interactivity, compiler=compiler, result=result)\n"
     ]
    }
   ],
   "source": [
    "mp_data = pd.read_csv('/home/monica/iPythonNotebooks/mixpanel_leads_29_sep_2018.csv')"
   ]
  },
  {
   "cell_type": "code",
   "execution_count": 7,
   "metadata": {},
   "outputs": [
    {
     "name": "stdout",
     "output_type": "stream",
     "text": [
      "97240\n",
      "Column names for the leads.\n",
      "====================================================================================================\n",
      "['ProspectActivityDate_Min', 'Web_Referrer', 'Web_RefKeyword', 'LeadLastModifiedOn', 'ConversionReferrerURL', 'SourceReferrerURL', 'SourceIPAddress', 'Latitude', 'Longitude', 'ProspectID', 'ProspectAutoId', 'ProspectActivityId_Max', 'ProspectActivityId_Min', 'StatusCode', 'StatusReason', 'DeletionStatusCode', 'RelatedProspectId', 'SourceReferrer', 'NotableEvent', 'NotableEventdate', 'LastVisitDate', 'RelatedLandingPageId', 'FirstLandingPageSubmissionId', 'FirstLandingPageSubmissionDate', 'ProspectActivityName_Max', 'ProspectActivityDate_Max', 'FirstName', 'LastName', 'EmailAddress', 'Phone', 'Company', 'Website', 'DoNotTrack', 'DoNotEmail', 'DoNotCall', 'Source', 'Mobile', 'SourceCampaign', 'SourceMedium', 'JobTitle', 'SourceContent', 'Notes', 'Score', 'EngagementScore', 'Revenue', 'ProspectStage', 'QualityScore01', 'OwnerId', 'CreatedBy', 'CreatedByName', 'CreatedOn', 'LeadConversionDate', 'ModifiedBy', 'ModifiedByName', 'ModifiedOn', 'TimeZone', 'TotalVisits', 'PageViewsPerVisit', 'AvgTimePerVisit', 'mx_Street1', 'mx_Street2', 'mx_City', 'mx_State', 'mx_Country', 'mx_Zip', 'OwnerIdName', 'OwnerIdEmailAddress', 'Origin', 'MailingPreferences', 'Groups', 'TwitterId', 'PhotoUrl', 'FacebookId', 'LinkedInId', 'SkypeId', 'GTalkId', 'GooglePlusId', 'CurrentOptInStatus', 'mx_Alternate_Email', 'OptInDate', 'mx_Industry', 'OptInDetails', 'mx_Gender', 'LastOptInEmailSentDate', 'mx_Date_of_Birth', 'mx_Employee_ID', 'mx_Highest_Qulaification', 'mx_Years_of_Experience', 'mx_Expected_Joining_Date', 'mx_BU', 'mx_SBU', 'mx_Channel', 'mx_Flow', 'mx_Browser', 'mx_Device_Info', 'mx_Preferred_Time_From', 'mx_Preferred_Time_To', 'mx_Category', 'mx_Product_Category', 'mx_Product', 'mx_Expected_Joining', 'mx_Salary', 'mx_Function_Area', 'mx_Division', 'mx_Product_Group', 'mx_Age', 'mx_Center_Name', 'mx_UTM_Term', 'mx_Admission_Number', 'mx_Campaign_ID', 'mx_Lead_ID', 'mx_CallBack_Date_Time', 'mx_Experience_in_Years', 'mx_Alternate_Phone_Number', 'mx_Course_Alt', 'mx_Lead_Type', 'mx_Application_Link', 'mx_Application_Reference_ID', 'mx_Chat_Link', 'mx_Destination_SBU', 'mx_Destination_Product', 'mx_Attendance_Status', 'mx_Type_of_Source', 'mx_Manager', 'mx_Referrer_Name', 'mx_Referrer_Email', 'mx_Referrer_Phone', 'IsStarredLead', 'IsTaggedLead', 'CanUpdate', 'Total', 'LeadAge']\n",
      "  ProspectActivityDate_Min Web_Referrer Web_RefKeyword  \\\n",
      "0  2018-09-24 16:30:53.000         None           None   \n",
      "1  2018-07-30 08:02:48.000         None           None   \n",
      "2  2018-09-28 06:17:14.000         None           None   \n",
      "3  2018-06-13 13:50:13.000         None           None   \n",
      "4  2018-09-17 17:54:23.000         None           None   \n",
      "\n",
      "        LeadLastModifiedOn ConversionReferrerURL SourceReferrerURL  \\\n",
      "0  2018-09-29 06:37:14.000                  None              None   \n",
      "1  2018-09-29 06:37:12.000                  None              None   \n",
      "2  2018-09-29 06:37:11.000                  None              None   \n",
      "3  2018-09-29 06:36:14.000                  None              None   \n",
      "4  2018-09-29 06:36:07.000                  None              None   \n",
      "\n",
      "  SourceIPAddress Latitude Longitude                            ProspectID  \\\n",
      "0            None     None      None  1023ad1e-8979-496d-9f56-6d8b145a7799   \n",
      "1            None     None      None  60d96e9a-3a47-4258-8a76-8a50f4af235a   \n",
      "2            None     None      None  320cab26-4c68-4558-be18-8bb48d3bcda8   \n",
      "3            None     None      None  a80362a9-68e1-11e8-8401-22000aa79843   \n",
      "4  103.109.14.156     None      None  94b855bf-acc8-44b0-9c1d-cdff7f07f63d   \n",
      "\n",
      "    ...   mx_Type_of_Source mx_Manager mx_Referrer_Name mx_Referrer_Email  \\\n",
      "0   ...                None       None             None              None   \n",
      "1   ...                None     Anurag             None              None   \n",
      "2   ...                None     Anurag             None              None   \n",
      "3   ...                None     Anurag             None              None   \n",
      "4   ...                None       None             None              None   \n",
      "\n",
      "  mx_Referrer_Phone IsStarredLead IsTaggedLead CanUpdate  Total LeadAge  \n",
      "0              None         false            0      true  97230       4  \n",
      "1              None         false            0      true  97230      60  \n",
      "2              None         false            0      true  97230       1  \n",
      "3              None         false            0      true  97230     212  \n",
      "4              None         false            0      true  97230      11  \n",
      "\n",
      "[5 rows x 132 columns]\n",
      "<class 'pandas.core.frame.DataFrame'>\n",
      "RangeIndex: 97240 entries, 0 to 97239\n",
      "Columns: 132 entries, ProspectActivityDate_Min to LeadAge\n",
      "dtypes: object(132)\n",
      "memory usage: 97.9+ MB\n",
      "None\n"
     ]
    }
   ],
   "source": [
    "num_records = len(data['Leads'])\n",
    "print(num_records)\n",
    "\n",
    "num_columns = len(data['Leads'][0]['LeadPropertyList'])\n",
    "\n",
    "lead_properties = data['Leads'][0]['LeadPropertyList'][0:num_columns]\n",
    "\n",
    "column_names = [lead_properties[column]['Attribute'] for column in range(0,num_columns)]\n",
    "\n",
    "print(\"Column names for the leads.\")\n",
    "print(\"=\" * 100)\n",
    "print(column_names)\n",
    "\n",
    "data_lead = [[data['Leads'][record]['LeadPropertyList'][column]['Value'] for column in range(num_columns)] for record in range(num_records)]\n",
    "\n",
    "lead_df = pd.DataFrame(columns = column_names, data = data_lead)\n",
    "\n",
    "lead_df.rename(columns={'EmailAddress': 'distinct_id'}, inplace=True)\n",
    "\n",
    "print(lead_df.head())\n",
    "\n",
    "print(lead_df.info())\n",
    "\n"
   ]
  },
  {
   "cell_type": "code",
   "execution_count": 8,
   "metadata": {},
   "outputs": [
    {
     "name": "stdout",
     "output_type": "stream",
     "text": [
      "<class 'pandas.core.frame.DataFrame'>\n",
      "RangeIndex: 32914 entries, 0 to 32913\n",
      "Data columns (total 28 columns):\n",
      "Unnamed: 0                  32914 non-null int64\n",
      "id                          32914 non-null object\n",
      "event                       32914 non-null object\n",
      "utm_content                 75 non-null object\n",
      "browser_version             20399 non-null float64\n",
      "search_engine               8866 non-null object\n",
      "city                        19271 non-null object\n",
      "initial_referring_domain    20544 non-null object\n",
      "lib_version                 20544 non-null object\n",
      "utm_medium                  7504 non-null object\n",
      "browser                     20544 non-null object\n",
      "screen_width                20544 non-null float64\n",
      "initial_referrer            20544 non-null object\n",
      "utm_campaign                7467 non-null object\n",
      "time                        32914 non-null int64\n",
      "current_url                 20544 non-null object\n",
      "distinct_id                 32914 non-null object\n",
      "utm_source                  7555 non-null object\n",
      "device                      5667 non-null object\n",
      "mp_country_code             20512 non-null object\n",
      "referrer                    15666 non-null object\n",
      "region                      19360 non-null object\n",
      "mp_lib                      20544 non-null object\n",
      "mp_processing_time_ms       13258 non-null object\n",
      "referring_domain            15666 non-null object\n",
      "os                          20540 non-null object\n",
      "screen_height               20544 non-null float64\n",
      "is_valid_email              32914 non-null bool\n",
      "dtypes: bool(1), float64(3), int64(2), object(22)\n",
      "memory usage: 6.8+ MB\n",
      "None\n"
     ]
    }
   ],
   "source": [
    "print(mp_data.info())\n",
    "common_data = pd.merge(lead_df, mp_data, on='distinct_id')"
   ]
  },
  {
   "cell_type": "code",
   "execution_count": 9,
   "metadata": {},
   "outputs": [
    {
     "name": "stdout",
     "output_type": "stream",
     "text": [
      "<class 'pandas.core.frame.DataFrame'>\n",
      "Int64Index: 23827 entries, 0 to 23826\n",
      "Columns: 159 entries, ProspectActivityDate_Min to is_valid_email\n",
      "dtypes: bool(1), float64(3), int64(2), object(153)\n",
      "memory usage: 28.9+ MB\n",
      "None\n"
     ]
    }
   ],
   "source": [
    "print(common_data.info())"
   ]
  },
  {
   "cell_type": "code",
   "execution_count": 10,
   "metadata": {},
   "outputs": [],
   "source": [
    "common_data.to_csv('/home/monica/l_m_data.csv')"
   ]
  },
  {
   "cell_type": "code",
   "execution_count": null,
   "metadata": {},
   "outputs": [],
   "source": []
  }
 ],
 "metadata": {
  "kernelspec": {
   "display_name": "Python 3",
   "language": "python",
   "name": "python3"
  },
  "language_info": {
   "codemirror_mode": {
    "name": "ipython",
    "version": 3
   },
   "file_extension": ".py",
   "mimetype": "text/x-python",
   "name": "python",
   "nbconvert_exporter": "python",
   "pygments_lexer": "ipython3",
   "version": "3.6.6"
  }
 },
 "nbformat": 4,
 "nbformat_minor": 2
}
