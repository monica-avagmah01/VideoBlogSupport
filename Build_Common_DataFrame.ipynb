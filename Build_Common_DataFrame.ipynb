{
 "cells": [
  {
   "cell_type": "code",
   "execution_count": 1,
   "metadata": {},
   "outputs": [
    {
     "name": "stderr",
     "output_type": "stream",
     "text": [
      "/home/monica/anaconda3/lib/python3.6/site-packages/sklearn/ensemble/weight_boosting.py:29: DeprecationWarning: numpy.core.umath_tests is an internal NumPy module and should not be imported. It will be removed in a future NumPy release.\n",
      "  from numpy.core.umath_tests import inner1d\n"
     ]
    }
   ],
   "source": [
    "import pandas as pd\n",
    "import json\n",
    "from pprint import pprint\n",
    "import numpy as np\n",
    "import matplotlib.pyplot as plt\n",
    "import datetime as dt\n",
    "import seaborn as sns\n",
    "from sklearn.preprocessing import StandardScaler\n",
    "from sklearn import metrics\n",
    "from sklearn.metrics import r2_score\n",
    "from sklearn.model_selection import train_test_split\n",
    "from sklearn.linear_model import LogisticRegression\n",
    "from sklearn.ensemble import RandomForestClassifier\n",
    "\n",
    "\n",
    "%matplotlib inline\n",
    "\n",
    "with open('/home/monica/leads_leadsq.json') as data_file:\n",
    "   data = json.load(data_file)\n"
   ]
  },
  {
   "cell_type": "code",
   "execution_count": 2,
   "metadata": {},
   "outputs": [
    {
     "name": "stderr",
     "output_type": "stream",
     "text": [
      "/home/monica/anaconda3/lib/python3.6/site-packages/IPython/core/interactiveshell.py:2785: DtypeWarning: Columns (3) have mixed types. Specify dtype option on import or set low_memory=False.\n",
      "  interactivity=interactivity, compiler=compiler, result=result)\n"
     ]
    }
   ],
   "source": [
    "mp_data = pd.read_csv('/home/monica/iPythonNotebooks/mixpanel_leads_29_sep_2018.csv')"
   ]
  },
  {
   "cell_type": "code",
   "execution_count": 3,
   "metadata": {},
   "outputs": [
    {
     "name": "stdout",
     "output_type": "stream",
     "text": [
      "97240\n",
      "Column names for the leads.\n",
      "====================================================================================================\n",
      "['ProspectActivityDate_Min', 'Web_Referrer', 'Web_RefKeyword', 'LeadLastModifiedOn', 'ConversionReferrerURL', 'SourceReferrerURL', 'SourceIPAddress', 'Latitude', 'Longitude', 'ProspectID', 'ProspectAutoId', 'ProspectActivityId_Max', 'ProspectActivityId_Min', 'StatusCode', 'StatusReason', 'DeletionStatusCode', 'RelatedProspectId', 'SourceReferrer', 'NotableEvent', 'NotableEventdate', 'LastVisitDate', 'RelatedLandingPageId', 'FirstLandingPageSubmissionId', 'FirstLandingPageSubmissionDate', 'ProspectActivityName_Max', 'ProspectActivityDate_Max', 'FirstName', 'LastName', 'EmailAddress', 'Phone', 'Company', 'Website', 'DoNotTrack', 'DoNotEmail', 'DoNotCall', 'Source', 'Mobile', 'SourceCampaign', 'SourceMedium', 'JobTitle', 'SourceContent', 'Notes', 'Score', 'EngagementScore', 'Revenue', 'ProspectStage', 'QualityScore01', 'OwnerId', 'CreatedBy', 'CreatedByName', 'CreatedOn', 'LeadConversionDate', 'ModifiedBy', 'ModifiedByName', 'ModifiedOn', 'TimeZone', 'TotalVisits', 'PageViewsPerVisit', 'AvgTimePerVisit', 'mx_Street1', 'mx_Street2', 'mx_City', 'mx_State', 'mx_Country', 'mx_Zip', 'OwnerIdName', 'OwnerIdEmailAddress', 'Origin', 'MailingPreferences', 'Groups', 'TwitterId', 'PhotoUrl', 'FacebookId', 'LinkedInId', 'SkypeId', 'GTalkId', 'GooglePlusId', 'CurrentOptInStatus', 'mx_Alternate_Email', 'OptInDate', 'mx_Industry', 'OptInDetails', 'mx_Gender', 'LastOptInEmailSentDate', 'mx_Date_of_Birth', 'mx_Employee_ID', 'mx_Highest_Qulaification', 'mx_Years_of_Experience', 'mx_Expected_Joining_Date', 'mx_BU', 'mx_SBU', 'mx_Channel', 'mx_Flow', 'mx_Browser', 'mx_Device_Info', 'mx_Preferred_Time_From', 'mx_Preferred_Time_To', 'mx_Category', 'mx_Product_Category', 'mx_Product', 'mx_Expected_Joining', 'mx_Salary', 'mx_Function_Area', 'mx_Division', 'mx_Product_Group', 'mx_Age', 'mx_Center_Name', 'mx_UTM_Term', 'mx_Admission_Number', 'mx_Campaign_ID', 'mx_Lead_ID', 'mx_CallBack_Date_Time', 'mx_Experience_in_Years', 'mx_Alternate_Phone_Number', 'mx_Course_Alt', 'mx_Lead_Type', 'mx_Application_Link', 'mx_Application_Reference_ID', 'mx_Chat_Link', 'mx_Destination_SBU', 'mx_Destination_Product', 'mx_Attendance_Status', 'mx_Type_of_Source', 'mx_Manager', 'mx_Referrer_Name', 'mx_Referrer_Email', 'mx_Referrer_Phone', 'IsStarredLead', 'IsTaggedLead', 'CanUpdate', 'Total', 'LeadAge']\n",
      "  ProspectActivityDate_Min Web_Referrer Web_RefKeyword  \\\n",
      "0  2018-09-24 16:30:53.000         None           None   \n",
      "1  2018-07-30 08:02:48.000         None           None   \n",
      "2  2018-09-28 06:17:14.000         None           None   \n",
      "3  2018-06-13 13:50:13.000         None           None   \n",
      "4  2018-09-17 17:54:23.000         None           None   \n",
      "\n",
      "        LeadLastModifiedOn ConversionReferrerURL SourceReferrerURL  \\\n",
      "0  2018-09-29 06:37:14.000                  None              None   \n",
      "1  2018-09-29 06:37:12.000                  None              None   \n",
      "2  2018-09-29 06:37:11.000                  None              None   \n",
      "3  2018-09-29 06:36:14.000                  None              None   \n",
      "4  2018-09-29 06:36:07.000                  None              None   \n",
      "\n",
      "  SourceIPAddress Latitude Longitude                            ProspectID  \\\n",
      "0            None     None      None  1023ad1e-8979-496d-9f56-6d8b145a7799   \n",
      "1            None     None      None  60d96e9a-3a47-4258-8a76-8a50f4af235a   \n",
      "2            None     None      None  320cab26-4c68-4558-be18-8bb48d3bcda8   \n",
      "3            None     None      None  a80362a9-68e1-11e8-8401-22000aa79843   \n",
      "4  103.109.14.156     None      None  94b855bf-acc8-44b0-9c1d-cdff7f07f63d   \n",
      "\n",
      "    ...   mx_Type_of_Source mx_Manager mx_Referrer_Name mx_Referrer_Email  \\\n",
      "0   ...                None       None             None              None   \n",
      "1   ...                None     Anurag             None              None   \n",
      "2   ...                None     Anurag             None              None   \n",
      "3   ...                None     Anurag             None              None   \n",
      "4   ...                None       None             None              None   \n",
      "\n",
      "  mx_Referrer_Phone IsStarredLead IsTaggedLead CanUpdate  Total LeadAge  \n",
      "0              None         false            0      true  97230       4  \n",
      "1              None         false            0      true  97230      60  \n",
      "2              None         false            0      true  97230       1  \n",
      "3              None         false            0      true  97230     212  \n",
      "4              None         false            0      true  97230      11  \n",
      "\n",
      "[5 rows x 132 columns]\n",
      "<class 'pandas.core.frame.DataFrame'>\n",
      "RangeIndex: 97240 entries, 0 to 97239\n",
      "Columns: 132 entries, ProspectActivityDate_Min to LeadAge\n",
      "dtypes: object(132)\n",
      "memory usage: 97.9+ MB\n",
      "None\n"
     ]
    }
   ],
   "source": [
    "num_records = len(data['Leads'])\n",
    "print(num_records)\n",
    "\n",
    "num_columns = len(data['Leads'][0]['LeadPropertyList'])\n",
    "\n",
    "lead_properties = data['Leads'][0]['LeadPropertyList'][0:num_columns]\n",
    "\n",
    "column_names = [lead_properties[column]['Attribute'] for column in range(0,num_columns)]\n",
    "\n",
    "print(\"Column names for the leads.\")\n",
    "print(\"=\" * 100)\n",
    "print(column_names)\n",
    "\n",
    "data_lead = [[data['Leads'][record]['LeadPropertyList'][column]['Value'] for column in range(num_columns)] for record in range(num_records)]\n",
    "\n",
    "lead_df = pd.DataFrame(columns = column_names, data = data_lead)\n",
    "\n",
    "lead_df.rename(columns={'EmailAddress': 'distinct_id'}, inplace=True)\n",
    "\n",
    "print(lead_df.head())\n",
    "\n",
    "print(lead_df.info())\n",
    "\n"
   ]
  },
  {
   "cell_type": "code",
   "execution_count": 4,
   "metadata": {},
   "outputs": [
    {
     "name": "stdout",
     "output_type": "stream",
     "text": [
      "<class 'pandas.core.frame.DataFrame'>\n",
      "RangeIndex: 32914 entries, 0 to 32913\n",
      "Data columns (total 28 columns):\n",
      "Unnamed: 0                  32914 non-null int64\n",
      "id                          32914 non-null object\n",
      "event                       32914 non-null object\n",
      "utm_content                 75 non-null object\n",
      "browser_version             20399 non-null float64\n",
      "search_engine               8866 non-null object\n",
      "city                        19271 non-null object\n",
      "initial_referring_domain    20544 non-null object\n",
      "lib_version                 20544 non-null object\n",
      "utm_medium                  7504 non-null object\n",
      "browser                     20544 non-null object\n",
      "screen_width                20544 non-null float64\n",
      "initial_referrer            20544 non-null object\n",
      "utm_campaign                7467 non-null object\n",
      "time                        32914 non-null int64\n",
      "current_url                 20544 non-null object\n",
      "distinct_id                 32914 non-null object\n",
      "utm_source                  7555 non-null object\n",
      "device                      5667 non-null object\n",
      "mp_country_code             20512 non-null object\n",
      "referrer                    15666 non-null object\n",
      "region                      19360 non-null object\n",
      "mp_lib                      20544 non-null object\n",
      "mp_processing_time_ms       13258 non-null object\n",
      "referring_domain            15666 non-null object\n",
      "os                          20540 non-null object\n",
      "screen_height               20544 non-null float64\n",
      "is_valid_email              32914 non-null bool\n",
      "dtypes: bool(1), float64(3), int64(2), object(22)\n",
      "memory usage: 6.8+ MB\n",
      "None\n"
     ]
    }
   ],
   "source": [
    "print(mp_data.info())\n",
    "common_data = pd.merge(lead_df, mp_data, on='distinct_id')"
   ]
  },
  {
   "cell_type": "code",
   "execution_count": 5,
   "metadata": {},
   "outputs": [
    {
     "name": "stdout",
     "output_type": "stream",
     "text": [
      "<class 'pandas.core.frame.DataFrame'>\n",
      "Int64Index: 23827 entries, 0 to 23826\n",
      "Columns: 159 entries, ProspectActivityDate_Min to is_valid_email\n",
      "dtypes: bool(1), float64(3), int64(2), object(153)\n",
      "memory usage: 28.9+ MB\n",
      "None\n"
     ]
    }
   ],
   "source": [
    "print(common_data.info())"
   ]
  },
  {
   "cell_type": "code",
   "execution_count": 6,
   "metadata": {},
   "outputs": [],
   "source": [
    "common_data.to_csv('/home/monica/l_m_data.csv')"
   ]
  },
  {
   "cell_type": "code",
   "execution_count": 7,
   "metadata": {},
   "outputs": [],
   "source": [
    "with open('/home/monica/ld_act.json') as data_file:\n",
    "   act_hist_data = json.load(data_file)\n"
   ]
  },
  {
   "cell_type": "code",
   "execution_count": 10,
   "metadata": {},
   "outputs": [
    {
     "name": "stdout",
     "output_type": "stream",
     "text": [
      "{'_id': {'$oid': '5b60209723f18b6a5a344e97'}, 'ProspectActivityId': 'dc88b9fd-3841-4553-9b9a-0537a9c03cc7', 'RelatedProspectId': 'e9708477-335c-44e7-8930-1a7cbe97cf2c', 'ActivityEvent': '179', 'ActivityEventName': 'CallBack-Scheduled', 'ActivityType': '2', 'Score': 1, 'CreatedBy': 'df2c81ac-529f-11e8-8401-22000aa79843', 'CreatedOn': '2018-07-23 14:15:00', 'Data': {'Note': 'rnr', 'Status': '', 'Owner': '', 'mx_Custom_1': '2018-07-24 14:15:00', 'mx_Custom_2': 'Engaged Lead'}}\n",
      "{'_id': {'$oid': '5b60209723f18b6a5a344e98'}, 'ProspectActivityId': 'ad5ebb99-ff4d-4c8e-b968-d297ba1725cc', 'RelatedProspectId': '663c2a81-68df-11e8-8401-22000aa79843', 'ActivityEvent': '179', 'ActivityEventName': 'CallBack-Scheduled', 'ActivityType': '2', 'Score': 1, 'CreatedBy': 'df2c81ac-529f-11e8-8401-22000aa79843', 'CreatedOn': '2018-07-23 14:18:00', 'Data': {'Note': 'rnr', 'Status': '', 'Owner': '', 'mx_Custom_1': '2018-07-24 14:18:00', 'mx_Custom_2': 'Engaged Lead'}}\n",
      "{'_id': {'$oid': '5b60209823f18b6a5a344e99'}, 'ProspectActivityId': 'b0138028-7a39-415a-a459-ec1826cd9e15', 'RelatedProspectId': '663c2a81-68df-11e8-8401-22000aa79843', 'ActivityEvent': '179', 'ActivityEventName': 'CallBack-Scheduled', 'ActivityType': '2', 'Score': 1, 'CreatedBy': 'df2c81ac-529f-11e8-8401-22000aa79843', 'CreatedOn': '2018-07-23 14:20:00', 'Data': {'Note': 'busy', 'Status': '', 'Owner': '', 'mx_Custom_1': '2018-07-24 14:20:00', 'mx_Custom_2': 'Engaged Lead'}}\n",
      "{'_id': {'$oid': '5b60209823f18b6a5a344e9a'}, 'ProspectActivityId': '570ca5cd-a6a6-4f4b-ad61-4cda5595134e', 'RelatedProspectId': '5b13aa69-beba-4590-b3d4-e83e08976acd', 'ActivityEvent': '179', 'ActivityEventName': 'CallBack-Scheduled', 'ActivityType': '2', 'Score': 1, 'CreatedBy': 'df2c81ac-529f-11e8-8401-22000aa79843', 'CreatedOn': '2018-07-23 14:30:00', 'Data': {'Note': 'rnr', 'Status': '', 'Owner': '', 'mx_Custom_1': '2018-07-24 14:30:00', 'mx_Custom_2': 'Engaged Lead'}}\n",
      "{'_id': {'$oid': '5b60209823f18b6a5a344e9b'}, 'ProspectActivityId': '80e09557-d44e-4342-b1ba-36556a45d848', 'RelatedProspectId': '66671e1d-68df-11e8-8401-22000aa79843', 'ActivityEvent': '179', 'ActivityEventName': 'CallBack-Scheduled', 'ActivityType': '2', 'Score': 1, 'CreatedBy': 'df2c81ac-529f-11e8-8401-22000aa79843', 'CreatedOn': '2018-07-23 14:33:00', 'Data': {'Note': 'rnr', 'Status': '', 'Owner': '', 'mx_Custom_1': '2018-07-24 14:33:00', 'mx_Custom_2': 'Engaged Lead'}}\n",
      "{'_id': {'$oid': '5b60209823f18b6a5a344e9c'}, 'ProspectActivityId': '57be9fea-c3c5-4c44-b17f-a0a2695d5b31', 'RelatedProspectId': '356e9090-06fe-44e7-83aa-915f482e1ef3', 'ActivityEvent': '179', 'ActivityEventName': 'CallBack-Scheduled', 'ActivityType': '2', 'Score': 1, 'CreatedBy': 'df2c81ac-529f-11e8-8401-22000aa79843', 'CreatedOn': '2018-07-23 14:36:00', 'Data': {'Note': 'rnr', 'Status': '', 'Owner': '', 'mx_Custom_1': '2018-07-24 14:36:00', 'mx_Custom_2': 'Engaged Lead'}}\n",
      "{'_id': {'$oid': '5b60209823f18b6a5a344e9d'}, 'ProspectActivityId': '682b8179-d89c-4219-9061-2f976cc89165', 'RelatedProspectId': '5e60c5a0-0894-4bba-ae4e-6bb060907833', 'ActivityEvent': '179', 'ActivityEventName': 'CallBack-Scheduled', 'ActivityType': '2', 'Score': 1, 'CreatedBy': 'df2c81ac-529f-11e8-8401-22000aa79843', 'CreatedOn': '2018-07-23 14:47:00', 'Data': {'Note': 'rnr', 'Status': '', 'Owner': '', 'mx_Custom_1': '2018-07-24 14:47:00', 'mx_Custom_2': 'Engaged Lead'}}\n",
      "{'_id': {'$oid': '5b60209823f18b6a5a344e9e'}, 'ProspectActivityId': '26c52a34-800a-4dad-b6ab-fec1847149a1', 'RelatedProspectId': '663f2dfa-68df-11e8-8401-22000aa79843', 'ActivityEvent': '179', 'ActivityEventName': 'CallBack-Scheduled', 'ActivityType': '2', 'Score': 1, 'CreatedBy': 'df2c81ac-529f-11e8-8401-22000aa79843', 'CreatedOn': '2018-07-23 14:49:00', 'Data': {'Note': 'rnr', 'Status': '', 'Owner': '', 'mx_Custom_1': '2018-07-24 14:49:00', 'mx_Custom_2': 'Engaged Lead'}}\n",
      "{'_id': {'$oid': '5b60209823f18b6a5a344e9f'}, 'ProspectActivityId': '13d1e0b3-122a-4bb7-a749-a47a417a3dcb', 'RelatedProspectId': '1ba249c7-5c6d-48ab-9ebc-0b797965d0f3', 'ActivityEvent': '179', 'ActivityEventName': 'CallBack-Scheduled', 'ActivityType': '2', 'Score': 1, 'CreatedBy': 'df2c81ac-529f-11e8-8401-22000aa79843', 'CreatedOn': '2018-07-23 14:55:00', 'Data': {'Note': 'rnr', 'Status': '', 'Owner': '', 'mx_Custom_1': '2018-07-24 14:55:00', 'mx_Custom_2': 'Engaged Lead'}}\n",
      "{'_id': {'$oid': '5b60209823f18b6a5a344ea0'}, 'ProspectActivityId': '7c2950c1-6e9e-407a-aa7e-b90753345390', 'RelatedProspectId': '6eccdb9c-32a8-4156-a99f-a8263ba643b2', 'ActivityEvent': '179', 'ActivityEventName': 'CallBack-Scheduled', 'ActivityType': '2', 'Score': 1, 'CreatedBy': 'df2c81ac-529f-11e8-8401-22000aa79843', 'CreatedOn': '2018-07-23 15:09:00', 'Data': {'Note': 'rnr', 'Status': '', 'Owner': '', 'mx_Custom_1': '2018-07-24 15:09:00', 'mx_Custom_2': 'Engaged Lead'}}\n",
      "{'_id': {'$oid': '5b60209823f18b6a5a344ea1'}, 'ProspectActivityId': '2022f655-2771-4d04-b8ae-169845a6481d', 'RelatedProspectId': '9a0fb469-783f-11e8-b26b-065cc7e2d7e2', 'ActivityEvent': '179', 'ActivityEventName': 'CallBack-Scheduled', 'ActivityType': '2', 'Score': 1, 'CreatedBy': 'df2c81ac-529f-11e8-8401-22000aa79843', 'CreatedOn': '2018-07-23 15:13:00', 'Data': {'Note': 'not responding', 'Status': '', 'Owner': '', 'mx_Custom_1': '2018-07-24 15:13:00', 'mx_Custom_2': 'Engaged Lead'}}\n",
      "{'_id': {'$oid': '5b60209823f18b6a5a344ea2'}, 'ProspectActivityId': '90ee8054-4693-409b-b612-06910f1b9c48', 'RelatedProspectId': '9bf0cf85-4995-4a7a-a241-5057073355a6', 'ActivityEvent': '179', 'ActivityEventName': 'CallBack-Scheduled', 'ActivityType': '2', 'Score': 1, 'CreatedBy': 'df2c81ac-529f-11e8-8401-22000aa79843', 'CreatedOn': '2018-07-23 15:21:00', 'Data': {'Note': 'not reachable', 'Status': '', 'Owner': '', 'mx_Custom_1': '2018-07-24 15:21:00', 'mx_Custom_2': 'Engaged Lead'}}\n",
      "{'_id': {'$oid': '5b60209823f18b6a5a344ea3'}, 'ProspectActivityId': 'da721f01-77ec-47ef-bd48-303e137b1c9d', 'RelatedProspectId': 'a812a752-68e1-11e8-8401-22000aa79843', 'ActivityEvent': '179', 'ActivityEventName': 'CallBack-Scheduled', 'ActivityType': '2', 'Score': 1, 'CreatedBy': 'df2c81ac-529f-11e8-8401-22000aa79843', 'CreatedOn': '2018-07-23 15:27:00', 'Data': {'Note': 'he confirm me on the same', 'Status': '', 'Owner': '', 'mx_Custom_1': '2018-07-28 15:27:00', 'mx_Custom_2': 'Engaged Lead'}}\n",
      "{'_id': {'$oid': '5b60209823f18b6a5a344ea4'}, 'ProspectActivityId': '5f9fb67e-fec6-49d4-adaa-8832e3a89789', 'RelatedProspectId': '0886e11b-eb59-44d0-93e1-cf66f821491c', 'ActivityEvent': '179', 'ActivityEventName': 'CallBack-Scheduled', 'ActivityType': '2', 'Score': 1, 'CreatedBy': 'df2c81ac-529f-11e8-8401-22000aa79843', 'CreatedOn': '2018-07-23 15:32:00', 'Data': {'Note': '30% discount told will connect back on the same tmrw mrg between 10 to 11', 'Status': '', 'Owner': '', 'mx_Custom_1': '2018-07-24 16:32:00', 'mx_Custom_2': 'Engaged Lead'}}\n",
      "{'_id': {'$oid': '5b60209823f18b6a5a344ea5'}, 'ProspectActivityId': '8f443ee3-9895-41f9-ac26-de78a5b842da', 'RelatedProspectId': 'ca2649ab-f501-4418-8e08-b64a0932e62c', 'ActivityEvent': '179', 'ActivityEventName': 'CallBack-Scheduled', 'ActivityType': '2', 'Score': 1, 'CreatedBy': '7312f81d-4f87-11e8-8401-22000aa79843', 'CreatedOn': '2018-07-23 16:27:00', 'Data': {'Note': 'Interested spoke to her she said me to callback and offered her $1299 and sent her a PayPal invoice and she will do it', 'Status': '', 'Owner': '', 'mx_Custom_1': '2018-07-23 16:27:00', 'mx_Custom_2': 'Hot Lead'}}\n",
      "{'_id': {'$oid': '5b60209823f18b6a5a344ea6'}, 'ProspectActivityId': 'a4d057ff-9f18-4670-959b-83a3bb370224', 'RelatedProspectId': '5f1a3bc1-ead9-47e7-9726-d7fdec83e62a', 'ActivityEvent': '157', 'ActivityEventName': 'CallBack-NotScheduled', 'ActivityType': '2', 'CreatedBy': '5d500a13-4f87-11e8-8401-22000aa79843', 'CreatedOn': '2018-07-23 16:52:00', 'Data': {'Note': 'None', 'Status': '', 'Owner': '', 'mx_Custom_1': '2018-07-25 16:53:00', 'mx_Custom_2': 'Hot Lead'}}\n",
      "{'_id': {'$oid': '5b60209823f18b6a5a344ea7'}, 'ProspectActivityId': '8f443ee3-9895-41f9-ac26-de78a5b842da', 'RelatedProspectId': 'ca2649ab-f501-4418-8e08-b64a0932e62c', 'ActivityEvent': '179', 'ActivityEventName': 'CallBack-Scheduled', 'ActivityType': '2', 'Score': 1, 'CreatedBy': '7312f81d-4f87-11e8-8401-22000aa79843', 'CreatedOn': '2018-07-23 16:27:00', 'Data': {'Note': 'Interested spoke to her she said me to callback and offered her $1299 and sent her a PayPal invoice and she will do it', 'Status': '', 'Owner': '', 'mx_Custom_1': '2018-07-23 16:27:00', 'mx_Custom_2': 'Hot Lead'}}\n",
      "{'_id': {'$oid': '5b60209823f18b6a5a344ea8'}, 'ProspectActivityId': '832d4eb2-8a34-4ecd-9943-3ff7612e0ad0', 'RelatedProspectId': '5f1a3bc1-ead9-47e7-9726-d7fdec83e62a', 'ActivityEvent': '179', 'ActivityEventName': 'CallBack-Scheduled', 'ActivityType': '2', 'Score': 1, 'CreatedBy': '5d500a13-4f87-11e8-8401-22000aa79843', 'CreatedOn': '2018-07-23 16:41:00', 'Data': {'Note': 'Explained in detail, He is Interested offered him $1,245, Email sent he will update me tomorrow 24th,\\r\\n', 'Status': '', 'Owner': '', 'mx_Custom_1': '2018-07-25 16:52:00', 'mx_Custom_2': 'Hot Lead'}}\n",
      "{'_id': {'$oid': '5b60209823f18b6a5a344ea9'}, 'ProspectActivityId': '025a5484-7a51-47d6-bab4-a58f08db54c3', 'RelatedProspectId': 'c6b0d365-6b1e-11e8-8401-22000aa79843', 'ActivityEvent': '179', 'ActivityEventName': 'CallBack-Scheduled', 'ActivityType': '2', 'Score': 1, 'CreatedBy': '7c091293-4f87-11e8-8401-22000aa79843', 'CreatedOn': '2018-07-23 18:37:00', 'Data': {'Note': 'Asked me to call back later in the day. send email.', 'Status': '', 'Owner': '', 'mx_Custom_1': '2018-07-23 22:38:00', 'mx_Custom_2': 'Engaged Lead'}}\n",
      "{'_id': {'$oid': '5b60209823f18b6a5a344eaa'}, 'ProspectActivityId': 'b11ff157-898f-4682-9b6c-c79bfbe181a5', 'RelatedProspectId': 'a5b98563-ff58-4f9e-ab3d-3a673742429f', 'ActivityEvent': '157', 'ActivityEventName': 'CallBack-NotScheduled', 'ActivityType': '2', 'CreatedBy': '7312f81d-4f87-11e8-8401-22000aa79843', 'CreatedOn': '2018-07-23 18:41:00', 'Data': {'Note': 'Tried calling but VM', 'Status': '', 'Owner': '', 'mx_Custom_1': '2018-07-31 18:41:00', 'mx_Custom_2': 'Engaged Lead'}}\n",
      "{'_id': {'$oid': '5b60209823f18b6a5a344eab'}, 'ProspectActivityId': '025a5484-7a51-47d6-bab4-a58f08db54c3', 'RelatedProspectId': 'c6b0d365-6b1e-11e8-8401-22000aa79843', 'ActivityEvent': '179', 'ActivityEventName': 'CallBack-Scheduled', 'ActivityType': '2', 'Score': 1, 'CreatedBy': '7c091293-4f87-11e8-8401-22000aa79843', 'CreatedOn': '2018-07-23 18:37:00', 'Data': {'Note': 'Asked me to call back later in the day. send email.', 'Status': '', 'Owner': '', 'mx_Custom_1': '2018-07-23 22:38:00', 'mx_Custom_2': 'Engaged Lead'}}\n",
      "{'_id': {'$oid': '5b60209823f18b6a5a344eac'}, 'ProspectActivityId': '76a7bd44-c576-49a8-bbc8-9eabcb318c01', 'RelatedProspectId': 'a5bdf653-e7cb-440b-a9a1-286b14fc52e6', 'ActivityEvent': '157', 'ActivityEventName': 'CallBack-NotScheduled', 'ActivityType': '2', 'CreatedBy': '7c091293-4f87-11e8-8401-22000aa79843', 'CreatedOn': '2018-07-23 18:41:00', 'Data': {'Note': 'Emailed & left voicemail', 'Status': '', 'Owner': '', 'mx_Custom_1': '2018-08-12 18:41:00', 'mx_Custom_2': 'Engaged Lead'}}\n",
      "{'_id': {'$oid': '5b60209823f18b6a5a344ead'}, 'ProspectActivityId': '86b8c57d-5f32-4379-be95-d5074ef49418', 'RelatedProspectId': 'a7dc4eb0-68e1-11e8-8401-22000aa79843', 'ActivityEvent': '179', 'ActivityEventName': 'CallBack-Scheduled', 'ActivityType': '2', 'Score': 1, 'CreatedBy': '5d500a13-4f87-11e8-8401-22000aa79843', 'CreatedOn': '2018-07-23 18:42:00', 'Data': {'Note': 'Vm,EMail sent', 'Status': '', 'Owner': '', 'mx_Custom_1': '2018-07-30 18:42:00', 'mx_Custom_2': 'Engaged Lead'}}\n",
      "{'_id': {'$oid': '5b60209823f18b6a5a344eae'}, 'ProspectActivityId': 'f64d06f2-4f10-4f07-a3b3-56b932531733', 'RelatedProspectId': 'af3a83af-235a-47bd-ad3c-42d01b1eaecc', 'ActivityEvent': '157', 'ActivityEventName': 'CallBack-NotScheduled', 'ActivityType': '2', 'CreatedBy': '7c091293-4f87-11e8-8401-22000aa79843', 'CreatedOn': '2018-07-23 18:46:00', 'Data': {'Note': 'Emailed & voicemail', 'Status': '', 'Owner': '', 'mx_Custom_1': '2018-08-15 18:46:00', 'mx_Custom_2': 'Engaged Lead'}}\n",
      "{'_id': {'$oid': '5b60209823f18b6a5a344eaf'}, 'ProspectActivityId': '86b8c57d-5f32-4379-be95-d5074ef49418', 'RelatedProspectId': 'a7dc4eb0-68e1-11e8-8401-22000aa79843', 'ActivityEvent': '179', 'ActivityEventName': 'CallBack-Scheduled', 'ActivityType': '2', 'Score': 1, 'CreatedBy': '5d500a13-4f87-11e8-8401-22000aa79843', 'CreatedOn': '2018-07-23 18:42:00', 'Data': {'Note': 'Vm,EMail sent', 'Status': '', 'Owner': '', 'mx_Custom_1': '2018-07-30 18:42:00', 'mx_Custom_2': 'Engaged Lead'}}\n",
      "{'_id': {'$oid': '5b60209823f18b6a5a344eb0'}, 'ProspectActivityId': '234d3209-12fa-430f-a169-c3c14cf44917', 'RelatedProspectId': 'abac2e14-408a-43fb-94d5-acecd70e7605', 'ActivityEvent': '157', 'ActivityEventName': 'CallBack-NotScheduled', 'ActivityType': '2', 'CreatedBy': '7c091293-4f87-11e8-8401-22000aa79843', 'CreatedOn': '2018-07-23 18:49:00', 'Data': {'Note': 'Emailed & Left voicemail', 'Status': '', 'Owner': '', 'mx_Custom_1': '2018-08-15 18:49:00', 'mx_Custom_2': 'Engaged Lead'}}\n",
      "{'_id': {'$oid': '5b60209823f18b6a5a344eb1'}, 'ProspectActivityId': '56a98eaa-e33f-4d34-8575-53bc32b5df1f', 'RelatedProspectId': '814c180d-61f7-45cb-be3b-49053e9fc1b7', 'ActivityEvent': '157', 'ActivityEventName': 'CallBack-NotScheduled', 'ActivityType': '2', 'CreatedBy': '7312f81d-4f87-11e8-8401-22000aa79843', 'CreatedOn': '2018-07-23 18:50:00', 'Data': {'Note': 'Interested spoke to him he said he will be enrolling for  nov or dec batch , Email sent', 'Status': '', 'Owner': '', 'mx_Custom_1': '2018-07-30 18:50:00', 'mx_Custom_2': 'Interested Next Batch'}}\n",
      "{'_id': {'$oid': '5b60209823f18b6a5a344eb2'}, 'ProspectActivityId': '697094cc-8dd0-415e-9132-08264f690f3c', 'RelatedProspectId': 'c29f2609-64c3-4fe1-9d7e-89f78e3d06b6', 'ActivityEvent': '157', 'ActivityEventName': 'CallBack-NotScheduled', 'ActivityType': '2', 'CreatedBy': '5d500a13-4f87-11e8-8401-22000aa79843', 'CreatedOn': '2018-07-23 18:52:00', 'Data': {'Note': 'None', 'Status': '', 'Owner': '', 'mx_Custom_1': '2018-07-31 18:52:00', 'mx_Custom_2': 'Engaged Lead'}}\n",
      "{'_id': {'$oid': '5b60209823f18b6a5a344eb3'}, 'ProspectActivityId': '3380713b-96e9-49b4-b813-66fa1e489db2', 'RelatedProspectId': 'c29f2609-64c3-4fe1-9d7e-89f78e3d06b6', 'ActivityEvent': '157', 'ActivityEventName': 'CallBack-NotScheduled', 'ActivityType': '2', 'CreatedBy': '5d500a13-4f87-11e8-8401-22000aa79843', 'CreatedOn': '2018-07-23 18:51:00', 'Data': {'Note': 'VM, Email sent,', 'Status': '', 'Owner': '', 'mx_Custom_1': '2018-07-30 18:51:00', 'mx_Custom_2': 'Engaged Lead'}}\n",
      "{'_id': {'$oid': '5b60209823f18b6a5a344eb4'}, 'ProspectActivityId': '1045d8cb-80a5-4771-abe6-6ef5cfb54692', 'RelatedProspectId': 'df476a88-cc05-4233-8c94-fd08097ebb08', 'ActivityEvent': '157', 'ActivityEventName': 'CallBack-NotScheduled', 'ActivityType': '2', 'CreatedBy': '7c091293-4f87-11e8-8401-22000aa79843', 'CreatedOn': '2018-07-23 18:52:00', 'Data': {'Note': 'Emailed & Left Voicemail', 'Status': '', 'Owner': '', 'mx_Custom_1': '2018-08-15 18:52:00', 'mx_Custom_2': 'Engaged Lead'}}\n",
      "{'_id': {'$oid': '5b60209823f18b6a5a344eb5'}, 'ProspectActivityId': '454dbbfe-74d6-4a9b-acd8-086310f675e8', 'RelatedProspectId': 'ecf003b9-ce2c-412f-badb-988ba6b6585f', 'ActivityEvent': '157', 'ActivityEventName': 'CallBack-NotScheduled', 'ActivityType': '2', 'CreatedBy': '7c091293-4f87-11e8-8401-22000aa79843', 'CreatedOn': '2018-07-23 18:54:00', 'Data': {'Note': 'Emailed & Left Voicemail', 'Status': '', 'Owner': '', 'mx_Custom_1': '2018-08-15 18:54:00', 'mx_Custom_2': 'Engaged Lead'}}\n",
      "{'_id': {'$oid': '5b60209823f18b6a5a344eb6'}, 'ProspectActivityId': 'e367f362-39fb-4153-8cb3-4b512f4312d1', 'RelatedProspectId': '1dcfd0aa-2df3-4c4b-b4c8-141f0de411b1', 'ActivityEvent': '157', 'ActivityEventName': 'CallBack-NotScheduled', 'ActivityType': '2', 'CreatedBy': '7c091293-4f87-11e8-8401-22000aa79843', 'CreatedOn': '2018-07-23 18:57:00', 'Data': {'Note': 'Emailed & Left Voicemail', 'Status': '', 'Owner': '', 'mx_Custom_1': '2018-08-15 18:57:00', 'mx_Custom_2': 'Engaged Lead'}}\n",
      "{'_id': {'$oid': '5b60209823f18b6a5a344eb7'}, 'ProspectActivityId': '51f11f68-c264-48bd-b757-c3228dfada39', 'RelatedProspectId': '964becc5-b0ec-403b-bbbd-7cb641cfd8a4', 'ActivityEvent': '157', 'ActivityEventName': 'CallBack-NotScheduled', 'ActivityType': '2', 'CreatedBy': '7c091293-4f87-11e8-8401-22000aa79843', 'CreatedOn': '2018-07-23 18:59:00', 'Data': {'Note': 'Emailed & Left Voicemail', 'Status': '', 'Owner': '', 'mx_Custom_1': '2018-08-15 18:59:00', 'mx_Custom_2': 'Engaged Lead'}}\n",
      "{'_id': {'$oid': '5b60209823f18b6a5a344eb8'}, 'ProspectActivityId': '01a7ee51-dc4c-4d28-b4ae-891a96a0dd06', 'RelatedProspectId': '9ddb24f0-4b83-49ae-a4ce-4b529c134da1', 'ActivityEvent': '157', 'ActivityEventName': 'CallBack-NotScheduled', 'ActivityType': '2', 'CreatedBy': '7c091293-4f87-11e8-8401-22000aa79843', 'CreatedOn': '2018-07-23 19:01:00', 'Data': {'Note': 'Emailed & Left Voicemail', 'Status': '', 'Owner': '', 'mx_Custom_1': '2018-08-15 19:01:00', 'mx_Custom_2': 'Engaged Lead'}}\n",
      "{'_id': {'$oid': '5b60209823f18b6a5a344eb9'}, 'ProspectActivityId': '88aecbf5-0efe-408e-9cab-1ab7f1545a93', 'RelatedProspectId': '404a73ea-3037-4a3b-8c94-277a6933c2c5', 'ActivityEvent': '157', 'ActivityEventName': 'CallBack-NotScheduled', 'ActivityType': '2', 'CreatedBy': '7312f81d-4f87-11e8-8401-22000aa79843', 'CreatedOn': '2018-07-23 19:01:00', 'Data': {'Note': 'Tried calling but VM', 'Status': '', 'Owner': '', 'mx_Custom_1': '2018-07-30 19:01:00', 'mx_Custom_2': 'Engaged Lead'}}\n",
      "{'_id': {'$oid': '5b60209823f18b6a5a344eba'}, 'ProspectActivityId': '40bdfc0b-7187-495a-b7e3-e3a26ad4f386', 'RelatedProspectId': '1f42d02b-d04e-4c1b-b859-9dc3dc171411', 'ActivityEvent': '179', 'ActivityEventName': 'CallBack-Scheduled', 'ActivityType': '2', 'Score': 1, 'CreatedBy': '5d500a13-4f87-11e8-8401-22000aa79843', 'CreatedOn': '2018-07-23 18:59:00', 'Data': {'Note': 'Spoke to him explained him, He wanted In class training but explained him the advantage of online, He said me to cb on  30th for feed back, Email sent.', 'Status': '', 'Owner': '', 'mx_Custom_1': '2018-07-29 19:02:00', 'mx_Custom_2': 'Warm Lead'}}\n",
      "{'_id': {'$oid': '5b60209823f18b6a5a344ebb'}, 'ProspectActivityId': '1379d629-5efd-4454-93e0-cf3be678554f', 'RelatedProspectId': '818ea3a3-d729-489b-b418-e58b4ccfc345', 'ActivityEvent': '157', 'ActivityEventName': 'CallBack-NotScheduled', 'ActivityType': '2', 'CreatedBy': '7c091293-4f87-11e8-8401-22000aa79843', 'CreatedOn': '2018-07-23 19:02:00', 'Data': {'Note': 'Emailed & Left Voicemail', 'Status': '', 'Owner': '', 'mx_Custom_1': '2018-08-15 19:02:00', 'mx_Custom_2': 'Engaged Lead'}}\n",
      "{'_id': {'$oid': '5b60209823f18b6a5a344ebc'}, 'ProspectActivityId': '40bdfc0b-7187-495a-b7e3-e3a26ad4f386', 'RelatedProspectId': '1f42d02b-d04e-4c1b-b859-9dc3dc171411', 'ActivityEvent': '179', 'ActivityEventName': 'CallBack-Scheduled', 'ActivityType': '2', 'Score': 1, 'CreatedBy': '5d500a13-4f87-11e8-8401-22000aa79843', 'CreatedOn': '2018-07-23 18:59:00', 'Data': {'Note': 'Spoke to him explained him, He wanted In class training but explained him the advantage of online, He said me to cb on  30th for feed back, Email sent.', 'Status': '', 'Owner': '', 'mx_Custom_1': '2018-07-29 19:02:00', 'mx_Custom_2': 'Warm Lead'}}\n",
      "{'_id': {'$oid': '5b60209823f18b6a5a344ebd'}, 'ProspectActivityId': '65f14c7f-8b42-4b4b-9a42-3ae2ee3eed0f', 'RelatedProspectId': '1f42d02b-d04e-4c1b-b859-9dc3dc171411', 'ActivityEvent': '179', 'ActivityEventName': 'CallBack-Scheduled', 'ActivityType': '2', 'Score': 1, 'CreatedBy': '5d500a13-4f87-11e8-8401-22000aa79843', 'CreatedOn': '2018-07-23 19:03:00', 'Data': {'Note': 'None', 'Status': '', 'Owner': '', 'mx_Custom_1': '2018-07-29 19:03:00', 'mx_Custom_2': 'Warm Lead'}}\n",
      "{'_id': {'$oid': '5b60209823f18b6a5a344ebe'}, 'ProspectActivityId': '195a0cb0-ab22-4617-8b0a-e9d023fb8ea5', 'RelatedProspectId': '6fd1daf6-d26b-4667-96a2-73c3a4426a57', 'ActivityEvent': '157', 'ActivityEventName': 'CallBack-NotScheduled', 'ActivityType': '2', 'CreatedBy': '7c091293-4f87-11e8-8401-22000aa79843', 'CreatedOn': '2018-07-23 19:04:00', 'Data': {'Note': 'Emailed & Left Voicemail', 'Status': '', 'Owner': '', 'mx_Custom_1': '2018-08-15 19:04:00', 'mx_Custom_2': 'Engaged Lead'}}\n",
      "{'_id': {'$oid': '5b60209823f18b6a5a344ebf'}, 'ProspectActivityId': '65f14c7f-8b42-4b4b-9a42-3ae2ee3eed0f', 'RelatedProspectId': '1f42d02b-d04e-4c1b-b859-9dc3dc171411', 'ActivityEvent': '179', 'ActivityEventName': 'CallBack-Scheduled', 'ActivityType': '2', 'Score': 1, 'CreatedBy': '5d500a13-4f87-11e8-8401-22000aa79843', 'CreatedOn': '2018-07-23 19:03:00', 'Data': {'Note': 'None', 'Status': '', 'Owner': '', 'mx_Custom_1': '2018-07-29 19:03:00', 'mx_Custom_2': 'Warm Lead'}}\n",
      "{'_id': {'$oid': '5b60209823f18b6a5a344ec0'}, 'ProspectActivityId': '6bd84f7f-8233-4023-91ea-ec9097e7183c', 'RelatedProspectId': '64906ce3-886a-4994-aceb-ed98eb8af749', 'ActivityEvent': '157', 'ActivityEventName': 'CallBack-NotScheduled', 'ActivityType': '2', 'CreatedBy': '5d500a13-4f87-11e8-8401-22000aa79843', 'CreatedOn': '2018-07-23 19:05:00', 'Data': {'Note': 'None', 'Status': '', 'Owner': '', 'mx_Custom_1': '2018-07-30 19:05:00', 'mx_Custom_2': 'Engaged Lead'}}\n",
      "{'_id': {'$oid': '5b60209823f18b6a5a344ec1'}, 'ProspectActivityId': '7156ac39-6ee6-4035-a774-06c9fb91020c', 'RelatedProspectId': '64906ce3-886a-4994-aceb-ed98eb8af749', 'ActivityEvent': '157', 'ActivityEventName': 'CallBack-NotScheduled', 'ActivityType': '2', 'CreatedBy': '5d500a13-4f87-11e8-8401-22000aa79843', 'CreatedOn': '2018-07-23 19:05:00', 'Data': {'Note': 'VM, Email sent,', 'Status': '', 'Owner': '', 'mx_Custom_1': '2018-07-24 19:05:00', 'mx_Custom_2': 'Engaged Lead'}}\n",
      "{'_id': {'$oid': '5b60209823f18b6a5a344ec2'}, 'ProspectActivityId': 'ceac041f-64cb-45fa-a0ba-0b0783af49e3', 'RelatedProspectId': 'f8ad779c-3328-4c12-8019-35e047e8805f', 'ActivityEvent': '157', 'ActivityEventName': 'CallBack-NotScheduled', 'ActivityType': '2', 'CreatedBy': '51e63ede-4f87-11e8-8401-22000aa79843', 'CreatedOn': '2018-07-23 19:05:00', 'Data': {'Note': 'Callback tomorrow to know the status, he is interested and explained everything in detail, quoted $999 in two part payments, he will update me tomorrow.', 'Status': '', 'Owner': '', 'mx_Custom_1': '2018-07-24 16:05:00', 'mx_Custom_2': 'Warm Lead'}}\n",
      "{'_id': {'$oid': '5b60209823f18b6a5a344ec3'}, 'ProspectActivityId': 'd491c210-54b5-4463-b75f-5f747c456e2a', 'RelatedProspectId': 'f1737573-5a3f-4178-9c41-ff8a6bee2c6c', 'ActivityEvent': '157', 'ActivityEventName': 'CallBack-NotScheduled', 'ActivityType': '2', 'CreatedBy': '7c091293-4f87-11e8-8401-22000aa79843', 'CreatedOn': '2018-07-23 19:06:00', 'Data': {'Note': 'Emailed & Left Voicemail', 'Status': '', 'Owner': '', 'mx_Custom_1': '2018-08-15 19:06:00', 'mx_Custom_2': 'Engaged Lead'}}\n",
      "{'_id': {'$oid': '5b60209823f18b6a5a344ec4'}, 'ProspectActivityId': '679ab4d1-d0a0-41be-a046-2887731c866e', 'RelatedProspectId': 'e9a18730-0d78-4617-8db3-a3cffd082d15', 'ActivityEvent': '157', 'ActivityEventName': 'CallBack-NotScheduled', 'ActivityType': '2', 'CreatedBy': '7c091293-4f87-11e8-8401-22000aa79843', 'CreatedOn': '2018-07-23 19:07:00', 'Data': {'Note': 'Emailed & Left Voicemail', 'Status': '', 'Owner': '', 'mx_Custom_1': '2018-08-15 19:07:00', 'mx_Custom_2': 'Engaged Lead'}}\n",
      "{'_id': {'$oid': '5b60209823f18b6a5a344ec5'}, 'ProspectActivityId': '35267fed-a623-43e0-b34b-233167ad6ffa', 'RelatedProspectId': '3153a42d-d72d-46e8-9790-bfc26ff77fd7', 'ActivityEvent': '157', 'ActivityEventName': 'CallBack-NotScheduled', 'ActivityType': '2', 'CreatedBy': '5d500a13-4f87-11e8-8401-22000aa79843', 'CreatedOn': '2018-07-23 19:08:00', 'Data': {'Note': 'VM,Email sent.', 'Status': '', 'Owner': '', 'mx_Custom_1': '2018-07-30 19:08:00', 'mx_Custom_2': 'Engaged Lead'}}\n",
      "{'_id': {'$oid': '5b60209823f18b6a5a344ec6'}, 'ProspectActivityId': '30303fca-41c6-4f7b-b266-881b0200d19f', 'RelatedProspectId': '2aad0fee-8ff3-45c5-813b-857ef70f4171', 'ActivityEvent': '157', 'ActivityEventName': 'CallBack-NotScheduled', 'ActivityType': '2', 'CreatedBy': '5d500a13-4f87-11e8-8401-22000aa79843', 'CreatedOn': '2018-07-23 19:12:00', 'Data': {'Note': 'None', 'Status': '', 'Owner': '', 'mx_Custom_1': '2018-07-30 19:12:00', 'mx_Custom_2': 'Engaged Lead'}}\n",
      "{'_id': {'$oid': '5b60209823f18b6a5a344ec7'}, 'ProspectActivityId': 'd12baff4-64ef-49b0-9f87-ac7654b4ad06', 'RelatedProspectId': '2aad0fee-8ff3-45c5-813b-857ef70f4171', 'ActivityEvent': '157', 'ActivityEventName': 'CallBack-NotScheduled', 'ActivityType': '2', 'CreatedBy': '5d500a13-4f87-11e8-8401-22000aa79843', 'CreatedOn': '2018-07-23 19:11:00', 'Data': {'Note': 'VM,Email sent.', 'Status': '', 'Owner': '', 'mx_Custom_1': '2018-07-30 19:11:00', 'mx_Custom_2': 'Engaged Lead'}}\n",
      "{'_id': {'$oid': '5b60209823f18b6a5a344ec8'}, 'ProspectActivityId': '9f5cbe16-e5d4-44f3-8620-5f18baaa8065', 'RelatedProspectId': '3da67d19-15c0-4d3d-a5a2-3fed5d2762ac', 'ActivityEvent': '157', 'ActivityEventName': 'CallBack-NotScheduled', 'ActivityType': '2', 'CreatedBy': '5d500a13-4f87-11e8-8401-22000aa79843', 'CreatedOn': '2018-07-23 19:14:00', 'Data': {'Note': 'He said busy asked me to send Email. Email sent.', 'Status': '', 'Owner': '', 'mx_Custom_1': '2018-07-30 19:14:00', 'mx_Custom_2': 'Engaged Lead'}}\n",
      "{'_id': {'$oid': '5b60209823f18b6a5a344ec9'}, 'ProspectActivityId': '1ec2ae47-306b-48dc-91a5-f56b2feb6acf', 'RelatedProspectId': '3da67d19-15c0-4d3d-a5a2-3fed5d2762ac', 'ActivityEvent': '157', 'ActivityEventName': 'CallBack-NotScheduled', 'ActivityType': '2', 'CreatedBy': '5d500a13-4f87-11e8-8401-22000aa79843', 'CreatedOn': '2018-07-23 19:15:00', 'Data': {'Note': 'None', 'Status': '', 'Owner': '', 'mx_Custom_1': '2018-07-30 19:16:00', 'mx_Custom_2': 'Engaged Lead'}}\n",
      "{'_id': {'$oid': '5b60209823f18b6a5a344eca'}, 'ProspectActivityId': '055dfa2e-36bb-4483-9e3e-a8d1b7b8ca91', 'RelatedProspectId': '34047560-f5db-4d7f-bf3f-4192e74c2b02', 'ActivityEvent': '157', 'ActivityEventName': 'CallBack-NotScheduled', 'ActivityType': '2', 'CreatedBy': '5d500a13-4f87-11e8-8401-22000aa79843', 'CreatedOn': '2018-07-23 19:18:00', 'Data': {'Note': 'None', 'Status': '', 'Owner': '', 'mx_Custom_1': '2018-07-30 19:18:00', 'mx_Custom_2': 'Engaged Lead'}}\n",
      "{'_id': {'$oid': '5b60209823f18b6a5a344ecb'}, 'ProspectActivityId': '8d39fdf1-28e2-4c67-afee-83f4cb117356', 'RelatedProspectId': '34047560-f5db-4d7f-bf3f-4192e74c2b02', 'ActivityEvent': '157', 'ActivityEventName': 'CallBack-NotScheduled', 'ActivityType': '2', 'CreatedBy': '5d500a13-4f87-11e8-8401-22000aa79843', 'CreatedOn': '2018-07-23 19:17:00', 'Data': {'Note': 'VM,Email sent', 'Status': '', 'Owner': '', 'mx_Custom_1': '2018-07-30 19:17:00', 'mx_Custom_2': 'Engaged Lead'}}\n",
      "{'_id': {'$oid': '5b60209823f18b6a5a344ecc'}, 'ProspectActivityId': 'be672037-2db6-4f6b-8d7e-6fc9435d6a36', 'RelatedProspectId': '9e25c7a8-62a6-4ce5-b20d-fcec1c6be792', 'ActivityEvent': '157', 'ActivityEventName': 'CallBack-NotScheduled', 'ActivityType': '2', 'CreatedBy': '7312f81d-4f87-11e8-8401-22000aa79843', 'CreatedOn': '2018-07-23 19:19:00', 'Data': {'Note': 'Tried calling but VM', 'Status': '', 'Owner': '', 'mx_Custom_1': '2018-07-26 19:19:00', 'mx_Custom_2': 'Engaged Lead'}}\n",
      "{'_id': {'$oid': '5b60209823f18b6a5a344ecd'}, 'ProspectActivityId': 'cec6d538-f2da-4527-a791-ec137b3339de', 'RelatedProspectId': '8149e542-69c4-4743-b8cc-6000dd740b16', 'ActivityEvent': '157', 'ActivityEventName': 'CallBack-NotScheduled', 'ActivityType': '2', 'CreatedBy': '5d500a13-4f87-11e8-8401-22000aa79843', 'CreatedOn': '2018-07-23 19:21:00', 'Data': {'Note': 'None', 'Status': '', 'Owner': '', 'mx_Custom_1': '2018-07-29 19:22:00', 'mx_Custom_2': 'Engaged Lead'}}\n",
      "{'_id': {'$oid': '5b60209823f18b6a5a344ece'}, 'ProspectActivityId': '050cf9c9-8b0f-414e-ada5-4f4cbbea2dfe', 'RelatedProspectId': '8149e542-69c4-4743-b8cc-6000dd740b16', 'ActivityEvent': '157', 'ActivityEventName': 'CallBack-NotScheduled', 'ActivityType': '2', 'CreatedBy': '5d500a13-4f87-11e8-8401-22000aa79843', 'CreatedOn': '2018-07-23 19:21:00', 'Data': {'Note': 'VM, Email sent.', 'Status': '', 'Owner': '', 'mx_Custom_1': '2018-07-30 19:21:00', 'mx_Custom_2': 'Engaged Lead'}}\n",
      "{'_id': {'$oid': '5b60209823f18b6a5a344ecf'}, 'ProspectActivityId': '5ba14e54-e23a-4b75-ae51-d459c79ea5cb', 'RelatedProspectId': 'fde514a7-d427-4c63-a3de-68b2a4412fa2', 'ActivityEvent': '157', 'ActivityEventName': 'CallBack-NotScheduled', 'ActivityType': '2', 'CreatedBy': '5d500a13-4f87-11e8-8401-22000aa79843', 'CreatedOn': '2018-07-23 19:24:00', 'Data': {'Note': 'Vm, Email sent.', 'Status': '', 'Owner': '', 'mx_Custom_1': '2018-07-30 19:24:00', 'mx_Custom_2': 'Engaged Lead'}}\n",
      "{'_id': {'$oid': '5b60209823f18b6a5a344ed0'}, 'ProspectActivityId': '4040b84b-7b65-4c63-92bf-6807401a512c', 'RelatedProspectId': 'fde514a7-d427-4c63-a3de-68b2a4412fa2', 'ActivityEvent': '157', 'ActivityEventName': 'CallBack-NotScheduled', 'ActivityType': '2', 'CreatedBy': '5d500a13-4f87-11e8-8401-22000aa79843', 'CreatedOn': '2018-07-23 19:25:00', 'Data': {'Note': 'None', 'Status': '', 'Owner': '', 'mx_Custom_1': '2018-07-30 19:25:00', 'mx_Custom_2': 'Engaged Lead'}}\n",
      "{'_id': {'$oid': '5b60209823f18b6a5a344ed1'}, 'ProspectActivityId': '05cf03c7-c2a9-4987-bd51-bf714c46be73', 'RelatedProspectId': '2ed4c5a3-6467-43f7-891a-a68b2ccdd64b', 'ActivityEvent': '157', 'ActivityEventName': 'CallBack-NotScheduled', 'ActivityType': '2', 'CreatedBy': '5d500a13-4f87-11e8-8401-22000aa79843', 'CreatedOn': '2018-07-23 19:31:00', 'Data': {'Note': 'None', 'Status': '', 'Owner': '', 'mx_Custom_1': '2018-07-29 19:31:00', 'mx_Custom_2': 'Engaged Lead'}}\n",
      "{'_id': {'$oid': '5b60209823f18b6a5a344ed2'}, 'ProspectActivityId': 'f09117e1-d4b6-47c9-9472-11f27f28d9c1', 'RelatedProspectId': '2ed4c5a3-6467-43f7-891a-a68b2ccdd64b', 'ActivityEvent': '157', 'ActivityEventName': 'CallBack-NotScheduled', 'ActivityType': '2', 'CreatedBy': '5d500a13-4f87-11e8-8401-22000aa79843', 'CreatedOn': '2018-07-23 19:31:00', 'Data': {'Note': 'Company number,Email sent.', 'Status': '', 'Owner': '', 'mx_Custom_1': '2018-07-30 19:31:00', 'mx_Custom_2': 'Engaged Lead'}}\n",
      "{'_id': {'$oid': '5b60209823f18b6a5a344ed3'}, 'ProspectActivityId': '65bd6808-beb3-4674-ae15-0f9d06e9a7c9', 'RelatedProspectId': '4e5c0b97-e051-4723-adda-4db1ae7cac54', 'ActivityEvent': '157', 'ActivityEventName': 'CallBack-NotScheduled', 'ActivityType': '2', 'CreatedBy': '7312f81d-4f87-11e8-8401-22000aa79843', 'CreatedOn': '2018-07-23 19:34:00', 'Data': {'Note': 'Tried calling but VM', 'Status': '', 'Owner': '', 'mx_Custom_1': '2018-07-30 19:34:00', 'mx_Custom_2': 'Engaged Lead'}}\n",
      "{'_id': {'$oid': '5b60209823f18b6a5a344ed4'}, 'ProspectActivityId': '019697da-2afb-44da-9c38-a95be1ac9a0a', 'RelatedProspectId': 'e1c8fccf-ec62-469b-b041-e987aefd533a', 'ActivityEvent': '157', 'ActivityEventName': 'CallBack-NotScheduled', 'ActivityType': '2', 'CreatedBy': '7c091293-4f87-11e8-8401-22000aa79843', 'CreatedOn': '2018-07-23 19:33:00', 'Data': {'Note': 'Prospect Interested & asked me to send the information, Did the same. asked me to call back tomorrow at the same time. Offered FSWD self-paced course for $299.00.', 'Status': '', 'Owner': '', 'mx_Custom_1': '2018-08-15 19:34:00', 'mx_Custom_2': 'Engaged Lead'}}\n",
      "{'_id': {'$oid': '5b60209823f18b6a5a344ed5'}, 'ProspectActivityId': '306e07e9-4214-4d8c-8001-2d817cb8b360', 'RelatedProspectId': '080c7de4-44d8-4779-8b01-925fbdba53b4', 'ActivityEvent': '157', 'ActivityEventName': 'CallBack-NotScheduled', 'ActivityType': '2', 'CreatedBy': '7c091293-4f87-11e8-8401-22000aa79843', 'CreatedOn': '2018-07-23 19:41:00', 'Data': {'Note': 'Voicemail & emailed', 'Status': '', 'Owner': '', 'mx_Custom_1': '2018-08-15 19:41:00', 'mx_Custom_2': 'Engaged Lead'}}\n",
      "{'_id': {'$oid': '5b60209823f18b6a5a344ed6'}, 'ProspectActivityId': 'd77ba923-0cfe-4aed-987d-9fb69797f22c', 'RelatedProspectId': '02a9ecce-e3ea-4d12-be55-6079f6ee80b2', 'ActivityEvent': '157', 'ActivityEventName': 'CallBack-NotScheduled', 'ActivityType': '2', 'CreatedBy': '7c091293-4f87-11e8-8401-22000aa79843', 'CreatedOn': '2018-07-23 19:42:00', 'Data': {'Note': 'Emailed & Left Voicemail', 'Status': '', 'Owner': '', 'mx_Custom_1': '2018-08-15 19:42:00', 'mx_Custom_2': 'Engaged Lead'}}\n",
      "{'_id': {'$oid': '5b60209823f18b6a5a344ed7'}, 'ProspectActivityId': '6909e0bd-580b-4eeb-9cbd-16b533540447', 'RelatedProspectId': '31a41af7-8429-11e8-b26b-065cc7e2d7e2', 'ActivityEvent': '157', 'ActivityEventName': 'CallBack-NotScheduled', 'ActivityType': '2', 'CreatedBy': '51e63ede-4f87-11e8-8401-22000aa79843', 'CreatedOn': '2018-07-23 19:42:00', 'Data': {'Note': 'Tried calling but VM, A detailed email has been sent,', 'Status': '', 'Owner': '', 'mx_Custom_1': '2018-08-01 19:43:00', 'mx_Custom_2': 'Engaged Lead'}}\n",
      "{'_id': {'$oid': '5b60209823f18b6a5a344ed8'}, 'ProspectActivityId': 'd23893c2-843d-4339-bd2f-d7ed1c4f0000', 'RelatedProspectId': '9cd12120-7d76-46d3-aa0e-d269cb486a62', 'ActivityEvent': '157', 'ActivityEventName': 'CallBack-NotScheduled', 'ActivityType': '2', 'CreatedBy': '51e63ede-4f87-11e8-8401-22000aa79843', 'CreatedOn': '2018-07-23 19:43:00', 'Data': {'Note': 'Tried calling but VM, A detailed email has been sent,', 'Status': '', 'Owner': '', 'mx_Custom_1': '2018-08-02 19:43:00', 'mx_Custom_2': 'Engaged Lead'}}\n",
      "{'_id': {'$oid': '5b60209823f18b6a5a344ed9'}, 'ProspectActivityId': '96c0780e-579a-4038-be18-47b51171fa99', 'RelatedProspectId': '5575cf90-5a7c-4e0a-9f35-5463a2556e98', 'ActivityEvent': '157', 'ActivityEventName': 'CallBack-NotScheduled', 'ActivityType': '2', 'CreatedBy': '5d500a13-4f87-11e8-8401-22000aa79843', 'CreatedOn': '2018-07-23 19:43:00', 'Data': {'Note': 'None', 'Status': '', 'Owner': '', 'mx_Custom_1': '2018-07-26 19:43:00', 'mx_Custom_2': 'Warm Lead'}}\n",
      "{'_id': {'$oid': '5b60209823f18b6a5a344eda'}, 'ProspectActivityId': '5e50dfe2-514c-4607-a483-4ca5c9a081f0', 'RelatedProspectId': '5575cf90-5a7c-4e0a-9f35-5463a2556e98', 'ActivityEvent': '179', 'ActivityEventName': 'CallBack-Scheduled', 'ActivityType': '2', 'Score': 1, 'CreatedBy': '5d500a13-4f87-11e8-8401-22000aa79843', 'CreatedOn': '2018-07-23 19:40:00', 'Data': {'Note': 'Explained him in detail he is Exploring, offered him $999, He will update me end of the week. Email sent.', 'Status': '', 'Owner': '', 'mx_Custom_1': '2018-07-26 19:42:00', 'mx_Custom_2': 'Warm Lead'}}\n",
      "{'_id': {'$oid': '5b60209823f18b6a5a344edb'}, 'ProspectActivityId': '27c1c2e6-373c-46da-a1de-05167ac461d1', 'RelatedProspectId': 'b91592a5-3392-46ca-a611-374575846c19', 'ActivityEvent': '157', 'ActivityEventName': 'CallBack-NotScheduled', 'ActivityType': '2', 'CreatedBy': '7c091293-4f87-11e8-8401-22000aa79843', 'CreatedOn': '2018-07-23 19:44:00', 'Data': {'Note': 'Emailed & Left Voicemail', 'Status': '', 'Owner': '', 'mx_Custom_1': '2018-08-15 19:44:00', 'mx_Custom_2': 'Engaged Lead'}}\n",
      "{'_id': {'$oid': '5b60209823f18b6a5a344edc'}, 'ProspectActivityId': '5e50dfe2-514c-4607-a483-4ca5c9a081f0', 'RelatedProspectId': '5575cf90-5a7c-4e0a-9f35-5463a2556e98', 'ActivityEvent': '179', 'ActivityEventName': 'CallBack-Scheduled', 'ActivityType': '2', 'Score': 1, 'CreatedBy': '5d500a13-4f87-11e8-8401-22000aa79843', 'CreatedOn': '2018-07-23 19:40:00', 'Data': {'Note': 'Explained him in detail he is Exploring, offered him $999, He will update me end of the week. Email sent.', 'Status': '', 'Owner': '', 'mx_Custom_1': '2018-07-26 19:42:00', 'mx_Custom_2': 'Warm Lead'}}\n",
      "{'_id': {'$oid': '5b60209823f18b6a5a344edd'}, 'ProspectActivityId': '8a5c865b-4867-49ac-858d-7a0d67b5e9e9', 'RelatedProspectId': 'a4714164-7eb0-4610-9dae-c431efcdf7b6', 'ActivityEvent': '157', 'ActivityEventName': 'CallBack-NotScheduled', 'ActivityType': '2', 'CreatedBy': '7c091293-4f87-11e8-8401-22000aa79843', 'CreatedOn': '2018-07-23 20:24:00', 'Data': {'Note': 'Emailed & Left Voicemail', 'Status': '', 'Owner': '', 'mx_Custom_1': '2018-08-15 20:24:00', 'mx_Custom_2': 'Engaged Lead'}}\n",
      "{'_id': {'$oid': '5b60209823f18b6a5a344ede'}, 'ProspectActivityId': 'a3b9f426-9602-415a-8da6-2dac092a631c', 'RelatedProspectId': 'de02f3c9-9991-490f-81c6-4cfe25c1dd35', 'ActivityEvent': '157', 'ActivityEventName': 'CallBack-NotScheduled', 'ActivityType': '2', 'CreatedBy': '5d500a13-4f87-11e8-8401-22000aa79843', 'CreatedOn': '2018-07-23 20:25:00', 'Data': {'Note': 'VM,Email sent', 'Status': '', 'Owner': '', 'mx_Custom_1': '2018-07-29 20:25:00', 'mx_Custom_2': 'Engaged Lead'}}\n",
      "{'_id': {'$oid': '5b60209823f18b6a5a344edf'}, 'ProspectActivityId': 'c542068e-efc7-4eb3-a3c5-a09939b67b77', 'RelatedProspectId': 'a99b5562-ebb5-4dbe-b6ee-01e114368ca1', 'ActivityEvent': '157', 'ActivityEventName': 'CallBack-NotScheduled', 'ActivityType': '2', 'CreatedBy': '7c091293-4f87-11e8-8401-22000aa79843', 'CreatedOn': '2018-07-23 20:25:00', 'Data': {'Note': 'Emailed & Left Voicemail', 'Status': '', 'Owner': '', 'mx_Custom_1': '2018-08-15 20:25:00', 'mx_Custom_2': 'Engaged Lead'}}\n",
      "{'_id': {'$oid': '5b60209823f18b6a5a344ee0'}, 'ProspectActivityId': 'e162140f-0b1e-46ae-b89f-c4ffb5793db2', 'RelatedProspectId': 'de02f3c9-9991-490f-81c6-4cfe25c1dd35', 'ActivityEvent': '157', 'ActivityEventName': 'CallBack-NotScheduled', 'ActivityType': '2', 'CreatedBy': '5d500a13-4f87-11e8-8401-22000aa79843', 'CreatedOn': '2018-07-23 20:25:00', 'Data': {'Note': 'None', 'Status': '', 'Owner': '', 'mx_Custom_1': '2018-07-29 20:25:00', 'mx_Custom_2': 'Engaged Lead'}}\n",
      "{'_id': {'$oid': '5b60209823f18b6a5a344ee1'}, 'ProspectActivityId': '42b81665-bcca-4f09-86f4-04c2b51ad8b3', 'RelatedProspectId': '93e23073-cc44-4ce2-83f4-c199af446794', 'ActivityEvent': '157', 'ActivityEventName': 'CallBack-NotScheduled', 'ActivityType': '2', 'CreatedBy': '7c091293-4f87-11e8-8401-22000aa79843', 'CreatedOn': '2018-07-23 20:26:00', 'Data': {'Note': 'Emailed & Left Voicemail', 'Status': '', 'Owner': '', 'mx_Custom_1': '2018-08-15 20:26:00', 'mx_Custom_2': 'Engaged Lead'}}\n",
      "{'_id': {'$oid': '5b60209823f18b6a5a344ee2'}, 'ProspectActivityId': 'd7bd966e-0824-41af-9467-caa88060cb55', 'RelatedProspectId': '9901dd71-0fd5-4802-a5aa-2ed5f312bdb4', 'ActivityEvent': '157', 'ActivityEventName': 'CallBack-NotScheduled', 'ActivityType': '2', 'CreatedBy': '7c091293-4f87-11e8-8401-22000aa79843', 'CreatedOn': '2018-07-23 20:27:00', 'Data': {'Note': 'Emailed & Left Voicemail', 'Status': '', 'Owner': '', 'mx_Custom_1': '2018-08-15 20:28:00', 'mx_Custom_2': 'Engaged Lead'}}\n",
      "{'_id': {'$oid': '5b60209823f18b6a5a344ee3'}, 'ProspectActivityId': 'ef3aabc6-b314-4bbd-8aec-eb28185b1bcf', 'RelatedProspectId': 'c60aab57-2d90-4441-9b0e-a188d08bbcf6', 'ActivityEvent': '157', 'ActivityEventName': 'CallBack-NotScheduled', 'ActivityType': '2', 'CreatedBy': '7c091293-4f87-11e8-8401-22000aa79843', 'CreatedOn': '2018-07-23 20:31:00', 'Data': {'Note': 'Emailed & Left Voicemail', 'Status': '', 'Owner': '', 'mx_Custom_1': '2018-08-15 20:31:00', 'mx_Custom_2': 'Engaged Lead'}}\n",
      "{'_id': {'$oid': '5b60209823f18b6a5a344ee4'}, 'ProspectActivityId': '0a483e89-cf1a-42f2-8f62-9eee75e0a601', 'RelatedProspectId': '8654b7b7-640e-46eb-8035-efe87518e6ee', 'ActivityEvent': '157', 'ActivityEventName': 'CallBack-NotScheduled', 'ActivityType': '2', 'CreatedBy': '7c091293-4f87-11e8-8401-22000aa79843', 'CreatedOn': '2018-07-23 20:33:00', 'Data': {'Note': 'Emailed & Left Voicemail', 'Status': '', 'Owner': '', 'mx_Custom_1': '2018-08-15 20:33:00', 'mx_Custom_2': 'Engaged Lead'}}\n",
      "{'_id': {'$oid': '5b60209823f18b6a5a344ee5'}, 'ProspectActivityId': '9b012358-658e-4186-9e5e-bed0b0a7e152', 'RelatedProspectId': 'e8557f1a-1285-4c41-84a9-ce986c93df99', 'ActivityEvent': '157', 'ActivityEventName': 'CallBack-NotScheduled', 'ActivityType': '2', 'CreatedBy': '7312f81d-4f87-11e8-8401-22000aa79843', 'CreatedOn': '2018-07-23 20:36:00', 'Data': {'Note': 'Tried calling but VM', 'Status': '', 'Owner': '', 'mx_Custom_1': '2018-07-26 20:36:00', 'mx_Custom_2': 'Engaged Lead'}}\n",
      "{'_id': {'$oid': '5b60209823f18b6a5a344ee6'}, 'ProspectActivityId': '576c4f1a-718d-4ef4-b17d-24c474d00e02', 'RelatedProspectId': 'f2a439cf-ef9d-4d96-bb8c-86e21238ce1f', 'ActivityEvent': '157', 'ActivityEventName': 'CallBack-NotScheduled', 'ActivityType': '2', 'CreatedBy': '5d500a13-4f87-11e8-8401-22000aa79843', 'CreatedOn': '2018-07-23 20:35:00', 'Data': {'Note': 'Explained in detail he is interested, offered 20% - 1245, Email sent he will update me Friday -  27th.', 'Status': '', 'Owner': '', 'mx_Custom_1': '2018-07-26 20:35:00', 'mx_Custom_2': 'Warm Lead'}}\n",
      "{'_id': {'$oid': '5b60209823f18b6a5a344ee7'}, 'ProspectActivityId': '33977371-4f04-4eed-92b5-677f25c4caf9', 'RelatedProspectId': 'de883ea3-38b3-40e6-83f6-845f187b823a', 'ActivityEvent': '157', 'ActivityEventName': 'CallBack-NotScheduled', 'ActivityType': '2', 'CreatedBy': '7312f81d-4f87-11e8-8401-22000aa79843', 'CreatedOn': '2018-07-23 20:39:00', 'Data': {'Note': 'Tried calling but VM', 'Status': '', 'Owner': '', 'mx_Custom_1': '2018-07-30 20:39:00', 'mx_Custom_2': 'Engaged Lead'}}\n",
      "{'_id': {'$oid': '5b60209823f18b6a5a344ee8'}, 'ProspectActivityId': 'b378b692-e032-42eb-9cf1-76703d24f95e', 'RelatedProspectId': 'f2a439cf-ef9d-4d96-bb8c-86e21238ce1f', 'ActivityEvent': '179', 'ActivityEventName': 'CallBack-Scheduled', 'ActivityType': '2', 'Score': 1, 'CreatedBy': '5d500a13-4f87-11e8-8401-22000aa79843', 'CreatedOn': '2018-07-23 20:40:00', 'Data': {'Note': 'None', 'Status': '', 'Owner': '', 'mx_Custom_1': '2018-07-26 20:40:00', 'mx_Custom_2': 'Warm Lead'}}\n",
      "{'_id': {'$oid': '5b60209823f18b6a5a344ee9'}, 'ProspectActivityId': '5ce6d8a7-9b03-4e2c-88c0-08d8a02cd7af', 'RelatedProspectId': 'da3ade1d-6737-4ef8-82be-662e1d64a716', 'ActivityEvent': '157', 'ActivityEventName': 'CallBack-NotScheduled', 'ActivityType': '2', 'CreatedBy': '7312f81d-4f87-11e8-8401-22000aa79843', 'CreatedOn': '2018-07-23 20:43:00', 'Data': {'Note': 'Tried calling but VM', 'Status': '', 'Owner': '', 'mx_Custom_1': '2018-07-26 20:43:00', 'mx_Custom_2': 'Engaged Lead'}}\n",
      "{'_id': {'$oid': '5b60209823f18b6a5a344eea'}, 'ProspectActivityId': 'b378b692-e032-42eb-9cf1-76703d24f95e', 'RelatedProspectId': 'f2a439cf-ef9d-4d96-bb8c-86e21238ce1f', 'ActivityEvent': '179', 'ActivityEventName': 'CallBack-Scheduled', 'ActivityType': '2', 'Score': 1, 'CreatedBy': '5d500a13-4f87-11e8-8401-22000aa79843', 'CreatedOn': '2018-07-23 20:40:00', 'Data': {'Note': 'None', 'Status': '', 'Owner': '', 'mx_Custom_1': '2018-07-26 20:40:00', 'mx_Custom_2': 'Warm Lead'}}\n",
      "{'_id': {'$oid': '5b60209823f18b6a5a344eeb'}, 'ProspectActivityId': '19477581-1c13-48b9-b670-c012dc7d2efa', 'RelatedProspectId': 'a806b599-68e1-11e8-8401-22000aa79843', 'ActivityEvent': '157', 'ActivityEventName': 'CallBack-NotScheduled', 'ActivityType': '2', 'CreatedBy': '5d500a13-4f87-11e8-8401-22000aa79843', 'CreatedOn': '2018-07-23 21:15:00', 'Data': {'Note': 'None', 'Status': '', 'Owner': '', 'mx_Custom_1': '2018-07-30 21:15:00', 'mx_Custom_2': 'Warm Lead'}}\n",
      "{'_id': {'$oid': '5b60209823f18b6a5a344eec'}, 'ProspectActivityId': '34789a7f-b677-45cc-afac-c93a18b623fd', 'RelatedProspectId': 'a806b599-68e1-11e8-8401-22000aa79843', 'ActivityEvent': '179', 'ActivityEventName': 'CallBack-Scheduled', 'ActivityType': '2', 'Score': 1, 'CreatedBy': '5d500a13-4f87-11e8-8401-22000aa79843', 'CreatedOn': '2018-07-23 21:14:00', 'Data': {'Note': 'None', 'Status': '', 'Owner': '', 'mx_Custom_1': '2018-07-23 21:14:00', 'mx_Custom_2': 'Warm Lead'}}\n",
      "{'_id': {'$oid': '5b60209823f18b6a5a344eed'}, 'ProspectActivityId': 'e0b29e2a-8403-4512-aea6-544cefb3f812', 'RelatedProspectId': 'db94c800-5f78-40f3-9e03-f1058d908669', 'ActivityEvent': '157', 'ActivityEventName': 'CallBack-NotScheduled', 'ActivityType': '2', 'CreatedBy': '7c091293-4f87-11e8-8401-22000aa79843', 'CreatedOn': '2018-07-23 21:57:00', 'Data': {'Note': 'explained everything, Prospect was interested in taking up the course next month. sent email.', 'Status': '', 'Owner': '', 'mx_Custom_1': '2018-08-16 21:57:00', 'mx_Custom_2': 'Warm Lead'}}\n",
      "{'_id': {'$oid': '5b60209823f18b6a5a344eee'}, 'ProspectActivityId': '34789a7f-b677-45cc-afac-c93a18b623fd', 'RelatedProspectId': 'a806b599-68e1-11e8-8401-22000aa79843', 'ActivityEvent': '179', 'ActivityEventName': 'CallBack-Scheduled', 'ActivityType': '2', 'Score': 1, 'CreatedBy': '5d500a13-4f87-11e8-8401-22000aa79843', 'CreatedOn': '2018-07-23 21:14:00', 'Data': {'Note': 'None', 'Status': '', 'Owner': '', 'mx_Custom_1': '2018-07-23 21:14:00', 'mx_Custom_2': 'Warm Lead'}}\n",
      "{'_id': {'$oid': '5b60209823f18b6a5a344eef'}, 'ProspectActivityId': '39a2cc3c-4e45-4ec8-a519-9c42ac1b7181', 'RelatedProspectId': 'cfd18c06-6e98-4672-b1b3-7329687d77cb', 'ActivityEvent': '157', 'ActivityEventName': 'CallBack-NotScheduled', 'ActivityType': '2', 'CreatedBy': '7c091293-4f87-11e8-8401-22000aa79843', 'CreatedOn': '2018-07-23 22:01:00', 'Data': {'Note': 'Emailed & Left Voicemail', 'Status': '', 'Owner': '', 'mx_Custom_1': '2018-08-15 22:01:00', 'mx_Custom_2': 'Engaged Lead'}}\n",
      "{'_id': {'$oid': '5b60209823f18b6a5a344ef0'}, 'ProspectActivityId': '474ada05-1a12-433e-873b-eb0265702413', 'RelatedProspectId': '593bcc37-9e7d-4a84-9cee-7260e2c14d72', 'ActivityEvent': '157', 'ActivityEventName': 'CallBack-NotScheduled', 'ActivityType': '2', 'CreatedBy': '7c091293-4f87-11e8-8401-22000aa79843', 'CreatedOn': '2018-07-23 22:21:00', 'Data': {'Note': 'Asked me to call back after 2 days as she is busy.', 'Status': '', 'Owner': '', 'mx_Custom_1': '2018-07-26 22:21:00', 'mx_Custom_2': 'Engaged Lead'}}\n",
      "{'_id': {'$oid': '5b60209823f18b6a5a344ef1'}, 'ProspectActivityId': '7c84b6f9-358b-49b3-9900-c6eadbb6d714', 'RelatedProspectId': '6735aebc-775a-45fa-81d4-bafb9e4208ba', 'ActivityEvent': '157', 'ActivityEventName': 'CallBack-NotScheduled', 'ActivityType': '2', 'CreatedBy': '5d500a13-4f87-11e8-8401-22000aa79843', 'CreatedOn': '2018-07-23 22:35:00', 'Data': {'Note': 'None', 'Status': '', 'Owner': '', 'mx_Custom_1': '2018-07-30 22:35:00', 'mx_Custom_2': 'Warm Lead'}}\n",
      "{'_id': {'$oid': '5b60209823f18b6a5a344ef2'}, 'ProspectActivityId': 'f31843ea-c139-481f-b258-c73671f25b5d', 'RelatedProspectId': 'd40acedd-4fc1-41a2-bbf5-bb195e9d4c4d', 'ActivityEvent': '157', 'ActivityEventName': 'CallBack-NotScheduled', 'ActivityType': '2', 'CreatedBy': '7c091293-4f87-11e8-8401-22000aa79843', 'CreatedOn': '2018-07-23 22:34:00', 'Data': {'Note': 'Emailed & Left Voicemail', 'Status': '', 'Owner': '', 'mx_Custom_1': '2018-08-15 22:34:00', 'mx_Custom_2': 'Engaged Lead'}}\n",
      "{'_id': {'$oid': '5b60209823f18b6a5a344ef3'}, 'ProspectActivityId': '6717fb1d-9a48-4e2b-ad04-e6bc3551662e', 'RelatedProspectId': '28f9dccb-5c7a-4384-8862-0e95e9cdfe3d', 'ActivityEvent': '157', 'ActivityEventName': 'CallBack-NotScheduled', 'ActivityType': '2', 'CreatedBy': '5d500a13-4f87-11e8-8401-22000aa79843', 'CreatedOn': '2018-07-23 22:38:00', 'Data': {'Note': 'None', 'Status': '', 'Owner': '', 'mx_Custom_1': '2018-07-30 22:38:00', 'mx_Custom_2': 'Warm Lead'}}\n",
      "{'_id': {'$oid': '5b60209823f18b6a5a344ef4'}, 'ProspectActivityId': 'c923ec8e-04d7-48dc-9390-e17c8822e1c5', 'RelatedProspectId': '507856d4-6f32-4f88-bb47-fd13cd129b6f', 'ActivityEvent': '179', 'ActivityEventName': 'CallBack-Scheduled', 'ActivityType': '2', 'Score': 1, 'CreatedBy': '7c091293-4f87-11e8-8401-22000aa79843', 'CreatedOn': '2018-07-23 22:37:00', 'Data': {'Note': 'was not able to hear him, Prospect asked me to call back tomorrow by 11am EST', 'Status': '', 'Owner': '', 'mx_Custom_1': '2018-07-25 16:00:00', 'mx_Custom_2': 'Warm Lead'}}\n",
      "{'_id': {'$oid': '5b60209823f18b6a5a344ef5'}, 'ProspectActivityId': 'b754dc5f-2ad7-4f3a-ad8a-a8e82bec6c83', 'RelatedProspectId': '81aa49c3-8521-4d67-99ea-8de7427439ca', 'ActivityEvent': '157', 'ActivityEventName': 'CallBack-NotScheduled', 'ActivityType': '2', 'CreatedBy': '7c091293-4f87-11e8-8401-22000aa79843', 'CreatedOn': '2018-07-23 22:47:00', 'Data': {'Note': 'Emailed & Left Voicemail', 'Status': '', 'Owner': '', 'mx_Custom_1': '2018-08-15 22:47:00', 'mx_Custom_2': 'Engaged Lead'}}\n",
      "{'_id': {'$oid': '5b60209823f18b6a5a344ef6'}, 'ProspectActivityId': 'c923ec8e-04d7-48dc-9390-e17c8822e1c5', 'RelatedProspectId': '507856d4-6f32-4f88-bb47-fd13cd129b6f', 'ActivityEvent': '179', 'ActivityEventName': 'CallBack-Scheduled', 'ActivityType': '2', 'Score': 1, 'CreatedBy': '7c091293-4f87-11e8-8401-22000aa79843', 'CreatedOn': '2018-07-23 22:37:00', 'Data': {'Note': 'was not able to hear him, Prospect asked me to call back tomorrow by 11am EST', 'Status': '', 'Owner': '', 'mx_Custom_1': '2018-07-25 16:00:00', 'mx_Custom_2': 'Warm Lead'}}\n",
      "{'_id': {'$oid': '5b60209823f18b6a5a344ef7'}, 'ProspectActivityId': 'a6fa7fee-381d-4b5b-b5ef-68a2ebcbc9fd', 'RelatedProspectId': '6ecb8990-fb2a-42bb-bf1c-3662371da796', 'ActivityEvent': '157', 'ActivityEventName': 'CallBack-NotScheduled', 'ActivityType': '2', 'CreatedBy': '7c091293-4f87-11e8-8401-22000aa79843', 'CreatedOn': '2018-07-23 22:50:00', 'Data': {'Note': 'Emailed & Left Voicemail', 'Status': '', 'Owner': '', 'mx_Custom_1': '2018-08-15 22:51:00', 'mx_Custom_2': 'Engaged Lead'}}\n",
      "{'_id': {'$oid': '5b60209823f18b6a5a344ef8'}, 'ProspectActivityId': 'af9d49a8-e128-4366-a9e1-dec6af117dd2', 'RelatedProspectId': '89bee064-21e0-4659-96c1-7d356d7d5f54', 'ActivityEvent': '157', 'ActivityEventName': 'CallBack-NotScheduled', 'ActivityType': '2', 'CreatedBy': '5d500a13-4f87-11e8-8401-22000aa79843', 'CreatedOn': '2018-07-23 22:54:00', 'Data': {'Note': 'None', 'Status': '', 'Owner': '', 'mx_Custom_1': '2018-07-29 22:54:00', 'mx_Custom_2': 'Engaged Lead'}}\n",
      "{'_id': {'$oid': '5b60209823f18b6a5a344ef9'}, 'ProspectActivityId': '44a2f387-cede-453c-a93c-1b5a710df07e', 'RelatedProspectId': 'c6b0d578-6b1e-11e8-8401-22000aa79843', 'ActivityEvent': '157', 'ActivityEventName': 'CallBack-NotScheduled', 'ActivityType': '2', 'CreatedBy': '7c091293-4f87-11e8-8401-22000aa79843', 'CreatedOn': '2018-07-23 22:54:00', 'Data': {'Note': 'Emailed & Left Voicemail', 'Status': '', 'Owner': '', 'mx_Custom_1': '2018-08-22 22:54:00', 'mx_Custom_2': 'Engaged Lead'}}\n",
      "{'_id': {'$oid': '5b60209823f18b6a5a344efa'}, 'ProspectActivityId': '8a5531fd-7f32-464d-8a67-3976811620c6', 'RelatedProspectId': '89bee064-21e0-4659-96c1-7d356d7d5f54', 'ActivityEvent': '157', 'ActivityEventName': 'CallBack-NotScheduled', 'ActivityType': '2', 'CreatedBy': '5d500a13-4f87-11e8-8401-22000aa79843', 'CreatedOn': '2018-07-23 22:55:00', 'Data': {'Note': 'None', 'Status': '', 'Owner': '', 'mx_Custom_1': '2018-07-30 22:55:00', 'mx_Custom_2': 'Engaged Lead'}}\n"
     ]
    }
   ],
   "source": [
    "for i in range(100):\n",
    "    print(act_hist_data[i])"
   ]
  },
  {
   "cell_type": "code",
   "execution_count": null,
   "metadata": {},
   "outputs": [],
   "source": []
  }
 ],
 "metadata": {
  "kernelspec": {
   "display_name": "Python 3",
   "language": "python",
   "name": "python3"
  },
  "language_info": {
   "codemirror_mode": {
    "name": "ipython",
    "version": 3
   },
   "file_extension": ".py",
   "mimetype": "text/x-python",
   "name": "python",
   "nbconvert_exporter": "python",
   "pygments_lexer": "ipython3",
   "version": "3.6.6"
  }
 },
 "nbformat": 4,
 "nbformat_minor": 2
}
