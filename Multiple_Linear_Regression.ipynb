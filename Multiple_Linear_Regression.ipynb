{
 "cells": [
  {
   "cell_type": "markdown",
   "metadata": {},
   "source": [
    "Import the necessary libraries"
   ]
  },
  {
   "cell_type": "code",
   "execution_count": 1,
   "metadata": {},
   "outputs": [],
   "source": [
    "import numpy as np\n",
    "import pandas as pd\n",
    "import matplotlib.pyplot as plt\n",
    "from sklearn import datasets, linear_model\n",
    "from sklearn.model_selection import train_test_split\n",
    "from sklearn.preprocessing import StandardScaler\n",
    "from sklearn.metrics import mean_squared_error, r2_score"
   ]
  },
  {
   "cell_type": "markdown",
   "metadata": {},
   "source": [
    "Load the data set"
   ]
  },
  {
   "cell_type": "code",
   "execution_count": 2,
   "metadata": {},
   "outputs": [
    {
     "name": "stdout",
     "output_type": "stream",
     "text": [
      "    VENDOR MODEL_NAME  MYCT  MMIN   MMAX  CACH  CHMIN  CHMAX  PRP  ERP\n",
      "0  adviser      32/60   125   256   6000   256     16    128  198  199\n",
      "1   amdahl     470v/7    29  8000  32000    32      8     32  269  253\n",
      "2   amdahl    470v/7a    29  8000  32000    32      8     32  220  253\n",
      "3   amdahl    470v/7b    29  8000  32000    32      8     32  172  253\n",
      "4   amdahl    470v/7c    29  8000  16000    32      8     16  132  132\n"
     ]
    }
   ],
   "source": [
    "names = ['VENDOR','MODEL_NAME','MYCT', 'MMIN', 'MMAX', 'CACH', 'CHMIN', 'CHMAX', 'PRP', 'ERP' ]\n",
    "data = pd.read_csv('data/machine.data',names=names)\n",
    "print(data.head())"
   ]
  },
  {
   "cell_type": "code",
   "execution_count": 3,
   "metadata": {},
   "outputs": [
    {
     "name": "stdout",
     "output_type": "stream",
     "text": [
      "<class 'pandas.core.frame.DataFrame'>\n",
      "RangeIndex: 209 entries, 0 to 208\n",
      "Data columns (total 10 columns):\n",
      "VENDOR        209 non-null object\n",
      "MODEL_NAME    209 non-null object\n",
      "MYCT          209 non-null int64\n",
      "MMIN          209 non-null int64\n",
      "MMAX          209 non-null int64\n",
      "CACH          209 non-null int64\n",
      "CHMIN         209 non-null int64\n",
      "CHMAX         209 non-null int64\n",
      "PRP           209 non-null int64\n",
      "ERP           209 non-null int64\n",
      "dtypes: int64(8), object(2)\n",
      "memory usage: 16.4+ KB\n",
      "None\n"
     ]
    }
   ],
   "source": [
    "print(data.info())"
   ]
  },
  {
   "cell_type": "code",
   "execution_count": 47,
   "metadata": {},
   "outputs": [
    {
     "name": "stdout",
     "output_type": "stream",
     "text": [
      "   MYCT  MMIN   MMAX  CACH  CHMIN  CHMAX  PRP  ERP\n",
      "0   125   256   6000   256     16    128  198  199\n",
      "1    29  8000  32000    32      8     32  269  253\n",
      "2    29  8000  32000    32      8     32  220  253\n",
      "3    29  8000  32000    32      8     32  172  253\n",
      "4    29  8000  16000    32      8     16  132  132\n"
     ]
    }
   ],
   "source": [
    "categorical = data.iloc[:,:2]\n",
    "numerical = data.iloc[:,2:]\n",
    "print(numerical.head())"
   ]
  },
  {
   "cell_type": "code",
   "execution_count": 52,
   "metadata": {},
   "outputs": [
    {
     "name": "stdout",
     "output_type": "stream",
     "text": [
      "   MYCT  MMIN   MMAX  CACH  CHMIN  CHMAX  PRP\n",
      "0   125   256   6000   256     16    128  198\n",
      "1    29  8000  32000    32      8     32  269\n",
      "2    29  8000  32000    32      8     32  220\n",
      "3    29  8000  32000    32      8     32  172\n",
      "4    29  8000  16000    32      8     16  132\n"
     ]
    }
   ],
   "source": [
    "X = numerical.iloc[:,:-1]\n",
    "y = numerical.iloc[:,-1]\n",
    "\n",
    "print(X.head())\n",
    "\n"
   ]
  },
  {
   "cell_type": "code",
   "execution_count": 50,
   "metadata": {},
   "outputs": [
    {
     "name": "stdout",
     "output_type": "stream",
     "text": [
      "0    199\n",
      "1    253\n",
      "2    253\n",
      "3    253\n",
      "4    132\n",
      "Name: ERP, dtype: int64\n"
     ]
    }
   ],
   "source": [
    "print(y.head())"
   ]
  },
  {
   "cell_type": "markdown",
   "metadata": {},
   "source": [
    "Train/Test split"
   ]
  },
  {
   "cell_type": "code",
   "execution_count": 29,
   "metadata": {},
   "outputs": [],
   "source": [
    "x_training_set, x_test_set, y_training_set, y_test_set = train_test_split(X,y,test_size=0.10, \n",
    "                                                                          random_state=42,\n",
    "                                                                          shuffle=True)"
   ]
  },
  {
   "cell_type": "markdown",
   "metadata": {},
   "source": [
    "Data Preprocessing"
   ]
  },
  {
   "cell_type": "code",
   "execution_count": 30,
   "metadata": {},
   "outputs": [],
   "source": [
    "scaler = StandardScaler()\n",
    "# Fit on training set only.\n",
    "scaler.fit(x_training_set)\n",
    "\n",
    "# Apply transform to both the training set and the test set.\n",
    "x_training_set = scaler.transform(x_training_set)\n",
    "x_test_set = scaler.transform(x_test_set)\n"
   ]
  },
  {
   "cell_type": "code",
   "execution_count": 31,
   "metadata": {},
   "outputs": [
    {
     "name": "stderr",
     "output_type": "stream",
     "text": [
      "/home/monica/anaconda3/lib/python3.6/site-packages/sklearn/utils/validation.py:475: DataConversionWarning: Data with input dtype int64 was converted to float64 by StandardScaler.\n",
      "  warnings.warn(msg, DataConversionWarning)\n"
     ]
    }
   ],
   "source": [
    "y_training_set = y_training_set.values.reshape(-1, 1)\n",
    "y_test_set  = y_test_set.values.reshape(-1, 1)\n",
    "\n",
    "y_scaler = StandardScaler()\n",
    "# Fit on training set only.\n",
    "y_scaler.fit(y_training_set)\n",
    "\n",
    "# Apply transform to both the training set and the test set.\n",
    "y_training_set = y_scaler.transform(y_training_set)\n",
    "y_test_set = y_scaler.transform(y_test_set)"
   ]
  },
  {
   "cell_type": "markdown",
   "metadata": {},
   "source": [
    "Model fitting"
   ]
  },
  {
   "cell_type": "code",
   "execution_count": 32,
   "metadata": {},
   "outputs": [
    {
     "data": {
      "text/plain": [
       "LinearRegression(copy_X=True, fit_intercept=True, n_jobs=1, normalize=False)"
      ]
     },
     "execution_count": 32,
     "metadata": {},
     "output_type": "execute_result"
    }
   ],
   "source": [
    "model = linear_model.LinearRegression()\n",
    "model.fit(x_training_set,y_training_set)"
   ]
  },
  {
   "cell_type": "markdown",
   "metadata": {},
   "source": [
    "Evaluate the model"
   ]
  },
  {
   "cell_type": "code",
   "execution_count": 33,
   "metadata": {},
   "outputs": [
    {
     "name": "stdout",
     "output_type": "stream",
     "text": [
      "Coefficient of determination R^2 of the prediction:0.96\n",
      "Mean squared error: 0.39\n",
      "Test Variance score: 0.93\n"
     ]
    }
   ],
   "source": [
    "model_score = model.score(x_training_set,y_training_set)\n",
    "# Have a look at R sq to give an idea of the fit ,\n",
    "# Explained variance score: 1 is perfect prediction\n",
    "print(\"Coefficient of determination R^2 of the prediction:{:.2f}\".format(model_score))\n",
    "y_predicted = model.predict(x_test_set)\n",
    "\n",
    "# The mean squared error\n",
    "print(\"Mean squared error: %.2f\"% mean_squared_error(y_test_set, y_predicted))\n",
    "# Explained variance score: 1 is perfect prediction\n",
    "print('Test Variance score: %.2f' % r2_score(y_test_set, y_predicted))\n"
   ]
  },
  {
   "cell_type": "markdown",
   "metadata": {},
   "source": [
    "Visualize goodness of fit"
   ]
  },
  {
   "cell_type": "code",
   "execution_count": 44,
   "metadata": {},
   "outputs": [
    {
     "data": {
      "image/png": "[encoded data removed]",
      "text/plain": [
       "<Figure size 432x288 with 1 Axes>"
      ]
     },
     "metadata": {},
     "output_type": "display_data"
    }
   ],
   "source": [
    "plt.scatter(y_test_set, y_predicted, edgecolors=(0, 0, 0), color = 'red', alpha = 0.35, s = 100)\n",
    "plt.plot([y_test_set.min(), y_test_set.max()], [y_test_set.min(), y_test_set.max()], 'k--', lw=4, color = 'green', alpha = 0.75)\n",
    "plt.title(\"Ground Truth vs Predicted\")\n",
    "plt.show()"
   ]
  },
  {
   "cell_type": "code",
   "execution_count": null,
   "metadata": {},
   "outputs": [],
   "source": []
  },
  {
   "cell_type": "code",
   "execution_count": null,
   "metadata": {},
   "outputs": [],
   "source": []
  }
 ],
 "metadata": {
  "kernelspec": {
   "display_name": "Python 3",
   "language": "python",
   "name": "python3"
  },
  "language_info": {
   "codemirror_mode": {
    "name": "ipython",
    "version": 3
   },
   "file_extension": ".py",
   "mimetype": "text/x-python",
   "name": "python",
   "nbconvert_exporter": "python",
   "pygments_lexer": "ipython3",
   "version": "3.6.5"
  }
 },
 "nbformat": 4,
 "nbformat_minor": 2
}
