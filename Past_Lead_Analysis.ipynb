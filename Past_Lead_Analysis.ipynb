{
 "cells": [
  {
   "cell_type": "code",
   "execution_count": 1,
   "metadata": {},
   "outputs": [],
   "source": [
    "import pandas as pd\n",
    "import json\n",
    "from pprint import pprint\n",
    "\n",
    "with open('combined.json') as data_file:\n",
    "   data = json.load(data_file)\n",
    "\n",
    "#pprint(data)\n"
   ]
  },
  {
   "cell_type": "code",
   "execution_count": 9,
   "metadata": {},
   "outputs": [
    {
     "name": "stdout",
     "output_type": "stream",
     "text": [
      "0\n"
     ]
    }
   ],
   "source": [
    "'''\n",
    "import ijson\n",
    "\n",
    "file_name = \"combined.json\"\n",
    "with open(file_name, 'r') as f:\n",
    "    objects = ijson.items(f, 'meta.view.columns.item')\n",
    "    columns = list(objects)\n",
    "    \n",
    "print(len(columns))\n",
    "'''"
   ]
  },
  {
   "cell_type": "code",
   "execution_count": 47,
   "metadata": {},
   "outputs": [
    {
     "name": "stdout",
     "output_type": "stream",
     "text": [
      "['ProspectActivityDate_Min', 'Web_Referrer', 'Web_RefKeyword', 'LeadLastModifiedOn', 'ConversionReferrerURL', 'SourceReferrerURL', 'SourceIPAddress', 'Latitude', 'Longitude', 'ProspectID', 'ProspectAutoId', 'ProspectActivityId_Max', 'ProspectActivityId_Min', 'StatusCode', 'StatusReason', 'DeletionStatusCode', 'RelatedProspectId', 'SourceReferrer', 'NotableEvent', 'NotableEventdate', 'LastVisitDate', 'RelatedLandingPageId', 'FirstLandingPageSubmissionId', 'FirstLandingPageSubmissionDate', 'ProspectActivityName_Max', 'ProspectActivityDate_Max', 'FirstName', 'LastName', 'EmailAddress', 'Phone', 'Company', 'Website', 'DoNotTrack', 'DoNotEmail', 'DoNotCall', 'Source', 'Mobile', 'SourceCampaign', 'SourceMedium', 'JobTitle', 'SourceContent', 'Notes', 'Score', 'EngagementScore', 'Revenue', 'ProspectStage', 'QualityScore01', 'OwnerId', 'CreatedBy', 'CreatedByName', 'CreatedOn', 'LeadConversionDate', 'ModifiedBy', 'ModifiedByName', 'ModifiedOn', 'TimeZone', 'TotalVisits', 'PageViewsPerVisit', 'AvgTimePerVisit', 'mx_Street1', 'mx_Street2', 'mx_City', 'mx_State', 'mx_Country', 'mx_Zip', 'OwnerIdName', 'OwnerIdEmailAddress', 'Origin', 'MailingPreferences', 'Groups', 'TwitterId', 'PhotoUrl', 'FacebookId', 'LinkedInId', 'SkypeId', 'GTalkId', 'GooglePlusId', 'CurrentOptInStatus', 'mx_Alternate_Email', 'OptInDate', 'mx_Industry', 'OptInDetails', 'mx_Gender', 'LastOptInEmailSentDate', 'mx_Date_of_Birth', 'mx_Employee_ID', 'mx_Highest_Qulaification', 'mx_Years_of_Experience', 'mx_Expected_Joining_Date', 'mx_BU', 'mx_SBU', 'mx_Channel', 'mx_Flow', 'mx_Browser', 'mx_Device_Info', 'mx_Preferred_Time_From', 'mx_Preferred_Time_To', 'mx_Category', 'mx_Product_Category', 'mx_Product', 'mx_Expected_Joining', 'mx_Salary', 'mx_Function_Area', 'mx_Division', 'mx_Product_Group', 'mx_Age', 'mx_Center_Name', 'mx_UTM_Term', 'mx_Admission_Number', 'mx_Campaign_ID', 'mx_Lead_ID', 'mx_CallBack_Date_Time', 'mx_Experience_in_Years', 'mx_Alternate_Phone_Number', 'mx_Course_Alt', 'mx_Lead_Type', 'mx_Application_Link', 'mx_Application_Reference_ID', 'mx_Chat_Link', 'mx_Destination_SBU', 'mx_Destination_Product', 'IsStarredLead', 'IsTaggedLead', 'CanUpdate', 'Total', 'LeadAge']\n",
      "126\n",
      "  ProspectActivityDate_Min Web_Referrer Web_RefKeyword  \\\n",
      "0                     None         None           None   \n",
      "1  2018-07-16 19:39:00.000         None           None   \n",
      "2  2018-01-25 14:50:08.000         None           None   \n",
      "3  2018-07-30 08:47:54.000         None           None   \n",
      "4  2018-07-29 02:35:45.000         None           None   \n",
      "\n",
      "        LeadLastModifiedOn ConversionReferrerURL SourceReferrerURL  \\\n",
      "0  2018-07-31 22:39:13.000                  None              None   \n",
      "1  2018-07-31 22:11:49.000                  None              None   \n",
      "2  2018-07-31 21:29:29.000                  None              None   \n",
      "3  2018-07-31 20:45:19.000                  None              None   \n",
      "4  2018-07-31 20:40:17.000                  None              None   \n",
      "\n",
      "  SourceIPAddress Latitude Longitude                            ProspectID  \\\n",
      "0            None     None      None  148c3cd7-6972-11e8-8401-22000aa79843   \n",
      "1            None     None      None  1c495a27-85a1-11e8-b26b-065cc7e2d7e2   \n",
      "2            None     None      None  a809c407-68e1-11e8-8401-22000aa79843   \n",
      "3            None     None      None  60e367a7-6f37-446c-81bf-bd695da66b00   \n",
      "4            None     None      None  eeff3d07-6759-43a6-83ea-c9c5d3f36773   \n",
      "\n",
      "    ...   mx_Application_Link mx_Application_Reference_ID mx_Chat_Link  \\\n",
      "0   ...                  None                        None         None   \n",
      "1   ...                  None                        None         None   \n",
      "2   ...                  None                        None         None   \n",
      "3   ...                  None                        None         None   \n",
      "4   ...                  None                        None         None   \n",
      "\n",
      "  mx_Destination_SBU mx_Destination_Product IsStarredLead IsTaggedLead  \\\n",
      "0               None                   None         false            0   \n",
      "1               None                   None         false            1   \n",
      "2               None                   None         false            0   \n",
      "3               None                   None         false            0   \n",
      "4               None                   None         false            0   \n",
      "\n",
      "  CanUpdate  Total LeadAge  \n",
      "0      true  75823      87  \n",
      "1      true  75823      51  \n",
      "2      true  75823     221  \n",
      "3      true  75823      32  \n",
      "4      true  75823      34  \n",
      "\n",
      "[5 rows x 126 columns]\n",
      "<class 'pandas.core.frame.DataFrame'>\n",
      "RangeIndex: 80000 entries, 0 to 79999\n",
      "Columns: 126 entries, ProspectActivityDate_Min to LeadAge\n",
      "dtypes: object(126)\n",
      "memory usage: 76.9+ MB\n",
      "None\n"
     ]
    },
    {
     "data": {
      "text/plain": [
       "\"\\nfor i in range(num_columns):\\n    print(data['Leads'][0]['LeadPropertyList'][i]['Attribute'])\\n\\n\\nfor lead in data['Leads']:\\n    for r in data['Leads'][0]['LeadPropertyList']:\\n        print(r[r['Attribute'] ==  )\\n\""
      ]
     },
     "execution_count": 47,
     "metadata": {},
     "output_type": "execute_result"
    }
   ],
   "source": [
    "num_records = len(data['Leads'])\n",
    "\n",
    "num_columns = len(data['Leads'][0]['LeadPropertyList'])\n",
    "\n",
    "lead_properties = data['Leads'][0]['LeadPropertyList'][0:num_columns]\n",
    "\n",
    "column_names = [lead_properties[column]['Attribute'] for column in range(0,num_columns)]\n",
    "\n",
    "print(column_names)\n",
    "\n",
    "data_lead = [[data['Leads'][record]['LeadPropertyList'][column]['Value'] for column in range(num_columns)] for record in range(80000)]\n",
    "\n",
    "print(len(data_lead[0]))\n",
    "\n",
    "lead_df = pd.DataFrame(columns = column_names, data = data_lead)\n",
    "\n",
    "print(lead_df.head())\n",
    "\n",
    "print(lead_df.info())\n",
    "\n",
    "#column_names = [ column for column in lead_properties['Attribute'] ]\n",
    "\n",
    "#column_names = [n for n in data['Leads'][0]['LeadPropertyList'][0:num_columns]['Attribute']]\n",
    "\n",
    "\n",
    "'''\n",
    "for i in range(num_columns):\n",
    "    print(data['Leads'][0]['LeadPropertyList'][i]['Attribute'])\n",
    "\n",
    "\n",
    "for lead in data['Leads']:\n",
    "    for r in data['Leads'][0]['LeadPropertyList']:\n",
    "        print(r[r['Attribute'] ==  )\n",
    "'''"
   ]
  },
  {
   "cell_type": "code",
   "execution_count": 7,
   "metadata": {},
   "outputs": [
    {
     "name": "stdout",
     "output_type": "stream",
     "text": [
      "\"Paging\": {\n",
      "\t\t\"PageIndex\": 1,\n",
      "\t\t\"PageSize\": 5000\n",
      "\t}\n"
     ]
    }
   ],
   "source": [
    "n = 1\n",
    "paging_field = \"\\\"Paging\\\": {\\n\\t\\t\\\"PageIndex\\\": \" + str(n) + \",\\n\\t\\t\\\"PageSize\\\": 5000\\n\\t}\"\n",
    "print(paging_field)"
   ]
  },
  {
   "cell_type": "code",
   "execution_count": 9,
   "metadata": {},
   "outputs": [
    {
     "name": "stdout",
     "output_type": "stream",
     "text": [
      "data = { \n",
      "\t\"Parameter\": {\n",
      "\t\t\"FromDate\": \"2018-05-01 00:00:00\",\n",
      "\t\t\"ToDate\": \"2018-08-01 00:00:00\"\n",
      "\t},\n",
      "\t\"Paging\": {\n",
      "\t\t\"PageIndex\": 1,\n",
      "\t\t\"PageSize\": 5000\n",
      "\t}\n",
      "}\n"
     ]
    },
    {
     "data": {
      "text/plain": [
       "'\\ndata = {\\n    \"Parameter\": {\\n        \"FromDate\": \"2018-05-01 00:00:00\",\\n        \"ToDate\": \"2018-08-01 00:00:00\"\\n    },\\n    paging_field\\n}\\n'"
      ]
     },
     "execution_count": 9,
     "metadata": {},
     "output_type": "execute_result"
    }
   ],
   "source": [
    "data_field = \\\n",
    "\"data = { \\n\\t\\\"Parameter\\\": {\\n\\t\\t\\\"FromDate\\\": \\\"2018-05-01 00:00:00\\\",\\n\\t\\t\\\"ToDate\\\": \\\"2018-08-01 00:00:00\\\"\\n\\t},\\n\\t\\\"Paging\\\": {\\n\\t\\t\\\"PageIndex\\\": \" + str(n) + \",\\n\\t\\t\\\"PageSize\\\": 5000\\n\\t}\\n}\"\n",
    "\n",
    "\n",
    "print(data_field)\n",
    "\n",
    "'''\n",
    "data = {\n",
    "    \"Parameter\": {\n",
    "        \"FromDate\": \"2018-05-01 00:00:00\",\n",
    "        \"ToDate\": \"2018-08-01 00:00:00\"\n",
    "    },\n",
    "    paging_field\n",
    "}\n",
    "'''"
   ]
  },
  {
   "cell_type": "code",
   "execution_count": 10,
   "metadata": {},
   "outputs": [
    {
     "name": "stdout",
     "output_type": "stream",
     "text": [
      "data = { \n",
      "        \"Parameter\": {\n",
      "                \"FromDate\": \"2018-05-01 00:00:00\",\n",
      "                \"ToDate\": \"2018-08-01 00:00:00\"\n",
      "        },\n",
      "        \"Paging\": {\n",
      "                \"PageIndex\": 1,\n",
      "                \"PageSize\": 5000\n",
      "        }\n",
      "}\n"
     ]
    }
   ],
   "source": [
    "result = data_field.expandtabs()\n",
    "print(result)"
   ]
  },
  {
   "cell_type": "code",
   "execution_count": null,
   "metadata": {},
   "outputs": [],
   "source": []
  }
 ],
 "metadata": {
  "kernelspec": {
   "display_name": "Python 3",
   "language": "python",
   "name": "python3"
  },
  "language_info": {
   "codemirror_mode": {
    "name": "ipython",
    "version": 3
   },
   "file_extension": ".py",
   "mimetype": "text/x-python",
   "name": "python",
   "nbconvert_exporter": "python",
   "pygments_lexer": "ipython3",
   "version": "3.6.6"
  }
 },
 "nbformat": 4,
 "nbformat_minor": 2
}
