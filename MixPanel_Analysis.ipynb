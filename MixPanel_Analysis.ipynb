{
 "cells": [
  {
   "cell_type": "code",
   "execution_count": 2,
   "metadata": {},
   "outputs": [
    {
     "name": "stderr",
     "output_type": "stream",
     "text": [
      "/home/monica/anaconda3/lib/python3.6/site-packages/sklearn/ensemble/weight_boosting.py:29: DeprecationWarning: numpy.core.umath_tests is an internal NumPy module and should not be imported. It will be removed in a future NumPy release.\n",
      "  from numpy.core.umath_tests import inner1d\n"
     ]
    }
   ],
   "source": [
    "import pandas as pd\n",
    "import json\n",
    "from pprint import pprint\n",
    "import numpy as np\n",
    "import matplotlib.pyplot as plt\n",
    "import datetime as dt\n",
    "import seaborn as sns\n",
    "import re\n",
    "from sklearn.preprocessing import StandardScaler\n",
    "from sklearn import metrics\n",
    "from sklearn.metrics import r2_score\n",
    "from sklearn.model_selection import train_test_split\n",
    "from sklearn.linear_model import LogisticRegression\n",
    "from sklearn.ensemble import RandomForestClassifier\n",
    "\n",
    "\n",
    "%matplotlib inline\n",
    "\n",
    "with open('/home/monica/mp_new.json') as data_file:\n",
    "   data = json.load(data_file)"
   ]
  },
  {
   "cell_type": "markdown",
   "metadata": {},
   "source": [
    "### What is the number of records?"
   ]
  },
  {
   "cell_type": "code",
   "execution_count": 3,
   "metadata": {},
   "outputs": [
    {
     "name": "stdout",
     "output_type": "stream",
     "text": [
      "Number of records: 306792\n"
     ]
    }
   ],
   "source": [
    "num_records = len(data)\n",
    "print(\"Number of records: {}\".format(num_records))"
   ]
  },
  {
   "cell_type": "markdown",
   "metadata": {},
   "source": [
    "### What does each record look like?"
   ]
  },
  {
   "cell_type": "code",
   "execution_count": 4,
   "metadata": {},
   "outputs": [
    {
     "name": "stdout",
     "output_type": "stream",
     "text": [
      "{'_id': {'$oid': '5b87bcabb56baf6f61c255b4'}, 'event': 'pageView', 'properties': {'city': 'Bengaluru', 'initial_referring_domain': 'www.youtube.com', 'screen_width': 1280, 'initial_referrer': 'https://www.youtube.com/', 'screen_height': 720, 'referrer': 'https://www.youtube.com/', 'region': 'Karnataka', 'mp_lib': 'web', 'utm_campaign': 'enrol-statistics-tutorial-FmWz4deqo9g_medium=VM', 'current_url': 'https://acadgild.com/big-data/deep-learning-course-training-certification?utm_campaign=enrol-statistics-tutorial-FmWz4deqo9g_medium=VM&utm_source=youtube', 'lib_version': '2.22.4', 'browser_version': 67, 'distinct_id': '16454a432b02ef-00fe07f10d6e26-47e1039-e1000-16454a432b238e', 'utm_source': 'youtube', 'time': 1530403204, 'mp_country_code': 'IN', 'referring_domain': 'www.youtube.com', 'os': 'Windows', 'browser': 'Chrome'}}\n"
     ]
    }
   ],
   "source": [
    "print(data[0])"
   ]
  },
  {
   "cell_type": "markdown",
   "metadata": {},
   "source": [
    "### What does 'id' field contain?"
   ]
  },
  {
   "cell_type": "code",
   "execution_count": 5,
   "metadata": {},
   "outputs": [
    {
     "name": "stdout",
     "output_type": "stream",
     "text": [
      "{'$oid': '5b87bcabb56baf6f61c255b4'}\n"
     ]
    }
   ],
   "source": [
    "print(data[0]['_id'])"
   ]
  },
  {
   "cell_type": "markdown",
   "metadata": {},
   "source": [
    "### What does 'event' field contain?"
   ]
  },
  {
   "cell_type": "code",
   "execution_count": 6,
   "metadata": {},
   "outputs": [
    {
     "name": "stdout",
     "output_type": "stream",
     "text": [
      "pageView\n"
     ]
    }
   ],
   "source": [
    "print(data[0]['event'])"
   ]
  },
  {
   "cell_type": "markdown",
   "metadata": {},
   "source": [
    "### What does 'properties' field contain?"
   ]
  },
  {
   "cell_type": "code",
   "execution_count": 7,
   "metadata": {},
   "outputs": [
    {
     "name": "stdout",
     "output_type": "stream",
     "text": [
      "{'city': 'Bengaluru', 'initial_referring_domain': 'www.youtube.com', 'screen_width': 1280, 'initial_referrer': 'https://www.youtube.com/', 'screen_height': 720, 'referrer': 'https://www.youtube.com/', 'region': 'Karnataka', 'mp_lib': 'web', 'utm_campaign': 'enrol-statistics-tutorial-FmWz4deqo9g_medium=VM', 'current_url': 'https://acadgild.com/big-data/deep-learning-course-training-certification?utm_campaign=enrol-statistics-tutorial-FmWz4deqo9g_medium=VM&utm_source=youtube', 'lib_version': '2.22.4', 'browser_version': 67, 'distinct_id': '16454a432b02ef-00fe07f10d6e26-47e1039-e1000-16454a432b238e', 'utm_source': 'youtube', 'time': 1530403204, 'mp_country_code': 'IN', 'referring_domain': 'www.youtube.com', 'os': 'Windows', 'browser': 'Chrome'}\n",
      "19\n",
      "dict_keys(['city', 'initial_referring_domain', 'screen_width', 'initial_referrer', 'screen_height', 'referrer', 'region', 'mp_lib', 'utm_campaign', 'current_url', 'lib_version', 'browser_version', 'distinct_id', 'utm_source', 'time', 'mp_country_code', 'referring_domain', 'os', 'browser'])\n",
      "----------------------------------------------------------------------------------------------------\n",
      "dict_keys(['utm_content', 'browser_version', 'search_engine', 'city', 'initial_referring_domain', 'lib_version', 'utm_medium', 'browser', 'screen_width', 'initial_referrer', 'utm_campaign', 'time', 'current_url', 'distinct_id', 'utm_source', 'device', 'mp_country_code', 'referrer', 'region', 'mp_lib', 'mp_processing_time_ms', 'referring_domain', 'os', 'screen_height'])\n",
      "----------------------------------------------------------------------------------------------------\n",
      "298994 24\n",
      "303109 24\n"
     ]
    }
   ],
   "source": [
    "print(data[0]['properties'])\n",
    "print(len((data[0]['properties'].keys())))\n",
    "print(data[0]['properties'].keys())\n",
    "print('-'*100)\n",
    "print(data[298994]['properties'].keys())\n",
    "print('-'*100)\n",
    "\n",
    "for i in range(len(data)):\n",
    "    if(len(data[i]['properties'].keys()) > 23):\n",
    "        print(i, len(data[i]['properties'].keys()))"
   ]
  },
  {
   "cell_type": "markdown",
   "metadata": {},
   "source": [
    "### What are the unique events stored in the data?"
   ]
  },
  {
   "cell_type": "code",
   "execution_count": 8,
   "metadata": {},
   "outputs": [
    {
     "name": "stdout",
     "output_type": "stream",
     "text": [
      "['pageView', 'coursepage-navigator-curriculum', 'coursepage-navigator-coursecomparison', 'coursepage-navigator-whythiscourse', 'coursepage-navigator-acadgildexperience', 'course-page-download-syllabus-btn', 'coursepage-navigator-faqs', 'coursepage-navigator-courseoverview', 'coursepage-stickyform-enrollnow-btn', 'campaign_delivery']\n"
     ]
    }
   ],
   "source": [
    "events = []\n",
    "for record in range(len(data)):\n",
    "    if (data[record]['event'] not in events):\n",
    "        events.append(data[record]['event'])\n",
    "        \n",
    "print(events)"
   ]
  },
  {
   "cell_type": "markdown",
   "metadata": {},
   "source": [
    "### What are the properties of the lead being stored?"
   ]
  },
  {
   "cell_type": "code",
   "execution_count": 9,
   "metadata": {},
   "outputs": [
    {
     "name": "stdout",
     "output_type": "stream",
     "text": [
      "['city', 'initial_referring_domain', 'screen_width', 'initial_referrer', 'screen_height', 'referrer', 'region', 'mp_lib', 'utm_campaign', 'current_url', 'lib_version', 'browser_version', 'distinct_id', 'utm_source', 'time', 'mp_country_code', 'referring_domain', 'os', 'browser']\n"
     ]
    }
   ],
   "source": [
    "print(list(data[0]['properties'].keys()))"
   ]
  },
  {
   "cell_type": "markdown",
   "metadata": {},
   "source": [
    "### Create a dataframe with relevant columns"
   ]
  },
  {
   "cell_type": "code",
   "execution_count": null,
   "metadata": {},
   "outputs": [],
   "source": [
    "column_names = ['id', 'event', 'utm_content', 'browser_version', 'search_engine', 'city', \\\n",
    "                'initial_referring_domain', 'lib_version', 'utm_medium', 'browser', 'screen_width',\\\n",
    "                'initial_referrer', 'utm_campaign', 'time', 'current_url', 'distinct_id', 'utm_source',\\\n",
    "                'device', 'mp_country_code', 'referrer', 'region', 'mp_lib', 'mp_processing_time_ms', \\\n",
    "                'referring_domain', 'os', 'screen_height']\n",
    "\n",
    "b_data = pd.DataFrame(columns = column_names)\n",
    "    \n",
    "b_data['id'] = pd.Series([data[x]['_id']['$oid'] for x in range(len(data))])\n",
    "b_data['event'] = pd.Series([data[x]['event'] for x in range(len(data))])\n",
    "\n",
    "\n",
    "#There may be missing fields for a record\n",
    "for x in range(len(data)):\n",
    "    for column in column_names[2:]:  \n",
    "        #print(x, column)\n",
    "        if (column in data[x]['properties'].keys()):\n",
    "            b_data.iloc[x][column] = data[x]['properties'][column]\n",
    "        \n",
    "    #b_data[column] = pd.Series([data[x]['properties'][column] for x in range(len(data)) \\\n",
    "          #                      if column in data[x]['properties'].keys()])\n",
    "\n",
    "  \n"
   ]
  },
  {
   "cell_type": "markdown",
   "metadata": {},
   "source": [
    "### Getting number of unique values possible for Region, City, MP_Country_Code for Location information"
   ]
  },
  {
   "cell_type": "code",
   "execution_count": null,
   "metadata": {},
   "outputs": [],
   "source": [
    "print(len(list(b_data['city'].unique())))\n",
    "print(len(list(b_data['region'].unique())))\n",
    "print(len(list(b_data['mp_country_code'].unique())))"
   ]
  },
  {
   "cell_type": "code",
   "execution_count": null,
   "metadata": {},
   "outputs": [],
   "source": [
    "print(list(b_data['city'].unique()))\n",
    "print(\"=\" * 70)\n",
    "print(list(b_data['region'].unique()))\n",
    "print(\"=\" * 70)\n",
    "print(list(b_data['mp_country_code'].unique()))\n",
    "print(\"=\" * 70)"
   ]
  },
  {
   "cell_type": "markdown",
   "metadata": {},
   "source": [
    "### Visualizing the distribution of browsers by Country"
   ]
  },
  {
   "cell_type": "code",
   "execution_count": 12,
   "metadata": {
    "scrolled": true
   },
   "outputs": [
    {
     "name": "stdout",
     "output_type": "stream",
     "text": [
      "                             id     event utm_content browser_version  \\\n",
      "7184   5b87bcb4b56baf6f61c271c4  pageView         NaN              60   \n",
      "67154  5b87be1fb56baf6f61c35c06  pageView         NaN              67   \n",
      "\n",
      "      search_engine       city initial_referring_domain lib_version  \\\n",
      "7184            NaN  Ellenwood          www.youtube.com      2.22.4   \n",
      "67154        google  Ellenwood                   direct      2.22.4   \n",
      "\n",
      "      utm_medium  browser      ...      utm_source device mp_country_code  \\\n",
      "7184          VM  Firefox      ...         youtube    NaN              US   \n",
      "67154        NaN   Chrome      ...             NaN    NaN              US   \n",
      "\n",
      "                       referrer   region mp_lib mp_processing_time_ms  \\\n",
      "7184   https://www.youtube.com/  Georgia    web                   NaN   \n",
      "67154                       NaN  Georgia    web                   NaN   \n",
      "\n",
      "      referring_domain       os screen_height  \n",
      "7184   www.youtube.com  Windows           768  \n",
      "67154              NaN    Linux          1080  \n",
      "\n",
      "[2 rows x 26 columns]\n"
     ]
    }
   ],
   "source": [
    "print(b_data[b_data['city'] == 'Ellenwood'])"
   ]
  },
  {
   "cell_type": "code",
   "execution_count": 1,
   "metadata": {},
   "outputs": [
    {
     "ename": "NameError",
     "evalue": "name 'b_data' is not defined",
     "output_type": "error",
     "traceback": [
      "\u001b[0;31m---------------------------------------------------------------------------\u001b[0m",
      "\u001b[0;31mNameError\u001b[0m                                 Traceback (most recent call last)",
      "\u001b[0;32m<ipython-input-1-a81955b4abe9>\u001b[0m in \u001b[0;36m<module>\u001b[0;34m()\u001b[0m\n\u001b[1;32m      1\u001b[0m \u001b[0;34m\u001b[0m\u001b[0m\n\u001b[0;32m----> 2\u001b[0;31m \u001b[0mIndia_data\u001b[0m \u001b[0;34m=\u001b[0m \u001b[0mb_data\u001b[0m\u001b[0;34m[\u001b[0m\u001b[0mb_data\u001b[0m\u001b[0;34m[\u001b[0m\u001b[0;34m'mp_country_code'\u001b[0m\u001b[0;34m]\u001b[0m \u001b[0;34m==\u001b[0m \u001b[0;34m'IN'\u001b[0m\u001b[0;34m]\u001b[0m\u001b[0;34m\u001b[0m\u001b[0m\n\u001b[0m\u001b[1;32m      3\u001b[0m \u001b[0;34m\u001b[0m\u001b[0m\n\u001b[1;32m      4\u001b[0m \u001b[0;31m#print(len(list(India_data['city'].unique())))\u001b[0m\u001b[0;34m\u001b[0m\u001b[0;34m\u001b[0m\u001b[0m\n\u001b[1;32m      5\u001b[0m \u001b[0;31m#print(\"=\" * 100)\u001b[0m\u001b[0;34m\u001b[0m\u001b[0;34m\u001b[0m\u001b[0m\n",
      "\u001b[0;31mNameError\u001b[0m: name 'b_data' is not defined"
     ]
    }
   ],
   "source": [
    "\n",
    "India_data = b_data[b_data['mp_country_code'] == 'IN']\n",
    "\n",
    "#print(len(list(India_data['city'].unique())))\n",
    "#print(\"=\" * 100)\n",
    "#print(list(India_data['city'].unique()))\n",
    "plt.figure(figsize=(20,10))\n",
    "#f.groupby(\"Col2\").filter(lambda x: len(x) >= 5) \n",
    "grouped_data = b_data['mp_country_code'].groupby([b_data['mp_country_code']]).count()\n",
    "print(grouped_data)\n",
    "\n",
    "#grouped_data = b_data.groupby('mp_country_code').filter(lambda x: len(x) >= 5)\n",
    "grouped_data.plot(kind='bar')"
   ]
  },
  {
   "cell_type": "code",
   "execution_count": 14,
   "metadata": {},
   "outputs": [
    {
     "name": "stdout",
     "output_type": "stream",
     "text": [
      "1083\n",
      "====================================================================================================\n",
      "['Seattle', 'San Diego', 'San Mateo', 'Fredericksburg', 'San Francisco', 'New Brunswick', 'New York', 'Brooklyn', 'Mountain View', 'Milpitas', 'Norcross', 'Alhambra', 'San Jose', 'Houston', 'Charlotte', 'Boynton Beach', 'Gaithersburg', 'Oklahoma City', 'Minnetonka', 'Lancaster', 'Columbus', 'Solon', 'Huntersville', 'Sacramento', nan, 'Irving', 'Aurora', 'Ames', 'North Richland Hills', 'Cupertino', 'Naperville', 'Fairfax', 'Bloomington', 'Collierville', 'Cumming', 'Memphis', 'Santa Clara', 'Atlanta', 'Dublin', 'Plano', 'Boston', 'Denver', 'Cementon', 'Ashburn', 'Mount Holly', 'Bellevue', 'Loma Linda', 'Fremont', 'St Louis', 'Palo Alto', 'Campbell', 'Phoenix', 'Dallas', 'Tempe', 'Chelmsford', 'Irvine', 'Woodhaven', 'Piscataway', 'Los Angeles', 'Cedar Park', 'Chicago', 'Pharr', 'Naples', 'Pleasanton', 'Portland', 'Hoboken', 'West Chester', 'Lowell', 'Philadelphia', 'Port Orange', 'Stone Mountain', 'Interlaken', 'Hanford', 'Madison', 'Oakland', 'Delray Beach', 'Chico', 'Toledo', 'Cheshire', 'Sandy', 'Raleigh', 'Centreville', 'Schaumburg', 'Jackson', 'Joliet', 'Long Branch', 'Eastlake', 'Garland', 'Halethorpe', 'Menlo Park', 'Saratoga', 'Wexford', 'Jersey City', 'Boca Raton', 'Monroe', 'Astoria', 'Elizabeth', 'Plymouth', 'Parker', 'Alviso', 'Falls Church', 'Lincolnshire', 'Royal Oak', 'Silver Spring', 'College Station', 'Beverly Hills', 'Fresno', 'Norristown', 'Concord', 'Bear', 'Hillsboro', 'Fayetteville', 'Clarkston', 'Manchester', 'Gilbert', 'Delmont', 'Baltimore', 'Leesburg', 'Jamestown', 'Las Vegas', 'Issaquah', 'Stamford', 'Manassas', 'Greeneville', 'Franklin', 'Springfield', 'Milford', 'Coppell', 'Napa', 'Portsmouth', 'Grand Island', 'Ellenwood', 'Buckeye', 'Birmingham', 'Orlando', 'Englewood', 'Bethel', 'Columbia', 'Presto', 'Edison', 'Jonesboro', 'Syracuse', 'Carlisle', 'Pittsfield', 'Carrollton', 'Richardson', 'Mundelein', 'Loveland', 'Grand Rapids', 'Carmel Valley', 'Cheyenne', 'Allen', 'Studio City', 'Alpharetta', 'Panama City', 'Jacksonville', 'Fort Lauderdale', 'Upperco', 'Round Lake', 'Covington', 'Kent', 'Pearland', 'Framingham', 'Bakersfield', 'Bowie', 'Frisco', 'Union City', 'Marcus Hook', 'Auburn Hills', 'Newark', 'Durham', 'Mankato', 'Plainfield', 'North Chicago', 'Redmond', 'San Antonio', 'Maiden', 'Arlington', 'West Palm Beach', 'Buford', 'Attleboro', 'East Brunswick', 'Hialeah', 'Livermore', 'Dunellen', 'Chantilly', 'Port Washington', 'Riverton', 'Libertyville', 'Kannapolis', 'Cerritos', 'Richmond', 'Salem', 'Alameda', 'Lexington', 'Fort Worth', 'Cary', 'Fairfield', 'Kenosha', 'Stoughton', 'Powell', 'Pahrump', 'Berkeley', 'Vernon Hills', 'Chandler', 'Dayton', 'Fullerton', 'Detroit', 'Covina', 'Pico Rivera', 'Albany', 'Geneseo', 'Mesa', 'Avondale', 'West Des Moines', 'Paramus', 'Boise', 'Chattanooga', 'Salt Lake City', 'Elk Grove Village', 'Lake Zurich', 'Baker City', 'Monmouth Junction', 'Des Moines', 'Thomasville', 'Lansing', 'Westford', 'Quincy', 'Germantown', 'Stockton', 'Harrisburg', 'Tampa', 'Lakeland', 'Norwood', 'Hackensack', 'Falfurrias', 'Burlingame', 'San Ramon', 'Asbury Park', 'Hartford', 'Sunnyvale', 'Muncie', 'Champaign', 'North Hollywood', 'South Windsor', 'Hamilton', 'Riverdale', 'Rancho Cucamonga', 'Randolph Township', 'Kansas City', 'Enola', 'DeKalb', 'Katy', 'Kearny', 'Winter Haven', 'Providence', 'New Castle', 'Alfred', 'Macon', 'Roanoke', 'Davenport', 'Charlottesville', 'Harlingen', 'Arlington Heights', 'Southfield', 'Spring', 'Beaumont', 'Gainesville', 'Burleson', 'Vienna', 'Batavia', 'Chesapeake', 'Johnstown', 'Glenside', 'Wilmington', 'Cincinnati', 'Glendale', 'Gilroy', 'Palm Beach Gardens', 'Washington', 'Saint Paul', 'Miami', 'Passaic', 'Mooresville', 'Nashville', 'West Hartford', 'Pittsburgh', 'Rochester', 'Elmhurst', 'Alexandria', 'Belmont', 'Princeton', 'Santa Ana', 'Boardman', 'The Bronx', 'Forest Hills', 'Tuscaloosa', 'Half Moon Bay', 'Lynnwood', 'Westborough', 'Moscow', 'Grafton', 'Warren Township', 'Lake Villa', 'Redwood City', 'Hayward', 'Culpeper', 'Winter Park', 'Hoffman Estates', 'Emerson', 'Keller', 'Stockbridge', 'Marietta', 'Austin', 'Clifton', 'Staten Island', 'Mount Pleasant', 'Rockwall', 'Healy', 'Clifton Park', 'Rockford', 'Boydton', 'Branson', 'Irvington', 'South Gate', 'Novi', 'Torrance', 'Conroe', 'San Fernando', 'Colorado Springs', 'North Brunswick', 'Euless', 'Manahawkin', 'Herndon', 'Simi Valley', 'North Hills', 'Plainview', 'Cookeville', 'Mount Laurel', 'North Bergen', 'Bordentown', 'Nanuet', 'Shrewsbury', 'Malden', 'Maineville', 'Hillsborough', 'Metuchen', 'Missouri City', 'Binghamton', 'Santa Cruz', 'Voorhees Township', 'Madisonville', 'Uniontown', 'Gambrills', 'Matawan', 'Taylor', 'New Paltz', 'Short Hills', 'Alvin', 'Port Orchard', 'Tipp City', 'Newburgh', 'Nacogdoches', 'Buena Park', 'Yuma', 'Valencia', 'Tullahoma', 'Long Beach', 'Port Chester', 'Baton Rouge', 'Yuba City', 'Tallahassee', 'Raritan', 'Flushing', 'Daly City', 'Bluffton', 'Holbrook', 'White Plains', 'Henderson', 'Blue Island', 'Vancouver', 'Prospect Heights', 'Tesuque', 'Waltham', 'Fontana', 'Danville', 'Porter', 'Villa Park', 'Lewes', 'Wakefield', 'Santa Paula', 'Hyattsville', 'Reston', 'Johnson City', 'Louisville', 'Rohnert Park', 'Bell', 'Norwalk', 'Temecula', 'Ogden', 'Queen Creek', \"O'Fallon\", 'Ellicott City', 'Omaha', 'Santa Monica', 'Gurnee', 'Carlsbad', 'Charlestown', 'Clanton', 'Minneapolis', 'Elkton', 'Bolingbrook', 'Sanford', 'Nahunta', 'Milltown', 'Woodbridge', 'Wheeling', 'Sioux City', 'Watertown', 'Hoffman', 'Cleveland', 'Rosemead', 'Lebanon', 'Provo', 'Bartlesville', 'Plainville', 'El Sobrante', 'Leander', 'West Covina', 'Shreveport', 'Parsippany', 'North Tonawanda', 'South Ozone Park', 'Pasadena', 'Sugar Land', 'Atlantic City', 'Coral Gables', 'Pekin', 'Topeka', 'Virginia Beach', 'Towson', 'Westwood', 'Sunnyside', 'Milwaukee', 'Westminster', 'West Bend', 'Hollywood', 'Bentonville', 'Whittier', 'Lewisville', 'Bloomfield Hills', 'North Providence', 'New Orleans', 'Norco', 'Lithia', 'Teaneck', 'Jamaica', 'Peoria', 'Yonkers', 'Franklin Park', 'Lansdale', 'Holmdel', 'Bryan', 'Frederick', 'Irmo', 'Oak Park', 'Briarcliff Manor', 'Decatur', 'Rock Hill', 'Lewis Center', 'Burlington', 'Ambler', 'Willoughby', 'Burbank', 'Winnsboro', 'El Cerrito', 'Wilson', 'Folsom', 'Oyster Bay', 'Johnston', 'Bradenton', 'Rocklin', 'Fishers', 'Rogers', 'Rockville', 'Cedar Rapids', 'Langhorne', 'Newtonville', 'Wallingford', 'Ossining', 'Little Elm', 'Stafford', 'New Market', 'Canton', 'Fort Wayne', 'Lilburn', 'La Grange', 'Elkridge', 'Newtown', 'Wichita', 'Trenton', 'Troy', 'Melbourne', 'Corona', 'Venice', 'South Hamilton', 'Tustin', 'Parkville', 'Poughkeepsie', 'Milton', 'Palm Coast', 'Delaware', 'Clermont', 'Windham', 'Kirkland', 'El Paso', 'Saint George', 'Tinley Park', 'Clinton', 'Saratoga Springs', 'Lewisburg', 'Georgetown', 'Douglas', 'Las Cruces', 'Urbana', 'Old Bridge', 'Albuquerque', 'Fort Collins', 'Keyport', 'Gwynn Oak', 'Woodland Hills', 'District Heights', 'Downers Grove', 'East Hampton', 'Normal', 'Westlake Village', 'Petaluma', 'West Lafayette', 'King of Prussia', 'Plainsboro', 'Odessa', 'Oldsmar', 'Chino Hills', 'Bristow', 'Farmington', 'Reading', 'Woonsocket', 'North Port', 'Grand Prairie', 'Hammond', 'Anaheim', 'Foley', 'Sparta', 'Trumbull', 'Carbondale', 'Hudson', 'Northridge', 'Asheville', 'Flint', 'Chesterfield', 'Myrtle Beach', 'Port Richey', 'Mount Prospect', 'Corvallis', 'Rio Rancho', 'Diamond Bar', 'Conway', 'Opa-locka', 'Salinas', 'Bartlett', 'Apex', 'Ashland', 'Mt. Pleasant', 'Stroudsburg', 'West New York', 'Satellite Beach', 'Tracy', 'Kalamazoo', 'Buffalo', 'The Colony', 'Killeen', 'Bristol', 'Allentown', 'Antioch', 'Ellsworth', 'Bothell', 'Dearborn', 'Perth Amboy', 'North Branch', 'Montgomery', 'Brandon', 'Monterey Park', 'Mission', 'Canoga Park', 'College Park', 'Macungie', 'Greenfield', 'Iselin', 'Stowe', 'Scottsdale', 'Dover', 'Lutz', 'Augusta', 'Des Plaines', 'Huntley', 'Princeton Junction', 'Longwood', 'Lombard', 'Bedford', 'Chevy Chase', 'Brookhaven', 'Williamsburg', 'Indianapolis', 'Honolulu', 'Boulder', 'Roswell', 'St. Petersburg', 'Berwyn', 'South Amboy', 'Duluth', 'Palm Desert', 'Totowa', 'Largo', 'Cullowhee', 'Monterey', 'Aldie', 'Wethersfield', 'Buffalo Grove', 'Ventura', 'Compton', 'Bayside', 'East Alton', 'Carmel', 'Ocala', 'Tifton', 'Saint Cloud', 'Middletown', 'Sebastopol', 'Essex', 'Florence', 'Clarksburg', 'Montgomery Village', 'Round Rock', 'Grand Ledge', 'Castro Valley', 'Chester', 'Denville', 'Absecon', 'Ridgefield', 'Santa Rosa', 'Santa Barbara', 'Stratford', 'Artesia', 'Yukon', 'Palatine', 'Greensboro', 'Altadena', 'Hercules', 'Cos Cob', 'Bloomingdale', 'Duvall', 'Hollis', 'Spring Hill', 'Palm Springs', 'Macomb', 'Florham Park', 'Medford', 'Great Falls', 'De Pere', 'Wenatchee', 'Piedmont', 'Supply', 'Grass Valley', 'McKinney', 'Island Lake', 'New Braunfels', 'Glen Allen', 'Daytona Beach', 'Canal Winchester', 'Stephens City', 'Cranbury', 'Hingham', 'Bethel Park', 'Seal Beach', 'Dixons Mills', 'Tuskegee', 'Boxboro', 'Zionsville', 'Overland Park', 'East Orange', 'Yulee', 'Fort Lee', 'Lenexa', 'Granada Hills', 'West Chicago', 'Waukegan', 'Sturgis', 'Snellville', 'Huntsville', 'Westbury', 'Muskegon', 'Brockport', 'Flower Mound', 'Fort Mill', 'Olympia', 'Saint Charles', 'Bethania', 'Morristown', 'West Orange', 'Lorton', 'Valrico', 'Bayonne', 'Schenectady', 'Littleton', 'Spartanburg', 'Catskill', 'Saint Clair Shores', 'DeLand', 'Renton', 'Long Island City', 'Brookline', 'Stony Brook', 'Pennsville', 'Davis', 'Marina', 'Brownsburg', 'West Babylon', 'Midvale', 'Lithonia', 'Waukee', 'Norfolk', 'Culver City', 'Universal City', 'Cambridge', 'Laurel', 'Oviedo', 'Port Charlotte', 'Miamisburg', 'Eden Prairie', 'Palmer', 'Roseville', 'Chino', 'Palm Bay', 'Pampa', 'Havelock', 'Millersville', 'Murfreesboro', 'Clovis', 'Roseland', 'Lake Charles', 'North Chelmsford', 'Far Rockaway', 'Corpus Christi', 'Dalton', 'Maquoketa', 'Greenwich', 'Hudsonville', 'Merrillville', 'Belvidere', 'Orange', 'Worcester', 'Gibsonia', 'DeFuniak Springs', 'Boyden', 'Riverside', 'Geneva', 'Tucson', 'Ontario', 'El Monte', 'Converse', 'Bloomfield', 'Lake Worth', 'San Bruno', 'Brentwood', 'Laguna Hills', 'Cody', 'Portage', 'Kissimmee', 'Marysville', 'Los Altos', 'Garden Grove', 'Moorpark', 'Maple Grove', 'Hemet', 'Camden', 'Xenia', 'Bridgeport', 'Ocoee', 'Bedminster', 'Palm Harbor', 'Longview', 'Bellingham', 'Acton', 'Smyrna', 'Krum', 'Agoura Hills', 'Mesquite', 'Kokomo', 'Los Gatos', 'Hampton', 'San Bernardino', 'New Bedford', 'Brookfield', 'Bladensburg', 'Warren', 'Jackson Heights', 'North Aurora', 'Valley Stream', 'Pikesville', 'Parlin', 'Cypress', 'Tacoma', 'Bellwood', 'San Marcos', 'Springfield Gardens', 'Itasca', 'Ann Arbor', 'Morrisville', 'Bluefield', 'Simpsonville', 'Vero Beach', 'Oceanside', 'Notre Dame', 'Whitestone', 'Mechanicsburg', 'Federal Way', 'Somerville', 'Savannah', 'Massapequa', 'Roseburg', 'Cape Elizabeth', 'Hicksville', 'Melville', 'Lanham', 'San Leandro', 'Claremore', 'Prosper', 'Pittsburg', 'Sherman Oaks', 'Centerton', 'Montville', 'Warrington', 'Maple Shade Township', 'Macclenny', 'North Charleston', 'Prospect', 'Chagrin Falls', 'Santa Maria', 'North Bend', 'Griffin', 'Sarasota', 'Cape Girardeau', 'Sierra Vista', 'Rancho Cordova', 'Montebello', 'Hinsdale', 'Ellington', 'Pittsford', 'Redlands', 'Kelseyville', 'Natick', 'Ketchikan', 'Grapevine', 'Rosedale', 'Indio', 'Tulsa', 'Liberty Hill', 'Louisa', 'Arvada', 'Midlothian', 'Mauldin', 'Reynoldsburg', 'Easley', 'Clementon', 'Mobile', 'Pineville', 'Suitland', 'Racine', 'Arden', 'Brea', 'Union', 'Beaverdam', 'Wantagh', 'Lawrence', 'Richmond Hill', 'Wylie', 'Houghton', 'Hillsdale', 'Highland Park', 'Baldwin', 'Central Islip', 'Cantonment', 'Brookings', 'Beaverton', 'South Bend', 'Patchogue', 'DeWitt', 'Fenton', 'Thousand Oaks', 'Marina del Rey', 'Murrieta', 'Big Lake', 'Malvern', 'Oregon', 'Cedar Falls', 'Walnut Creek', 'Pompano Beach', 'Ocean City', 'Lutherville', 'Forest Park', 'Sterling', 'Bountiful', 'Clearwater', 'Sumrall', 'Pinellas Park', 'Sun City', 'Clarksville', 'Fitzgerald', 'Dumont', 'Oxnard', 'Niles', 'East Elmhurst', 'Douglasville', 'Summit', 'Springboro', 'Exeter', 'Arab', 'Lawrenceville', 'Little Rock', 'Spokane', 'Lincoln', 'Lynn', 'Hooksett', 'Tyler', 'Haskell', 'Simonton', 'Little Ferry', 'Tucker', 'Severn', 'Boyne City', 'Mill Valley', 'Hobe Sound', 'Greeley', 'Gardena', 'Bowling Green', 'Skokie', 'Livonia', 'Montvale', 'Staunton', 'Mason', 'Brighton', 'Winston-Salem', 'Allen Park', 'Pine Brook', 'Chatsworth', 'Moorestown', 'Huntington', \"Land O' Lakes\", 'Springville', 'La Crosse', 'Modesto', 'Vineland', 'Clawson', 'Fairburn', 'Merced', 'Waterloo', 'Reno', 'Hopkins', 'Glencoe', 'Brunswick', 'Southington', 'Crete', 'Rancho Palos Verdes', 'Rocky Hill', 'Closter', 'Ballwin', 'Warrensburg', 'Chelsea', 'Hyde Park', 'Vallejo', 'Gulfport', 'Greenwood', 'Valley Village', 'McHenry', 'Laplace', 'Woodridge', 'El Cajon', 'Pensacola', 'Gypsum', 'Waterford', 'Willowbrook', 'Neenah', 'Zion', 'New Hartford', 'Fountain Hills', 'Ridgewood', 'Lubbock', 'Enumclaw', 'Deltona', 'Webster', 'Santa Fe', 'Snohomish', 'Brook Park', 'Bethlehem', 'Denton', 'Potomac', 'Sunland', 'Tualatin', 'Bossier City', 'Roselle Park', 'Peachtree City', 'Rising Sun', 'Gloucester City', 'Pomona', 'North Little Rock', 'Downey', 'Bridgewater', 'Southlake', 'Wayne', 'Crestline', 'Orland Park', 'Costa Mesa', 'Ypsilanti', 'South San Francisco', 'Peyton', 'Northbrook', 'Desert Hot Springs', 'Woburn', 'Highland', 'Warwick', 'Maumelle', 'Upland', 'Butler', 'Nampa', 'Fargo', 'Great Mills', 'Montclair', 'Cranford', 'Woodstock', 'Ronkonkoma', 'Carol Stream', 'East Stroudsburg', 'Gilberts', 'Dobbs Ferry', 'Newport News', 'Erie', 'Woodside', 'Suwanee', 'Walnut', 'Englishtown', 'Groves', 'Kitty Hawk', 'Queens Village', 'Fresh Meadows', 'Youngstown', 'Anderson', 'Livingston', 'Springdale', 'Ithaca', 'Lafayette', 'Woodward', 'Quantico', 'East Lansing', 'Lynchburg', 'Sammamish', 'Clemmons', 'Humble', 'Alma', 'South Orange', 'Reynard', 'Bensenville', 'Pacoima', 'Bensalem', 'Reseda', 'Nashua', 'Moab', 'Mebane', 'Hamden', 'Bradley', 'Rego Park', 'Amherst', 'Fort Rucker', 'Stillwater']\n"
     ]
    }
   ],
   "source": [
    "US_data = b_data[b_data['mp_country_code'] == 'US']\n",
    "\n",
    "print(len(list(US_data['city'].unique())))\n",
    "print(\"=\"*100)\n",
    "print(list(US_data['city'].unique()))\n"
   ]
  },
  {
   "cell_type": "code",
   "execution_count": 15,
   "metadata": {},
   "outputs": [
    {
     "name": "stdout",
     "output_type": "stream",
     "text": [
      "1395\n",
      "====================================================================================================\n",
      "['Singapore', 'Dubai', nan, 'Vienna', 'Colombo', 'Amman', 'Chichawatni', 'Kensington', 'Calgary', 'Lahore', 'Gatineau', 'Shah Alam', 'Yangon', 'Bedford', 'Cambridge', 'Codlea', 'Wolverhampton', 'Central', 'Paris', 'London', 'Mosonmagyaróvár', 'Douar Jdida', 'Riyadh', 'Toronto', 'Douar Tardane', 'Merrylands', 'Lagos', 'Brisbane', 'Ajax', 'Dammam', 'Tbilisi', 'Bristol', 'Puchong Batu Dua Belas', 'Pretoria', 'Kathmandu', 'Derby', 'Burwood', 'Tokyo', 'Vancouver', 'North York', 'Guayaquil', 'Markham', 'Muscat', 'Ipoh', 'Mississauga', 'Montreal', 'Hounslow', 'Surry Hills', 'Athens', 'Bikin', 'Nairobi', 'Copenhagen', 'Islamabad', 'Etobicoke', 'Almere Stad', 'Trujillo', 'Malé', 'Mira', 'Aurora', 'Croydon', 'Winnipeg', 'Karachi', 'Brampton', 'Edmonton', 'Walsall', 'Sora', 'Iași', 'Sharjah', 'Stoke Newington', 'Heuchelheim', 'Wolfsburg', 'Walthamstow', 'Benin City', 'Casablanca', 'San Juan', 'Hendra', 'Amsterdam', 'Poelten', 'Sulaymaniyah', 'Johor Bahru', 'Saitama', 'Milton', 'Saint Lucia', 'Westmead', 'Shenzhen', 'Accra', 'Helsingborg', 'Ho Chi Minh City', 'St. Thomas', 'Kanata', 'Dhaka', 'Kabul', 'Vitória', 'Milan', 'Oslo', 'Revesby', 'Bergen', 'Beirut', 'Kuala Lumpur', 'Hangzhou', 'Kota Kinabalu', 'Jakarta', 'Tallinn', 'Cherrybrook', 'Phnom Penh', 'Herzliya', \"Ha'il\", 'Surrey', 'Hanoi', 'Manama', 'Dhahran', 'Sydney', 'Porto', 'Cranbourne', 'West Drayton', 'Wellington', 'Melbourne', 'Beijing', 'São Paulo', 'Windhoek', 'Wood Green', 'Dusseldorf', 'Jeddah', 'Zagreb', 'Mirpur', 'Ankara', 'Addis Ababa', 'Kampala', 'Regina', 'Doha', 'Harare', 'Santiago', 'Sofia', 'Rome', 'Bangkok', 'Barrie', 'Moscow', 'Medan', 'Lloydminster', 'St. Albert', 'Davao City', 'Hawthorn', 'Dakar', 'Basingstoke', 'Çanakkale', 'Palmas', 'Incheon', 'Sousse', 'Abu Dhabi', 'Haywood', 'Prague', 'Bahía Blanca', 'Khon Kaen', 'Coimbra', 'Krakow', 'Goiânia', 'Newcastle upon Tyne', 'Peshawar', 'Istanbul', 'Zaporizhia', 'Isieke', 'Halifax', 'Lima', 'Surabaya', 'Abbotsford', 'Sorocaba', 'Moncton', 'Ajman', 'Macquarie Park', \"St. John's\", 'Victoria', 'Dublin', 'Frankfurt am Main', 'San José', 'Hemel Hempstead', 'Sarnia', 'Taipei', 'Mexico City', 'Quezon City', 'Perth', 'Makati City', 'Da Nang', 'Novi Sad', 'Macerata', 'Scarborough', 'Amadora', 'Lublin', 'Samara', 'Chongqing', 'Guaynabo', 'Settat', 'Darmstadt', 'Camden', 'Suleja', 'Oberursel', 'Belleville', 'Cairo', 'Douar Kalaa', 'Holon', 'Amersham', 'Timișoara', 'Zurich', 'Port-au-Prince', 'Loja', 'Orleans', 'Richmond Hill', 'Wembley', 'Ramallah', 'Campsie', 'Burnaby', 'Wandsworth', 'Munich', 'Carshalton', 'Saint John', 'Chemnitz', 'Petaling Jaya', 'Brasília', 'Hughesdale', 'Helwan', 'Bogotá', 'Nanjing', 'Nugegoda', 'Kuwait City', 'Banjul', 'Reading', 'Uttara', 'Bharatpur', 'Haan', 'Nelspruit', 'Birmingham', 'Brighton', 'Madrid', 'Tunis', 'Durban', 'Brussels', 'Mersin', 'Kazan’', 'Denpasar', 'Dulwich', 'Bacoor', 'Berlin', 'Vila Velha', 'Seoul', 'Hamburg', 'Vila Nova de Gaia', 'Osaka', 'Edinburgh', 'Vilnius', 'Manching', 'Puebla City', 'Zaria', 'Caieiras', 'Bucharest', 'Cuiabá', 'Khobar', 'Vanderhoof', 'Hampstead', 'Ile-Ife', 'Belgrade', 'Guimarães', 'Lethbridge', 'Yaoundé', 'Sleman', 'Denizli', 'Toereboda', 'AElmhult', 'Loerrach', 'Dandenong', 'Haifa', 'Oberwil', 'Baku', 'Whitchurch', 'Tel Aviv', 'Port Harcourt', 'Maqam', 'Gothenburg', 'Setagaya', 'Zeewolde', 'Wiesbaden', 'Leicester', 'Aryanah', 'Rijeka', 'Alexandria', 'Tashkent', 'Mombasa', 'Lam Tin', 'Windsor', 'Kaunas', 'Giza', 'The Hague', 'Grecia', 'Tianjin', 'Faisalabad', 'Abbots Langley', 'Ambam', 'Port Coquitlam', 'Mbeya', 'Guatemala City', 'Stockholm', 'Palma', 'Hayes', 'Pescara', 'Natal', 'Kerteminde', 'Biberist', 'Yogyakarta', 'Visby', 'Dagenham', 'Heverlee', 'Sabadell', 'Salvador', 'Argenteuil', 'Barcelona', 'Douglas', 'Cagayan de Oro', 'Mandaluyong City', 'Port of Spain', 'Cold Lake', 'Brantford', 'Szeged', 'Varese', 'Corinth', 'Bursa', 'Tangerang', 'Johannesburg', 'Waltham Abbey', 'Kiev', 'Bury St Edmunds', 'Khyriv', 'Seri Kembangan', 'Rio de Janeiro', 'Matosinhos Municipality', 'Maia', 'Ratchaburi', 'Bordeaux', 'Monrovia', 'Mohammedia', 'Dollis Hill', 'River Cess', 'Coburg', 'Curitiba', 'Zaragoza', \"L'Haÿ-les-Roses\", 'Verona', 'Ras al-Khaimah', 'Salé', 'Kharkiv', 'Kaiserslautern', 'Weimar', 'Patan', 'Williams Lake', 'Saint-Jean-sur-Richelieu', 'Kongens Lyngby', 'Foz do Iguaçu', 'Magdeburg', 'San Miguel', 'Laval', 'Panama City', 'Sollentuna', 'Lisbon', 'Palembang', 'Taichung', 'Espoo', 'Eastwood', 'Dar es Salaam', 'Bogor', 'Cyberjaya', 'Deli Ibrahim', 'Auckland', 'Adolfo Lopez Mateos', 'Bat Yam', 'St Petersburg', 'Gdańsk', 'Arequipa', 'Quito', 'Leeds', 'Richmond', 'Ottawa', 'Johannesberg', 'Noakhali', 'Ashfield', 'Grenoble', 'Budapest', 'Shanghai', 'Trondheim', 'Bac Ninh', 'Al Muharraq', 'Belmore', 'Rawalpindi', 'Mecca', 'Belfaux', 'Plettenberg', 'Liverpool', 'Uxbridge', 'Curepipe', 'Uddevalla', 'Kitchener', 'Burlington', 'Habsheim', 'New Westminster', 'Constantine', 'Izmir', 'Balmain', 'Egremont', 'Chevilly-Larue', 'Brunswick', 'Itaquaquecetuba', 'Florianópolis', 'Gelnhausen', 'Muko', 'Hoc Mon', 'Box Hill', 'Kingston', 'Caloocan City', 'Ain Defla', 'Guiguinto', 'Mostar', 'Suwon', 'Taebuk', 'Sohar', 'Shinagawa', 'Santa Cruz de Tenerife', 'Minsk', 'Sindelfingen', 'Makurdi', 'Bitonto', 'João Pessoa', 'Saint-Laurent', 'Santos', 'Hackney', 'Turku', 'Dauphin', 'Longueuil', 'Pärnu', 'Greater Sudbury', 'Porto Alegre', 'Manila', 'Cainta', 'Suva', 'Veracruz', 'Homebush', 'Darlinghurst', 'Hojbjerg', 'Waterloo', 'Helsinki', 'Bandung', 'Tlalnepantla', 'Khushab', 'Athlone', 'Nuremberg', 'Kilkenny', 'Surigao City', 'Chernihiv', 'Cape Town', 'Volta Redonda', 'Paraparaumu', 'Phongsali', 'Vacoas', 'Mandaue City', 'Spruce Grove', 'Gloucester', 'Dasmarinas', 'Valencia', 'Braşov', 'North Bay', 'Rabat', 'Addition Hills', 'Port Louis', 'Pattaya', 'Gaza', 'Warsaw', 'Lane Cove', 'Bade District', 'Chittagong', 'Södertälje', 'Hsinchu', 'Whangarei', 'Leumeah', 'Bethnal Green', 'Paderborn', 'Midrand', 'Turin', 'Bydgoszcz', 'Courbevoie', 'Niterói', 'Nurensdorf', 'Orry-la-Ville', 'Kowloon', 'Nyköping', 'Pyrmont', 'Manchester', 'Nesttun', 'Dailekh', 'Al Ain', 'Beckenham', 'Fontenay-aux-Roses', 'Swindon', 'Limassol', 'Leatherhead', 'Medellín', 'Uyo', 'Newmarket', 'Greenwich', 'Bratislava', 'Sfantu Gheorghe', 'Shepherds Bush', 'Guadalajara', 'Macquarie Fields', 'Lidcombe', 'Hamilton', 'Atimonan', 'Nonthaburi', 'Montrouge', 'Lusaka', 'Cluj-Napoca', 'An Nhon', 'Milton Keynes', 'Sheffield', 'Leuven', 'Conakry', 'New Farm', 'Harmelen', 'Harrow', 'Cotia', 'Burgas', 'Floreal', 'Pantai', 'Santiago de Cali', 'Jawalakhel', 'Las Palmas de Gran Canaria', 'Kano', 'Tirana', 'Corrientes', 'Atibaia', 'Busan', 'Blackett', 'Cologne', 'Kharian', 'Skudai', 'Lucerne', 'Hurstville', 'Claremont', 'Bekasi', 'Orapa', 'Lamia', 'Poznan', 'Huai Khwang', 'Nantes', 'Buenos Aires', 'Hatfield', 'Vandoeuvre-les-Nancy', 'Marrakesh', 'Maida Vale', 'Gravesend', 'Umm Salal Muhammad', 'Swanscombe', 'Bradford', 'Christchurch', 'Toulouse', 'Omrania', 'Indragiri', 'Semarang', 'Aden', 'Las Pinas', 'Marktgraitz', 'Taoyuan District', 'Zapopan', 'Peterborough', 'Ruwi', 'Valladolid', 'Kfar Saba', 'Jasin', 'Barking', 'Amstelveen', 'Sangerhausen', 'Glasgow', 'Portsmouth', 'Rinteln', 'Kozani', 'Port Said', 'Nchelenge', 'Giv‘atayim', 'Funchal', 'Parramatta', 'Viby', 'Haarlem', 'Kaimakli', 'Damietta', 'Gandajika', 'Stuttgart', 'Bexleyheath', 'Zama', 'Hāsal', 'San Cristóbal', 'Bremen', 'Christiansted', 'Mocha', 'Frederiksberg', 'Salisbury', \"Reggio nell'Emilia\", 'Antakya', 'Ras el Aioun', 'Dundee', 'Campo Grande', 'Ben Arous', 'Makassar', 'Ermington', 'Kajang', 'Bielefeld', 'Mendicino', 'Seongnam-si', 'Chiang Rai', 'Vanderbijlpark', 'Talisay City', 'Alliston', 'Västerås', 'Lviv', 'Oran', 'Kawasaki', 'Exeter', 'Mosul', 'Ouagadougou', 'Santo Domingo', 'Erkrath', 'Mostoles', 'Belo Horizonte', 'Vicenza', 'Lutsk', 'San Pedro', 'Batam', 'Galway', 'Beau Bassin-Rose Hill', 'Cavite City', 'Docklands', 'An Giang', 'Soisy-sous-Montmorency', 'Jijiga', 'Sylhet', 'Oxford', 'Lyon', 'Sanaa', 'Thessaloniki', 'Durham', 'Navegantes', 'Auburn', 'Sunderland', 'Bermondsey', 'Woolwich', 'Yagoona', 'Cebu City', 'Townsville', 'Eibar', 'Hrodna', 'Hyderabad', 'Nijmegen', 'Heilbronn', 'Santiago de Compostela', 'Malacky', 'Asenovgrad', 'Jimma', 'Grigny', 'Aylesbury', 'Zaventem', 'Naples', 'Lausanne', 'Kuching', 'Cabanillas del Campo', 'Aba Khel', 'Luton', 'Americo Brasiliense', 'Emure-Ekiti', 'Daejeon', 'Kropyvnytskyi', 'Antalya', 'Chengdu', 'Al Hufuf', 'Nha Trang', 'Kigoma', 'Caiuti', 'Greenford', 'New Cross', 'Vélizy-Villacoublay', 'Mateszalka', 'Schoonhoven', 'San Pablo City', 'Perroy', 'Ilford', 'Erlangen', 'Cardiff', 'Charlottenlund', 'Campagnano di Roma', 'Abidjan', 'Agadir', 'Manzini', 'St Albans', 'Pazardzhik', 'Trebinje', 'Erbil', 'Łódź', 'Hornchurch', 'Lynbrook', 'Oranjestad', 'Muntinlupa', 'Barrigada Village', 'Queimadas', 'Greenvale', 'Hong Kong', 'Caulfield South', 'Aidlingen', 'Moonee Ponds', 'Elwood', 'Edwardstown', 'Alizaga', 'Keswick', 'Oradea', 'Mill Park', 'Warzymice', 'Ventspils', 'Potsdam', 'Tam Diep', 'Niamey', 'Batley', 'Coventry', 'Yass', 'Valenzuela', 'Lac La Biche', 'Masai', 'Granville', 'City of Westminster', 'Ageo', 'Chiaravalle', 'Wetherill Park', 'Abeokuta', 'Musselburgh', 'Pascoe Vale', 'Tripoli', 'Tachikawa', 'Kastel', 'Batinac', 'Ibadan', 'Engelskirchen', 'Québec', 'Los Montesinos', 'Recife', 'Cuenca', 'Glen Iris', 'Redbridge', 'Wuhan', 'Renmark', 'Chiba', 'Madinat `Isa', 'Fermatou', 'Maidenhead', 'Voorburg', 'Multan', 'Samarinda', 'Offenbach', 'Kinshasa', 'Augsburg', 'Qingdao', 'Glen Osmond', 'São Leopoldo', 'Monash', 'Madinat an Nasr', 'Kungur', 'Greenacre', 'Hawalli', 'Bad Vilbel', 'Apodaca', 'Maseru', 'Byford', 'Balteni', 'Willemstad', 'Blida', 'Beckton', 'Bangor', 'Tangier', 'Depok', 'Gwangju', 'Beni Mellal', 'Palu', 'Solingen', 'Newbury', 'Ayer Itam', 'Freetown', 'Chiswick', 'Bridgetown', 'Gaborone', 'Badalona', 'Utrecht', 'Douala', 'Miastko', 'Concord', 'Jessore', 'Vastra Frolunda', 'Ciudad Real', 'Luxembourg', 'Bonny', 'South Yarra', 'Kellyville', 'Ascot Vale', 'Hendon', 'La Canonja', 'Crawley', 'Nesher', 'Ulan Bator', 'Reghaia', 'Hobart', 'Helmond', 'Cuxhaven', 'Gujranwala', 'Bolzano', 'Karlsruhe', 'Pietermaritzburg', 'Ikeja', 'Amarante', 'Linköping', 'Sajooeroes', 'Tuxtla Gutiérrez', 'Mateur', 'Taguig', 'Cookham', 'Vera', 'Mannheim', 'Comodoro Rivadavia', 'Rugby', 'Darwin', 'Sidoarjo', 'Ploieşti', 'Point Cook', 'Bologna', 'Haegersten', 'Samsun', 'Bac Kan', 'Xiamen', 'Ljubljana', 'Finsbury', 'Adana', 'Hornsey', 'Misratah', 'Stroud', 'Karuzi', 'Southwark', 'Lambeth', 'Leipzig', 'Bruges', 'George Town', 'Durrës', 'New Malden', 'Vicosa', 'Monterrey', 'Nottingham', 'Kumanovo', 'Asiraja', 'Netanya', 'Oldham', 'Taiyuan', 'Bayan Lepas', 'Malacca', 'Gomel', 'Thuan An', 'Dalian', 'Eindhoven', 'Sarajevo', 'Rotterdam', 'Minna', 'Royal Leamington Spa', 'Jeju City', 'Almaty', 'Guildford', 'Giugliano in Campania', 'Villa Crespo', 'Don Bosco Executive Village', \"'s-Hertogenbosch\", 'Valinhos', 'Langenfeld', 'Sesto San Giovanni', 'New Southgate', 'Kolsva', 'Zaandam', 'Valenciennes', 'Basrah', 'Tyre', 'Antwerp', 'Kosekoy', 'Santa Pola', 'Alton', 'Malabon', 'Sosnowiec', 'Nesbru', 'Changsha', 'Si Racha', 'Lanzhou', 'Heredia', 'Manaus', 'New Mirpur', 'Mont-de-Marsan', 'Hove', 'South Shields', 'Brunoy', 'Belfast', 'Ramat HaSharon', 'Hanworth', 'Adapazarı', 'Yerevan', 'Melton South', 'Novosibirsk', 'Târgu Mureş', 'Arcueil', 'Pistoia', 'Edegem', 'Greenwith', 'Cabanatuan City', 'Hoogeveen', 'Sao Jose da Coroa Grande', 'Pilsen', 'Fitzroy', 'Kempton Park', 'Ang Thong', 'Kogarah', 'Criciúma', 'Wincanton', 'Montego Bay', 'Katowice', 'Chachoengsao', 'Thu Dau Mot', 'São José dos Campos', 'Tijuana', 'Al Mansurah', 'Kampong Changkat', 'Kaohsiung City', 'Benghazi', 'Irbid', 'Skardu', 'Tondabayashi', 'Ampthill', 'Odesa', 'Clavier', 'Aalst', 'Harlow', 'Tanta', 'Mount Waverley', 'Armacao de Buzios', 'Craiova', 'Budakeszi', 'Piro Shah', 'Totteridge', 'Guangzhou', 'Passau', 'Oshawa', 'Shkoder', 'Cernosice', 'Ivanhoe', 'Bromley', 'Skopje', 'Sainte-Tulle', 'Seef', 'Košice', 'Vsetin', 'Klerksdorp', 'Heidelberg', 'Eschborn', 'Dnipro', 'Jaén', 'Lewisham', 'Vantaa', 'Zhengzhou', 'Kigali', 'East London', 'Wilcza Wolka', 'Paternò', 'Beersheba', 'Lipa City', 'Taytay', 'Spanga', 'Farnborough', 'Birecik', 'La Paz', 'Sungai Petani', 'Shenyang', 'Wuppertal', 'Varna', 'Slough', 'Chelsea', 'Ramat Gan', 'Tewkesbury', 'Tiraspol', 'Tours', 'Ragama', 'Rowville', 'Clapham', 'Thimphu', 'Cheltenham', 'Felsopakony', 'Bracknell', 'Farum', 'Agudos', 'Warzachewka Polska', 'Cagliari', 'East Harling', 'Moitas', 'Windach', 'Oyster Bay', 'L-Iklin', 'Bankstown', 'Córdoba', 'Poblacion', 'Brunswick East', 'Mantin', 'Butterworth', 'Clayton', 'Queluz', 'Ouanda Djallé', 'Foshan', 'Herat', 'Viry-Châtillon', 'Oke Ila', 'Gregory Hills', 'Tainan City', 'Bow Bowing', 'Bahawalpur', 'Levis', 'Maputo', 'Neutral Bay', 'Pekanbaru', 'Tegucigalpa', 'Wimbledon', 'Stafford', 'Galați', 'Ituzaingo', 'Fujairah', 'Kikwit', 'Sargodha', 'Consett', 'Amasya', 'Villa Angelica', 'Chihuahua City', 'Matsusaka', 'Dihawk', 'Taunsa', 'Lilyfield', 'Lucena City', 'Schweinfurt', 'Gorinchem', 'Camperdown', 'Carlingford', 'Kandy', 'Guyancourt', 'Hualien City', 'Yekaterinburg', 'Vologda', 'Ghardaïa', 'Woking', 'Pori', 'Santa Cruz', 'Weiterstadt', 'Whitley Bay', 'Southall', 'Konin', 'Taranto', 'Yarraville', 'Harvey', 'Huttlingen', 'Caracas', 'Jhelum', 'Le Chesnay', 'Zanica', 'Stevenage', 'Konya', 'Brno', 'Arcene', 'Markkleeberg', 'Cuprija', 'Tecamachalco', 'Edenbridge', 'Veles', 'General San Martin', 'Gyeongsan-si', 'Vũng Tàu', 'Roubaix', 'Karlsfeld', 'Rostov-on-Don', 'Bago', 'Taganrog', 'Sarai Alamgir', 'San Fernando', 'Chester', 'Bentley', 'Maple', 'Bern', 'Prahran', 'Bosaso', 'Hildesheim', 'Palmerston North', 'Chaguanas', 'Cartago', 'Hastings', 'Kaliningrad', 'Seville', 'Abbottabad', 'Niort', 'Grodzisk Mazowiecki', 'Krosno', 'Ensenada', 'Jubail', 'Klaipėda', 'Smolyan', 'Canberra', 'Veldhoven', 'Winnica', 'Vieux Grand Port', 'Ciechanów', 'Sidcup', 'Komsomolsk-on-Amur', 'Aplaya', 'Pemulwuy', 'Mulgrave', 'Arima', 'Seaford', 'Willesden', 'Klang', 'Duisburg', 'Camberwell', 'Patos', 'Bamenda', 'Carlton', 'Seremban', 'Baghdad', 'Krasnoyarsk', 'Chisinau', 'Gijón', 'Tapolca', 'Gevelsberg', 'Uitenhage', 'Algiers', 'Impfondo', 'Mar del Plata', 'Portage la Prairie', 'Aracaju', 'Zagazig', 'Jerusalem', 'Lehrte', 'Logroño', 'Broxbourne', 'Flores', 'Lod', 'Chon Buri', 'Alajuela', 'Astana', 'Kamenka', 'Donetsk', 'Siena', 'Sungai Buloh', 'San Pedro Sula', 'Pasig', 'Rovenki', 'Trnava', 'Meknes', 'Les Mureaux', 'Nogent-sur-Marne', 'Votuporanga', 'Almansa', 'Béchar', 'Poa', 'Fes', 'Bandar Seri Begawan', 'Cimahi', 'Thanh Chuong', 'Temara', \"Engel's\", 'Strasbourg', 'Kiel', 'Odense', 'Kistarcsa', 'Inowrocław', 'Ismailia', 'Pachuca', 'Cáceres', 'George', 'Quarry Bay', 'Worthing', 'Sampaloc', 'Luanda', 'Yanbu', 'Karlskrona', 'Rousse', 'Gieraltowice', 'Tonbridge', 'Welland', 'Dipolog City', 'Tay Ninh', 'Abāzai', 'Fortaleza', 'Essen', 'Brest', 'Catia La Mar', 'Yaroslavl', 'Glugor', 'Roppongi', 'Bavaro', 'Kenitra', 'Pingtung City', 'Yeosu', 'Ocaña', 'Lang Son', 'Castellbisbal', 'Montreuil', 'Yokohama', 'Angeles City', 'Haywards Heath', 'Halle', 'Brescia', 'Margate', 'Hillarys', 'Bari', 'Hohenberg-Krusemark', 'Cancún', 'Chatillon-sur-Seiche', 'El Talar', 'Jizan', 'Mandalay', 'Akita', 'Reus', 'Butuan', 'Świętochłowice', 'Ringwood East', 'Sabac', 'Vanadzor', 'Bolton', 'Okotoks', 'Nové Zámky', 'Epping', 'Bronshoj', 'Leyton', 'Idridgehay', 'Brazzaville', 'São Bernardo do Campo', 'Saarbrücken', 'Bilston', 'Patti', 'Lobnya', 'Antofagasta', 'Enschede', 'Warrington', 'Strakonice', 'Santa Rosa', 'Mitchelton', 'Slagelse', 'Glattbrugg', 'Al Hillah', 'Adelaide', 'Welwyn Garden City', 'Bruntal', 'Valmiera', 'Esslingen am Neckar', 'Orpington', 'Tekirdağ', 'Niedernhausen', 'Kerikeri', 'Palmira', 'Napier City', 'Kuala Selangor', 'Essendon', 'Strathfield', 'Sutton', 'Leiden', 'Phitsanulok', 'Novouzensk', 'Basildon', 'Kew', 'Stone', 'Ludwigshafen am Rhein', 'Bironico', \"Palazzolo sull'Oglio\", 'Gobernador Galvez', 'Maringá', 'Râmnicu Vâlcea', 'Wallington', 'Wellingborough', 'Nikaia', 'Collingwood', 'Iizuka', 'Southbank', 'Oulu', 'Kettering', 'Aalborg', 'Acton', 'La Plata', 'Moose Jaw', 'Catano', 'Southampton', 'Paranaguá', 'Guelph', \"Marhanets'\", 'Braddon', 'Telopea', 'Yuyao', 'Eragny', 'Nussloch', 'Mogi das Cruzes', 'Sparti', 'Taastrup', 'Brentford', 'Tartu', 'Gaula', 'Haslum', 'Dollard-des-Ormeaux', 'Lincoln', 'Kingsley', 'Deventer', 'Stavanger', 'Solna', 'Zoetermeer', 'Hoofddorp', 'Nuenen', 'Amursk', 'La Marsa', 'Haiphong', 'Malang', 'Narayanganj', 'Cork', 'Padua', 'Norwich', 'Khouribga', 'Grumento Nova', 'Marilao', 'Uppsala', 'Doncaster', 'Guadalupe', 'Timbo', 'Kendal', 'Skaerholmen', 'Belfort', 'Mongkok', 'Quetta', 'Oryol', 'Bresso', 'Hafizabad', 'Zutphen', 'Bonn', 'Singida', 'Stará Ľubovňa', 'Narara', 'Kew East', 'Riga', 'Ipoti', 'Modena', 'Gujrat', 'Tulungagung', \"Silvano d'Orba\", 'Constanța', 'Nitra', 'Huddersfield', 'Arum Karimi', 'San Nicolás de los Garza', 'Dushanbe', 'Borkop', 'Sagamu', 'Sunbury-on-Thames', 'Assiut', 'Hua Hin', 'Cachan', 'Beinasco', 'Bromont', 'Viersen', 'Saint Leonards-on-Sea', 'Vladimir', 'Antigonish', 'Martinez', 'Westbank', 'Pabna', 'Antananarivo', 'Echuca', 'Nagoya', 'Cheraga', 'Colebee', 'Olsztyn', 'San Luis Potosí City', 'Wittenbach', 'Latina', 'Pinneberg', 'Tulcea', 'Caguas', 'De Aar', 'Landskrona', 'Chesham', 'Regensburg', 'Piacenza', 'Froso', 'Dietzenbach', 'Globasnitz', 'Altenglan', 'Eskişehir', 'Abang', 'Cannock']\n"
     ]
    }
   ],
   "source": [
    "data1=b_data[(b_data['mp_country_code'] != 'US') & (b_data['mp_country_code'] != 'IN') ]\n",
    "print(len(list(data1['city'].unique())))\n",
    "print(\"=\" * 100)\n",
    "print(list(data1['city'].unique()))"
   ]
  },
  {
   "cell_type": "markdown",
   "metadata": {},
   "source": [
    "### Visualizing the distribution of Current_URL of browsers."
   ]
  },
  {
   "cell_type": "code",
   "execution_count": 16,
   "metadata": {},
   "outputs": [
    {
     "name": "stdout",
     "output_type": "stream",
     "text": [
      "['enrol-statistics-tutorial-FmWz4deqo9g_medium=VM', 'FB_AG_Fullstack_IN_WC_traffic_ad', 'fulllstack_search', 'btm_display_2306?aff_id=5077', 'AG_FB_NC_IN_WC_BigData_lookalike_mobile_2girl', 'Data_Science', 'DataAnalytics_1152', 'bigdata_lowintent_ind_0905', 'AG_FB_WC_LI_IN_Android_Ad', 'data_analytics_adcanopus_Dec', 'AG_FB_NC_IN_WC_DataScience_25-45_alldivices_lp_video', 'datascience_us_0904', 'AG_FB_TTL_BigData', 'ag_bd_1904', 'android_lowintent_fb?aff_id=5074', 'Seminar_Marathahalli_7_Jul', 'youtube_channel', 'AG_FB_NC_IN_WC_DataR_alldevices_lookalike', 'FB AG TTL campaign', 'AG_FB_TTL_US_Fullstack', 'bigdata_adcanopus_Dec', 'DataScienceMay', 'DataScienceJune', 'ag_da_1904', 'marathalli_display_2306?aff_id=5077', 'ag_main_lp', 'android_lowintent', 'BigdataMay', 'ds_bootcamp_mktg_1905', 'DS_Discount', 'ag_lowintent_brand', 'webinar_LP', 'btm_display_2306', 'AG_FB_TTL_Data_analytics_for_managers', 'DataScience', 'ag_g_display_devops_cp', 'BigdataJune', 'ag_g_brand_home', 'AG_FB_NC_IN_WC_Data_analytics_for_managers', 'datascience_lowintent_ind_0905', 'ds_bootcamp_mktg_2105_search', 'FB_AG_WC_IN_DataScience_bootcamp', 'gmail_da_rmtg_ind_1005', 'FB_AG_Fullstack_US/CAN_WC_traffic_ad', 'AG_FB_NC_IN_WC_DataR_alldevices_remarketing', 'Enrol-1CYBkEJV7T4', 'da_managers_mktg_1905', 'AG_FB_NC_IN_WC_DataScience_lookalike_25-45_alldevices_lp_trired', 'DA_LowIntent_mail2', 'enrol-data-analytics-beginners-THODdNXOjRw', 'Big Data Landing Page', 'AG_FB_NC_IN_WC_DataScience_25-35_mobile_lp_trired', 'frs-devops-intro-2YTRUvcBOyA', 'AG_FB_TTL_Franchise_Noida', 'AG_FB_NC_IN_WC_DataScience_lookalike_25-45_alldevices_lp_white', 'Video13June', 'home_mktg_1905', 'DataScience_1152', 'AG_FB_NC_IN_WC_BigData_mobile_group', 'DataAnalyticsJune', 'FullStack_1152', 'FB_AG_DataScience_WebClicks_mobile_carousel_CP', 'Enrol-f6HYiIJCYyY', 'DataAnalytics_2027', 'AG_FB_NC_US/CAN_WC_LC_DataScience_bal', 'AG_FB_NC_IN_WC_Data_analytics_for_managers_remarketing', 'DataAnalyticsApril', 'Enrol-m1jjMBpS6Hs', 'FirstMail', 'FullStackJune', 'FB_AG_Fullstack_US_WC_traffic_ad', 'DataScienceApril', 'ag_rmtg_da_1904', 'enrol-python-part2-psTOlej9Rpk_medium=VM', 'AG_G_DISPLAY_DATA_SCIENCE_IND', 'gmail_ds_rmtg_ind_1005', 'AG_FB_NC_IN_WC_DataScience_lookalike_25-45_alldevices_lp_indgirl', 'DS_lowintent_Mail3', 'android_display', 'AG_G_DISPLAY_BIG_DATA_IND', 'DS_Offline_2', 'gmail_bd_rmtg_ind_1005', 'DS_LowIntent_mail1', 'WebsiteMarch', 'AG_FB_NC_IN_WC_BigData_alldevices_remarketing', 'google_adwords_desktop_course', 'BIgdata_CourseInt_add_int_in_group', 'front_end_display', 'Enroll-lvbeHZZSQLI', 'WebsiteMay', 'ag_g_search_big_data_ind', 'dataanalytics_search', 'brand_us_0905', 'ag_g_display_devops_lp', 'Year_of_passing', 'AG_FB_TTL_NC_US_DS_May_2018_Loc_LI', 'Create-musicplayer-app-b_-9_ekEfFk', 'AG_FB_NC_US_WC_LC_DataScience_bal', 'datascience_search', 'AG_FB_TTL_NC_US_DS_May_2018_Loc', 'Android-promo-0TwayqXuCrY', 'AG_FB_TTL_NC_US_FS_May_2018_Loc_LI', 'D44-3wVZkGI-excel-tute10', 'enrol-nosql-database-tutorial-2yQ9TGFpDuM_medium=VM', 'AG_FB_NC_US_WC_LC_DataScience_cp', 'LowIntent_2', 'WebsiteJune', 'Enrol-KaR2EDW581E', 'DataScience_2343', 'DS_LowIntent_mail4', 'Frontend_USA', 'WebsiteApril', 'AG_FB_TTL_DataR', 'enrol-JVKFTS9duIo', 'Enrol-T7PnqMs6XcI-g', 'malviya_nagar_LP', 'DA_LowIntent_mail1', 'refer', 'DS_Offline_1', 'enrol-BDH-essentials-part-1-u6e0qfkePf4_medium=VM', 'enrol-android-interview-questions-part1-tQDEgTdDmKc_medium=VM', 'MayMLCourse', 'June_2018', 'WebsiteJuly', 'HNY18', 'indira_nagar_LP', 'FS20', 'Acadgild-USA', 'BigdataApril', 'DS_LowIntent_mail2', 'ag_da_gmail_1904', 'enroll-machinelearning-sundarpichai-G6_nU_YO8jg', 'enrol-typescript-tutorial-Ohiedq1fwJ8_medium=VM', 'ag_g_search_big_data_ind_sitelink', 'FB_AG_BidDatawithR_WebClicks_mobile_carousel_cp', 'enrol-devops-lesson1-dMILqmX_xEk_medium=VM', 'ag_ds_pythonpage_1804', 'LowIntent_3', 'DAM_2', 'LowIntent_1', 'enrol-FnlTIdJgg9s', 'Facebook-design-maestro-Top-Cities', 'enrol-bigdata-usecase-part1-iQrao1C7juk_medium=VM', 'AG_FB_NC_US_WC_LC_DataScience_lp', 'DataScienceJuly', 'enrol-bigdata-usecase-part2-b6WixQ4eJTE_medium=VM', 'DS_Offline_3', 'ag_g_display_big_data', 'Enrol-9q74QrzitXc', 'lastday', 'Google_Campaign', 'fs_us_mktg_1905', 'DataAnalyticsJuly', 'FB_AG_WC_IN_DataScience_bootcamp?aff_id=5074', 'android_adcanopus_Dec', 'Website14June', 'AG_FB_NC_IN_WC_BigData_mobile_carousel', 'Offer30thMay', 'AG_FB_NC_IN_WC_BigData_mobile_2girl', 'enrol-YT-analysis-yYmudgufD3c', 'Website25June', 'AG_FB_TTL_Franchise_RTNagar', 'FullStack_2303', 'Front_End', 'enrol-_lliaKp4Lb8', 'seminar_display', 'AG_FB_WC_CEH_New', 'Angularjs-webinar-9yrYdEZNbd8', 'frontend-tutorial-tjG31t5JHzw', 'google_adwords_display', 'enrol-android-interview-questions-part3-4B_HLt4tDAk_medium=VM', 'AG_G_DISPLAY_BLOCKCHAIN_IND', 'enrol-glEKSWxCLSc', 'enrol-What-is-lean-sixsigma-intro-p8VxP_a_S28', 'LowIntent_5', 'Spark Landing Page', 'FullStackMay', 'FB_AG_UIUX_WebClicks_desktop', 'datasciencegmail_1604', 'Seminar_DS', 'DS', 'trichy_LP', 'FB_AG_BidData_WebClicks_lookalike_mobile_group', 'seminar_2027', 'enrol-Kafka-introduction-tutorial-gFul1Gw0CjA_medium=VM', 'Big Data', 'bd_newlp_2305', 'ds_newlp_2304', 'btm_main_post_dl', 'GenericApril', 'AG_FB_TTL_Franchise_Marathahalli', 'bd_us_rmtg_2805', 'Android-game-development-tutorial-MaSkfad6Ihc', 'enrol-G5Ch8qLdyVE', 'big_data_display', 'enrol-android-interview-questions-part2-tQDEgTdDmKc_medium=VM', 'DAM_1', '5_mail_series', 'lookalike_greengrl', 'enrol-nCXTMXC81Uo', 'FullStackJuly', 'seminar_event', 'enrol-5dsCNhSQ5HI', 'android_lowintent_fb', 'ag_g_display_android_ind', 'AprilWebsite', 'Enroll-dldXFZKdi_g', 'dataanalytics_search_2506', 'DataScience27June', 'Website22June', 'enroll-devops-tut-for-beginners-2YTRUvcBOyA', 'DataScience_2303', 'blockchain', 'data_science_adcanopus_nov', 'gamer', 'ag_bd_pythonpage_1804', 'DA_LowIntent_mail5', 'datascience', 'hbase-introduction-VRD775iqAko_medium=VM', 'bd_mktg_1905', 'BigdataJuly', 'DataAnalytics_1080', 'AG_DATA_ANALYTICS_DISPLAY_2103', 'Enrol-iX7vtso2X-g', '1c300b7511-EMAIL_CAMPAIGN_2017_05_17', 'DataScience_1276', 'data_science_display', 'DataScience_1188', 'Enrol-nmaA5_d4E8c', 'Android-Display-USA-similaraudience', 'home-fWeUZjBljWQ', 'DataAnalytics', 'BigData', 'NodeJs Lead Generation', 'enrol-BDH-essentials-part-2-KyUYY5TOnnI_medium=VM', 'home-A3H_El3AjFo', 'Data_Analytics', 'Big_Data', 'btm_main_lp', 'ag_bd_gmail_1904', 'campaign 1', 'intro_mail', 'DataScienceOffer30thMay', 'MayBlockchainCert', 'MF_Reskill_FrontEndWebDevelopment', 'da_1606', 'top_IT_company_in_', 'FB_AG_BidData_WebClicks_mobile_carousel', 'Int_add_int_JT_in_', 'webclicks', 'Android_Int_in_JT_grengrl', 'Bigdata_in_JT_Add_INT_Emp_FOS_BLR_pinksweat', 'Android_int_in_greengrl', 'FB_AG_DataScience_Web_Clicks_25-45_alldivices_lp_video', 'Blockchain', 'Enroll-7WADJpEbEXA', 'enrol-huNqlWz157A', 'AG_FB_NC_IN_WC_DataScience_25-45_alldevices_lp_video', 'FB_AG_DataR_TTL', 'FB_AG_Fullstack_IN_WC_traffic_adweb_click', 'AG_FB_NC_IN_WC_BigData_remarketing_carousel', 'webinar20', 'DataScience_US', 'ag_g_display_ceh_ind', 'Frontend', '5_steps_3', 'AG_FB_NC_US/CAN_WC_LC_DataScience_lp', 'ag_da_pythonpage_1804', 'enrol-machine-learning-G6_nU_YO8jg', 'Mobilenetwork', 'Data_Science_1030', 'ag_fb_nc_in_wc_bigdata_alldevices_remarketing', 'ag_fb_nc_in_wc_bigdata_mobile_group', 'fb_ag_wc_in_datascience_bootcamp', 'ag_fb_nc_us_wc_lc_datascience_bal', 'ag_fb_nc_us_wc_lc_datascience_lp', 'ag_fb_nc_in_wc_datar_alldevices_remarketing', 'ag_fb_nc_in_wc_datar_alldevices_lookalike', 'ag_fb_nc_in_wc_datascience_25-35_mobile_lp_trired', 'ag_fb_nc_in_wc_datascience_lookalike_25-45_alldevices_lp_indgirl', 'ag_fb_nc_in_wc_data_analytics_for_managers_remarketing', 'Acadgild_HomePage_March', 'DS_Offline_5', 'DataAnalytics_1004', 'enrol-pmp-tute-1-nILBEE6w7g0_medium=VM', 'DataAnalytics_1276', 'Website18June', 'Big-Data-Dev', 'JobT_Industry_Int_in_', 'hbase-commands-', 'enrol-RG6NNYF3uWk', 'Enroll-DM-Promo-A1Z2cRNZXBI', 'datascience_US_1004', 'DS_Offline_4', 'DAM_4', 'websiteJuly9', 'datascience_desktop', 'FB_AG_BidData_WebClicks_lookalike_mobile_2girl', 'enrol-ldn0WnrV-qY', 'fullstack_us_0904', 'BlockchainCourse', 'first_sms', 'Android Lead Generation', 'ds_us_rmtg_2805', 'buffer', 'datascience_linkedin_1007', 'enrol-SPAs-intro-7v2zCZsKufc_medium=VM', 'AG_HOMEPAGE_RMTG_ALL_COURSES', 'DataAnalytics_1188', 'datascience_display', 'FullStack_1562', 'DM-webinar-wm-sepe-rtg', 'FB_AG_DataR_WebClicks_alldevices_lookalike', 'enroll-machinelearnin…', 'websiteJuly11', 'News', 'enrol-android-interview-questions-part6-2ISikgzd-lI_medium=VM', 'Seminar_RTNagar_21_Jul', 'enrol-I30g6SaJPqs', 'front_end_adcanopus_Dec', 'enrol-seo-tutorial-beginners-yWaWuucJKcA', 'NodeJs', 'M_38-55_android_acadgildjunior1', 'softsell', 'Yotube_ggWwzoKMEPc-faqs-data-science_20180507', 'quora_ds', 'YT-channel-icon', 'AG_FB_NC_IN_WC_DataScience_25-45_alldevices_lp_remarket', 'enrol-hdfs-tutorial-AHLEPyGYaXg', 'Yotube_P2I2S5xlmtI-big-data-casestudy5_20180507', 'Yotube_zDchks6coak-excel-for-data-analytics1_20180507', 'enrol-java-tutorial-beginners-UQ8vke6C2HM', 'enrol-devops-lesson2-X6gpBj4RyKk_medium=VM', 'ag_fb_nc_in_wc_datascience_lookalike_25-45_alldevices_lp_trired', 'ag_fb_nc_in_wc_datascience_lookalike_25-45_alldevices_lp_white', 'shopping-deep', 'FRS-vau4JpcOZ8Q', 'Yotube_TYlWj4JuA7w-statistics-using-python-ds-series-1_20180507', 'jJ35Se19W8-da-webinar-june-2018', 'AG_Br_G_Branding_Apr_2018', 'Android', 'ag_main_post', 'Frontend-top-cities', 'AG_FB_WC_CEH', 'Enrol-9QLe7dSNPjE', 'ag_g_display_data_science_lp', 'AG_FB_TTL_Franchise_BTM', 'all_course', 'AG_FB_NC_IN_TTL_DataAnalytics_Geo_Hyd', 'AG_FB_NC_IN_TTL_DataAnalytics_Geo_Del', 'AG_FB_NC_IN_TTL_DataAnalytics_Geo_Mum', 'enrol-devops-lesson3-Klfjr4TF9i0_medium=VM', 'Yotube_Tq_NL2HEdfM-hive-spark-integration-hadoop-series-1_20180507', 'FB_AG_TTL_DataScienceBootcamp_Seminar_28_Jul', 'Yotube_l7S-Xks0vwc-ds-salary-faq_20180507', 'enrol-android-interview-questions-part4-zTy_ImwjQ1E_medium=VM', 'US_Mobile_iOS_NF_Frontend_M_jacketguy_BFD_CodeLearningSites', 'AprilMLCourse', 'enrol-bigdata-usecase-part1-VfOJonHRb6g_medium=VM', 'AG_NC_IN_TTL_DataScience_Geo', 'AG_FB_NC_IN_TTL_Fullstack_Geo', 'AG_FB_NC_IN_TTL_BigData_Geo', 'AG_NC_IN_TTL_DataScience_Geo_Blr', 'Yotube_Btu6O9XTIWw-hypothesis-testing-mon1_20180507', 'home-a9Rw3rB_63g', 'DAM', 'youtube_channehttps://acadgild.com/?aff_id=6003', 'UX', 'AG_FB_TTL_NC_US_FS_May_201', 'webinar', 'enrol-ilfs-training-program-DOV96lGzmwo', 'enroll-an9PXNtTSSc', 'Seminar_28Jul', 'onesignal', 'Yotube_UqT-Auk2RB0-bda-vs-bde-faq_20180507', 'Android-truecaller-app-development-tutorial-mlEdGe4vui4', 'Seminar_DS_28July', 'Yotube_INHrKxwH1wc-ds-career-choice_20180507', 'Facebook-Android-Top-Cities', 'FB_AG_DataScience_Web_Clicks_25-35_mobile_lp_trired', 'Yotube_I3WzvSjYf3Q-parsing-csv-files-hadoop-series-2_20180507', 'FB_AG_DataR_WebClicks_mobile', 'eBookDownload', 'Data_Analytics_1016', 'budget_mail', 'fullstack_mail1_cold', 'FB_AG_UIUX_TTL', 'fullStack_Mail1_cold', 'AG_G_DISPLAY_BIG_DATA_2007', 'enrol-pmp-exam-prep-RyDJKwF9e8s_medium=VM', 'AG_G_DISPLAY_DATA_SCIENCE_IND_2007', 'data_analytics_lowintent_ind_0905', 'AG_DATA_ANALYTICS_DISPLAY_2007', 'DS_Mail2', 'AG_FB_NC_IN_WC_Data_analytics_for_managers_lp', 'FB_AG_Fullstack_IN_WC_traffic_ad_cp', 'FB_AG_WC_IN_DataScience_bootcamp_cp', 'AG_FB_NC_IN_WC_Data_analytics_for_managers_remarketing_cp', 'enrol-statistics-tutorial-part2-OMwiCAlwGUw_medium=VM', 'Yotube_85WFr8S0urE-hive-table-views_20180507', 'Enrol-ZC0Ye__hB7k', 'Yotube_SNhZirP1zBE-da-vs-ds-course-faq_20180507', 'Bigdatajuly', 'datasciencejuly', 'Bootcamo_QRScan', 'Enrol-qk-ApPa-jQw', 'event', 'ag_fb_nc_in_wc_data_analytics_for_managers_lp', 'fb_ag_wc_in_datascience_bootcamp_cp', 'ag_fb_nc_in_wc_data_analytics_for_managers_remarketing_cp', 'Yotube_nryXZ-e64hg-hive-intro_20180507', 'MF_Lookalike_FrontEndWebDevelopment', 'Frontend_Android_TopCities_NF_India_Nov11', 'android_email', 'seminar_28July', 'AG_FB_WC_Blr_Seminar_New', 'DS_Mail3', 'Yotube_PqXxjqMV0WY-statistics-using-python-ds-series-2_20180507', 'FB-28-Jul-Event-Post-Boost', 'Yotube_n3owBqa9ATQ-nested-json-working-hadoop-series-2_20180507', 'DS_Seminar_mail1_fillers', 'DataAnalytics_1073', 'Feb_AV_Banner', 'DataScience_1080', 'AG_FB_NC_IN_WC_DataScience_lookalike_25-45_alldevices_lp', 'July_2018', 'Seminar_DS_HomePage_28July', 'MF_Age_IndustryITandTech_Reskill_Fasttrack_LadyBrown_AndroidBeginners', 'enroll-Data-Science-PgVT7WnKyEI', 'US_CodeLearningSites1_NF_Desktop_frontend_CPC', 'UX_mail2', 'Mdigital_AG_DataAnalytics_July_2018', 'DS_Mail4', 'Yotube_8FEZ45EGD7Y-full-stack-series-1_20180507', 'enrol-pmp-tute-3-hZxNVsMwuvo_medium=VM', 'v4LAdqVOE9w-excel-tute9', 'HadoopCourseApril', 'da_manager_mktg_1706_search', 'Devops_BLR_JT_add_int_in_video', 'Big-Data - Website Conversions - 4 July 2016', 'US_Desktop_NF_Android_M_whiteshirtguy_ACB_CompetitorInterest', 'datascience_rmtg_1204', 'bigdata_search', 'FB_AG_bigdata_TTL', 'fullstack_mail3_cold', 'fullstack_mail2_cold', 'enrol-android-interview-questions-part5-qvmTcaNIVVs_medium=VM', 'Yotube_X9bPIiUELcc-full-stack-series-2_20180507', '4_Aug_Seminar_DSBC', 'Yotube_Z6tg9MJrvBc-full-stack-series-4_20180507', 'Yotube_fRJ-IEALx64-full-stack-series-5_20180507', 'front-end-career-post', 'shopping-react', 'FB-4-Aug-Event-Post-Boost', 'fullstack_mail5_cold', 'AG_FB_TTL_Franchise_Marathahalli_11_Aug_Seminar', 'Yotube_mCLrqne5X8M-full-stack-series-6_20180507', 'Android-for-kids-realativelayout-8eUHREr64zo', 'fb_ag_datascience_web_clicks_25-35_mobile_lp', 'enrol-VGY7xZF2TT0', 'Enroll-tlSZgyjJPL4', 'big_data_display_image', 'DataAnalyticsAug', 'BDH', 'DataScienceAug', 'FullStackAug', 'Yotube_EL_FAsdSsM-full-stack-series-8_20180507', 'Yotube_l01VJAan1bo-ds-decoded-in-60-seconds_20180507', 'Enroll-UeW71BjyR10', 'fb-4-aug-event-post-boost', 'MF_Age_LadyBrown_Lookalike_freshers2', 'Data_Analytics_1503', 'BigdataAug', 'Big_Data_1503', 'Data_Science_1503', 'Big_Data_2480', 'cust_testimonial', 'Data_Science_{affiliate_id}', 'Big_Data_1481', 'Yotube_DPJgDVIuuUU-hive-architecture_20180507', 'Yotube_Um1CG0vSm5E-nosql-vs-rdbms_20180507', 'Data_Science_1481', 'Yotube_a5FiA2d4lXI-full-stack-series-9_20180507', 'Big_Data_2426', 'US_CodeLearningSites1_NF__Mobile_noniOS_frontend_CPC', 'Yotube_UxwJAdXIwE0-hive-data-load_20180507', 'Data_Science_2480', 'Yotube_sRsaAaPDviE-ux-design-questions_20180507', 'Android_Desktop_TopCities', 'Data_Science_1009', 'Enroll-zB8jv6f8MSo', 'DataSciencemasterAug', 'DS_Mail5', 'FB_event_11_Aug_Marathahalli_DS', 'Yotube_iL_iWFSzjK8-linear-regression-monica1_20180507', 'Yotube_XTghZFPezoQ-excel-tut-12_20180507', 'Data_Science_2030', 'BD', 'Data_Analytics_1481', 'Data_Science_2426', 'Yotube_M1mzE1IT-Is-linear-regression-monica2_20180507', 'Yotube_CN8IkgZDz2k-ux-vs-ui_20180507', 'MF_Age_LadyBrown_Lookalike_AndroidBeginners', 'bd_newlp_2304', 'AG_FB_TTL_Cert_IN_CEH', 'FB_AG_BidData_WebClicks_mobile_group', 'AG_FB_TTL_Cert_IN_ITIL_Aug_2018', 'Big-Data-FB', 'FB_AG_DataR_WebClicks_desktop', 'Yotube_fqyNUL8C58E-hive-table-types_20180507', 'DataScience_blog2', 'visit_company_button_click', 'Data_Analytics_2480', 'Youtube_banners', 'Yotube_RO35pR9zsUA-hive-array-explode-function_20180507', 'hot_warm_9thAug', 'Yotube_xJobPiNDsHw-why-ux-exciting-job_20180507', 'FB_Social_Comment_Response_DS_Aug_2018', '25_Aug_Seminar_DSBC_Hyderabad', '1_Sep_Seminar_DSBC_Hyderabad', 'India_Desktop_NF_Fullstack_M_bluetshirtguy_Fullstack_FewProgLanguages', '1_Sep_Seminar_DSBC_Hyd', 'bN1AUaWk-b8-how-da-impacts', 'DataScience_blog1', 'AG_FB_TTL_Analytics_for_Non_Programmers_Aug_18', 'AG_FB_NC_IN_WC_BigData_alldevices_remarketing_lp', 'AG_G_BIGDATA_SEARCH_bigdatatraining', 'WebsiteAug', 'Yotube_5C3_HZY2Ek4-hive-partition_20180507', 'fullstack_mail6_cold', 'DataScience_blog3', 'EthicalHackingAug', 'AG_FB_TTL_IN_BigData', 'AG_FB_TTL_IN_DataR_Aug_18', 'AG_FB_TTL_IN_DataScience_Aug_18', 'AG_FB_TTL_IN_Fullstack_Aug_18', 'AG_FB_TTL_18_Aug_Webinar', 'dVRTFvJtpPo-excel-tute7', 'DS_mail1', 'FB_Social_Comment_Response_DAM_Aug_2018', '18_Aug_Webinar', 'FB_Social_Comment_Response_DSBC_Aug_2018', 'AG_FULLSTACK_SEARCH_IND', 'DAnonprogrammersAug', 'DataScience_blog6', 'FB_Social_Comment_Response_BD_Aug_2018', 'Yotube_6yp4Za9jBxM-nosql-types-on-storage_20180507', 'Yotube_qGCCBvtYBM0-statistics-using-python-ds-series-3_20180507', 'new_drip', 'Frontend_Android_Top_cities', 'Iday15Aug', 'EGzZzS3e620-neural-networks-decoded', 'BigDataCourseMay', 'DataAnalytics_2303', 'Yotube_Q9a2DQy0X9o-full-stack-series-10_20180507', 'FB_Social_Comment_Response_FS_Aug_2018', 'Enroll-dMGBBNQaeZQ', 'BigDataCourseApril', 'Yotube_bjyH8nlHKHA-hbase-design-tutorial_20180507', 'enrol-data-anal', 'DataScience_blog5', 'FB_Social_Comment_Response_DA_Aug_2018', 'M_34-52_android_acadgildjunior1_bnglore', 'dataanalyticsAug', 'AG_GMAIL_DS_NEW_RMTG_IND', 'Yotube_0W-byMDE-4g-hw-to-become-uxdesigner_20180507', 'AG_DATA_SCIENCE_SEARCH_DYNAMIC', 'AG_GMAIL_BD_NEW_IND', 'AG_FB_TTL_25_Aug_Webinar', 'AG_DA_GMAIL_1005_RMTG_IND', 'DataScience_blog4', 'DS_mail2', 'Brand', 'DataScience_blog7', 'MF_Remarketing_FrontEndWebDevelopment', 'FB_AG_DataR_WebClicks_alldevices_remarketing', 'Yotube_Howstu8-zAU-full-stack-series-7_20180507', '1_Sept_Hyd_Seminar', 'Course_Announcement', 'data_science_valueleaf_nov', 'Yotube_X8ylgV4YsJk-how-to-interact-hbase-part3_20180507', 'hinpengrl', 'FullStack_1276', 'ag_g_smart_bd_new', 'DataAnalyticsMay', 'DS_mail4', 'Yotube_5m3h_aPih9Q-data-analysis-vinod-1_20180507', 'Yotube_CcDbMgvU6-M-skills-for-uxdesigner_20180507', 'ag_g_brand_home_3', '25_Aug_Webinar', 'email_reply', 'AG_LI_TTL_IN_DSBC_Aug_18', 'AG_LI_TTL_IN_DataAnalytics_Aug_18', 'FB_AG_android_TTL', 'Aug5FreeCourses', 'Yotube_4KXesZ3Yw8M-pmbok6-raining-krishna-1_20180507', 'AG_LI_TTL_IN_BD_Aug_18', 'AG_LI_TTL_IN_FS_Aug_18', 'Yotube_KQMCOgVdsiw-how-to-interact-hbase_20180507', 'WebsiteGenericMay', 'Yotube_MViPRjaqfaA-window-function-spark-1_20180507', 'FullStack_1730', 'CKWs', 'Acadgild-India', 'FB_AG_DataScience_US_WC_DS_image2_lp', 'FB_AG_Android_Web_Clicks_30-45_Mobile', 'MayWebsite', 'hyderabad_seminar2708', 'G_AG_IN_Search_Fulllstack', 'Yotube_tsQ2oQieBGY-window-function-spark-2_20180507', 'G_AG_IN_Search_Fullstack', 'enrol-ITIL-service-lifecycle-HEW74OEzAew', 'AG_FB_TTL_IN_DS_Bootcamp_Hyd', 'AG_FB_TTL_Franchise_Marathahalli_8_Sep_Seminar', 'DSBootCampAug', 'Yotube_6ZA5lvooc5I-statistics-using-python-ds-series-4_20180507', 'G_AG_IN_Search_DS_Bootcamp_Blr', 'G_AG_IN_Search_DS_Bootcamp_Hyd', 'Yotube_CISnF83dGTc-statistics-using-python-ds-series-5_20180507', 'Yotube_gGwB0kCcdu0-hbase-spark-integration_20180507', 'AG_FB_TTL_8_Sep_Webinar', 'g_ag_in_search_DSM_AI', 'g_ag_in_search_DSM_ML', 'August_2018', nan]\n"
     ]
    },
    {
     "data": {
      "text/plain": [
       "<matplotlib.axes._subplots.AxesSubplot at 0x7fbe775f0eb8>"
      ]
     },
     "execution_count": 16,
     "metadata": {},
     "output_type": "execute_result"
    },
    {
     "data": {
      "image/png": "[encoded data removed]",
      "text/plain": [
       "<Figure size 432x288 with 1 Axes>"
      ]
     },
     "metadata": {},
     "output_type": "display_data"
    }
   ],
   "source": [
    "print(list(b_data['utm_campaign'].unique()))\n",
    "sns.countplot(x=\"utm_campaign\", data=b_data, palette=\"Set3\")"
   ]
  },
  {
   "cell_type": "code",
   "execution_count": 17,
   "metadata": {},
   "outputs": [
    {
     "name": "stdout",
     "output_type": "stream",
     "text": [
      "['android_lowintent_fb?aff_id=5074', 'android_lowintent', 'android_display', 'enrol-android-interview-questions-part1-tQDEgTdDmKc_medium=VM', 'android_adcanopus_Dec', 'enrol-android-interview-questions-part3-4B_HLt4tDAk_medium=VM', 'enrol-android-interview-questions-part2-tQDEgTdDmKc_medium=VM', 'android_lowintent_fb', 'ag_g_display_android_ind', 'enrol-android-interview-questions-part6-2ISikgzd-lI_medium=VM', 'M_38-55_android_acadgildjunior1', 'enrol-android-interview-questions-part4-zTy_ImwjQ1E_medium=VM', 'android_email', 'enrol-android-interview-questions-part5-qvmTcaNIVVs_medium=VM', 'M_34-52_android_acadgildjunior1_bnglore', 'FB_AG_android_TTL']\n",
      "id                          712\n",
      "event                       712\n",
      "city                        712\n",
      "initial_referring_domain    712\n",
      "initial_referrer            712\n",
      "referrer                    712\n",
      "region                      712\n",
      "utm_campaign                712\n",
      "current_url                 712\n",
      "browser_version             696\n",
      "utm_source                  712\n",
      "time                        712\n",
      "mp_country_code             712\n",
      "referring_domain            712\n",
      "os                          712\n",
      "browser                     712\n",
      "dtype: int64\n",
      "['Android']\n",
      "id                          712\n",
      "event                       712\n",
      "city                        712\n",
      "initial_referring_domain    712\n",
      "initial_referrer            712\n",
      "referrer                    712\n",
      "region                      712\n",
      "utm_campaign                712\n",
      "current_url                 712\n",
      "browser_version             696\n",
      "utm_source                  712\n",
      "time                        712\n",
      "mp_country_code             712\n",
      "referring_domain            712\n",
      "os                          712\n",
      "browser                     712\n",
      "dtype: int64\n"
     ]
    },
    {
     "name": "stderr",
     "output_type": "stream",
     "text": [
      "/home/monica/anaconda3/lib/python3.6/site-packages/pandas/core/generic.py:5890: SettingWithCopyWarning: \n",
      "A value is trying to be set on a copy of a slice from a DataFrame\n",
      "\n",
      "See the caveats in the documentation: http://pandas.pydata.org/pandas-docs/stable/indexing.html#indexing-view-versus-copy\n",
      "  self._update_inplace(new_data)\n"
     ]
    }
   ],
   "source": [
    "#b_data['utm_campaign'] = b_data['utm_campaign'].str.lower()\n",
    "\n",
    "android_records = b_data[(b_data[\"utm_campaign\"].str.contains('android',na=False))]\n",
    "\n",
    "print(list(android_records['utm_campaign'].unique()))\n",
    "\n",
    "print(android_records.count())\n",
    "\n",
    "android_records['utm_campaign'].replace('.*android.*', 'Android', regex=True, inplace=True,)\n",
    "print(list(android_records['utm_campaign'].unique()))\n",
    "print(android_records.count())"
   ]
  },
  {
   "cell_type": "code",
   "execution_count": 19,
   "metadata": {},
   "outputs": [
    {
     "data": {
      "text/plain": [
       "\"\\nb_data['utm_campaign'].replace('.*android.*', 'Android', regex=True, inplace=True)\\nb_data['utm_campaign'].replace('.*statistics.*', 'Statistics', regex=True, inplace=True)\\nb_data['utm_campaign'].replace('.*fullstack.*', 'Fullstack', regex=True, inplace=True)\\nb_data['utm_campaign'].replace('.*bigData.*', 'BigData', regex=True, inplace=True)\\n\\nb_data['utm_campaign'].replace('.*dataanalytics.*', 'DataAnalytics', regex=True, inplace=True)\\nb_data['utm_campaign'].replace('.*data_analytics.*', 'DataAnalytics', regex=True, inplace=True)\\nb_data['utm_campaign'].replace('.*data_science.*', 'DataScience', regex=True, inplace=True)\\nb_data['utm_campaign'].replace('.*bigData.*', 'BigData', regex=True, inplace=True)\\n\""
      ]
     },
     "execution_count": 19,
     "metadata": {},
     "output_type": "execute_result"
    }
   ],
   "source": [
    "'''\n",
    "b_data['utm_campaign'].replace('.*android.*', 'Android', regex=True, inplace=True)\n",
    "b_data['utm_campaign'].replace('.*statistics.*', 'Statistics', regex=True, inplace=True)\n",
    "b_data['utm_campaign'].replace('.*fullstack.*', 'Fullstack', regex=True, inplace=True)\n",
    "b_data['utm_campaign'].replace('.*bigData.*', 'BigData', regex=True, inplace=True)\n",
    "\n",
    "b_data['utm_campaign'].replace('.*dataanalytics.*', 'DataAnalytics', regex=True, inplace=True)\n",
    "b_data['utm_campaign'].replace('.*data_analytics.*', 'DataAnalytics', regex=True, inplace=True)\n",
    "b_data['utm_campaign'].replace('.*data_science.*', 'DataScience', regex=True, inplace=True)\n",
    "b_data['utm_campaign'].replace('.*bigData.*', 'BigData', regex=True, inplace=True)\n",
    "'''"
   ]
  },
  {
   "cell_type": "code",
   "execution_count": null,
   "metadata": {},
   "outputs": [],
   "source": [
    "'''\n",
    "ds_cnt = b_data[(b_data[\"utm_campaign\"].str.contains('datascience',na=False))].count()\n",
    "print(ds_cnt)\n",
    "ds_cnt1 = b_data[(b_data[\"utm_campaign\"].str.contains('data_science',na=False))].count()\n",
    "print(ds_cnt1)\n",
    "#regex_pat = re.compile(r'data_science', flags=re.IGNORECASE)\n",
    "#b_data['utm_campaign'].str.replace(regex_pat, 'datascience')\n",
    "#print(b_data[b_data['utm_campaign'] == 'datascience'].count())\n",
    "'''"
   ]
  },
  {
   "cell_type": "code",
   "execution_count": null,
   "metadata": {},
   "outputs": [],
   "source": [
    "print(len(list(b_data['utm_source'].unique())))\n",
    "print(list(b_data['utm_source'].unique()))"
   ]
  },
  {
   "cell_type": "code",
   "execution_count": null,
   "metadata": {},
   "outputs": [],
   "source": [
    "fig = plt.gcf()\n",
    "fig.set_size_inches(50,10) \n",
    "\n",
    "sources = list(b_data['utm_source'].unique())\n",
    "source_freq = [b_data[b_data['utm_source'] == s].shape[0] for s in sources]\n",
    "\n",
    "s1 = []\n",
    "s_f1 = []\n",
    "\n",
    "for i in range(len(sources)):\n",
    "    if(source_freq[i] > 20):\n",
    "        s1.append(sources[i])\n",
    "        s_f1.append(source_freq[i])\n",
    "\n",
    "print(len(s1))\n",
    "print(len(s_f1))\n",
    "\n",
    "\n",
    "# Plot\n",
    "#plt.pie(s_f1, labels=s1, autopct='%1.1f%%', startangle=30)\n",
    " \n",
    "#plt.axis('equal')\n",
    "plt.bar(s1, s_f1)\n",
    "plt.show()"
   ]
  },
  {
   "cell_type": "raw",
   "metadata": {},
   "source": [
    "print(len(list(b_data['current_url'].unique())))"
   ]
  },
  {
   "cell_type": "code",
   "execution_count": null,
   "metadata": {},
   "outputs": [],
   "source": [
    "print(list(b_data['current_url'].unique())[:10])"
   ]
  },
  {
   "cell_type": "code",
   "execution_count": null,
   "metadata": {},
   "outputs": [],
   "source": []
  }
 ],
 "metadata": {
  "kernelspec": {
   "display_name": "Python 3",
   "language": "python",
   "name": "python3"
  },
  "language_info": {
   "codemirror_mode": {
    "name": "ipython",
    "version": 3
   },
   "file_extension": ".py",
   "mimetype": "text/x-python",
   "name": "python",
   "nbconvert_exporter": "python",
   "pygments_lexer": "ipython3",
   "version": "3.6.6"
  }
 },
 "nbformat": 4,
 "nbformat_minor": 2
}
