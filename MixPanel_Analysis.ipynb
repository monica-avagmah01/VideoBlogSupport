{
 "cells": [
  {
   "cell_type": "code",
   "execution_count": 30,
   "metadata": {},
   "outputs": [],
   "source": [
    "import pandas as pd\n",
    "import json\n",
    "from pprint import pprint\n",
    "import numpy as np\n",
    "import matplotlib.pyplot as plt\n",
    "import datetime as dt\n",
    "import seaborn as sns\n",
    "import re\n",
    "from validate_email import validate_email\n",
    "from sklearn.preprocessing import StandardScaler\n",
    "from sklearn import metrics\n",
    "from sklearn.metrics import r2_score\n",
    "from sklearn.model_selection import train_test_split\n",
    "from sklearn.linear_model import LogisticRegression\n",
    "from sklearn.ensemble import RandomForestClassifier\n",
    "\n",
    "\n",
    "%matplotlib inline\n",
    "\n",
    "with open('/home/monica/mp_new.json') as data_file:\n",
    "   data = json.load(data_file)"
   ]
  },
  {
   "cell_type": "markdown",
   "metadata": {},
   "source": [
    "### What is the number of records?"
   ]
  },
  {
   "cell_type": "code",
   "execution_count": 31,
   "metadata": {},
   "outputs": [
    {
     "name": "stdout",
     "output_type": "stream",
     "text": [
      "Number of records: 306792\n"
     ]
    }
   ],
   "source": [
    "num_records = len(data)\n",
    "print(\"Number of records: {}\".format(num_records))"
   ]
  },
  {
   "cell_type": "markdown",
   "metadata": {},
   "source": [
    "### What does each record look like?"
   ]
  },
  {
   "cell_type": "code",
   "execution_count": 32,
   "metadata": {},
   "outputs": [
    {
     "name": "stdout",
     "output_type": "stream",
     "text": [
      "{'_id': {'$oid': '5b87bcabb56baf6f61c255b4'}, 'event': 'pageView', 'properties': {'city': 'Bengaluru', 'initial_referring_domain': 'www.youtube.com', 'screen_width': 1280, 'initial_referrer': 'https://www.youtube.com/', 'screen_height': 720, 'referrer': 'https://www.youtube.com/', 'region': 'Karnataka', 'mp_lib': 'web', 'utm_campaign': 'enrol-statistics-tutorial-FmWz4deqo9g_medium=VM', 'current_url': 'https://acadgild.com/big-data/deep-learning-course-training-certification?utm_campaign=enrol-statistics-tutorial-FmWz4deqo9g_medium=VM&utm_source=youtube', 'lib_version': '2.22.4', 'browser_version': 67, 'distinct_id': '16454a432b02ef-00fe07f10d6e26-47e1039-e1000-16454a432b238e', 'utm_source': 'youtube', 'time': 1530403204, 'mp_country_code': 'IN', 'referring_domain': 'www.youtube.com', 'os': 'Windows', 'browser': 'Chrome'}}\n"
     ]
    }
   ],
   "source": [
    "print(data[0])"
   ]
  },
  {
   "cell_type": "markdown",
   "metadata": {},
   "source": [
    "### What does 'id' field contain?"
   ]
  },
  {
   "cell_type": "code",
   "execution_count": 33,
   "metadata": {},
   "outputs": [
    {
     "name": "stdout",
     "output_type": "stream",
     "text": [
      "{'$oid': '5b87bcabb56baf6f61c255b4'}\n"
     ]
    }
   ],
   "source": [
    "print(data[0]['_id'])"
   ]
  },
  {
   "cell_type": "markdown",
   "metadata": {},
   "source": [
    "### What does 'event' field contain?"
   ]
  },
  {
   "cell_type": "code",
   "execution_count": 34,
   "metadata": {},
   "outputs": [
    {
     "name": "stdout",
     "output_type": "stream",
     "text": [
      "pageView\n"
     ]
    }
   ],
   "source": [
    "print(data[0]['event'])"
   ]
  },
  {
   "cell_type": "markdown",
   "metadata": {},
   "source": [
    "### What does 'properties' field contain?"
   ]
  },
  {
   "cell_type": "code",
   "execution_count": 35,
   "metadata": {},
   "outputs": [
    {
     "name": "stdout",
     "output_type": "stream",
     "text": [
      "{'city': 'Bengaluru', 'initial_referring_domain': 'www.youtube.com', 'screen_width': 1280, 'initial_referrer': 'https://www.youtube.com/', 'screen_height': 720, 'referrer': 'https://www.youtube.com/', 'region': 'Karnataka', 'mp_lib': 'web', 'utm_campaign': 'enrol-statistics-tutorial-FmWz4deqo9g_medium=VM', 'current_url': 'https://acadgild.com/big-data/deep-learning-course-training-certification?utm_campaign=enrol-statistics-tutorial-FmWz4deqo9g_medium=VM&utm_source=youtube', 'lib_version': '2.22.4', 'browser_version': 67, 'distinct_id': '16454a432b02ef-00fe07f10d6e26-47e1039-e1000-16454a432b238e', 'utm_source': 'youtube', 'time': 1530403204, 'mp_country_code': 'IN', 'referring_domain': 'www.youtube.com', 'os': 'Windows', 'browser': 'Chrome'}\n",
      "19\n",
      "dict_keys(['city', 'initial_referring_domain', 'screen_width', 'initial_referrer', 'screen_height', 'referrer', 'region', 'mp_lib', 'utm_campaign', 'current_url', 'lib_version', 'browser_version', 'distinct_id', 'utm_source', 'time', 'mp_country_code', 'referring_domain', 'os', 'browser'])\n",
      "----------------------------------------------------------------------------------------------------\n",
      "dict_keys(['utm_content', 'browser_version', 'search_engine', 'city', 'initial_referring_domain', 'lib_version', 'utm_medium', 'browser', 'screen_width', 'initial_referrer', 'utm_campaign', 'time', 'current_url', 'distinct_id', 'utm_source', 'device', 'mp_country_code', 'referrer', 'region', 'mp_lib', 'mp_processing_time_ms', 'referring_domain', 'os', 'screen_height'])\n",
      "----------------------------------------------------------------------------------------------------\n",
      "298994 24\n",
      "303109 24\n"
     ]
    }
   ],
   "source": [
    "print(data[0]['properties'])\n",
    "print(len((data[0]['properties'].keys())))\n",
    "print(data[0]['properties'].keys())\n",
    "print('-'*100)\n",
    "print(data[298994]['properties'].keys())\n",
    "print('-'*100)\n",
    "\n",
    "for i in range(len(data)):\n",
    "    if(len(data[i]['properties'].keys()) > 23):\n",
    "        print(i, len(data[i]['properties'].keys()))"
   ]
  },
  {
   "cell_type": "markdown",
   "metadata": {},
   "source": [
    "### What are the unique events stored in the data?"
   ]
  },
  {
   "cell_type": "code",
   "execution_count": 36,
   "metadata": {},
   "outputs": [
    {
     "name": "stdout",
     "output_type": "stream",
     "text": [
      "['pageView', 'coursepage-navigator-curriculum', 'coursepage-navigator-coursecomparison', 'coursepage-navigator-whythiscourse', 'coursepage-navigator-acadgildexperience', 'course-page-download-syllabus-btn', 'coursepage-navigator-faqs', 'coursepage-navigator-courseoverview', 'coursepage-stickyform-enrollnow-btn', 'campaign_delivery']\n"
     ]
    }
   ],
   "source": [
    "events = []\n",
    "for record in range(len(data)):\n",
    "    if (data[record]['event'] not in events):\n",
    "        events.append(data[record]['event'])\n",
    "        \n",
    "print(events)"
   ]
  },
  {
   "cell_type": "markdown",
   "metadata": {},
   "source": [
    "### What are the properties of the lead being stored?"
   ]
  },
  {
   "cell_type": "code",
   "execution_count": 37,
   "metadata": {},
   "outputs": [
    {
     "name": "stdout",
     "output_type": "stream",
     "text": [
      "['city', 'initial_referring_domain', 'screen_width', 'initial_referrer', 'screen_height', 'referrer', 'region', 'mp_lib', 'utm_campaign', 'current_url', 'lib_version', 'browser_version', 'distinct_id', 'utm_source', 'time', 'mp_country_code', 'referring_domain', 'os', 'browser']\n"
     ]
    }
   ],
   "source": [
    "print(list(data[0]['properties'].keys()))"
   ]
  },
  {
   "cell_type": "markdown",
   "metadata": {},
   "source": [
    "### Create a dataframe with relevant columns"
   ]
  },
  {
   "cell_type": "code",
   "execution_count": 38,
   "metadata": {},
   "outputs": [
    {
     "name": "stdout",
     "output_type": "stream",
     "text": [
      "['utm_content', 'browser_version', 'search_engine', 'city', 'initial_referring_domain', 'lib_version', 'utm_medium', 'browser', 'screen_width', 'initial_referrer', 'utm_campaign', 'time', 'current_url', 'distinct_id', 'utm_source', 'device', 'mp_country_code', 'referrer', 'region', 'mp_lib', 'mp_processing_time_ms', 'referring_domain', 'os', 'screen_height']\n",
      "dict_keys(['city', 'initial_referring_domain', 'screen_width', 'initial_referrer', 'screen_height', 'referrer', 'region', 'mp_lib', 'utm_campaign', 'current_url', 'lib_version', 'browser_version', 'distinct_id', 'utm_source', 'time', 'mp_country_code', 'referring_domain', 'os', 'browser'])\n",
      "[False, True, False, True, True, True, False, True, True, True, True, True, True, True, True, False, True, True, True, True, False, True, True, True]\n",
      "<class 'pandas.core.frame.DataFrame'>\n",
      "RangeIndex: 306792 entries, 0 to 306791\n",
      "Data columns (total 26 columns):\n",
      "id                          306792 non-null object\n",
      "event                       306792 non-null object\n",
      "utm_content                 0 non-null object\n",
      "browser_version             0 non-null object\n",
      "search_engine               0 non-null object\n",
      "city                        0 non-null object\n",
      "initial_referring_domain    0 non-null object\n",
      "lib_version                 0 non-null object\n",
      "utm_medium                  0 non-null object\n",
      "browser                     0 non-null object\n",
      "screen_width                0 non-null object\n",
      "initial_referrer            0 non-null object\n",
      "utm_campaign                0 non-null object\n",
      "time                        0 non-null object\n",
      "current_url                 0 non-null object\n",
      "distinct_id                 0 non-null object\n",
      "utm_source                  0 non-null object\n",
      "device                      0 non-null object\n",
      "mp_country_code             0 non-null object\n",
      "referrer                    0 non-null object\n",
      "region                      0 non-null object\n",
      "mp_lib                      0 non-null object\n",
      "mp_processing_time_ms       0 non-null object\n",
      "referring_domain            0 non-null object\n",
      "os                          0 non-null object\n",
      "screen_height               0 non-null object\n",
      "dtypes: object(26)\n",
      "memory usage: 60.9+ MB\n",
      "None\n"
     ]
    }
   ],
   "source": [
    "column_names = ['id', 'event', 'utm_content', 'browser_version', 'search_engine', 'city', \\\n",
    "                'initial_referring_domain', 'lib_version', 'utm_medium', 'browser', 'screen_width',\\\n",
    "                'initial_referrer', 'utm_campaign', 'time', 'current_url', 'distinct_id', 'utm_source',\\\n",
    "                'device', 'mp_country_code', 'referrer', 'region', 'mp_lib', 'mp_processing_time_ms', \\\n",
    "                'referring_domain', 'os', 'screen_height']\n",
    "\n",
    "b_data = pd.DataFrame(columns = column_names)\n",
    "    \n",
    "b_data['id'] = pd.Series([data[x]['_id']['$oid'] for x in range(len(data))])\n",
    "b_data['event'] = pd.Series([data[x]['event'] for x in range(len(data))])\n",
    "\n",
    "\n",
    "\n",
    "#There may be missing fields for a record\n",
    "print(column_names[2:])\n",
    "print(data[0]['properties'].keys())\n",
    "print([column in data[0]['properties'].keys() for column in column_names[2:] ])\n",
    "\n",
    "print(b_data.info())\n",
    "\n",
    "for x in range(len(data)):\n",
    "    for column in column_names[2:]:  \n",
    "        if (column in data[x]['properties'].keys()):\n",
    "            b_data.iloc[x][column] = data[x]['properties'][column]\n",
    "        \n",
    "    \n",
    "    \n",
    "    \n",
    "    \n",
    "    #b_data[x] = pd.Series([data[x]['properties'][column] for column in column_names[2:] if column in data[x]['properties'].keys()])\n",
    "\n",
    "\n",
    "#\n",
    "    #print(data[x]['properties'].keys())\n",
    "    #b_data.iloc[x] = pd.Series([data[x][column] for column in column_names[2:] if column in data[x]['properties'].keys()])\n",
    "                              \n",
    "#    \n",
    "    #b_data[column] = pd.Series([data[x]['properties'][column] for x in range(len(data)) \\\n",
    "          #                      if column in data[x]['properties'].keys()])\n",
    "\n",
    "  \n"
   ]
  },
  {
   "cell_type": "code",
   "execution_count": 39,
   "metadata": {},
   "outputs": [
    {
     "name": "stdout",
     "output_type": "stream",
     "text": [
      "<class 'pandas.core.frame.DataFrame'>\n",
      "RangeIndex: 306792 entries, 0 to 306791\n",
      "Data columns (total 26 columns):\n",
      "id                          306792 non-null object\n",
      "event                       306792 non-null object\n",
      "utm_content                 719 non-null object\n",
      "browser_version             287821 non-null object\n",
      "search_engine               108707 non-null object\n",
      "city                        271684 non-null object\n",
      "initial_referring_domain    294419 non-null object\n",
      "lib_version                 294419 non-null object\n",
      "utm_medium                  140201 non-null object\n",
      "browser                     294396 non-null object\n",
      "screen_width                294419 non-null object\n",
      "initial_referrer            294419 non-null object\n",
      "utm_campaign                139571 non-null object\n",
      "time                        306792 non-null object\n",
      "current_url                 294419 non-null object\n",
      "distinct_id                 306792 non-null object\n",
      "utm_source                  140825 non-null object\n",
      "device                      136952 non-null object\n",
      "mp_country_code             293414 non-null object\n",
      "referrer                    191793 non-null object\n",
      "region                      273381 non-null object\n",
      "mp_lib                      294419 non-null object\n",
      "mp_processing_time_ms       27679 non-null object\n",
      "referring_domain            191792 non-null object\n",
      "os                          292903 non-null object\n",
      "screen_height               294419 non-null object\n",
      "dtypes: object(26)\n",
      "memory usage: 60.9+ MB\n",
      "None\n"
     ]
    }
   ],
   "source": [
    "print(b_data.info())"
   ]
  },
  {
   "cell_type": "markdown",
   "metadata": {},
   "source": [
    "### Getting number of unique values possible for Region, City, MP_Country_Code for Location information"
   ]
  },
  {
   "cell_type": "code",
   "execution_count": 40,
   "metadata": {},
   "outputs": [
    {
     "name": "stdout",
     "output_type": "stream",
     "text": [
      "3529\n",
      "893\n",
      "151\n"
     ]
    }
   ],
   "source": [
    "print(len(list(b_data['city'].unique())))\n",
    "print(len(list(b_data['region'].unique())))\n",
    "print(len(list(b_data['mp_country_code'].unique())))"
   ]
  },
  {
   "cell_type": "code",
   "execution_count": 41,
   "metadata": {},
   "outputs": [
    {
     "name": "stdout",
     "output_type": "stream",
     "text": [
      "['Bengaluru', 'Edappal', 'Delhi', 'Vadodara', 'Hyderabad', 'Singapore', 'Chennai', 'Mumbai', 'Bhubaneswar', 'Jaipur', 'Seattle', 'Kolkata', 'Ghaziabad', 'Dubai', 'Pune', 'Muzaffarnagar', 'New Delhi', 'San Diego', nan, 'Vienna', 'San Mateo', 'Fredericksburg', 'Kochi', 'San Francisco', 'Colombo', 'Jamnagar', 'New Brunswick', 'Gurgaon', 'Ahmedabad', 'New York', 'Brooklyn', 'Mountain View', 'Udaipur', 'Amman', 'Chichawatni', 'Kozhikode', 'Rajahmundry', 'Patna', 'Ernakulam', 'Dehradun', 'Jalalpur', 'Thane', 'Lucknow', 'Milpitas', 'Kensington', 'Mathura', 'Bhopal', 'Moradabad', 'Calgary', 'Ludhiana', 'Kalingia', 'Kanchrapara', 'Kakrola', 'Jabalpur', 'Indore', 'Lahore', 'Gatineau', 'Thiruvananthapuram', 'Shah Alam', 'Bhilai', 'Tiruppur', 'Yangon', 'Norcross', 'Noida', 'Bedford', 'Banga', 'Alhambra', 'Nagar', 'Hosur', 'San Jose', 'Visakhapatnam', 'Rajkot', 'Patiala', 'Panipat', 'Houston', 'Cambridge', 'Codlea', 'Wolverhampton', 'Central', 'Kapurthala Town', 'Meerut', 'Paris', 'Firozabad', 'Jajpur', 'Guwahati', 'Kaithal', 'Rohtak', 'Jigani', 'Kandavara', 'London', 'Balasore', 'Charlotte', 'Phagwara', 'Kunnamkulam', 'Jamshedpur', 'Mosonmagyaróvár', 'Douar Jdida', 'Kanpur', 'Silchar', 'Kanniyakumari', 'Riyadh', 'Kurukshetra', 'Boynton Beach', 'Toronto', 'Gaithersburg', 'Gudiyatham', 'Douar Tardane', 'Merrylands', 'Tiruvannamalai', 'Lagos', 'Brisbane', 'Aligarh', 'Ajax', 'Dammam', 'Durgapur', 'Oklahoma City', 'Minnetonka', 'Howrah', 'Vellore', 'Erode', 'Lancaster', 'Columbus', 'Jaunpur', 'Gandhinagar', 'Kota', 'Moga', 'Allahabad', 'Nagpur', 'Tindivanam', 'Tbilisi', 'Bristol', 'Bharuch', 'Puchong Batu Dua Belas', 'Varanasi', 'Solon', 'Sonipat', 'Huntersville', 'Palghar', 'Pretoria', 'Kathmandu', 'Derby', 'Baraut', 'Tirur', 'Burwood', 'Jalandhar', 'Coimbatore', 'Electronics City', 'Amritsar', 'Tokyo', 'Vancouver', 'Airoli', 'Begusarai', 'Patran', 'Sacramento', 'Kohima', 'North York', 'Guayaquil', 'Ranchi', 'Markham', 'Irving', 'Unnao', 'Aurora', 'Vijayawada', 'Ames', 'Muscat', 'Murshidabad', 'Ajmer', 'North Richland Hills', 'Cupertino', 'Naperville', 'Fairfax', 'Bloomington', 'Collierville', 'Cumming', 'Memphis', 'Ipoh', 'Mississauga', 'Santa Clara', 'Atlanta', 'Dublin', 'Montreal', 'Plano', 'Balaghat', 'Mysore', 'Hounslow', 'Boston', 'Kalyan', 'Denver', 'Anand', 'Babail', 'Pattambi', 'Cementon', 'Surry Hills', 'Ashburn', 'Aurangabad', 'Athens', 'Bikin', 'Haldwani', 'Tiruchi', 'Mount Holly', 'Thrissur', 'Mandideep', 'Nairobi', 'Bellevue', 'Loma Linda', 'Shillong', 'Copenhagen', 'Islamabad', 'Jammu', 'Etobicoke', 'Kalpakkam', 'Jalgaon Jamod', 'Fremont', 'St Louis', 'Adaun', 'Palo Alto', 'Almere Stad', 'Trujillo', 'Nellore', 'Raiganj', 'Srinagar', 'Campbell', 'Malé', 'Mansa', 'Phoenix', 'Mohali', 'Mira', 'Satara', 'Dallas', 'Croydon', 'Ulhasnagar', 'Winnipeg', 'Karachi', 'Tempe', 'Brampton', 'Chelmsford', 'Irvine', 'Saharanpur', 'Puducherry', 'Woodhaven', 'Edmonton', 'Faridabad', 'Walsall', 'Sora', 'Gaya', 'Piscataway', 'Kollam', 'Los Angeles', 'Iași', 'Cedar Park', 'Sharjah', 'Stoke Newington', 'Karvarakundu', 'Chicago', 'Pharr', 'Naples', 'Pleasanton', 'Portland', 'Fatehabad', 'Hoboken', 'West Chester', 'Lowell', 'Philadelphia', 'Port Orange', 'Heuchelheim', 'Wolfsburg', 'Stone Mountain', 'Interlaken', 'Walthamstow', 'Benin City', 'Hanford', 'Casablanca', 'Madison', 'San Juan', 'Belra', 'Hendra', 'Purnea', 'Naihati', 'Oakland', 'Haridwar', 'Delray Beach', 'Amsterdam', 'Chico', 'Toledo', 'Cheshire', 'Sandy', 'Raleigh', 'Centreville', 'Schaumburg', 'Dharmaram', 'Jackson', 'Poelten', 'Sulaymaniyah', 'Johor Bahru', 'Petlad', 'Joliet', 'Long Branch', 'Saitama', 'Milton', 'Vaikam', 'Saint Lucia', 'Eastlake', 'Garland', 'Chandigarh', 'Westmead', 'Dharwad', 'Halethorpe', 'Dhar', 'Shenzhen', 'Accra', 'Vadigenhalli', 'Menlo Park', 'Saratoga', 'Guntur', 'Roorkee', 'Helsingborg', 'Kakinada', 'Ho Chi Minh City', 'Wexford', 'Jersey City', 'Boca Raton', 'Monroe', 'Paliganj', 'Hapur', 'St. Thomas', 'Manipala', 'Malappuram', 'Karimnagar', 'Astoria', 'Kanata', 'Dhaka', 'Hathras', 'Anantnag', 'Thoothukudi', 'Latur', 'Madgaon', 'Chandpur', 'Elizabeth', 'Pulwama', 'Karad', 'Raipur', 'Kabul', 'Vitória', 'Milan', 'Plymouth', 'Parker', 'Gohana', 'Oslo', 'Revesby', 'Warangal', 'Karnal', 'Gangtok', 'Bilaspur', 'Serampore', 'Mahesana', 'Pilkhuwa', 'Dharmapuri', 'Bhabhua', 'Edayur', 'Bangaon', 'Bergen', 'Beirut', 'Kuala Lumpur', 'Alviso', 'Hangzhou', 'Barpeta', 'Sangli', 'Kota Kinabalu', 'Falls Church', 'Jakarta', 'Lincolnshire', 'Tallinn', 'Cherrybrook', 'Royal Oak', 'Siruseri', 'Bhiwadi', 'Phnom Penh', 'Silver Spring', 'Herzliya', \"Ha'il\", 'Ujjain', 'Surrey', 'Hanoi', 'Agartala', 'College Station', 'Bokaro Steel City', 'Brahmapur', 'Tadepallegudem', 'Amravati', 'Ratnagiri', 'Nalbari', 'Kanchipuram', 'Nandurbar', 'Beverly Hills', 'Contai', 'Manama', 'Fresno', 'Dhahran', 'Kurnool', 'Sydney', 'Porto', 'Cranbourne', 'Norristown', 'Salem', 'Konnagar', 'Hubli', 'West Drayton', 'Wellington', 'Mainpuri', 'Kolhapur', 'Melbourne', 'Concord', 'Bear', 'Sattur', 'Beijing', 'São Paulo', 'Windhoek', 'Wood Green', 'Dusseldorf', 'Kannur', 'Hillsboro', 'Jeddah', 'Karaikudi', 'Zagreb', 'Mirpur', 'Fayetteville', 'Ankara', 'Badheri Ghoghu', 'Bulandshahr', 'Clarkston', 'Villupuram', 'Addis Ababa', 'Imphal', 'Kampala', 'Nashik', 'Regina', 'Manchester', 'Chamrajpet', 'Gilbert', 'Secunderabad', 'Delmont', 'Baltimore', 'Bisrakh', 'Ambala', 'Doha', 'Ramanathapuram', 'Harare', 'Thanjavur', 'Santiago', 'Leesburg', 'Sofia', 'Dombivali', 'Alappuzha', 'Rome', 'Bangkok', 'Kushalnagar', 'Barrie', 'Karur', 'Jamestown', 'Madurai', 'Las Vegas', 'Hanamkonda', 'Moscow', 'Issaquah', 'Medan', 'Mangalore', 'Dahanu', 'Stamford', 'Manassas', 'Antagarh', 'Davangere', 'Pratapgarh', 'Lloydminster', 'St. Albert', 'Greeneville', 'Davao City', 'Hawthorn', 'Mangalagiri', 'Dakar', 'Byahatti', 'Kottayam', 'Franklin', 'Basingstoke', 'Çanakkale', 'Springfield', 'Palmas', 'Milford', 'Incheon', 'Bannikuppe', 'Jind', 'Coppell', 'Sousse', 'Chandiman', 'Napa', 'Portsmouth', 'Abu Dhabi', 'Haywood', 'Prague', 'Grand Island', 'Ellenwood', 'Bahía Blanca', 'Buckeye', 'Birmingham', 'Khon Kaen', 'Orlando', 'Coimbra', 'Satna', 'Englewood', 'Krakow', 'Hasanpur', 'Bethel', 'Columbia', 'Indirapuram', 'Goiânia', 'Presto', 'Edison', 'Jonesboro', 'Syracuse', 'Carlisle', 'Pittsfield', 'Carrollton', 'Richardson', 'Mundelein', 'Newcastle upon Tyne', 'Loveland', 'Peshawar', 'Istanbul', 'Grand Rapids', 'Carmel Valley', 'Cheyenne', 'Allen', 'Zaporizhia', 'Isieke', 'Halifax', 'Lima', 'Studio City', 'Alpharetta', 'Panama City', 'Jacksonville', 'Surabaya', 'Fort Lauderdale', 'Upperco', 'Round Lake', 'Agra', 'Kharar', 'Jhansi', 'Covington', 'Abbotsford', 'Kent', 'Bagalkot', 'Mandi', 'Sorocaba', 'Shimla', 'Moncton', 'Pearland', 'Bahadurgarh', 'Ajman', 'Macquarie Park', 'Ramban', 'Malegaon', 'Bihar Sharif', 'Framingham', 'Chandanathope', 'Bathinda', \"St. John's\", 'Bakersfield', 'Palakkad', 'Victoria', 'Aluva', 'Bowie', 'Cuttack', 'Frisco', 'Siuri', 'Union City', 'Tumkūr', 'Bhogalpura', 'Marcus Hook', 'Vidisha', 'Frankfurt am Main', 'Navsari', 'Auburn Hills', 'Newark', 'Sambalpur', 'San José', 'Bhaskola', 'Ahmednagar', 'Mandya', 'Hemel Hempstead', 'Pathanamthitta', 'Durham', 'Sarnia', 'Mundra', 'Taipei', 'Chirala', 'Mexico City', 'Tondiarpet', 'Mankato', 'Quezon City', 'Akola', 'Plainfield', 'Perth', 'Alwar', 'Aizawl', 'North Chicago', 'Dindigul', 'Neyveli', 'Makati City', 'Redmond', 'Shirpur', 'Nadiad', 'Da Nang', 'Giridih', 'Gulbarga', 'Novi Sad', 'Shimoga', 'Barsat', 'San Antonio', 'Macerata', 'Gadhinglaj', 'Saugor', 'Scarborough', 'Ponda', 'Bathnaha', 'Jagraon', 'Perambalur', 'Amadora', 'Lublin', 'Hassan', 'Boisar', 'Jandiala Guru', 'Maiden', 'Arlington', 'Samara', 'Amalapuram', 'Bhavnagar', 'West Palm Beach', 'Chongqing', 'Guaynabo', 'Gopeshwar', 'Buford', 'Settat', 'Darmstadt', 'Sultanpur', 'Camden', 'Suleja', 'Oberursel', 'Belleville', 'Cairo', 'Douar Kalaa', 'Kadapa', 'Holon', 'Vadapalani', 'Amersham', 'Attleboro', 'East Brunswick', 'Timișoara', 'Zurich', 'Port-au-Prince', 'Hialeah', 'Visnagar', 'Livermore', 'Dunellen', 'Chendamangalam', 'Chantilly', 'Port Washington', 'Riverton', 'Libertyville', 'Lohapur', 'Rampur', 'Kannapolis', 'Cerritos', 'Ahulana', 'Richmond', 'Dewas', 'Alameda', 'Kalimpong', 'Arunachal', 'Loja', 'Virar', 'Lexington', 'Fort Worth', 'Orleans', 'Hospet', 'Cary', 'Fairfield', 'Kenosha', 'Stoughton', 'Powell', 'Pahrump', 'Richmond Hill', 'Wembley', 'Berkeley', 'Ramallah', 'Campsie', 'Vernon Hills', 'Chandler', 'Burnaby', 'Wandsworth', 'Dayton', 'Fullerton', 'Munich', 'Carshalton', 'Saint John', 'Chemnitz', 'Petaling Jaya', 'Detroit', 'Covina', 'Pico Rivera', 'Jubilee Hills', 'Ellore', 'Albany', 'Chandanagar', 'Brasília', 'Geneseo', 'Hughesdale', 'Jorhat', 'Mesa', 'Avondale', 'Helwan', 'Hazaribagh', 'Bogotá', 'West Des Moines', 'Itanagar', 'Paramus', 'Palakollu', 'Belgaum', 'Nanjing', 'Boise', 'Falakata', 'Golaghat', 'Karwar', 'Ukkamba', 'Dimapur', 'Chattanooga', 'Chhatnag', 'Fatehgarh', 'Nugegoda', 'Kuwait City', 'Anantapur', 'Salt Lake City', 'Elk Grove Village', 'Mavelikara', 'Gadag', 'Banjul', 'Kavali', 'Reading', 'Uttara', 'Siliguri', 'Calangute', 'Bharatpur', 'Haan', 'Nelspruit', 'Kangar', 'Banaswadi', 'Lake Zurich', 'Bagthala', 'Brighton', 'Baker City', 'Monmouth Junction', 'Des Moines', 'Madrid', 'Tunis', 'Durban', 'Kavundampalayam', 'Kunigal', 'Thomasville', 'Udupi', 'Brussels', 'Mersin', 'Hisar', 'Salimpur', 'Kazan’', 'Malad', 'Lansing', 'Westford', 'Quincy', 'Denpasar', 'Dulwich', 'Germantown', 'Khandagiri', 'Stockton', 'Bacoor', 'Berlin', 'Rajpura', 'Vila Velha', 'Bhiwandi', 'Ambur', 'Seoul', 'Hamburg', 'Vila Nova de Gaia', 'Jharsugra', 'Harrisburg', 'Tampa', 'Varkala', 'Lakeland', 'Jhajjar', 'Rahon', 'Norwood', 'Hackensack', 'Khurda', 'Khammam', 'Nuzvid', 'Falfurrias', 'Proddatur', 'Bhiwani', 'Osaka', 'Puttur', 'Burlingame', 'San Ramon', 'Perundurai', 'Asbury Park', 'Edinburgh', 'Vilnius', 'Hartford', 'Sunnyvale', 'Araghar', 'Muncie', 'Champaign', 'North Hollywood', 'South Windsor', 'Hamilton', 'Manching', 'Riverdale', 'Idukki', 'Puebla City', 'Zaria', 'Rancho Cucamonga', 'Randolph Township', 'Kansas City', 'Caieiras', 'Bucharest', 'Cuiabá', 'Keonjhargarh', 'Bhagalpur', 'Enola', 'DeKalb', 'Katy', 'Kearny', 'Khobar', 'Vinukonda', 'Hoshiarpur', 'Vanderhoof', 'Winter Haven', 'Providence', 'Hampstead', 'Ile-Ife', 'New Castle', 'Belgrade', 'Alfred', 'Macon', 'Roanoke', 'Davenport', 'Guimarães', 'Charlottesville', 'Lethbridge', 'Yaoundé', 'Harlingen', 'Arlington Heights', 'Southfield', 'Sleman', 'Denizli', 'Vasai', 'Spring', 'Beaumont', 'Patan', 'Almora', 'Gainesville', 'Maldah', 'Bawana', 'Burleson', 'Nellayi', 'Toereboda', 'Theni', 'AElmhult', 'Closepet', 'Batavia', 'Namakkal', 'Agumbe', 'Chesapeake', 'Loerrach', 'Johnstown', 'Glenside', 'Dandenong', 'Wilmington', 'Rewari', 'Cincinnati', 'Glendale', 'Bishnupur', 'Haifa', 'Oberwil', 'Ongole', 'Nanminda', 'Khurja', 'Lumding Railway Colony', 'Baku', 'Whitchurch', 'Arkalgud', 'Nizamabad', 'Tel Aviv', 'Port Harcourt', 'Gilroy', 'Maqam', 'Panruti', 'Himatnagar', 'Baruipur', 'Gothenburg', 'Setagaya', 'Palm Beach Gardens', 'Zeewolde', 'Belur', 'Wiesbaden', 'Leicester', 'Washington', 'Lohogaon', 'Aryanah', 'Rijeka', 'Alexandria', 'Tashkent', 'Saint Paul', 'Mombasa', 'Lam Tin', 'Windsor', 'Miami', 'Passaic', 'Morinda', 'Baloda Bazar', 'Mooresville', 'Kaunas', 'Nashville', 'Bikaner', 'Giza', 'Kakkanad', 'The Hague', 'Grecia', 'West Hartford', 'Tianjin', 'Faisalabad', 'Pittsburgh', 'Abbots Langley', 'Ambam', 'Port Coquitlam', 'Rochester', 'Elmhurst', 'Tirumala - Tirupati', 'Mbeya', 'Yerwada', 'Afzalpur', 'Guatemala City', 'Stockholm', 'Nalgonda', 'Mormugao', 'Belmont', 'Amroha', 'Palma', 'Princeton', 'Santa Ana', 'Boardman', 'Hayes', 'Pescara', 'Natal', 'Kerteminde', 'The Bronx', 'Biberist', 'Forest Hills', 'Tuscaloosa', 'Half Moon Bay', 'Yogyakarta', 'Lynnwood', 'Visby', 'Westborough', 'Dagenham', 'Ooty', 'Grafton', 'Azamgarh', 'Heverlee', 'Warren Township', 'Sabadell', 'Salvador', 'Argenteuil', 'Lake Villa', 'Barcelona', 'Premnagar', 'Redwood City', 'Hayward', 'Douglas', 'Cagayan de Oro', 'Culpeper', 'Mandaluyong City', 'Winter Park', 'Hoffman Estates', 'Emerson', 'Asansol', 'Keller', 'Port of Spain', 'Rajpur', 'Ponkunnam', 'Stockbridge', 'Kunkavav', 'Marietta', 'Bareilly', 'Adhartal', 'Sivakasi', 'Sitamarhi', 'Arambagh', 'Austin', 'Morvi', 'Tirunelveli', 'Cold Lake', 'Bazidpur', 'Pimpri', 'Chandragiri', 'Brantford', 'Bhadreswar', 'Szeged', 'Clifton', 'Staten Island', 'Mount Pleasant', 'Varese', 'Kangayam', 'Corinth', 'Bursa', 'Tangerang', 'Johannesburg', 'Waltham Abbey', 'Badlapur', 'Kadaba', 'Kiev', 'Bury St Edmunds', 'Chandor', 'Gorakhpur', 'Panjim', 'Barasat', 'Khyriv', 'Seri Kembangan', 'Rio de Janeiro', 'Sunari', 'Matosinhos Municipality', 'Dhanbad', 'Maia', 'Ratchaburi', 'Bordeaux', 'Monrovia', 'Mohammedia', 'Rockwall', 'Kumbakonam', 'Dollis Hill', 'River Cess', 'Healy', 'Coburg', 'Curitiba', 'Clifton Park', 'Zaragoza', 'Rockford', 'Irinjalakuda', \"L'Haÿ-les-Roses\", 'Verona', 'Athani', 'Ras al-Khaimah', 'Chandannagar', 'Salé', 'Karamsad', 'Boydton', 'Kharkiv', 'Kaiserslautern', 'Pallipuram', 'Mau', 'Branson', 'Shamli', 'Weimar', 'Dhenkanal', 'Irvington', 'South Gate', 'Gwalior', 'Dumka', 'Williams Lake', 'Saint-Jean-sur-Richelieu', 'Kongens Lyngby', 'Kallahalli', 'Foz do Iguaçu', 'Magdeburg', 'Novi', 'Torrance', 'Conroe', 'San Fernando', 'San Miguel', 'Colorado Springs', 'Laval', 'North Brunswick', 'Simlapal', 'Euless', 'Manahawkin', 'Ponnani', 'Gajraula', 'Bijapur', 'Hansi', 'Herndon', 'Sollentuna', 'Lisbon', 'Simi Valley', 'North Hills', 'Barchawali', 'Raichur', 'Plainview', 'Cookeville', 'Darjeeling', 'Mulund West', 'Palembang', 'Mount Laurel', 'Rewa', 'Ramanattukara', 'Pantnagar', 'Krishnagiri', 'Gonda City', 'Taichung', 'Kalyani', 'Azadpur', 'North Bergen', 'Iringavur', 'Raurkela', 'Mundka', 'Espoo', 'Bordentown', 'Balu', 'Eastwood', 'Nanuet', 'Shrewsbury', 'Machilipatnam', 'Malden', 'Modinagar', 'Renukoot', 'Dhule', 'Chikmagalūr', 'Haldia', 'Dar es Salaam', 'Sambhal', 'Bogor', 'Maineville', 'Cyberjaya', 'Ranaghat', 'Hillsborough', 'Talwara', 'Jodhpur', 'Tamluk', 'Deli Ibrahim', 'Kirandul', 'Metuchen', 'Missouri City', 'Binghamton', 'Auckland', 'Adolfo Lopez Mateos', 'Bat Yam', 'St Petersburg', 'Nanjangud', 'Gdańsk', 'Santa Cruz', 'Voorhees Township', 'Muzaffarpur', 'Agaramsigur', 'Dayal Bagh', 'Arequipa', 'Madisonville', 'Quito', 'Leeds', 'Uniontown', 'Gambrills', 'Ottawa', 'Johannesberg', 'Noakhali', 'Matawan', 'Taylor', 'New Paltz', 'Short Hills', 'Alvin', 'Ashfield', 'Grenoble', 'Port Orchard', 'Tipp City', 'Newburgh', 'Nacogdoches', 'Buena Park', 'Dasuya', 'Budapest', 'Yuma', 'Kamavarapukota', 'Shanghai', 'Nilambur', 'Sirhind', 'Trondheim', 'Ambattur', 'Valencia', 'Tullahoma', 'Long Beach', 'Kheda', 'Port Chester', 'Bhawan', 'Vadali', 'Bhadrachalam', 'Attur', 'Bac Ninh', 'Majalgaon', 'Al Muharraq', 'Belmore', 'Karthikappally', 'Malapuram', 'Cuddalore', 'Nawab Basoda', 'Nagercoil', 'Rawalpindi', 'Mecca', 'Marthandam', 'Baton Rouge', 'Madhurawada', 'Yuba City', 'Tallahassee', 'Ambiwala', 'Rishra', 'Jalpaiguri', 'Patna City', 'Alipur', 'Belfaux', 'Plettenberg', 'Raritan', 'Charkhi Dadri', 'Liverpool', 'Flushing', 'Rajapalaiyam', 'Daly City', 'Cossipore', 'Uxbridge', 'Morena', 'Curepipe', 'Uddevalla', 'Kitchener', 'Burlington', 'Habsheim', 'New Westminster', 'Constantine', 'Bluffton', 'Holbrook', 'Izmir', 'Balmain', 'White Plains', 'Henderson', 'Egremont', 'Chevilly-Larue', 'Fyzabad', 'Brunswick', 'Itaquaquecetuba', 'Florianópolis', 'Blue Island', 'Gelnhausen', 'Muko', 'Prospect Heights', 'Tesuque', 'Waltham', 'Dhakuakhana', 'Hoc Mon', 'Fontana', 'Danville', 'Chengannur', 'Durg', 'Anaiyur', 'Karsiyang', 'Porter', 'Box Hill', 'Kadappakada', 'Kingston', 'Caloocan City', 'Beed', 'Villa Park', 'Lewes', 'Bommidi', 'Ain Defla', 'Guiguinto', 'Adas', 'Yavatmal', 'Mostar', 'Suwon', 'Hamirpur', 'Wakefield', 'Taebuk', 'Sohar', 'Shinagawa', 'Shanti Niketan', 'Curchorem', 'Santa Paula', 'Batala', 'Santa Cruz de Tenerife', 'Nadghat', 'Minsk', 'Amarpatan', 'Hyattsville', 'Kantabanji', 'Mancherial', 'Sindelfingen', 'Reston', 'Johnson City', 'Badripur', 'Louisville', 'Rohnert Park', 'Khagaul', 'Amreli', 'Bell', 'Norwalk', 'Temecula', 'Ogden', 'Makurdi', 'Bitonto', 'Queen Creek', 'João Pessoa', 'Saint-Laurent', 'Pudukkottai', \"O'Fallon\", 'Santos', 'Hackney', 'Turku', 'Ellicott City', 'Omaha', 'Badheri', 'Santa Monica', 'Gurnee', 'Dauphin', 'Carlsbad', 'Longueuil', 'Pärnu', 'Charlestown', 'Clanton', 'Ahirka', 'Minneapolis', 'Chhatarpur', 'Elkton', 'Aur', 'Bolingbrook', 'Greater Sudbury', 'Sanford', 'Porto Alegre', 'Manila', 'Cainta', 'Suva', 'Veracruz', 'Nahunta', 'Gajwel', 'Milltown', 'Homebush', 'Woodbridge', 'Darlinghurst', 'Avilora', 'Wheeling', 'Hojbjerg', 'Waterloo', 'Helsinki', 'Kishangarh', 'Madanapalle', 'Bandung', 'Birnagar', 'Tlalnepantla', 'Cheyyar', 'Khushab', 'Bhebia', 'Balurghat', 'Athlone', 'Narayankher', 'Nuremberg', 'Sahibganj', 'SadashivaNagar', 'Ladwa', 'Karauli', 'Kilkenny', 'Surigao City', 'Madikeri', 'Goregaon', 'Chernihiv', 'Cape Town', 'Volta Redonda', 'Sioux City', 'Nagaur', 'Paraparaumu', 'Watertown', 'Hoffman', 'Phongsali', 'Bhadrakh', 'Cleveland', 'North Lakhimpur', 'Maddagiri', 'Vacoas', 'Mandaue City', 'Mulund East', 'Spruce Grove', 'Gloucester', 'Rosemead', 'Dasmarinas', 'Lebanon', 'Braşov', 'Provo', 'Bartlesville', 'Nawada', 'Burari', 'Plainville', 'El Sobrante', 'Leander', 'North Bay', 'Rabat', 'West Covina', 'Shreveport', 'Parsippany', 'North Tonawanda', 'South Ozone Park', 'Addition Hills', 'Pasadena', 'Sugar Land', 'Pithoragarh', 'Atlantic City', 'Bhongir', 'Bellary', 'Port Louis', 'Tajpur', 'Pattaya', 'Kothapalli', 'Gaza', 'Raniganj', 'Warsaw', 'Lane Cove', 'Muktsar', 'Coral Gables', 'Tuni', 'Bade District', 'Pekin', 'Chittagong', 'Södertälje', 'Verna', 'Topeka', 'Hsinchu', 'Whangarei', 'Leumeah', 'Muvattupuzha', 'Krishnapur', 'Virginia Beach', 'Jhalawar', 'Bethnal Green', 'Paprola', 'Paderborn', 'Midrand', 'Turin', 'Bydgoszcz', 'Courbevoie', 'Towson', 'Westwood', 'Niterói', 'Nurensdorf', 'Orry-la-Ville', 'Jatani', 'Kowloon', 'Bardoli', 'Silvassa', 'Nyköping', 'Sunnyside', 'Milwaukee', 'Pyrmont', 'Nesttun', 'Sivaganga', 'Adgaon', 'Razole', 'Westminster', 'Chhindwara', 'Anekal', 'Dailekh', 'Al Ain', 'West Bend', 'Kondapur', 'Beckenham', 'Fontenay-aux-Roses', 'Swindon', 'Limassol', 'Changanacheri', 'Hollywood', 'Bentonville', 'Leatherhead', 'Medellín', 'Whittier', 'Lewisville', 'Uyo', 'Newmarket', 'Panchkula', 'Greenwich', 'Bratislava', 'Bloomfield Hills', 'Sfantu Gheorghe', 'Manjeri', 'Etawah', 'North Providence', 'Chanditala', 'New Orleans', 'Shepherds Bush', 'Guadalajara', 'Macquarie Fields', 'Sri Dungargarh', 'Lidcombe', 'Motala', 'Norco', 'Lithia', 'Teaneck', 'Jamaica', 'Bidar', 'Narwana', 'Vapi', 'Atimonan', 'Thenali', 'Barakpur', 'Peoria', 'Nonthaburi', 'Ashoknagar', 'Montrouge', 'Mira Road', 'Lusaka', 'Krishnanagar', 'Cluj-Napoca', 'Yonkers', 'Shahabad', 'An Nhon', 'Milton Keynes', 'Sheffield', 'Bharoli', 'Leuven', 'Karimganj', 'Franklin Park', 'Conakry', 'Tarakeswar', 'New Farm', 'Harmelen', 'Harrow', 'Cotia', 'Burgas', 'Lansdale', 'Vallabh Vidyanagar', 'Floreal', 'Pantai', 'Holmdel', 'Bryan', 'Chikhli', 'Santiago de Cali', 'Tiruvalla', 'Frederick', 'Jawalakhel', 'Kharagpur', 'Balrampur', 'Adari', 'Las Palmas de Gran Canaria', 'Irmo', 'Kano', 'Oak Park', 'Briarcliff Manor', 'Decatur', 'Rock Hill', 'Lewis Center', 'Bagpat', 'Ambler', 'Willoughby', 'Tirana', 'Corrientes', 'Burbank', 'Winnsboro', 'El Cerrito', 'Supaul', 'Atibaia', 'Wilson', 'Busan', 'Folsom', 'Raisen', 'Kopargaon', 'Oyster Bay', 'Manapakkam', 'Kenchanahalli', 'Blackett', 'Devakottai', 'Khanna', 'Solapur', 'Akbarpur', 'Suriapet', 'Cologne', 'Kalamasseri', 'Kharian', 'Skudai', 'Kaladi', 'Lucerne', 'Johnston', 'Bradenton', 'Hurstville', 'Sikar', 'Chicacole', 'Ankleshwar', 'Mansarovar', 'Claremont', 'Rocklin', 'Bekasi', 'Orapa', 'Khatauli', 'Bansi', 'Lamia', 'Poznan', 'Bhimavaram', 'Huai Khwang', 'Wallajahbad', 'Aibhimavaram', 'Fishers', 'Nantes', 'Rogers', 'Ropar', 'Rockville', 'Buenos Aires', 'Hatfield', 'Vandoeuvre-les-Nancy', 'Cedar Rapids', 'Marrakesh', 'Langhorne', 'Maida Vale', 'Gravesend', 'Newtonville', 'Umm Salal Muhammad', 'Wallingford', 'Ossining', 'Swanscombe', 'Bradford', 'Little Elm', 'Stafford', 'Christchurch', 'Toulouse', 'Omrania', 'New Market', 'Canton', 'Darbhanga', 'Fort Wayne', 'Indragiri', 'Barhana', 'Abohar', 'Semarang', 'Lilburn', 'Aden', 'Las Pinas', 'Marktgraitz', 'Taoyuan District', 'Zapopan', 'Deoria', 'Peterborough', 'Deoband', 'Manjeshvar', 'Adoni', 'Arni', 'Kottagudem', 'Baddi', 'Ruwi', 'Valladolid', 'Kfar Saba', 'Jasin', 'Sirsa', 'Barking', 'Amstelveen', 'Samalkha', 'Sangerhausen', 'Glasgow', 'La Grange', 'Tiruchchendur', 'Rinteln', 'Bhilwara', 'Elkridge', 'Newtown', 'Mayapur', 'Kozani', 'Wichita', 'Port Said', 'Nchelenge', 'Giv‘atayim', 'Trenton', 'Troy', 'Corona', 'Venice', 'Barddhaman', 'South Hamilton', 'Funchal', 'Tellicherry', 'Tustin', 'Parkville', 'Srivilliputhur', 'Poughkeepsie', 'Palm Coast', 'Delaware', 'Parramatta', 'Kottakkal', 'Murwara', 'Clermont', 'Munger', 'Windham', 'Kirkland', 'El Paso', 'Kolenchery', 'Saint George', 'Sanquelim', 'Phillaur', 'Abdullapur', 'Tinley Park', 'Viby', 'Clinton', 'Samba', 'Haarlem', 'Kaimakli', 'Damietta', 'Saratoga Springs', 'Lewisburg', 'Gandajika', 'Stuttgart', 'Kadur', 'Bexleyheath', 'Zama', 'Hāsal', 'San Cristóbal', 'Ichalkaranji', 'Georgetown', 'Bremen', 'Christiansted', 'Rajula', 'Mocha', 'Frederiksberg', 'Salisbury', \"Reggio nell'Emilia\", 'Antakya', 'Las Cruces', 'Ras el Aioun', 'Urbana', 'Old Bridge', 'Albuquerque', 'Fort Collins', 'Keyport', 'Gwynn Oak', 'Dundee', 'Woodland Hills', 'Campo Grande', 'Ben Arous', 'District Heights', 'Makassar', 'Downers Grove', 'Ermington', 'Kajang', 'East Hampton', 'Memari', 'Normal', 'Hajipur', 'Westlake Village', 'Bielefeld', 'Mendicino', 'Dadri', 'Seongnam-si', 'Petaluma', 'Chiang Rai', 'Markapur', 'Mayiladuthurai', 'Vanderbijlpark', 'Karukachal', 'Gadwal', 'Talisay City', 'Alliston', 'Chanda', 'Vyttila', 'Västerås', 'West Lafayette', 'King of Prussia', 'Coonoor', 'Hugli', 'Lviv', 'Oran', 'Plainsboro', 'Kawasaki', 'Razampeta', 'Odessa', 'Oldsmar', 'Exeter', 'Medinipur', 'Mhow', 'Mosul', 'Ouagadougou', 'Santo Domingo', 'Chino Hills', 'Erkrath', 'Bristow', 'Mostoles', 'Farmington', 'Belo Horizonte', 'Vicenza', 'Woonsocket', 'North Port', 'Grand Prairie', 'Lutsk', 'San Pedro', 'Hammond', 'Haripad', 'Ferozepore', 'Batam', 'Oros', 'Bellandur', 'Raigarh', 'Islampur', 'Raya', 'Anaheim', 'Washermanpet', 'Brajarajnagar', 'Galway', 'Bolpur', 'Foley', 'Beau Bassin-Rose Hill', 'Sparta', 'Cavite City', 'Trumbull', 'Baroda', 'Baharampur', 'Docklands', 'An Giang', 'Soisy-sous-Montmorency', 'Jijiga', 'Bamrauli Katara', 'Gandhidham', 'Sylhet', 'Oxford', 'Carbondale', 'Lyon', 'Hudson', 'Datawali', 'Northridge', 'Sanaa', 'Asheville', 'Thessaloniki', 'Sira', 'Navegantes', 'Auburn', 'Sunderland', 'Flint', 'Chesterfield', 'Bermondsey', 'Myrtle Beach', 'Port Richey', 'Woolwich', 'Yagoona', 'Mount Prospect', 'Corvallis', 'Rio Rancho', 'Diamond Bar', 'Conway', 'Tadpatri', 'Opa-locka', 'Salinas', 'Cebu City', 'Townsville', 'Eibar', 'Hanumangarh', 'Hrodna', 'Nijmegen', 'Narsapur', 'Heilbronn', 'Santiago de Compostela', 'Rudrapur', 'Malacky', 'Bartlett', 'Asenovgrad', 'Jimma', 'Chhajarsi', 'Grigny', 'Aylesbury', 'Apex', 'Kaikalur', 'Zaventem', 'Ashland', 'Mt. Pleasant', 'Jaisalmer', 'Stroudsburg', 'West New York', 'Satellite Beach', 'Tracy', 'Kalamazoo', 'Lausanne', 'Buffalo', 'The Colony', 'Kuching', 'Cabanillas del Campo', 'Perumbavoor', 'Aba Khel', 'Killeen', 'Allentown', 'Antioch', 'Ellsworth', 'Bothell', 'Dearborn', 'Luton', 'Perth Amboy', 'Karkala', 'Rander', 'Haveri', 'North Branch', 'Americo Brasiliense', 'Kamalpur', 'Montgomery', 'Brandon', 'Vizianagaram', 'Monterey Park', 'Emure-Ekiti', 'Guna', 'Mission', 'Bari', 'Daejeon', 'Bhusaval', 'Kropyvnytskyi', 'Antalya', 'Canoga Park', 'Chengdu', 'Al Hufuf', 'Nha Trang', 'College Park', 'Korba', 'Macungie', 'Kigoma', 'Nakodar', 'Caiuti', 'Greenford', 'Greenfield', 'New Cross', 'Chamba', 'Vélizy-Villacoublay', 'Iselin', 'Mateszalka', 'Stowe', 'Jaijaipur', 'Scottsdale', 'Dover', 'Schoonhoven', 'San Pablo City', 'Perroy', 'Ilford', 'Erlangen', 'Cardiff', 'Charlottenlund', 'Campagnano di Roma', 'Lutz', 'Doda', 'Abidjan', 'Basti', 'Agadir', 'Augusta', 'Des Plaines', 'Ramgarh', 'Manzini', 'St Albans', 'Arjunganj', 'Huntley', 'Pazardzhik', 'Princeton Junction', 'Trebinje', 'Longwood', 'Erbil', 'Łódź', 'Lombard', 'Chevy Chase', 'Brookhaven', 'Williamsburg', 'Indianapolis', 'Udhampur', 'Hornchurch', 'Honolulu', 'Lynbrook', 'Boulder', 'Oranjestad', 'Muntinlupa', 'Barrigada Village', 'Queimadas', 'Raisinghnagar', 'Roswell', 'Srimangala', 'St. Petersburg', 'Greenvale', 'Berwyn', 'Chengalam', 'Hong Kong', 'Caulfield South', 'Aidlingen', 'South Amboy', 'Duluth', 'Moonee Ponds', 'Elwood', 'Modasa', 'Aguru', 'Edwardstown', 'Manantoddy', 'Palm Desert', 'Mangaon', 'Alizaga', 'Keswick', 'Oradea', 'Totowa', 'Mill Park', 'Tista Bazar', 'Warzymice', 'Ventspils', 'Largo', 'Cullowhee', 'Potsdam', 'Tam Diep', 'Niamey', 'Pilani', 'Batley', 'Coventry', 'Monterey', 'Taliparamba', 'Yass', 'Valenzuela', 'Lac La Biche', 'Kalva', 'Masai', 'Aldie', 'Granville', 'City of Westminster', 'Wethersfield', 'Ageo', 'Buffalo Grove', 'Ventura', 'Compton', 'Bayside', 'Egra', 'East Alton', 'Carmel', 'Chiaravalle', 'Wetherill Park', 'Ocala', 'Tifton', 'Abeokuta', 'Musselburgh', 'Pascoe Vale', 'Raebareli', 'Tripoli', 'Attanur', 'Saint Cloud', 'Tachikawa', 'Middletown', 'Goshainganj', 'Kastel', 'Sebastopol', 'Mahrauli', 'Batinac', 'Essex', 'Florence', 'Nokha', 'Clarksburg', 'Montgomery Village', 'Ibadan', 'Engelskirchen', 'Québec', 'Los Montesinos', 'Round Rock', 'Grand Ledge', 'Castro Valley', 'Chester', 'Recife', 'Cuenca', 'Denville', 'Absecon', 'Gooty', 'Glen Iris', 'Ridgefield', 'Redbridge', 'Santa Rosa', 'Nirmal', 'Wuhan', 'Kosli', 'Santa Barbara', 'Bhatkal', 'Renmark', 'Chiba', 'Stratford', 'Palanpur', 'Caranzalem', 'Abusar', 'Madinat `Isa', 'Una', 'Fermatou', 'Maidenhead', 'Artesia', 'Voorburg', 'Multan', 'Tijara', 'Palani', 'Yukon', 'Samarinda', 'Mehekar', 'Offenbach', 'Kalna', 'Nathdwara', 'Palatine', 'Greensboro', 'Alamuru', 'Peddapuram', 'Kinshasa', 'Altadena', 'Paloncha', 'Augsburg', 'Hercules', 'Manganam', 'Qingdao', 'Ghazipur', 'Cos Cob', 'Glen Osmond', 'Maddur', 'Bloomingdale', 'Duvall', 'Hollis', 'Spring Hill', 'Palm Springs', 'São Leopoldo', 'Macomb', 'Monash', 'Florham Park', 'Medford', 'Great Falls', 'De Pere', 'Madinat an Nasr', 'Aghapur', 'Wenatchee', 'Kungur', 'Gondal', 'Greenacre', 'Piedmont', 'Valsad', 'Hawalli', 'Bad Vilbel', 'Supply', 'Apodaca', 'Atrauli', 'Kashipur', 'Pathankot', 'Grass Valley', 'Ferokh', 'Karaikal', 'Kadakkal', 'McKinney', 'Maseru', 'Tiruchengode', 'Byford', 'Gokak', 'Borsad', 'Arrah', 'Nileshwar', 'Balteni', 'Willemstad', 'Pammal', 'Island Lake', 'Blida', 'New Braunfels', 'Beckton', 'Bangor', 'Sehore', 'Kolar', 'Tangier', 'Glen Allen', 'Depok', 'Daytona Beach', 'Canal Winchester', 'Gwangju', 'Stephens City', 'Cranbury', 'Hingham', 'Beni Mellal', 'Bethel Park', 'Palu', 'Kunchanapalle', 'Vadnagar', 'Domlur', 'Ponnampet', 'Saket', 'Balt', 'Narela', 'Seal Beach', 'Tanuku', 'Solingen', 'Mussoorie', 'Jamalpur', 'Daman', 'Newbury', 'Dixons Mills', 'Kiratpur', 'Nandigama', 'Ayer Itam', 'Freetown', 'Tuskegee', 'Kishanganj', 'Antri', 'Boxboro', 'Zionsville', 'Overland Park', 'Dehra Dun', 'East Orange', 'Chiswick', 'Yulee', 'Fort Lee', 'Lenexa', 'Bridgetown', 'Tambaram', 'Gaborone', 'Badalona', 'Utrecht', 'Douala', 'Granada Hills', 'West Chicago', 'Waukegan', 'Miastko', 'Sturgis', 'Snellville', 'Huntsville', 'Jessore', 'Vastra Frolunda', 'Ciudad Real', 'Luxembourg', 'Bonny', 'Westbury', 'Muskegon', 'Botad', 'Dhuri', 'South Yarra', 'Brockport', 'Dhanaura', 'Shadnagar', 'Flower Mound', 'Fort Mill', 'Thenkasi', 'Olympia', 'Madipakkam', 'Kellyville', 'Saint Charles', 'Ascot Vale', 'Hendon', 'Bethania', 'La Canonja', 'Kothamangalam', 'Padra', 'Gudivada', 'Morristown', 'West Orange', 'Lorton', 'Crawley', 'Nesher', 'Shahjanpur', 'Ulan Bator', 'Reghaia', 'Kuttippuram', 'Valrico', 'Hobart', 'Helmond', 'Charkhi', 'Cuxhaven', 'Gujranwala', 'Narasaraopet', 'Bayonne', 'Bolzano', 'Schenectady', 'Karlsruhe', 'Amloh', 'Littleton', 'Pietermaritzburg', 'Spartanburg', 'Ikeja', 'Catskill', 'Saint Clair Shores', 'DeLand', 'Renton', 'Long Island City', 'Brookline', 'Amarante', 'Stony Brook', 'Linköping', 'Sajooeroes', 'Tuxtla Gutiérrez', 'Pennsville', 'Davis', 'Mateur', 'Marina', 'Taguig', 'Kalan', 'Cookham', 'Brownsburg', 'Vera', 'Mannheim', 'West Babylon', 'Midvale', 'Comodoro Rivadavia', 'Mon', 'Lithonia', 'Khandwa', 'Waukee', 'Fatepura', 'Wardha', 'Dibrugarh', 'Rugby', 'Norfolk', 'Darwin', 'Sidoarjo', 'Culver City', 'Ploieşti', 'Point Cook', 'Bologna', 'Vikarabad', 'Haegersten', 'Samsun', 'Bac Kan', 'Xiamen', 'Universal City', 'Ljubljana', 'Budhlada', 'Finsbury', 'Adana', 'Hornsey', 'Misratah', 'Stroud', 'Puri', 'Karuzi', 'Laurel', 'Gobichettipalayam', 'Kharghar', 'Southwark', 'Lambeth', 'Leipzig', 'Bruges', 'George Town', 'Durrës', 'New Malden', 'Oviedo', 'Port Charlotte', 'Vicosa', 'Monterrey', 'Miamisburg', 'Lonavla', 'Eden Prairie', 'Nottingham', 'Chalisgaon', 'Palmer', 'Kumanovo', 'Asiraja', 'Netanya', 'Oldham', 'Roseville', 'Solan', 'Ranbirsinghpura', 'Chino', 'Taiyuan', 'Bayan Lepas', 'Malacca', 'Gomel', 'Thuan An', 'Dalian', 'Anuru', 'Nandyal', 'Eindhoven', 'Palm Bay', 'Cherthala', 'Sarajevo', 'Alkapuri', 'Pampa', 'Rotterdam', 'Minna', 'Belgharia', 'Royal Leamington Spa', 'Havelock', 'Millersville', 'Jeju City', 'Perambur', 'Sulur', 'Vrindavan', 'Mandapeta', 'Almaty', 'Daund', 'Murfreesboro', 'Clovis', 'Roseland', 'Guildford', 'Lake Charles', 'Giugliano in Campania', 'North Chelmsford', 'Far Rockaway', 'Villa Crespo', 'Corpus Christi', 'Dalton', 'Maquoketa', 'Hudsonville', 'Don Bosco Executive Village', 'Merrillville', 'Jadcherla', \"'s-Hertogenbosch\", 'Belvidere', 'Valinhos', 'Orange', 'Paravur Tekkumbhagam', 'Sagardighi', 'Langenfeld', 'Palladam', 'Jharia', 'Sesto San Giovanni', 'Whitefield', 'Worcester', 'Gibsonia', 'DeFuniak Springs', 'New Southgate', 'Kolsva', 'Boyden', 'Maharaganj', 'Zaandam', 'Valenciennes', 'Yamunanagar', 'Riverside', 'Geneva', 'Mirzapur', 'Tucson', 'Basrah', 'Ontario', 'El Monte', 'Tyre', 'Antwerp', 'Kosekoy', 'Chithara', 'Converse', 'Santa Pola', 'Tapan', 'Bloomfield', 'Lake Worth', 'Tanniyurnagaram', 'Alton', 'Malabon', 'Alapadu', 'San Bruno', 'Bagdogra', 'Nagarbhavi', 'Brentwood', 'Sosnowiec', 'Laguna Hills', 'Nesbru', 'Changsha', 'Rawatbhata', 'Kurali', 'Cody', 'Haliyal', 'Gudur', 'Si Racha', 'Idar', 'Portage', 'Khed', 'Dhulian', 'Kissimmee', 'Lanzhou', 'Heredia', 'Manaus', 'Bindki', 'New Mirpur', 'Mont-de-Marsan', 'Marysville', 'Anna Nagar', 'Palampur', 'Kasaragod', 'Hove', 'Civil Lines', 'Los Altos', 'South Shields', 'Brunoy', 'Belfast', 'Tezpur', 'Garden Grove', 'Moorpark', 'Maple Grove', 'Adugodi', 'Shahkot', 'Roha', 'Yadiki', 'Panvel', 'Guledagudda', 'Jasdan', 'Haflong', 'Ramat HaSharon', 'Hanworth', 'Kodur', 'Adapazarı', 'Gollapudi', 'Kothaguda', 'Yerevan', 'Baramati', 'Bhadravaram', 'Melton South', 'Hemet', 'Khopoli', 'Ajrara', 'Novosibirsk', 'Târgu Mureş', 'Arcueil', 'Beawar', 'Pistoia', 'New Friends Colony', 'Edegem', 'Chunchura', 'Kalpatta', 'Xenia', 'Singur', 'Bridgeport', 'Ocoee', 'Bedminster', 'Palm Harbor', 'Longview', 'Bellingham', 'Acton', 'Smyrna', 'Chakdaha', 'Greenwith', 'Cabanatuan City', 'Chittoor', 'Bahraich', 'Krum', 'Agoura Hills', 'Murarai', 'Hoogeveen', 'Mesquite', 'Kokomo', 'Los Gatos', 'Hampton', 'Sao Jose da Coroa Grande', 'Pilsen', 'San Bernardino', 'Anantapuram', 'New Bedford', 'Fitzroy', 'Brookfield', 'Fatehpur', 'Kempton Park', 'Haripur', 'Channapatna', 'Ang Thong', 'Ratlam', 'Kogarah', 'Bladensburg', 'Dapoli', 'Phaltan', 'Talcher', 'Criciúma', 'Wincanton', 'Montego Bay', 'Warren', 'Sahibabad', 'Jackson Heights', 'North Aurora', 'Katowice', 'Chachoengsao', 'Thu Dau Mot', 'Valley Stream', 'Pikesville', 'Parlin', 'São José dos Campos', 'Cypress', 'Tijuana', 'Tacoma', 'Al Mansurah', 'Bellwood', 'San Marcos', 'Kampong Changkat', 'Springfield Gardens', 'Kaohsiung City', 'Benghazi', 'Itasca', 'Ann Arbor', 'Kandi', 'Irbid', 'Swarupnagar', 'Skardu', 'Morrisville', 'Tondabayashi', 'Bara', 'Bluefield', 'Jalor', 'Ampthill', 'Shahpura', 'Simpsonville', 'Badarpur', 'Odesa', 'Clavier', 'Vero Beach', 'Aalst', 'Oceanside', 'Harlow', 'Tanta', 'Notre Dame', 'Mount Waverley', 'Armacao de Buzios', 'Nagrakata', 'Tasgaon', 'Craiova', 'Whitestone', 'Narkhed', 'Mokeri', 'Budakeszi', 'Piro Shah', 'Totteridge', 'Guangzhou', 'Amber', 'Passau', 'Oshawa', 'Shkoder', 'Bahara', 'Cernosice', 'Ivanhoe', 'Bromley', 'Muddenahalli', 'Skopje', 'Sainte-Tulle', 'Seef', 'Bokakhat', 'Nanded', 'Košice', 'Mechanicsburg', 'Vsetin', 'Federal Way', 'Somerville', 'Kotdwara', 'Klerksdorp', 'Heidelberg', 'Savannah', 'Bhadohi', 'Massapequa', 'Jagatsinghapur', 'Ladnun', 'Dharamsala', 'Eschborn', 'Roseburg', 'Kalka', 'Dnipro', 'Haryana', 'Pehowa', 'Jaén', 'Lewisham', 'Vantaa', 'Junagadh', 'Zhengzhou', 'Palwal', 'Cape Elizabeth', 'Kigali', 'East London', 'Padrauna', 'Hicksville', 'Hebbagodi', 'Wilcza Wolka', 'Pauri', 'Melville', 'Paternò', 'Beersheba', 'Lipa City', 'Turaiyur', 'Lanham', 'Taytay', 'San Leandro', 'Spanga', 'Claremore', 'Farnborough', 'Birecik', 'La Paz', 'Prosper', 'Sungai Petani', 'Diphu', 'Pittsburg', 'Sherman Oaks', 'Shenyang', 'Faridkot', 'Centerton', 'Partur', 'Wuppertal', 'Varna', 'Montville', 'Jalna', 'Bandra', 'Biswan', 'Slough', 'Kalol', 'Warrington', 'Bhaisa', 'Koraput', 'Chelsea', 'Badiyar', 'Dharmavaram', 'Ramat Gan', 'Maple Shade Township', 'Tewkesbury', 'Macclenny', 'Bagdah', 'Nandambakkam', 'Borivali West', 'Tiraspol', 'Tours', 'North Charleston', 'Shupiyan', 'Safidon', 'Edavanna', 'Prospect', 'Ghansoli', 'Nanganallur', 'Vaduj', 'Andalgi', 'Chagrin Falls', 'Ragama', 'Santa Maria', 'Rowville', 'Halol', 'Clapham', 'Thimphu', 'Doraha', 'Cheltenham', 'Felsopakony', 'Bracknell', 'Akkayyapalem', 'Farum', 'Agudos', 'Warzachewka Polska', 'Jetpur', 'Nipani', 'Cagliari', 'North Bend', 'Habra', 'Jamkhandi', 'Dohad', 'Mosat', 'Krishnarajpet', 'Griffin', 'Bargi', 'East Harling', 'Sarasota', 'Cape Girardeau', 'Moitas', 'Windach', 'Vaniyambadi', 'Sierra Vista', 'Rancho Cordova', 'Sirohi', 'Kendraparha', 'Montebello', 'L-Iklin', 'Bankstown', 'Córdoba', 'Pithapuram', 'Indri', 'Poblacion', 'Hinsdale', 'Brunswick East', 'Nandigram', 'Dhrangadhra', 'Siddhapur', 'Tughlakabad', 'Surendranagar', 'Mantin', 'Hilsa', 'Shahapur', 'Butterworth', 'Ellington', 'Clayton', 'Bazpur', 'Queluz', 'Ouanda Djallé', 'Pittsford', 'Saktipur', 'Redlands', 'Kelseyville', 'Natick', 'Diamond Harbour', 'Foshan', 'Ketchikan', 'Grapevine', 'Herat', 'Viry-Châtillon', 'Oke Ila', 'Rosedale', 'Gregory Hills', 'Tainan City', 'Bow Bowing', 'Bahawalpur', 'Levis', 'Maputo', 'Neutral Bay', 'Indio', 'Pekanbaru', 'Tegucigalpa', 'Karunanidhi Nagar', 'Ponniammanmedu', 'Wimbledon', 'Loutolim', 'Galați', 'Tulsa', 'Liberty Hill', 'Louisa', 'Ramachandrapuram', 'Ituzaingo', 'Arvada', 'Fujairah', 'Saharsa', 'Kikwit', 'Sargodha', 'Consett', 'Amasya', 'Midlothian', 'Villa Angelica', 'Chihuahua City', 'Mauldin', 'Reynoldsburg', 'Matsusaka', 'Ambuwala', 'Baherwa', 'Dihawk', 'Nalhati', 'Lalgudi', 'Easley', 'Taunsa', 'Kannadiparamba', 'Lilyfield', 'Parbhani', 'Lucena City', 'Schweinfurt', 'Gorinchem', 'Camperdown', 'Thiruvarur', 'Carlingford', 'Nayagarh', 'Royapuram', 'Arangaon', 'Kandy', 'Guyancourt', 'Hualien City', 'Bankura', 'Banjara Hills', 'Yekaterinburg', 'Vologda', 'Clementon', 'Musiri', 'Mobile', 'Ghardaïa', 'Woking', 'Pori', 'Pineville', 'Weiterstadt', 'Whitley Bay', 'Southall', 'Konin', 'Suitland', 'Racine', 'Arden', 'Gopinathpur', 'Brea', 'Baidyapur', 'Union', 'Palam', 'Taranto', 'Bani', 'Yarraville', 'Harvey', 'Huttlingen', 'Caracas', 'Jhelum', 'Le Chesnay', 'Zanica', 'Stevenage', 'Konya', 'Undi', 'Beaverdam', 'Wantagh', 'Brno', 'Kodinar', 'Colovale', 'Arcene', 'Markkleeberg', 'Cuprija', 'Lawrence', 'Tecamachalco', 'Wylie', 'Houghton', 'Vissannapeta', 'Edenbridge', 'Hillsdale', 'Highland Park', 'Veles', 'General San Martin', 'Gyeongsan-si', 'Vũng Tàu', 'Roubaix', 'Karlsfeld', 'Rostov-on-Don', 'Akividu', 'Churu', 'Bago', 'Melattur', 'Taganrog', 'Ranibennur', 'Andheri', 'Sarai Alamgir', 'Baldwin', 'Central Islip', 'Ottappalam', 'Cantonment', 'Thodupuzha', 'Brookings', 'Bentley', 'Kodungallur', 'Beaverton', 'South Bend', 'Burhanpur', 'Maple', 'Bern', 'Patchogue', 'DeWitt', 'Prahran', 'Bosaso', 'Hildesheim', 'Fenton', 'Palmerston North', 'Chaguanas', 'Nabha', 'Cartago', 'Hastings', 'Kalwara', 'Thousand Oaks', 'Marina del Rey', 'Kaliningrad', 'Ghatkopar', 'Seville', 'Padur', 'Abbottabad', 'Thanesar', 'Niort', 'Asalatpur Jarai', 'Tankara', 'Grodzisk Mazowiecki', 'Kolapakkam', 'Krosno', 'Murrieta', 'Ensenada', 'Big Lake', 'Shamgarh', 'Malvern', 'Oregon', 'Cedar Falls', 'Namchi', 'Walnut Creek', 'Jubail', 'Kanigiri', 'Mudgal', 'Kandukur', 'Mahishadal', 'Porbandar', 'Klaipėda', 'Taoru', 'Nadaun', 'Smolyan', 'Khanapara', 'Pompano Beach', 'Canberra', 'Ocean City', 'Veldhoven', 'Winnica', 'Angul', 'Vieux Grand Port', 'Banka', 'Ciechanów', 'Lutherville', 'Khambhat', 'Sikka', 'Sidcup', 'Forest Park', 'Komsomolsk-on-Amur', 'Shahdol', 'Sterling', 'Pandaravadai', 'Dantan', 'Bountiful', 'Siddipet', 'Aplaya', 'Pemulwuy', 'Mulgrave', 'Ambachandan', 'Ujhani', 'Akha', 'Clearwater', 'Sumrall', 'Arima', 'Sainthia', 'Pinellas Park', 'Seaford', 'Willesden', 'Klang', 'Duisburg', 'Camberwell', 'Sun City', 'Clarksville', 'Agarakottalam', 'Fitzgerald', 'Patos', 'Dumont', 'Oxnard', 'Bamenda', 'Niles', 'Malur', 'Carlton', 'Sitapur', 'Barnala', 'Deesa', 'East Elmhurst', 'Douglasville', 'Summit', 'Seremban', 'Baghdad', 'Allinagaram', 'Krasnoyarsk', 'Springboro', 'Chisinau', 'Gijón', 'Basewa', 'Ganganagar', 'Tapolca', 'Gevelsberg', 'Arab', 'Uitenhage', 'Algiers', 'Babarpur', 'Lawrenceville', 'Impfondo', 'Mar del Plata', 'Little Rock', 'Spokane', 'Lincoln', 'Portage la Prairie', 'Aracaju', 'Nagapattinam', 'Zagazig', 'Jerusalem', 'Lynn', 'Lehrte', 'Logroño', 'Hooksett', 'Broxbourne', 'Anjuna', 'Flores', 'Tyler', 'Kulgam', 'Haskell', 'Simonton', 'Barwala', 'Lod', 'Chon Buri', 'Alajuela', 'Astana', 'Kamenka', 'Donetsk', 'Siena', 'Sungai Buloh', 'San Pedro Sula', 'Pasig', 'Rovenki', 'Trnava', 'Kaliyaganj', 'Meknes', 'Les Mureaux', 'Girgaum', 'Nogent-sur-Marne', 'Ganapavaram', 'Votuporanga', 'Almansa', 'Béchar', 'Poa', 'Fes', 'Bandar Seri Begawan', 'Cimahi', 'Thanh Chuong', 'Temara', \"Engel's\", 'Little Ferry', 'Strasbourg', 'Kiel', 'Odense', 'Tucker', 'Nimaj', 'Benson Town', 'Severn', 'Boyne City', 'Devadurga', 'Kistarcsa', 'Mill Valley', 'Hobe Sound', 'Greeley', 'Inowrocław', 'Sangrur', 'Ismailia', 'Gardena', 'Bowling Green', 'Skokie', 'Livonia', 'Pachuca', 'Montvale', 'Staunton', 'Mason', 'Palasa', 'Cáceres', 'George', 'Quarry Bay', 'Worthing', 'Ismailabad', 'Sampaloc', 'Winston-Salem', 'Luanda', 'Bhuj', 'Yanbu', 'Baidyabati', 'Karlskrona', 'Rousse', 'Sopur', 'Allen Park', 'Gieraltowice', 'Daxini Society', 'Khajuraho Group of Monuments', 'Powai', 'Pine Brook', 'Chatsworth', 'Tonbridge', 'Moorestown', 'Huntington', 'Welland', \"Land O' Lakes\", 'Dipolog City', 'Saundatti', 'Tay Ninh', 'Permude', 'Abāzai', 'Fortaleza', 'Essen', 'Brest', 'Catia La Mar', 'Springville', 'Yaroslavl', 'Glugor', 'Roppongi', 'Bavaro', 'Kenitra', 'Pingtung City', 'Yeosu', 'Ocaña', 'La Crosse', 'Moirang', 'Lang Son', 'Chevella', 'Castellbisbal', 'Modesto', 'Sibsagar', 'Valod', 'Montreuil', 'Yokohama', 'Angeles City', 'Tarn Taran', 'Jaspur', 'Haywards Heath', 'Faridpur', 'Banswara', 'Halle', 'Edava', 'Pandua', 'Brescia', 'Vineland', 'Margate', 'Hillarys', 'Clawson', 'Tiruvallur', 'Hohenberg-Krusemark', 'Fairburn', 'Cancún', 'Chatillon-sur-Seiche', 'Merced', 'El Talar', 'Reno', 'Jizan', 'Hopkins', 'Glencoe', 'Mandalay', 'Akita', 'Southington', 'Baripada', 'Crete', 'Rancho Palos Verdes', 'Jagtial', 'Thiruthuraipoondi', 'Nabadwip', 'Reus', 'Butuan', 'Świętochłowice', 'Rocky Hill', 'Closter', 'Ringwood East', 'Ballwin', 'Sabac', 'Rangpo', 'Warrensburg', 'Taranagar', 'Vanadzor', 'Bolton', 'Okotoks', 'Nové Zámky', 'Hyde Park', 'Epping', 'Ghatal', 'Vallejo', 'Gulfport', 'Bronshoj', 'Leyton', 'Goraya', 'Idridgehay', 'Brazzaville', 'São Bernardo do Campo', 'Saarbrücken', 'Greenwood', 'Bilston', 'Aldhal', 'Patti', 'Valley Village', 'Lobnya', 'Antofagasta', 'Enschede', 'McHenry', 'Strakonice', 'Mitchelton', 'Jamner', 'Slagelse', 'Glattbrugg', 'Al Hillah', 'Jamrar', 'Laplace', 'Adelaide', 'Woodridge', 'Karjat', 'Welwyn Garden City', 'Auroville', 'Bruntal', 'Valmiera', 'Madhoganj', 'Esslingen am Neckar', 'Panskura', 'Orpington', 'Tekirdağ', 'Niedernhausen', 'Kerikeri', 'Palmira', 'El Cajon', 'Pensacola', 'Napier City', 'Gypsum', 'Laitumkhrah', 'Kuala Selangor', 'Waterford', 'Essendon', 'Port Blair', 'Mount Abu', 'Strathfield', 'Sangamner', 'Dasna', 'Barabanki', 'Sutton', 'Kotkapura', 'Leiden', 'Phitsanulok', 'Novouzensk', 'Basildon', 'Kew', 'Stone', 'Ludwigshafen am Rhein', 'Bironico', \"Palazzolo sull'Oglio\", 'Willowbrook', 'Neenah', 'Gobernador Galvez', 'Maringá', 'Râmnicu Vâlcea', 'Zion', 'Wallington', 'New Hartford', 'Fountain Hills', 'Wellingborough', 'Nikaia', 'Collingwood', 'Ridgewood', 'Iizuka', 'Lubbock', 'Kumarapuram', 'Marathalli', 'Enumclaw', 'Southbank', 'Oulu', 'Jaggayyapeta', 'Jaora', 'Hinjewadi', 'Deltona', 'Kettering', 'Bharkata', 'Aalborg', 'Webster', 'La Plata', 'Junnar', 'Moose Jaw', 'Catano', 'Southampton', 'Santa Fe', 'Snohomish', 'Paranaguá', 'Guelph', \"Marhanets'\", 'Brook Park', 'Bethlehem', 'Rishikesh', 'Denton', 'Potomac', 'Braddon', 'Sunland', 'Telopea', 'Yuyao', 'Piduguralla', 'Gundwad', 'Eragny', 'Nussloch', 'Mogi das Cruzes', 'Nurpur', 'Sparti', 'Palashi', 'Samrala', 'Taastrup', 'Badshahpur', 'Brentford', 'Tualatin', 'Bossier City', 'Roselle Park', 'Tartu', 'Gaula', 'Haslum', 'Manda', 'Peachtree City', 'Rising Sun', 'Agolai', 'Dollard-des-Ormeaux', 'Gloucester City', 'Pomona', 'Kingsley', 'North Little Rock', 'Deventer', 'Downey', 'Churachandpur', 'Stavanger', 'Tanda', 'Solna', 'Zoetermeer', 'Bridgewater', 'Southlake', 'Wayne', 'Beldanga', 'Crestline', 'Orland Park', 'Punalur', 'Costa Mesa', 'Ypsilanti', 'Hoofddorp', 'Nuenen', 'Amursk', 'La Marsa', 'Godhra', 'Haiphong', 'Anchal', 'South San Francisco', 'Malang', 'Peyton', 'Narayanganj', 'Patancheru', 'Singtam', 'Cork', 'Burnpur', 'Gangarampur', 'Northbrook', 'Padua', 'Mandawa', 'Dharuhera', 'Norwich', 'Desert Hot Springs', 'Khouribga', 'Woburn', 'Highland', 'Warwick', 'Grumento Nova', 'Maumelle', 'Haldibari', 'Upland', 'Marilao', 'Uppsala', 'Doncaster', 'Guadalupe', 'Butler', 'Timbo', 'Nampa', 'Fargo', 'Great Mills', 'Kendal', 'Montclair', 'Skaerholmen', 'Chanduasi', 'Cranford', 'Woodstock', 'Ronkonkoma', 'Belfort', 'Mongkok', 'Karanjia', 'Quetta', 'Panchgani', 'Pilibhit', 'Oryol', 'Carol Stream', 'Deolali', 'Bresso', 'Hafizabad', 'East Stroudsburg', 'Gilberts', 'Dobbs Ferry', 'Dargah', 'Newport News', 'Guruvayur', 'Zutphen', 'Bonn', 'Singida', 'Stará Ľubovňa', 'Narara', 'Erie', 'Woodside', 'Suwanee', 'Walnut', 'Englishtown', 'Kew East', 'Riga', 'Ipoti', 'Modena', 'Gujrat', 'Tulungagung', 'Groves', \"Silvano d'Orba\", 'Phusro', 'Dugadda', 'Constanța', 'Kitty Hawk', 'Nitra', 'Huddersfield', 'Queens Village', 'Fresh Meadows', 'Arum Karimi', 'San Nicolás de los Garza', 'Addanki', 'Tohana', 'Youngstown', 'Dushanbe', 'Badli', 'Borkop', 'Anderson', 'Sagamu', 'Sunbury-on-Thames', 'Giddalur', 'Livingston', 'Assiut', 'Springdale', 'Hua Hin', 'Cachan', 'Ithaca', 'Beinasco', 'Lafayette', 'Woodward', 'Bromont', 'Quantico', 'Viersen', 'East Lansing', 'Saint Leonards-on-Sea', 'Vladimir', 'Antigonish', 'Martinez', 'Anthiyur', 'Lynchburg', 'Westbank', 'Sammamish', 'Pabna', 'Clemmons', 'Humble', 'Antananarivo', 'Echuca', 'Alma', 'Nagoya', 'Nanakramguda', 'Cheraga', 'Colebee', 'South Orange', 'Olsztyn', 'San Luis Potosí City', 'Wittenbach', 'Reynard', 'Latina', 'Bensenville', 'Pinneberg', 'Srikalahasti', 'Tulcea', 'Pacoima', 'Bensalem', 'Caguas', 'Nizampet', 'Reseda', 'Nashua', 'Aundh', 'Bhayandar', 'De Aar', 'Landskrona', 'Chesham', 'Regensburg', 'Piacenza', 'Froso', 'Dietzenbach', 'Globasnitz', 'Moab', 'Altenglan', 'Mebane', 'Eskişehir', 'Hamden', 'Abang', 'Cannock', 'Bradley', 'Rego Park', 'Amherst', 'Fort Rucker', 'Stillwater']\n",
      "======================================================================\n",
      "['Karnataka', 'Kerala', 'National Capital Territory of Delhi', 'Gujarat', 'Telangana', 'Central Singapore Community Development Council', 'Tamil Nadu', 'Maharashtra', 'Odisha', 'Rajasthan', 'Washington', 'West Bengal', 'Uttar Pradesh', 'Dubai', 'California', nan, 'Vienna', 'Virginia', 'Western Province', 'New Jersey', 'Haryana', 'New York', 'Amman Governorate', 'Punjab', 'Andhra Pradesh', 'Bihar', 'Uttarakhand', 'New South Wales', 'Madhya Pradesh', 'Alberta', 'Quebec', 'Selangor', 'Chhattisgarh', 'Yangon Region', 'Georgia', 'Bedford', 'Texas', 'Cambridgeshire', 'Judetul Brasov', 'Wolverhampton', 'Central and Western District', 'Paris', 'Assam', 'England', 'North Carolina', 'Jharkhand', 'Győr-Moson-Sopron', 'Marrakesh-Safi', 'Ar Riyāḑ', 'Florida', 'Ontario', 'Maryland', 'Tanger-Tetouan-Al Hoceima', 'Lagos', 'Queensland', 'Eastern Province', 'Oklahoma', 'Minnesota', 'Ohio', \"K'alak'i T'bilisi\", 'Bristol', 'Gauteng', 'Bagmati Zone', 'Derby', 'Victoria', 'Tokyo', 'British Columbia', 'Nagaland', 'Provincia del Guayas', 'Colorado', 'Iowa', 'Muscat', 'Illinois', 'Tennessee', 'Perak', 'Hounslow', 'Massachusetts', 'Pennsylvania', 'Attica', 'Khabarovsk', 'Nairobi Province', 'Meghalaya', 'Capital Region', 'Islamabad', 'Jammu and Kashmir', 'Missouri', 'Provincie Flevoland', 'La Libertad', 'Kaafu Atoll', 'Arizona', 'Venice', 'Croydon', 'Manitoba', 'Sindh', 'Union Territory of Puducherry', 'Walsall', 'Provincia di Frosinone', 'Judetul Iasi', 'Ash Shariqah', 'Hackney', 'Oregon', 'Hesse', 'Lower Saxony', 'Waltham Forest', 'Edo', 'Casablanca', 'North Holland', 'Connecticut', 'Wyoming', 'Styria', 'Anbar', 'Johor', 'Saitama', 'Chandigarh', 'Guangdong', 'Greater Accra Region', 'Skåne', 'Ho Chi Minh City', 'Louisiana', 'Dhaka', 'Goa', 'Kabul', 'Espirito Santo', 'Milan', 'Oslo County', 'Sikkim', 'Hordaland Fylke', 'Beyrouth', 'Kuala Lumpur', 'Zhejiang', 'Sabah', 'Jakarta', 'Harjumaa', 'Michigan', 'Phnom Penh', 'Tel Aviv', \"Hai'l Region\", 'Thanh Pho Ha Noi', 'Tripura', 'Manama', 'Porto', 'Hillingdon', 'Wellington', 'Delaware', 'Beijing', 'Sao Paulo', 'Khomas', 'Haringey', 'North Rhine-Westphalia', 'Makkah Province', 'City of Zagreb', 'Lakshmipur', 'Arkansas', 'Ankara', 'Addis Ababa', 'Manipur', 'Kampala District', 'Saskatchewan', 'New Hampshire', 'Baladiyat ad Dawhah', 'Harare', 'Santiago Metropolitan', 'Sofia-Capital', 'Rome', 'Bangkok', 'Nevada', 'Moscow', 'North Sumatra', 'Province of Davao del Sur', 'Dakar', 'Hampshire', 'Canakkale', 'Tocantins', 'Incheon', 'Gouvernorat de Sousse', 'Abu Dhabi', 'Hlavni mesto Praha', 'Buenos Aires', 'Alabama', 'Changwat Khon Kaen', 'Coimbra', 'Lesser Poland Voivodeship', 'Goias', 'Newcastle upon Tyne', 'Khyber Pakhtunkhwa', 'Istanbul', 'Zaporizhia', 'Anambra', 'Nova Scotia', 'Lima', 'East Java', 'Himachal Pradesh', 'New Brunswick', 'Ajman', 'Newfoundland and Labrador', 'Leinster', 'Provincia de San Jose', 'Hertfordshire', 'Taipei City', 'Mexico City', 'National Capital Region', 'Western Australia', 'Mizoram', 'Thanh Pho GJa Nang', 'South Backa', 'Provincia di Macerata', 'Lisbon', 'Lublin', \"Samarskaya Oblast'\", 'Chongqing', 'Settat Province', 'Camden', 'Niger State', 'Cairo Governorate', 'Buckinghamshire', 'Judetul Timis', 'Zurich', \"Departement de l'Ouest\", 'Utah', 'Provincia de Loja', 'Kentucky', 'Wisconsin', 'Brent', 'Ramallah', 'Wandsworth', 'Bavaria', 'Sutton', 'Saxony', 'Federal District', 'Bogota D.C.', 'Arunachal Pradesh', 'Jiangsu', 'Idaho', 'Al Asimah', 'Banjul', 'Reading', 'Dinajpur', 'Narayani Zone', 'Mpumalanga', 'Birmingham', 'Brighton and Hove', 'Madrid', 'Gouvernorat de Tunis', 'KwaZulu-Natal', 'Brussels Capital', 'Mersin', 'Tatarstan', 'Bali', 'Southwark', 'Province of Cavite', 'Land Berlin', 'Seoul', 'Hamburg', 'Ōsaka', 'Edinburgh', 'Vilnius City Municipality', 'Indiana', 'Puebla', 'Kaduna State', 'Bucuresti', 'Mato Grosso', 'Osun State', 'Belgrade', 'Maine', 'Braga', 'Centre', 'Yogyakarta', 'Denizli', 'Kansas', 'Västra Götaland', 'Kronoberg', 'Baden-Württemberg Region', 'Haifa', 'Basel-Landschaft', 'Baku City', 'Shropshire', 'Rivers State', 'Leicester', 'District of Columbia', \"Gouvernorat de l'Ariana\", 'Primorsko-Goranska Zupanija', 'Alexandria', 'Toshkent Shahri', 'Mombasa District', 'Kwun Tong', 'Kaunas', 'Giza', 'South Holland', 'Provincia de Alajuela', 'Tianjin', 'South', 'Mbeya', 'Departamento de Guatemala', 'Stockholm', 'Balearic Islands', 'Provincia di Pescara', 'Rio Grande do Norte', 'South Denmark', 'Solothurn', 'Gotland', 'Barking and Dagenham', 'Flemish Brabant Province', 'Barcelona', 'Bahia', \"Val d'Oise\", 'Province of Misamis Oriental', 'City of Port of Spain', 'Csongrad megye', 'Provincia di Varese', 'Corinthia', 'Bursa', 'Banten', 'Essex', 'Kyiv City', 'Suffolk', \"L'vivs'ka Oblast'\", 'Rio de Janeiro', 'Changwat Ratchaburi', 'Gironde', 'Montserrado County', 'Mohammedia', 'River Cess County', 'Alaska', 'Parana', 'Saragossa', 'Val-de-Marne', 'Provincia di Verona', \"Ra's al Khaymah\", 'Sale', \"Kharkivs'ka Oblast'\", 'Rheinland-Pfalz', 'Thuringia', 'Saxony-Anhalt', 'Provincia de Panama', 'South Sumatra', 'Taichung City', 'Uusimaa', 'Dar es Salaam Region', 'West Java', 'Tipaza', 'Auckland', 'Estado de Mexico', 'St.-Petersburg', 'Pomerania', 'Arequipa', 'Provincia de Pichincha', 'Leeds', 'Noakhali', 'Isère', 'Budapest', 'Shanghai', 'Sor-Trondelag Fylke', 'Tinh Bac Ninh', 'Muharraq', 'Fribourg', 'Liverpool', 'Plaines Wilhems District', 'Haut-Rhin', 'Constantine', 'Izmir', 'Cumbria', 'Santa Catarina', 'Kyoto', 'New Mexico', 'Kingston', 'Aïn Defla', 'Province of Bulacan', 'Canton 10', 'Gyeonggi-do', 'Gyeongsangbuk-do', 'Al Batinah North Governorate', 'Ehime', 'Santa Cruz de Tenerife', 'Minsk City', 'South Carolina', 'Benue State', 'Provincia di Bari', 'Paraíba', 'Finland Proper', 'Nebraska', 'Pärnumaa', 'Rio Grande do Sul', 'Province of Rizal', 'Central', 'Veracruz', 'Central Jutland', 'County Westmeath', 'County Kilkenny', 'Province of Surigao del Norte', 'Chernihiv', 'Western Cape', 'Khoueng Phongsali', 'Province of Cebu', 'Gloucestershire', 'Valencia', 'Rabat', 'Port Louis District', 'Changwat Chon Buri', 'Mazovia', 'Taoyuan', 'Chittagong', 'Hsinchu', 'Northland', 'Tower Hamlets', 'Turin', 'Kujawsko-Pomorskie', 'Hauts-de-Seine', 'Oise', 'Kowloon City', 'Dadra and Nagar Haveli', 'Södermanland', 'Manchester', 'Bheri Zone', 'Swindon', 'Limassol', 'Surrey', 'Antioquia', 'Akwa Ibom State', 'Greenwich', 'Bratislava', 'Tulcea', 'Rhode Island', 'Hammersmith and Fulham', 'Jalisco', 'Quezon', 'Changwat Nonthaburi', 'Lusaka Province', 'Judetul Cluj', 'Tinh Binh GJinh', 'Milton Keynes', 'Sheffield', 'Conakry Region', 'Provincie Utrecht', 'Harrow', 'Burgas', 'Negeri Sembilan', 'Departamento del Valle del Cauca', 'Central Region', 'Las Palmas', 'Kano State', 'Qarku i Tiranes', 'Corrientes', 'Busan', 'Lucerne', 'Central District', 'Phthiotis', 'Greater Poland', 'Loire-Atlantique', 'Buenos Aires F.D.', 'Meurthe et Moselle', 'City of Westminster', 'Kent', 'Baladiyat Umm Salal', 'Bradford', 'Canterbury', 'Upper Garonne', 'Central Java', 'Aden', 'Valladolid', 'Melaka', 'Glasgow City', 'Portsmouth', 'Kozani', 'Port Said', 'Luapula Province', 'Madeira', 'Zealand', 'Nicosia', 'Damietta Governorate', 'Algiers', 'Kasaï-Oriental', 'Australian Capital Territory', 'Bexley', 'Kanagawa', 'Táchira', 'Bremen', 'Saint Croix Island', 'Ta‘izz', 'Wiltshire', 'Provincia di Reggio Emilia', 'Hatay', 'Batna', 'Dundee City', 'Mato Grosso do Sul', 'Gouvernorat de Ben Arous', 'South Sulawesi', 'Provincia di Cosenza', 'Changwat Chiang Rai', 'Västmanland', 'Oran', 'Devon', 'Nineveh', 'Kadiogo Province', 'Nacional', 'Minas Gerais', 'Provincia di Vicenza', \"Volyns'ka Oblast'\", 'Province of Laguna', 'Riau Islands', 'County Galway', 'Somali', 'Sylhet', 'Oxfordshire', 'Rhône', 'Sanaa', 'Thessaloniki', 'Durham', 'Sunderland', 'Waikato', 'Gipuzkoa', 'Grodnenskaya', 'Provincie Gelderland', 'A Coruña', 'Plovdiv', 'Oromiya', 'Essonne', 'Naples', 'Vaud', 'Sarawak', 'Guadalajara', 'Luton', 'Ekiti State', 'Daejeon', 'Kropyvnytskyi', 'Antalya', 'Sichuan', 'Tinh Khanh Hoa', 'Kigoma', 'Judetul Bacau', 'Ealing', 'Lewisham', 'Yvelines', 'Szabolcs-Szatmár-Bereg', 'Vermont', 'Redbridge', 'Cardiff', 'Abidjan', 'Agadir-Ida-ou-Tnan', 'Manzini', 'Pazardzhik', 'Republika Srpska', 'Muhafazat Arbil', 'Łódź Voivodeship', 'Havering', 'Hawaii', 'South Australia', 'Calderdale', 'Nasarawa State', 'Bihor', 'West Pomerania', 'Ventspils', 'Brandenburg', 'Tinh Ninh Binh', 'Niamey', 'Kirklees', 'Coventry', 'Sisacko-Moslavacka Zupanija', 'Provincia di Ancona', 'Ogun State', 'East Lothian', 'Tripoli', 'Pomoravlje', 'Oyo State', 'Alicante', 'Pernambuco', 'Provincia del Azuay', 'Hubei', 'Chiba', 'Southern Governorate', 'Sétif', 'Windsor and Maidenhead', 'East Kalimantan', 'Kinshasa City', 'Shandong', 'Perm Krai', 'Hawalli', 'Nuevo León', 'Maseru', 'Gorj', 'Blida', 'Newham', 'Ards and North Down', 'Tanger-Assilah', 'Gwangju', 'Beni-Mellal', 'Central Sulawesi', 'Daman and Diu', 'West Berkshire', 'Penang', 'Western Area', 'Saint Michael', 'Gaborone', 'Littoral', 'Jessore', 'Ciudad Real', 'Luxembourg', 'Champagne-Ardenne', 'Barnet', 'Tarragona', 'West Sussex', 'Ulaanbaatar Hot', 'Boumerdes', 'Tasmania', 'North Brabant', 'South Tyrol', 'Östergötland', 'Borsod-Abaúj-Zemplén', 'Chiapas', 'Gouvernorat de Bizerte', 'Almeria', 'Chubut', 'Warwickshire', 'Northern Territory', 'Prahova', 'Provincia di Bologna', 'Samsun', 'Tinh Bac Kan', 'Fujian', 'Ljubljana', 'Islington', 'Adana', \"Sha'biyat Misratah\", 'Karuzi Province', 'Lambeth', 'West Flanders Province', 'Qarku i Durresit', 'Royal Kingston upon Thames', 'Nottingham', 'Kumanovo', 'West Papua', 'Oldham', 'Shanxi', 'Gomel', 'Tinh Quang Nam', 'Liaoning', 'Sarajevo Canton', 'Jeju-do', 'Almaty Qalasy', 'Enfield', 'North', 'Basra', 'South Governorate', 'Antwerp Province', 'Kocaeli', 'Province of Zambales', 'Silesia', 'Akershus', 'Hunan', 'Gansu', 'Provincia de Heredia', 'Amazonas', 'Azad Kashmir', 'Landes', 'South Tyneside', 'Belfast', 'Sakarya', 'Yerevan', \"Novosibirskaya Oblast'\", 'Judetul Mures', 'Provincia di Pistoia', 'Province of Nueva Ecija', 'Provincie Drenthe', 'Okres Plzen-Mesto', 'Saint John', 'Changwat Ang Thong', 'Somerset', 'Saint James', 'Changwat Chachoengsao', 'Tinh Binh Duong', 'Estado de Baja California', 'Dakahlia', 'Kaohsiung', \"Sha'biyat Banghazi\", 'Irbid', 'Gilgit-Baltistan', 'West Virginia', 'Central Bedfordshire', 'Odessa', 'Liège Province', 'East Flanders Province', 'Gharbia', 'Dolj', 'Pest megye', 'Rrethi i Shkodres', 'Okres Praha-Zapad', 'Bromley', 'Opstina Karpos', 'Alpes-de-Haute-Provence', 'Kosice', 'Vsetín District', 'Province of North West', 'Dnipro', 'Jaen', 'Henan', 'Kigali', 'Eastern Cape', 'Catania', 'Southern District', 'Province of Batangas', 'Şanlıurfa', 'Departamento de La Paz', 'Royal Kensington and Chelsea', 'Kedah', 'Varna', 'Slough', 'Unitatea Teritoriala din Stinga Nistrului', 'Indre and Loire', 'Thimphu Dzongkhag', 'Bracknell Forest', 'Provincia di Cagliari', 'Norfolk', 'Santarém', 'L-Iklin', 'Vakaga', 'Herat', 'Tainan', 'Cidade de Maputo', 'Riau', 'Departamento de Francisco Morazan', 'Merton', 'Judetul Galati', 'Al Fujayrah', 'Kwilu', 'Amasya', 'Entre Rios', 'Chihuahua', 'Mie', 'Dihok', 'Central Province', 'Hualien', \"Sverdlovskaya Oblast'\", \"Vologodskaya Oblast'\", 'Ghardaia', 'Satakunta', 'Departamento de Santa Cruz', 'North Tyneside', 'Provincia di Taranto', 'Capital', 'Provincia di Bergamo', 'Konya', 'Mesto Brno', 'Veles', 'Tinh Ba Ria-Vung Tau', 'Rostov', 'Bago Region', 'Cadiz', 'Cheshire', 'South Dakota', 'Bern', 'Bari', 'Manawatu-Wanganui', 'Chaguanas', 'Provincia de Cartago', \"Hawke's Bay\", \"Kaliningradskaya Oblast'\", 'Seville', 'Deux-Sèvres', 'Subcarpathian Voivodeship', 'Klaipėda City Municipality', 'Oblast Smolyan', 'Lower Silesia', 'Grand Port District', 'Province of La Union', 'Mississippi', 'Borough of Arima', 'North-West Region', 'Baghdad', 'Krasnoyarskiy Kray', 'Chișinău Municipality', 'Asturias', 'Veszprem megye', 'Likouala', 'Sergipe', 'Sharqia', 'Jerusalem', 'La Rioja', 'Astana Qalasy', \"Penzenskaya Oblast'\", \"Donets'ka Oblast'\", 'Province of Siena', 'Departamento de Cortes', \"Luhans'ka Oblast'\", 'Trnava', 'Meknes', 'Albacete', 'Béchar', 'Fes', 'Brunei and Muara District', 'Tinh Nghe An', 'Skhirate-Temara', \"Saratovskaya Oblast'\", 'Bas-Rhin', 'Schleswig-Holstein', 'Ismailia Governorate', 'Hidalgo', 'Caceres', 'Eastern', 'Luanda Province', 'Al Madinah al Munawwarah', 'Blekinge', 'Oblast Ruse', 'Province of Zamboanga del Norte', 'Tinh Tay Ninh', 'Ceara', 'Brest', 'Vargas', \"Yaroslavskaya Oblast'\", 'Provincia de La Altagracia', 'Kenitra Province', 'Pingtung', 'Departamento de Norte de Santander', 'Tinh Lang Son', 'Fukui', 'Seine-Saint-Denis', 'Province of Pampanga', 'Provincia di Brescia', 'Quintana Roo', 'Ille-et-Vilaine', 'Jizan', 'Mandalay Region', 'Akita', 'Province of Agusan del Norte', 'Macva', 'Lori', 'Bolton', 'Nitra', 'Derbyshire', 'Brazzaville', 'Saarland', 'Province of Messina', 'Moscow Oblast', 'Antofagasta', 'Provincie Overijssel', 'Warrington', 'Strakonice District', 'Muhafazat Babil', 'Bruntál District', 'Valmiera', 'Tekirdağ', 'Andaman and Nicobar', 'Changwat Phitsanulok', 'Staffordshire', 'Ticino', 'Santa Fe', 'Judetul Valcea', 'Northamptonshire', 'Fukuoka', 'Northern Ostrobothnia', 'North Denmark', 'Southampton', 'Laconia', 'Tartu', 'Telemark', 'Lincolnshire', 'Rogaland Fylke', 'Cordoba', 'Thanh Pho Hai Phong', 'Narayanganj', 'County Cork', 'Padua', 'Khouribga Province', 'Provincia di Potenza', 'Uppsala', 'Doncaster', 'North Dakota', 'Territoire de Belfort', 'Yau Tsim Mong', 'Balochistan', \"Orlovskaya Oblast'\", 'Singida', 'Presov', 'Riga', 'Province of Modena', 'Provincia di Alessandria', 'Constanta', 'Dushanbe', 'Asyut', 'Changwat Prachuap Khiri Khan', 'East Sussex', \"Vladimirskaya Oblast'\", 'Pabna', 'Aichi', 'Warmia-Masuria', 'San Luis Potosí', 'Saint Gallen', 'District de Luxembourg', 'Provincia di Latina', 'El Beni', 'Northern Cape', 'Provincia di Piacenza', 'Jämtland', 'Carinthia', 'Eskişehir']\n",
      "======================================================================\n"
     ]
    },
    {
     "name": "stdout",
     "output_type": "stream",
     "text": [
      "['IN', 'SG', 'US', 'AE', 'KE', 'AT', 'LK', nan, 'GB', 'JO', 'PK', 'AU', 'CA', 'IE', 'MY', 'MM', 'RO', 'HK', 'FR', 'HU', 'MA', 'SA', 'NG', 'CH', 'GE', 'IT', 'ZA', 'NP', 'OM', 'JP', 'NL', 'EC', 'GR', 'RU', 'DK', 'PE', 'MV', 'SO', 'DE', 'PR', 'VE', 'IQ', 'CN', 'GH', 'SE', 'VN', 'BD', 'AF', 'BR', 'NO', 'LB', 'ID', 'EE', 'KH', 'IL', 'BH', 'PT', 'NZ', 'NA', 'HR', 'TR', 'ET', 'UG', 'QA', 'ZW', 'CL', 'BG', 'TH', 'PH', 'SN', 'KR', 'TN', 'CZ', 'AR', 'PL', 'UA', 'CR', 'TW', 'MX', 'RS', 'KW', 'EG', 'HT', 'PS', 'CO', 'GM', 'ES', 'BE', 'LT', 'CM', 'AZ', 'UZ', 'TZ', 'GT', 'AL', 'IM', 'TT', 'LR', 'DZ', 'PA', 'LV', 'FI', 'SC', 'MU', 'JM', 'BA', 'BY', 'FJ', 'LA', 'CY', 'SK', 'ZM', 'GN', 'BW', 'YE', 'CD', 'VI', 'BF', 'DO', 'RW', 'CI', 'SZ', 'AW', 'GU', 'NE', 'LY', 'LS', 'CW', 'SL', 'BB', 'LU', 'MN', 'SI', 'BI', 'MK', 'KZ', 'AM', 'MT', 'BO', 'MD', 'BT', 'CF', 'MZ', 'HN', 'MW', 'ME', 'CG', 'BN', 'AO', 'TJ', 'MG']\n",
      "======================================================================\n"
     ]
    }
   ],
   "source": [
    "print(list(b_data['city'].unique()))\n",
    "print(\"=\" * 70)\n",
    "print(list(b_data['region'].unique()))\n",
    "print(\"=\" * 70)\n",
    "print(list(b_data['mp_country_code'].unique()))\n",
    "print(\"=\" * 70)"
   ]
  },
  {
   "cell_type": "markdown",
   "metadata": {},
   "source": [
    "### Visualizing the distribution of browsers by Country"
   ]
  },
  {
   "cell_type": "code",
   "execution_count": 42,
   "metadata": {
    "scrolled": true
   },
   "outputs": [
    {
     "name": "stdout",
     "output_type": "stream",
     "text": [
      "                             id     event utm_content browser_version  \\\n",
      "7184   5b87bcb4b56baf6f61c271c4  pageView         NaN              60   \n",
      "67154  5b87be1fb56baf6f61c35c06  pageView         NaN              67   \n",
      "\n",
      "      search_engine       city initial_referring_domain lib_version  \\\n",
      "7184            NaN  Ellenwood          www.youtube.com      2.22.4   \n",
      "67154        google  Ellenwood                   direct      2.22.4   \n",
      "\n",
      "      utm_medium  browser      ...      utm_source device mp_country_code  \\\n",
      "7184          VM  Firefox      ...         youtube    NaN              US   \n",
      "67154        NaN   Chrome      ...             NaN    NaN              US   \n",
      "\n",
      "                       referrer   region mp_lib mp_processing_time_ms  \\\n",
      "7184   https://www.youtube.com/  Georgia    web                   NaN   \n",
      "67154                       NaN  Georgia    web                   NaN   \n",
      "\n",
      "      referring_domain       os screen_height  \n",
      "7184   www.youtube.com  Windows           768  \n",
      "67154              NaN    Linux          1080  \n",
      "\n",
      "[2 rows x 26 columns]\n"
     ]
    }
   ],
   "source": [
    "print(b_data[b_data['city'] == 'Ellenwood'])"
   ]
  },
  {
   "cell_type": "code",
   "execution_count": 43,
   "metadata": {},
   "outputs": [
    {
     "data": {
      "text/plain": [
       "<BarContainer object of 4 artists>"
      ]
     },
     "execution_count": 43,
     "metadata": {},
     "output_type": "execute_result"
    },
    {
     "data": {
      "image/png": "[encoded data removed]",
      "text/plain": [
       "<Figure size 1440x720 with 1 Axes>"
      ]
     },
     "metadata": {},
     "output_type": "display_data"
    }
   ],
   "source": [
    "\n",
    "India_data = b_data[b_data['mp_country_code'] == 'IN']\n",
    "\n",
    "#print(len(list(India_data['city'].unique())))\n",
    "#print(\"=\" * 100)\n",
    "#print(list(India_data['city'].unique()))\n",
    "\n",
    "#f.groupby(\"Col2\").filter(lambda x: len(x) >= 5) \n",
    "grouped_data = b_data['mp_country_code'].groupby([b_data['mp_country_code']]).count()\n",
    "new_df = grouped_data.to_frame(name = 'size').reset_index()\n",
    "\n",
    "new_df1 = new_df[new_df['size'] >= 1000]\n",
    "\n",
    "plt.figure(figsize=(20,10))\n",
    "plt.bar(new_df1['mp_country_code'], new_df1['size'])\n",
    "\n",
    "\n",
    "\n",
    "\n"
   ]
  },
  {
   "cell_type": "code",
   "execution_count": 44,
   "metadata": {},
   "outputs": [
    {
     "name": "stdout",
     "output_type": "stream",
     "text": [
      "1083\n",
      "====================================================================================================\n",
      "['Seattle', 'San Diego', 'San Mateo', 'Fredericksburg', 'San Francisco', 'New Brunswick', 'New York', 'Brooklyn', 'Mountain View', 'Milpitas', 'Norcross', 'Alhambra', 'San Jose', 'Houston', 'Charlotte', 'Boynton Beach', 'Gaithersburg', 'Oklahoma City', 'Minnetonka', 'Lancaster', 'Columbus', 'Solon', 'Huntersville', 'Sacramento', nan, 'Irving', 'Aurora', 'Ames', 'North Richland Hills', 'Cupertino', 'Naperville', 'Fairfax', 'Bloomington', 'Collierville', 'Cumming', 'Memphis', 'Santa Clara', 'Atlanta', 'Dublin', 'Plano', 'Boston', 'Denver', 'Cementon', 'Ashburn', 'Mount Holly', 'Bellevue', 'Loma Linda', 'Fremont', 'St Louis', 'Palo Alto', 'Campbell', 'Phoenix', 'Dallas', 'Tempe', 'Chelmsford', 'Irvine', 'Woodhaven', 'Piscataway', 'Los Angeles', 'Cedar Park', 'Chicago', 'Pharr', 'Naples', 'Pleasanton', 'Portland', 'Hoboken', 'West Chester', 'Lowell', 'Philadelphia', 'Port Orange', 'Stone Mountain', 'Interlaken', 'Hanford', 'Madison', 'Oakland', 'Delray Beach', 'Chico', 'Toledo', 'Cheshire', 'Sandy', 'Raleigh', 'Centreville', 'Schaumburg', 'Jackson', 'Joliet', 'Long Branch', 'Eastlake', 'Garland', 'Halethorpe', 'Menlo Park', 'Saratoga', 'Wexford', 'Jersey City', 'Boca Raton', 'Monroe', 'Astoria', 'Elizabeth', 'Plymouth', 'Parker', 'Alviso', 'Falls Church', 'Lincolnshire', 'Royal Oak', 'Silver Spring', 'College Station', 'Beverly Hills', 'Fresno', 'Norristown', 'Concord', 'Bear', 'Hillsboro', 'Fayetteville', 'Clarkston', 'Manchester', 'Gilbert', 'Delmont', 'Baltimore', 'Leesburg', 'Jamestown', 'Las Vegas', 'Issaquah', 'Stamford', 'Manassas', 'Greeneville', 'Franklin', 'Springfield', 'Milford', 'Coppell', 'Napa', 'Portsmouth', 'Grand Island', 'Ellenwood', 'Buckeye', 'Birmingham', 'Orlando', 'Englewood', 'Bethel', 'Columbia', 'Presto', 'Edison', 'Jonesboro', 'Syracuse', 'Carlisle', 'Pittsfield', 'Carrollton', 'Richardson', 'Mundelein', 'Loveland', 'Grand Rapids', 'Carmel Valley', 'Cheyenne', 'Allen', 'Studio City', 'Alpharetta', 'Panama City', 'Jacksonville', 'Fort Lauderdale', 'Upperco', 'Round Lake', 'Covington', 'Kent', 'Pearland', 'Framingham', 'Bakersfield', 'Bowie', 'Frisco', 'Union City', 'Marcus Hook', 'Auburn Hills', 'Newark', 'Durham', 'Mankato', 'Plainfield', 'North Chicago', 'Redmond', 'San Antonio', 'Maiden', 'Arlington', 'West Palm Beach', 'Buford', 'Attleboro', 'East Brunswick', 'Hialeah', 'Livermore', 'Dunellen', 'Chantilly', 'Port Washington', 'Riverton', 'Libertyville', 'Kannapolis', 'Cerritos', 'Richmond', 'Salem', 'Alameda', 'Lexington', 'Fort Worth', 'Cary', 'Fairfield', 'Kenosha', 'Stoughton', 'Powell', 'Pahrump', 'Berkeley', 'Vernon Hills', 'Chandler', 'Dayton', 'Fullerton', 'Detroit', 'Covina', 'Pico Rivera', 'Albany', 'Geneseo', 'Mesa', 'Avondale', 'West Des Moines', 'Paramus', 'Boise', 'Chattanooga', 'Salt Lake City', 'Elk Grove Village', 'Lake Zurich', 'Baker City', 'Monmouth Junction', 'Des Moines', 'Thomasville', 'Lansing', 'Westford', 'Quincy', 'Germantown', 'Stockton', 'Harrisburg', 'Tampa', 'Lakeland', 'Norwood', 'Hackensack', 'Falfurrias', 'Burlingame', 'San Ramon', 'Asbury Park', 'Hartford', 'Sunnyvale', 'Muncie', 'Champaign', 'North Hollywood', 'South Windsor', 'Hamilton', 'Riverdale', 'Rancho Cucamonga', 'Randolph Township', 'Kansas City', 'Enola', 'DeKalb', 'Katy', 'Kearny', 'Winter Haven', 'Providence', 'New Castle', 'Alfred', 'Macon', 'Roanoke', 'Davenport', 'Charlottesville', 'Harlingen', 'Arlington Heights', 'Southfield', 'Spring', 'Beaumont', 'Gainesville', 'Burleson', 'Vienna', 'Batavia', 'Chesapeake', 'Johnstown', 'Glenside', 'Wilmington', 'Cincinnati', 'Glendale', 'Gilroy', 'Palm Beach Gardens', 'Washington', 'Saint Paul', 'Miami', 'Passaic', 'Mooresville', 'Nashville', 'West Hartford', 'Pittsburgh', 'Rochester', 'Elmhurst', 'Alexandria', 'Belmont', 'Princeton', 'Santa Ana', 'Boardman', 'The Bronx', 'Forest Hills', 'Tuscaloosa', 'Half Moon Bay', 'Lynnwood', 'Westborough', 'Moscow', 'Grafton', 'Warren Township', 'Lake Villa', 'Redwood City', 'Hayward', 'Culpeper', 'Winter Park', 'Hoffman Estates', 'Emerson', 'Keller', 'Stockbridge', 'Marietta', 'Austin', 'Clifton', 'Staten Island', 'Mount Pleasant', 'Rockwall', 'Healy', 'Clifton Park', 'Rockford', 'Boydton', 'Branson', 'Irvington', 'South Gate', 'Novi', 'Torrance', 'Conroe', 'San Fernando', 'Colorado Springs', 'North Brunswick', 'Euless', 'Manahawkin', 'Herndon', 'Simi Valley', 'North Hills', 'Plainview', 'Cookeville', 'Mount Laurel', 'North Bergen', 'Bordentown', 'Nanuet', 'Shrewsbury', 'Malden', 'Maineville', 'Hillsborough', 'Metuchen', 'Missouri City', 'Binghamton', 'Santa Cruz', 'Voorhees Township', 'Madisonville', 'Uniontown', 'Gambrills', 'Matawan', 'Taylor', 'New Paltz', 'Short Hills', 'Alvin', 'Port Orchard', 'Tipp City', 'Newburgh', 'Nacogdoches', 'Buena Park', 'Yuma', 'Valencia', 'Tullahoma', 'Long Beach', 'Port Chester', 'Baton Rouge', 'Yuba City', 'Tallahassee', 'Raritan', 'Flushing', 'Daly City', 'Bluffton', 'Holbrook', 'White Plains', 'Henderson', 'Blue Island', 'Vancouver', 'Prospect Heights', 'Tesuque', 'Waltham', 'Fontana', 'Danville', 'Porter', 'Villa Park', 'Lewes', 'Wakefield', 'Santa Paula', 'Hyattsville', 'Reston', 'Johnson City', 'Louisville', 'Rohnert Park', 'Bell', 'Norwalk', 'Temecula', 'Ogden', 'Queen Creek', \"O'Fallon\", 'Ellicott City', 'Omaha', 'Santa Monica', 'Gurnee', 'Carlsbad', 'Charlestown', 'Clanton', 'Minneapolis', 'Elkton', 'Bolingbrook', 'Sanford', 'Nahunta', 'Milltown', 'Woodbridge', 'Wheeling', 'Sioux City', 'Watertown', 'Hoffman', 'Cleveland', 'Rosemead', 'Lebanon', 'Provo', 'Bartlesville', 'Plainville', 'El Sobrante', 'Leander', 'West Covina', 'Shreveport', 'Parsippany', 'North Tonawanda', 'South Ozone Park', 'Pasadena', 'Sugar Land', 'Atlantic City', 'Coral Gables', 'Pekin', 'Topeka', 'Virginia Beach', 'Towson', 'Westwood', 'Sunnyside', 'Milwaukee', 'Westminster', 'West Bend', 'Hollywood', 'Bentonville', 'Whittier', 'Lewisville', 'Bloomfield Hills', 'North Providence', 'New Orleans', 'Norco', 'Lithia', 'Teaneck', 'Jamaica', 'Peoria', 'Yonkers', 'Franklin Park', 'Lansdale', 'Holmdel', 'Bryan', 'Frederick', 'Irmo', 'Oak Park', 'Briarcliff Manor', 'Decatur', 'Rock Hill', 'Lewis Center', 'Burlington', 'Ambler', 'Willoughby', 'Burbank', 'Winnsboro', 'El Cerrito', 'Wilson', 'Folsom', 'Oyster Bay', 'Johnston', 'Bradenton', 'Rocklin', 'Fishers', 'Rogers', 'Rockville', 'Cedar Rapids', 'Langhorne', 'Newtonville', 'Wallingford', 'Ossining', 'Little Elm', 'Stafford', 'New Market', 'Canton', 'Fort Wayne', 'Lilburn', 'La Grange', 'Elkridge', 'Newtown', 'Wichita', 'Trenton', 'Troy', 'Melbourne', 'Corona', 'Venice', 'South Hamilton', 'Tustin', 'Parkville', 'Poughkeepsie', 'Milton', 'Palm Coast', 'Delaware', 'Clermont', 'Windham', 'Kirkland', 'El Paso', 'Saint George', 'Tinley Park', 'Clinton', 'Saratoga Springs', 'Lewisburg', 'Georgetown', 'Douglas', 'Las Cruces', 'Urbana', 'Old Bridge', 'Albuquerque', 'Fort Collins', 'Keyport', 'Gwynn Oak', 'Woodland Hills', 'District Heights', 'Downers Grove', 'East Hampton', 'Normal', 'Westlake Village', 'Petaluma', 'West Lafayette', 'King of Prussia', 'Plainsboro', 'Odessa', 'Oldsmar', 'Chino Hills', 'Bristow', 'Farmington', 'Reading', 'Woonsocket', 'North Port', 'Grand Prairie', 'Hammond', 'Anaheim', 'Foley', 'Sparta', 'Trumbull', 'Carbondale', 'Hudson', 'Northridge', 'Asheville', 'Flint', 'Chesterfield', 'Myrtle Beach', 'Port Richey', 'Mount Prospect', 'Corvallis', 'Rio Rancho', 'Diamond Bar', 'Conway', 'Opa-locka', 'Salinas', 'Bartlett', 'Apex', 'Ashland', 'Mt. Pleasant', 'Stroudsburg', 'West New York', 'Satellite Beach', 'Tracy', 'Kalamazoo', 'Buffalo', 'The Colony', 'Killeen', 'Bristol', 'Allentown', 'Antioch', 'Ellsworth', 'Bothell', 'Dearborn', 'Perth Amboy', 'North Branch', 'Montgomery', 'Brandon', 'Monterey Park', 'Mission', 'Canoga Park', 'College Park', 'Macungie', 'Greenfield', 'Iselin', 'Stowe', 'Scottsdale', 'Dover', 'Lutz', 'Augusta', 'Des Plaines', 'Huntley', 'Princeton Junction', 'Longwood', 'Lombard', 'Bedford', 'Chevy Chase', 'Brookhaven', 'Williamsburg', 'Indianapolis', 'Honolulu', 'Boulder', 'Roswell', 'St. Petersburg', 'Berwyn', 'South Amboy', 'Duluth', 'Palm Desert', 'Totowa', 'Largo', 'Cullowhee', 'Monterey', 'Aldie', 'Wethersfield', 'Buffalo Grove', 'Ventura', 'Compton', 'Bayside', 'East Alton', 'Carmel', 'Ocala', 'Tifton', 'Saint Cloud', 'Middletown', 'Sebastopol', 'Essex', 'Florence', 'Clarksburg', 'Montgomery Village', 'Round Rock', 'Grand Ledge', 'Castro Valley', 'Chester', 'Denville', 'Absecon', 'Ridgefield', 'Santa Rosa', 'Santa Barbara', 'Stratford', 'Artesia', 'Yukon', 'Palatine', 'Greensboro', 'Altadena', 'Hercules', 'Cos Cob', 'Bloomingdale', 'Duvall', 'Hollis', 'Spring Hill', 'Palm Springs', 'Macomb', 'Florham Park', 'Medford', 'Great Falls', 'De Pere', 'Wenatchee', 'Piedmont', 'Supply', 'Grass Valley', 'McKinney', 'Island Lake', 'New Braunfels', 'Glen Allen', 'Daytona Beach', 'Canal Winchester', 'Stephens City', 'Cranbury', 'Hingham', 'Bethel Park', 'Seal Beach', 'Dixons Mills', 'Tuskegee', 'Boxboro', 'Zionsville', 'Overland Park', 'East Orange', 'Yulee', 'Fort Lee', 'Lenexa', 'Granada Hills', 'West Chicago', 'Waukegan', 'Sturgis', 'Snellville', 'Huntsville', 'Westbury', 'Muskegon', 'Brockport', 'Flower Mound', 'Fort Mill', 'Olympia', 'Saint Charles', 'Bethania', 'Morristown', 'West Orange', 'Lorton', 'Valrico', 'Bayonne', 'Schenectady', 'Littleton', 'Spartanburg', 'Catskill', 'Saint Clair Shores', 'DeLand', 'Renton', 'Long Island City', 'Brookline', 'Stony Brook', 'Pennsville', 'Davis', 'Marina', 'Brownsburg', 'West Babylon', 'Midvale', 'Lithonia', 'Waukee', 'Norfolk', 'Culver City', 'Universal City', 'Cambridge', 'Laurel', 'Oviedo', 'Port Charlotte', 'Miamisburg', 'Eden Prairie', 'Palmer', 'Roseville', 'Chino', 'Palm Bay', 'Pampa', 'Havelock', 'Millersville', 'Murfreesboro', 'Clovis', 'Roseland', 'Lake Charles', 'North Chelmsford', 'Far Rockaway', 'Corpus Christi', 'Dalton', 'Maquoketa', 'Greenwich', 'Hudsonville', 'Merrillville', 'Belvidere', 'Orange', 'Worcester', 'Gibsonia', 'DeFuniak Springs', 'Boyden', 'Riverside', 'Geneva', 'Tucson', 'Ontario', 'El Monte', 'Converse', 'Bloomfield', 'Lake Worth', 'San Bruno', 'Brentwood', 'Laguna Hills', 'Cody', 'Portage', 'Kissimmee', 'Marysville', 'Los Altos', 'Garden Grove', 'Moorpark', 'Maple Grove', 'Hemet', 'Camden', 'Xenia', 'Bridgeport', 'Ocoee', 'Bedminster', 'Palm Harbor', 'Longview', 'Bellingham', 'Acton', 'Smyrna', 'Krum', 'Agoura Hills', 'Mesquite', 'Kokomo', 'Los Gatos', 'Hampton', 'San Bernardino', 'New Bedford', 'Brookfield', 'Bladensburg', 'Warren', 'Jackson Heights', 'North Aurora', 'Valley Stream', 'Pikesville', 'Parlin', 'Cypress', 'Tacoma', 'Bellwood', 'San Marcos', 'Springfield Gardens', 'Itasca', 'Ann Arbor', 'Morrisville', 'Bluefield', 'Simpsonville', 'Vero Beach', 'Oceanside', 'Notre Dame', 'Whitestone', 'Mechanicsburg', 'Federal Way', 'Somerville', 'Savannah', 'Massapequa', 'Roseburg', 'Cape Elizabeth', 'Hicksville', 'Melville', 'Lanham', 'San Leandro', 'Claremore', 'Prosper', 'Pittsburg', 'Sherman Oaks', 'Centerton', 'Montville', 'Warrington', 'Maple Shade Township', 'Macclenny', 'North Charleston', 'Prospect', 'Chagrin Falls', 'Santa Maria', 'North Bend', 'Griffin', 'Sarasota', 'Cape Girardeau', 'Sierra Vista', 'Rancho Cordova', 'Montebello', 'Hinsdale', 'Ellington', 'Pittsford', 'Redlands', 'Kelseyville', 'Natick', 'Ketchikan', 'Grapevine', 'Rosedale', 'Indio', 'Tulsa', 'Liberty Hill', 'Louisa', 'Arvada', 'Midlothian', 'Mauldin', 'Reynoldsburg', 'Easley', 'Clementon', 'Mobile', 'Pineville', 'Suitland', 'Racine', 'Arden', 'Brea', 'Union', 'Beaverdam', 'Wantagh', 'Lawrence', 'Richmond Hill', 'Wylie', 'Houghton', 'Hillsdale', 'Highland Park', 'Baldwin', 'Central Islip', 'Cantonment', 'Brookings', 'Beaverton', 'South Bend', 'Patchogue', 'DeWitt', 'Fenton', 'Thousand Oaks', 'Marina del Rey', 'Murrieta', 'Big Lake', 'Malvern', 'Oregon', 'Cedar Falls', 'Walnut Creek', 'Pompano Beach', 'Ocean City', 'Lutherville', 'Forest Park', 'Sterling', 'Bountiful', 'Clearwater', 'Sumrall', 'Pinellas Park', 'Sun City', 'Clarksville', 'Fitzgerald', 'Dumont', 'Oxnard', 'Niles', 'East Elmhurst', 'Douglasville', 'Summit', 'Springboro', 'Exeter', 'Arab', 'Lawrenceville', 'Little Rock', 'Spokane', 'Lincoln', 'Lynn', 'Hooksett', 'Tyler', 'Haskell', 'Simonton', 'Little Ferry', 'Tucker', 'Severn', 'Boyne City', 'Mill Valley', 'Hobe Sound', 'Greeley', 'Gardena', 'Bowling Green', 'Skokie', 'Livonia', 'Montvale', 'Staunton', 'Mason', 'Brighton', 'Winston-Salem', 'Allen Park', 'Pine Brook', 'Chatsworth', 'Moorestown', 'Huntington', \"Land O' Lakes\", 'Springville', 'La Crosse', 'Modesto', 'Vineland', 'Clawson', 'Fairburn', 'Merced', 'Waterloo', 'Reno', 'Hopkins', 'Glencoe', 'Brunswick', 'Southington', 'Crete', 'Rancho Palos Verdes', 'Rocky Hill', 'Closter', 'Ballwin', 'Warrensburg', 'Chelsea', 'Hyde Park', 'Vallejo', 'Gulfport', 'Greenwood', 'Valley Village', 'McHenry', 'Laplace', 'Woodridge', 'El Cajon', 'Pensacola', 'Gypsum', 'Waterford', 'Willowbrook', 'Neenah', 'Zion', 'New Hartford', 'Fountain Hills', 'Ridgewood', 'Lubbock', 'Enumclaw', 'Deltona', 'Webster', 'Santa Fe', 'Snohomish', 'Brook Park', 'Bethlehem', 'Denton', 'Potomac', 'Sunland', 'Tualatin', 'Bossier City', 'Roselle Park', 'Peachtree City', 'Rising Sun', 'Gloucester City', 'Pomona', 'North Little Rock', 'Downey', 'Bridgewater', 'Southlake', 'Wayne', 'Crestline', 'Orland Park', 'Costa Mesa', 'Ypsilanti', 'South San Francisco', 'Peyton', 'Northbrook', 'Desert Hot Springs', 'Woburn', 'Highland', 'Warwick', 'Maumelle', 'Upland', 'Butler', 'Nampa', 'Fargo', 'Great Mills', 'Montclair', 'Cranford', 'Woodstock', 'Ronkonkoma', 'Carol Stream', 'East Stroudsburg', 'Gilberts', 'Dobbs Ferry', 'Newport News', 'Erie', 'Woodside', 'Suwanee', 'Walnut', 'Englishtown', 'Groves', 'Kitty Hawk', 'Queens Village', 'Fresh Meadows', 'Youngstown', 'Anderson', 'Livingston', 'Springdale', 'Ithaca', 'Lafayette', 'Woodward', 'Quantico', 'East Lansing', 'Lynchburg', 'Sammamish', 'Clemmons', 'Humble', 'Alma', 'South Orange', 'Reynard', 'Bensenville', 'Pacoima', 'Bensalem', 'Reseda', 'Nashua', 'Moab', 'Mebane', 'Hamden', 'Bradley', 'Rego Park', 'Amherst', 'Fort Rucker', 'Stillwater']\n"
     ]
    }
   ],
   "source": [
    "US_data = b_data[b_data['mp_country_code'] == 'US']\n",
    "\n",
    "print(len(list(US_data['city'].unique())))\n",
    "print(\"=\"*100)\n",
    "print(list(US_data['city'].unique()))\n"
   ]
  },
  {
   "cell_type": "code",
   "execution_count": 45,
   "metadata": {},
   "outputs": [
    {
     "name": "stdout",
     "output_type": "stream",
     "text": [
      "1395\n",
      "====================================================================================================\n",
      "['Singapore', 'Dubai', nan, 'Vienna', 'Colombo', 'Amman', 'Chichawatni', 'Kensington', 'Calgary', 'Lahore', 'Gatineau', 'Shah Alam', 'Yangon', 'Bedford', 'Cambridge', 'Codlea', 'Wolverhampton', 'Central', 'Paris', 'London', 'Mosonmagyaróvár', 'Douar Jdida', 'Riyadh', 'Toronto', 'Douar Tardane', 'Merrylands', 'Lagos', 'Brisbane', 'Ajax', 'Dammam', 'Tbilisi', 'Bristol', 'Puchong Batu Dua Belas', 'Pretoria', 'Kathmandu', 'Derby', 'Burwood', 'Tokyo', 'Vancouver', 'North York', 'Guayaquil', 'Markham', 'Muscat', 'Ipoh', 'Mississauga', 'Montreal', 'Hounslow', 'Surry Hills', 'Athens', 'Bikin', 'Nairobi', 'Copenhagen', 'Islamabad', 'Etobicoke', 'Almere Stad', 'Trujillo', 'Malé', 'Mira', 'Aurora', 'Croydon', 'Winnipeg', 'Karachi', 'Brampton', 'Edmonton', 'Walsall', 'Sora', 'Iași', 'Sharjah', 'Stoke Newington', 'Heuchelheim', 'Wolfsburg', 'Walthamstow', 'Benin City', 'Casablanca', 'San Juan', 'Hendra', 'Amsterdam', 'Poelten', 'Sulaymaniyah', 'Johor Bahru', 'Saitama', 'Milton', 'Saint Lucia', 'Westmead', 'Shenzhen', 'Accra', 'Helsingborg', 'Ho Chi Minh City', 'St. Thomas', 'Kanata', 'Dhaka', 'Kabul', 'Vitória', 'Milan', 'Oslo', 'Revesby', 'Bergen', 'Beirut', 'Kuala Lumpur', 'Hangzhou', 'Kota Kinabalu', 'Jakarta', 'Tallinn', 'Cherrybrook', 'Phnom Penh', 'Herzliya', \"Ha'il\", 'Surrey', 'Hanoi', 'Manama', 'Dhahran', 'Sydney', 'Porto', 'Cranbourne', 'West Drayton', 'Wellington', 'Melbourne', 'Beijing', 'São Paulo', 'Windhoek', 'Wood Green', 'Dusseldorf', 'Jeddah', 'Zagreb', 'Mirpur', 'Ankara', 'Addis Ababa', 'Kampala', 'Regina', 'Doha', 'Harare', 'Santiago', 'Sofia', 'Rome', 'Bangkok', 'Barrie', 'Moscow', 'Medan', 'Lloydminster', 'St. Albert', 'Davao City', 'Hawthorn', 'Dakar', 'Basingstoke', 'Çanakkale', 'Palmas', 'Incheon', 'Sousse', 'Abu Dhabi', 'Haywood', 'Prague', 'Bahía Blanca', 'Khon Kaen', 'Coimbra', 'Krakow', 'Goiânia', 'Newcastle upon Tyne', 'Peshawar', 'Istanbul', 'Zaporizhia', 'Isieke', 'Halifax', 'Lima', 'Surabaya', 'Abbotsford', 'Sorocaba', 'Moncton', 'Ajman', 'Macquarie Park', \"St. John's\", 'Victoria', 'Dublin', 'Frankfurt am Main', 'San José', 'Hemel Hempstead', 'Sarnia', 'Taipei', 'Mexico City', 'Quezon City', 'Perth', 'Makati City', 'Da Nang', 'Novi Sad', 'Macerata', 'Scarborough', 'Amadora', 'Lublin', 'Samara', 'Chongqing', 'Guaynabo', 'Settat', 'Darmstadt', 'Camden', 'Suleja', 'Oberursel', 'Belleville', 'Cairo', 'Douar Kalaa', 'Holon', 'Amersham', 'Timișoara', 'Zurich', 'Port-au-Prince', 'Loja', 'Orleans', 'Richmond Hill', 'Wembley', 'Ramallah', 'Campsie', 'Burnaby', 'Wandsworth', 'Munich', 'Carshalton', 'Saint John', 'Chemnitz', 'Petaling Jaya', 'Brasília', 'Hughesdale', 'Helwan', 'Bogotá', 'Nanjing', 'Nugegoda', 'Kuwait City', 'Banjul', 'Reading', 'Uttara', 'Bharatpur', 'Haan', 'Nelspruit', 'Birmingham', 'Brighton', 'Madrid', 'Tunis', 'Durban', 'Brussels', 'Mersin', 'Kazan’', 'Denpasar', 'Dulwich', 'Bacoor', 'Berlin', 'Vila Velha', 'Seoul', 'Hamburg', 'Vila Nova de Gaia', 'Osaka', 'Edinburgh', 'Vilnius', 'Manching', 'Puebla City', 'Zaria', 'Caieiras', 'Bucharest', 'Cuiabá', 'Khobar', 'Vanderhoof', 'Hampstead', 'Ile-Ife', 'Belgrade', 'Guimarães', 'Lethbridge', 'Yaoundé', 'Sleman', 'Denizli', 'Toereboda', 'AElmhult', 'Loerrach', 'Dandenong', 'Haifa', 'Oberwil', 'Baku', 'Whitchurch', 'Tel Aviv', 'Port Harcourt', 'Maqam', 'Gothenburg', 'Setagaya', 'Zeewolde', 'Wiesbaden', 'Leicester', 'Aryanah', 'Rijeka', 'Alexandria', 'Tashkent', 'Mombasa', 'Lam Tin', 'Windsor', 'Kaunas', 'Giza', 'The Hague', 'Grecia', 'Tianjin', 'Faisalabad', 'Abbots Langley', 'Ambam', 'Port Coquitlam', 'Mbeya', 'Guatemala City', 'Stockholm', 'Palma', 'Hayes', 'Pescara', 'Natal', 'Kerteminde', 'Biberist', 'Yogyakarta', 'Visby', 'Dagenham', 'Heverlee', 'Sabadell', 'Salvador', 'Argenteuil', 'Barcelona', 'Douglas', 'Cagayan de Oro', 'Mandaluyong City', 'Port of Spain', 'Cold Lake', 'Brantford', 'Szeged', 'Varese', 'Corinth', 'Bursa', 'Tangerang', 'Johannesburg', 'Waltham Abbey', 'Kiev', 'Bury St Edmunds', 'Khyriv', 'Seri Kembangan', 'Rio de Janeiro', 'Matosinhos Municipality', 'Maia', 'Ratchaburi', 'Bordeaux', 'Monrovia', 'Mohammedia', 'Dollis Hill', 'River Cess', 'Coburg', 'Curitiba', 'Zaragoza', \"L'Haÿ-les-Roses\", 'Verona', 'Ras al-Khaimah', 'Salé', 'Kharkiv', 'Kaiserslautern', 'Weimar', 'Patan', 'Williams Lake', 'Saint-Jean-sur-Richelieu', 'Kongens Lyngby', 'Foz do Iguaçu', 'Magdeburg', 'San Miguel', 'Laval', 'Panama City', 'Sollentuna', 'Lisbon', 'Palembang', 'Taichung', 'Espoo', 'Eastwood', 'Dar es Salaam', 'Bogor', 'Cyberjaya', 'Deli Ibrahim', 'Auckland', 'Adolfo Lopez Mateos', 'Bat Yam', 'St Petersburg', 'Gdańsk', 'Arequipa', 'Quito', 'Leeds', 'Richmond', 'Ottawa', 'Johannesberg', 'Noakhali', 'Ashfield', 'Grenoble', 'Budapest', 'Shanghai', 'Trondheim', 'Bac Ninh', 'Al Muharraq', 'Belmore', 'Rawalpindi', 'Mecca', 'Belfaux', 'Plettenberg', 'Liverpool', 'Uxbridge', 'Curepipe', 'Uddevalla', 'Kitchener', 'Burlington', 'Habsheim', 'New Westminster', 'Constantine', 'Izmir', 'Balmain', 'Egremont', 'Chevilly-Larue', 'Brunswick', 'Itaquaquecetuba', 'Florianópolis', 'Gelnhausen', 'Muko', 'Hoc Mon', 'Box Hill', 'Kingston', 'Caloocan City', 'Ain Defla', 'Guiguinto', 'Mostar', 'Suwon', 'Taebuk', 'Sohar', 'Shinagawa', 'Santa Cruz de Tenerife', 'Minsk', 'Sindelfingen', 'Makurdi', 'Bitonto', 'João Pessoa', 'Saint-Laurent', 'Santos', 'Hackney', 'Turku', 'Dauphin', 'Longueuil', 'Pärnu', 'Greater Sudbury', 'Porto Alegre', 'Manila', 'Cainta', 'Suva', 'Veracruz', 'Homebush', 'Darlinghurst', 'Hojbjerg', 'Waterloo', 'Helsinki', 'Bandung', 'Tlalnepantla', 'Khushab', 'Athlone', 'Nuremberg', 'Kilkenny', 'Surigao City', 'Chernihiv', 'Cape Town', 'Volta Redonda', 'Paraparaumu', 'Phongsali', 'Vacoas', 'Mandaue City', 'Spruce Grove', 'Gloucester', 'Dasmarinas', 'Valencia', 'Braşov', 'North Bay', 'Rabat', 'Addition Hills', 'Port Louis', 'Pattaya', 'Gaza', 'Warsaw', 'Lane Cove', 'Bade District', 'Chittagong', 'Södertälje', 'Hsinchu', 'Whangarei', 'Leumeah', 'Bethnal Green', 'Paderborn', 'Midrand', 'Turin', 'Bydgoszcz', 'Courbevoie', 'Niterói', 'Nurensdorf', 'Orry-la-Ville', 'Kowloon', 'Nyköping', 'Pyrmont', 'Manchester', 'Nesttun', 'Dailekh', 'Al Ain', 'Beckenham', 'Fontenay-aux-Roses', 'Swindon', 'Limassol', 'Leatherhead', 'Medellín', 'Uyo', 'Newmarket', 'Greenwich', 'Bratislava', 'Sfantu Gheorghe', 'Shepherds Bush', 'Guadalajara', 'Macquarie Fields', 'Lidcombe', 'Hamilton', 'Atimonan', 'Nonthaburi', 'Montrouge', 'Lusaka', 'Cluj-Napoca', 'An Nhon', 'Milton Keynes', 'Sheffield', 'Leuven', 'Conakry', 'New Farm', 'Harmelen', 'Harrow', 'Cotia', 'Burgas', 'Floreal', 'Pantai', 'Santiago de Cali', 'Jawalakhel', 'Las Palmas de Gran Canaria', 'Kano', 'Tirana', 'Corrientes', 'Atibaia', 'Busan', 'Blackett', 'Cologne', 'Kharian', 'Skudai', 'Lucerne', 'Hurstville', 'Claremont', 'Bekasi', 'Orapa', 'Lamia', 'Poznan', 'Huai Khwang', 'Nantes', 'Buenos Aires', 'Hatfield', 'Vandoeuvre-les-Nancy', 'Marrakesh', 'Maida Vale', 'Gravesend', 'Umm Salal Muhammad', 'Swanscombe', 'Bradford', 'Christchurch', 'Toulouse', 'Omrania', 'Indragiri', 'Semarang', 'Aden', 'Las Pinas', 'Marktgraitz', 'Taoyuan District', 'Zapopan', 'Peterborough', 'Ruwi', 'Valladolid', 'Kfar Saba', 'Jasin', 'Barking', 'Amstelveen', 'Sangerhausen', 'Glasgow', 'Portsmouth', 'Rinteln', 'Kozani', 'Port Said', 'Nchelenge', 'Giv‘atayim', 'Funchal', 'Parramatta', 'Viby', 'Haarlem', 'Kaimakli', 'Damietta', 'Gandajika', 'Stuttgart', 'Bexleyheath', 'Zama', 'Hāsal', 'San Cristóbal', 'Bremen', 'Christiansted', 'Mocha', 'Frederiksberg', 'Salisbury', \"Reggio nell'Emilia\", 'Antakya', 'Ras el Aioun', 'Dundee', 'Campo Grande', 'Ben Arous', 'Makassar', 'Ermington', 'Kajang', 'Bielefeld', 'Mendicino', 'Seongnam-si', 'Chiang Rai', 'Vanderbijlpark', 'Talisay City', 'Alliston', 'Västerås', 'Lviv', 'Oran', 'Kawasaki', 'Exeter', 'Mosul', 'Ouagadougou', 'Santo Domingo', 'Erkrath', 'Mostoles', 'Belo Horizonte', 'Vicenza', 'Lutsk', 'San Pedro', 'Batam', 'Galway', 'Beau Bassin-Rose Hill', 'Cavite City', 'Docklands', 'An Giang', 'Soisy-sous-Montmorency', 'Jijiga', 'Sylhet', 'Oxford', 'Lyon', 'Sanaa', 'Thessaloniki', 'Durham', 'Navegantes', 'Auburn', 'Sunderland', 'Bermondsey', 'Woolwich', 'Yagoona', 'Cebu City', 'Townsville', 'Eibar', 'Hrodna', 'Hyderabad', 'Nijmegen', 'Heilbronn', 'Santiago de Compostela', 'Malacky', 'Asenovgrad', 'Jimma', 'Grigny', 'Aylesbury', 'Zaventem', 'Naples', 'Lausanne', 'Kuching', 'Cabanillas del Campo', 'Aba Khel', 'Luton', 'Americo Brasiliense', 'Emure-Ekiti', 'Daejeon', 'Kropyvnytskyi', 'Antalya', 'Chengdu', 'Al Hufuf', 'Nha Trang', 'Kigoma', 'Caiuti', 'Greenford', 'New Cross', 'Vélizy-Villacoublay', 'Mateszalka', 'Schoonhoven', 'San Pablo City', 'Perroy', 'Ilford', 'Erlangen', 'Cardiff', 'Charlottenlund', 'Campagnano di Roma', 'Abidjan', 'Agadir', 'Manzini', 'St Albans', 'Pazardzhik', 'Trebinje', 'Erbil', 'Łódź', 'Hornchurch', 'Lynbrook', 'Oranjestad', 'Muntinlupa', 'Barrigada Village', 'Queimadas', 'Greenvale', 'Hong Kong', 'Caulfield South', 'Aidlingen', 'Moonee Ponds', 'Elwood', 'Edwardstown', 'Alizaga', 'Keswick', 'Oradea', 'Mill Park', 'Warzymice', 'Ventspils', 'Potsdam', 'Tam Diep', 'Niamey', 'Batley', 'Coventry', 'Yass', 'Valenzuela', 'Lac La Biche', 'Masai', 'Granville', 'City of Westminster', 'Ageo', 'Chiaravalle', 'Wetherill Park', 'Abeokuta', 'Musselburgh', 'Pascoe Vale', 'Tripoli', 'Tachikawa', 'Kastel', 'Batinac', 'Ibadan', 'Engelskirchen', 'Québec', 'Los Montesinos', 'Recife', 'Cuenca', 'Glen Iris', 'Redbridge', 'Wuhan', 'Renmark', 'Chiba', 'Madinat `Isa', 'Fermatou', 'Maidenhead', 'Voorburg', 'Multan', 'Samarinda', 'Offenbach', 'Kinshasa', 'Augsburg', 'Qingdao', 'Glen Osmond', 'São Leopoldo', 'Monash', 'Madinat an Nasr', 'Kungur', 'Greenacre', 'Hawalli', 'Bad Vilbel', 'Apodaca', 'Maseru', 'Byford', 'Balteni', 'Willemstad', 'Blida', 'Beckton', 'Bangor', 'Tangier', 'Depok', 'Gwangju', 'Beni Mellal', 'Palu', 'Solingen', 'Newbury', 'Ayer Itam', 'Freetown', 'Chiswick', 'Bridgetown', 'Gaborone', 'Badalona', 'Utrecht', 'Douala', 'Miastko', 'Concord', 'Jessore', 'Vastra Frolunda', 'Ciudad Real', 'Luxembourg', 'Bonny', 'South Yarra', 'Kellyville', 'Ascot Vale', 'Hendon', 'La Canonja', 'Crawley', 'Nesher', 'Ulan Bator', 'Reghaia', 'Hobart', 'Helmond', 'Cuxhaven', 'Gujranwala', 'Bolzano', 'Karlsruhe', 'Pietermaritzburg', 'Ikeja', 'Amarante', 'Linköping', 'Sajooeroes', 'Tuxtla Gutiérrez', 'Mateur', 'Taguig', 'Cookham', 'Vera', 'Mannheim', 'Comodoro Rivadavia', 'Rugby', 'Darwin', 'Sidoarjo', 'Ploieşti', 'Point Cook', 'Bologna', 'Haegersten', 'Samsun', 'Bac Kan', 'Xiamen', 'Ljubljana', 'Finsbury', 'Adana', 'Hornsey', 'Misratah', 'Stroud', 'Karuzi', 'Southwark', 'Lambeth', 'Leipzig', 'Bruges', 'George Town', 'Durrës', 'New Malden', 'Vicosa', 'Monterrey', 'Nottingham', 'Kumanovo', 'Asiraja', 'Netanya', 'Oldham', 'Taiyuan', 'Bayan Lepas', 'Malacca', 'Gomel', 'Thuan An', 'Dalian', 'Eindhoven', 'Sarajevo', 'Rotterdam', 'Minna', 'Royal Leamington Spa', 'Jeju City', 'Almaty', 'Guildford', 'Giugliano in Campania', 'Villa Crespo', 'Don Bosco Executive Village', \"'s-Hertogenbosch\", 'Valinhos', 'Langenfeld', 'Sesto San Giovanni', 'New Southgate', 'Kolsva', 'Zaandam', 'Valenciennes', 'Basrah', 'Tyre', 'Antwerp', 'Kosekoy', 'Santa Pola', 'Alton', 'Malabon', 'Sosnowiec', 'Nesbru', 'Changsha', 'Si Racha', 'Lanzhou', 'Heredia', 'Manaus', 'New Mirpur', 'Mont-de-Marsan', 'Hove', 'South Shields', 'Brunoy', 'Belfast', 'Ramat HaSharon', 'Hanworth', 'Adapazarı', 'Yerevan', 'Melton South', 'Novosibirsk', 'Târgu Mureş', 'Arcueil', 'Pistoia', 'Edegem', 'Greenwith', 'Cabanatuan City', 'Hoogeveen', 'Sao Jose da Coroa Grande', 'Pilsen', 'Fitzroy', 'Kempton Park', 'Ang Thong', 'Kogarah', 'Criciúma', 'Wincanton', 'Montego Bay', 'Katowice', 'Chachoengsao', 'Thu Dau Mot', 'São José dos Campos', 'Tijuana', 'Al Mansurah', 'Kampong Changkat', 'Kaohsiung City', 'Benghazi', 'Irbid', 'Skardu', 'Tondabayashi', 'Ampthill', 'Odesa', 'Clavier', 'Aalst', 'Harlow', 'Tanta', 'Mount Waverley', 'Armacao de Buzios', 'Craiova', 'Budakeszi', 'Piro Shah', 'Totteridge', 'Guangzhou', 'Passau', 'Oshawa', 'Shkoder', 'Cernosice', 'Ivanhoe', 'Bromley', 'Skopje', 'Sainte-Tulle', 'Seef', 'Košice', 'Vsetin', 'Klerksdorp', 'Heidelberg', 'Eschborn', 'Dnipro', 'Jaén', 'Lewisham', 'Vantaa', 'Zhengzhou', 'Kigali', 'East London', 'Wilcza Wolka', 'Paternò', 'Beersheba', 'Lipa City', 'Taytay', 'Spanga', 'Farnborough', 'Birecik', 'La Paz', 'Sungai Petani', 'Shenyang', 'Wuppertal', 'Varna', 'Slough', 'Chelsea', 'Ramat Gan', 'Tewkesbury', 'Tiraspol', 'Tours', 'Ragama', 'Rowville', 'Clapham', 'Thimphu', 'Cheltenham', 'Felsopakony', 'Bracknell', 'Farum', 'Agudos', 'Warzachewka Polska', 'Cagliari', 'East Harling', 'Moitas', 'Windach', 'Oyster Bay', 'L-Iklin', 'Bankstown', 'Córdoba', 'Poblacion', 'Brunswick East', 'Mantin', 'Butterworth', 'Clayton', 'Queluz', 'Ouanda Djallé', 'Foshan', 'Herat', 'Viry-Châtillon', 'Oke Ila', 'Gregory Hills', 'Tainan City', 'Bow Bowing', 'Bahawalpur', 'Levis', 'Maputo', 'Neutral Bay', 'Pekanbaru', 'Tegucigalpa', 'Wimbledon', 'Stafford', 'Galați', 'Ituzaingo', 'Fujairah', 'Kikwit', 'Sargodha', 'Consett', 'Amasya', 'Villa Angelica', 'Chihuahua City', 'Matsusaka', 'Dihawk', 'Taunsa', 'Lilyfield', 'Lucena City', 'Schweinfurt', 'Gorinchem', 'Camperdown', 'Carlingford', 'Kandy', 'Guyancourt', 'Hualien City', 'Yekaterinburg', 'Vologda', 'Ghardaïa', 'Woking', 'Pori', 'Santa Cruz', 'Weiterstadt', 'Whitley Bay', 'Southall', 'Konin', 'Taranto', 'Yarraville', 'Harvey', 'Huttlingen', 'Caracas', 'Jhelum', 'Le Chesnay', 'Zanica', 'Stevenage', 'Konya', 'Brno', 'Arcene', 'Markkleeberg', 'Cuprija', 'Tecamachalco', 'Edenbridge', 'Veles', 'General San Martin', 'Gyeongsan-si', 'Vũng Tàu', 'Roubaix', 'Karlsfeld', 'Rostov-on-Don', 'Bago', 'Taganrog', 'Sarai Alamgir', 'San Fernando', 'Chester', 'Bentley', 'Maple', 'Bern', 'Prahran', 'Bosaso', 'Hildesheim', 'Palmerston North', 'Chaguanas', 'Cartago', 'Hastings', 'Kaliningrad', 'Seville', 'Abbottabad', 'Niort', 'Grodzisk Mazowiecki', 'Krosno', 'Ensenada', 'Jubail', 'Klaipėda', 'Smolyan', 'Canberra', 'Veldhoven', 'Winnica', 'Vieux Grand Port', 'Ciechanów', 'Sidcup', 'Komsomolsk-on-Amur', 'Aplaya', 'Pemulwuy', 'Mulgrave', 'Arima', 'Seaford', 'Willesden', 'Klang', 'Duisburg', 'Camberwell', 'Patos', 'Bamenda', 'Carlton', 'Seremban', 'Baghdad', 'Krasnoyarsk', 'Chisinau', 'Gijón', 'Tapolca', 'Gevelsberg', 'Uitenhage', 'Algiers', 'Impfondo', 'Mar del Plata', 'Portage la Prairie', 'Aracaju', 'Zagazig', 'Jerusalem', 'Lehrte', 'Logroño', 'Broxbourne', 'Flores', 'Lod', 'Chon Buri', 'Alajuela', 'Astana', 'Kamenka', 'Donetsk', 'Siena', 'Sungai Buloh', 'San Pedro Sula', 'Pasig', 'Rovenki', 'Trnava', 'Meknes', 'Les Mureaux', 'Nogent-sur-Marne', 'Votuporanga', 'Almansa', 'Béchar', 'Poa', 'Fes', 'Bandar Seri Begawan', 'Cimahi', 'Thanh Chuong', 'Temara', \"Engel's\", 'Strasbourg', 'Kiel', 'Odense', 'Kistarcsa', 'Inowrocław', 'Ismailia', 'Pachuca', 'Cáceres', 'George', 'Quarry Bay', 'Worthing', 'Sampaloc', 'Luanda', 'Yanbu', 'Karlskrona', 'Rousse', 'Gieraltowice', 'Tonbridge', 'Welland', 'Dipolog City', 'Tay Ninh', 'Abāzai', 'Fortaleza', 'Essen', 'Brest', 'Catia La Mar', 'Yaroslavl', 'Glugor', 'Roppongi', 'Bavaro', 'Kenitra', 'Pingtung City', 'Yeosu', 'Ocaña', 'Lang Son', 'Castellbisbal', 'Montreuil', 'Yokohama', 'Angeles City', 'Haywards Heath', 'Halle', 'Brescia', 'Margate', 'Hillarys', 'Bari', 'Hohenberg-Krusemark', 'Cancún', 'Chatillon-sur-Seiche', 'El Talar', 'Jizan', 'Mandalay', 'Akita', 'Reus', 'Butuan', 'Świętochłowice', 'Ringwood East', 'Sabac', 'Vanadzor', 'Bolton', 'Okotoks', 'Nové Zámky', 'Epping', 'Bronshoj', 'Leyton', 'Idridgehay', 'Brazzaville', 'São Bernardo do Campo', 'Saarbrücken', 'Bilston', 'Patti', 'Lobnya', 'Antofagasta', 'Enschede', 'Warrington', 'Strakonice', 'Santa Rosa', 'Mitchelton', 'Slagelse', 'Glattbrugg', 'Al Hillah', 'Adelaide', 'Welwyn Garden City', 'Bruntal', 'Valmiera', 'Esslingen am Neckar', 'Orpington', 'Tekirdağ', 'Niedernhausen', 'Kerikeri', 'Palmira', 'Napier City', 'Kuala Selangor', 'Essendon', 'Strathfield', 'Sutton', 'Leiden', 'Phitsanulok', 'Novouzensk', 'Basildon', 'Kew', 'Stone', 'Ludwigshafen am Rhein', 'Bironico', \"Palazzolo sull'Oglio\", 'Gobernador Galvez', 'Maringá', 'Râmnicu Vâlcea', 'Wallington', 'Wellingborough', 'Nikaia', 'Collingwood', 'Iizuka', 'Southbank', 'Oulu', 'Kettering', 'Aalborg', 'Acton', 'La Plata', 'Moose Jaw', 'Catano', 'Southampton', 'Paranaguá', 'Guelph', \"Marhanets'\", 'Braddon', 'Telopea', 'Yuyao', 'Eragny', 'Nussloch', 'Mogi das Cruzes', 'Sparti', 'Taastrup', 'Brentford', 'Tartu', 'Gaula', 'Haslum', 'Dollard-des-Ormeaux', 'Lincoln', 'Kingsley', 'Deventer', 'Stavanger', 'Solna', 'Zoetermeer', 'Hoofddorp', 'Nuenen', 'Amursk', 'La Marsa', 'Haiphong', 'Malang', 'Narayanganj', 'Cork', 'Padua', 'Norwich', 'Khouribga', 'Grumento Nova', 'Marilao', 'Uppsala', 'Doncaster', 'Guadalupe', 'Timbo', 'Kendal', 'Skaerholmen', 'Belfort', 'Mongkok', 'Quetta', 'Oryol', 'Bresso', 'Hafizabad', 'Zutphen', 'Bonn', 'Singida', 'Stará Ľubovňa', 'Narara', 'Kew East', 'Riga', 'Ipoti', 'Modena', 'Gujrat', 'Tulungagung', \"Silvano d'Orba\", 'Constanța', 'Nitra', 'Huddersfield', 'Arum Karimi', 'San Nicolás de los Garza', 'Dushanbe', 'Borkop', 'Sagamu', 'Sunbury-on-Thames', 'Assiut', 'Hua Hin', 'Cachan', 'Beinasco', 'Bromont', 'Viersen', 'Saint Leonards-on-Sea', 'Vladimir', 'Antigonish', 'Martinez', 'Westbank', 'Pabna', 'Antananarivo', 'Echuca', 'Nagoya', 'Cheraga', 'Colebee', 'Olsztyn', 'San Luis Potosí City', 'Wittenbach', 'Latina', 'Pinneberg', 'Tulcea', 'Caguas', 'De Aar', 'Landskrona', 'Chesham', 'Regensburg', 'Piacenza', 'Froso', 'Dietzenbach', 'Globasnitz', 'Altenglan', 'Eskişehir', 'Abang', 'Cannock']\n"
     ]
    }
   ],
   "source": [
    "data1=b_data[(b_data['mp_country_code'] != 'US') & (b_data['mp_country_code'] != 'IN') ]\n",
    "print(len(list(data1['city'].unique())))\n",
    "print(\"=\" * 100)\n",
    "print(list(data1['city'].unique()))"
   ]
  },
  {
   "cell_type": "markdown",
   "metadata": {},
   "source": [
    "### Visualizing the distribution of Current_URL of browsers."
   ]
  },
  {
   "cell_type": "code",
   "execution_count": 46,
   "metadata": {},
   "outputs": [
    {
     "name": "stdout",
     "output_type": "stream",
     "text": [
      "['enrol-statistics-tutorial-FmWz4deqo9g_medium=VM', nan, 'FB_AG_Fullstack_IN_WC_traffic_ad', 'fulllstack_search', 'btm_display_2306?aff_id=5077', 'AG_FB_NC_IN_WC_BigData_lookalike_mobile_2girl', 'Data_Science', 'DataAnalytics_1152', 'bigdata_lowintent_ind_0905', 'AG_FB_WC_LI_IN_Android_Ad', 'data_analytics_adcanopus_Dec', 'AG_FB_NC_IN_WC_DataScience_25-45_alldivices_lp_video', 'datascience_us_0904', 'AG_FB_TTL_BigData', 'ag_bd_1904', 'android_lowintent_fb?aff_id=5074', 'Seminar_Marathahalli_7_Jul', 'youtube_channel', 'AG_FB_NC_IN_WC_DataR_alldevices_lookalike', 'FB AG TTL campaign', 'AG_FB_TTL_US_Fullstack', 'bigdata_adcanopus_Dec', 'DataScienceMay', 'DataScienceJune', 'ag_da_1904', 'marathalli_display_2306?aff_id=5077', 'ag_main_lp', 'android_lowintent', 'BigdataMay', 'ds_bootcamp_mktg_1905', 'DS_Discount', 'ag_lowintent_brand', 'webinar_LP', 'btm_display_2306', 'AG_FB_TTL_Data_analytics_for_managers', 'DataScience', 'ag_g_display_devops_cp', 'BigdataJune', 'ag_g_brand_home', 'AG_FB_NC_IN_WC_Data_analytics_for_managers', 'datascience_lowintent_ind_0905', 'ds_bootcamp_mktg_2105_search', 'FB_AG_WC_IN_DataScience_bootcamp', 'gmail_da_rmtg_ind_1005', 'FB_AG_Fullstack_US/CAN_WC_traffic_ad', 'AG_FB_NC_IN_WC_DataR_alldevices_remarketing', 'Enrol-1CYBkEJV7T4', 'da_managers_mktg_1905', 'AG_FB_NC_IN_WC_DataScience_lookalike_25-45_alldevices_lp_trired', 'DA_LowIntent_mail2', 'enrol-data-analytics-beginners-THODdNXOjRw', 'Big Data Landing Page', 'AG_FB_NC_IN_WC_DataScience_25-35_mobile_lp_trired', 'frs-devops-intro-2YTRUvcBOyA', 'AG_FB_TTL_Franchise_Noida', 'AG_FB_NC_IN_WC_DataScience_lookalike_25-45_alldevices_lp_white', 'Video13June', 'home_mktg_1905', 'DataScience_1152', 'AG_FB_NC_IN_WC_BigData_mobile_group', 'DataAnalyticsJune', 'FullStack_1152', 'FB_AG_DataScience_WebClicks_mobile_carousel_CP', 'Enrol-f6HYiIJCYyY', 'DataAnalytics_2027', 'AG_FB_NC_US/CAN_WC_LC_DataScience_bal', 'AG_FB_NC_IN_WC_Data_analytics_for_managers_remarketing', 'DataAnalyticsApril', 'Enrol-m1jjMBpS6Hs', 'FirstMail', 'FullStackJune', 'FB_AG_Fullstack_US_WC_traffic_ad', 'DataScienceApril', 'ag_rmtg_da_1904', 'enrol-python-part2-psTOlej9Rpk_medium=VM', 'AG_G_DISPLAY_DATA_SCIENCE_IND', 'gmail_ds_rmtg_ind_1005', 'AG_FB_NC_IN_WC_DataScience_lookalike_25-45_alldevices_lp_indgirl', 'DS_lowintent_Mail3', 'android_display', 'AG_G_DISPLAY_BIG_DATA_IND', 'DS_Offline_2', 'gmail_bd_rmtg_ind_1005', 'DS_LowIntent_mail1', 'WebsiteMarch', 'AG_FB_NC_IN_WC_BigData_alldevices_remarketing', 'google_adwords_desktop_course', 'BIgdata_CourseInt_add_int_in_group', 'front_end_display', 'Enroll-lvbeHZZSQLI', 'WebsiteMay', 'ag_g_search_big_data_ind', 'dataanalytics_search', 'brand_us_0905', 'ag_g_display_devops_lp', 'Year_of_passing', 'AG_FB_TTL_NC_US_DS_May_2018_Loc_LI', 'Create-musicplayer-app-b_-9_ekEfFk', 'AG_FB_NC_US_WC_LC_DataScience_bal', 'datascience_search', 'AG_FB_TTL_NC_US_DS_May_2018_Loc', 'Android-promo-0TwayqXuCrY', 'AG_FB_TTL_NC_US_FS_May_2018_Loc_LI', 'D44-3wVZkGI-excel-tute10', 'enrol-nosql-database-tutorial-2yQ9TGFpDuM_medium=VM', 'AG_FB_NC_US_WC_LC_DataScience_cp', 'LowIntent_2', 'WebsiteJune', 'Enrol-KaR2EDW581E', 'DataScience_2343', 'DS_LowIntent_mail4', 'Frontend_USA', 'WebsiteApril', 'AG_FB_TTL_DataR', 'enrol-JVKFTS9duIo', 'Enrol-T7PnqMs6XcI-g', 'malviya_nagar_LP', 'DA_LowIntent_mail1', 'refer', 'DS_Offline_1', 'enrol-BDH-essentials-part-1-u6e0qfkePf4_medium=VM', 'enrol-android-interview-questions-part1-tQDEgTdDmKc_medium=VM', 'MayMLCourse', 'June_2018', 'WebsiteJuly', 'HNY18', 'indira_nagar_LP', 'FS20', 'Acadgild-USA', 'BigdataApril', 'DS_LowIntent_mail2', 'ag_da_gmail_1904', 'enroll-machinelearning-sundarpichai-G6_nU_YO8jg', 'enrol-typescript-tutorial-Ohiedq1fwJ8_medium=VM', 'ag_g_search_big_data_ind_sitelink', 'FB_AG_BidDatawithR_WebClicks_mobile_carousel_cp', 'enrol-devops-lesson1-dMILqmX_xEk_medium=VM', 'ag_ds_pythonpage_1804', 'LowIntent_3', 'DAM_2', 'LowIntent_1', 'enrol-FnlTIdJgg9s', 'Facebook-design-maestro-Top-Cities', 'enrol-bigdata-usecase-part1-iQrao1C7juk_medium=VM', 'AG_FB_NC_US_WC_LC_DataScience_lp', 'DataScienceJuly', 'enrol-bigdata-usecase-part2-b6WixQ4eJTE_medium=VM', 'DS_Offline_3', 'ag_g_display_big_data', 'Enrol-9q74QrzitXc', 'lastday', 'Google_Campaign', 'fs_us_mktg_1905', 'DataAnalyticsJuly', 'FB_AG_WC_IN_DataScience_bootcamp?aff_id=5074', 'android_adcanopus_Dec', 'Website14June', 'AG_FB_NC_IN_WC_BigData_mobile_carousel', 'Offer30thMay', 'AG_FB_NC_IN_WC_BigData_mobile_2girl', 'enrol-YT-analysis-yYmudgufD3c', 'Website25June', 'AG_FB_TTL_Franchise_RTNagar', 'FullStack_2303', 'Front_End', 'enrol-_lliaKp4Lb8', 'seminar_display', 'AG_FB_WC_CEH_New', 'Angularjs-webinar-9yrYdEZNbd8', 'frontend-tutorial-tjG31t5JHzw', 'google_adwords_display', 'enrol-android-interview-questions-part3-4B_HLt4tDAk_medium=VM', 'AG_G_DISPLAY_BLOCKCHAIN_IND', 'enrol-glEKSWxCLSc', 'enrol-What-is-lean-sixsigma-intro-p8VxP_a_S28', 'LowIntent_5', 'Spark Landing Page', 'FullStackMay', 'FB_AG_UIUX_WebClicks_desktop', 'datasciencegmail_1604', 'Seminar_DS', 'DS', 'trichy_LP', 'FB_AG_BidData_WebClicks_lookalike_mobile_group', 'seminar_2027', 'enrol-Kafka-introduction-tutorial-gFul1Gw0CjA_medium=VM', 'Big Data', 'bd_newlp_2305', 'ds_newlp_2304', 'btm_main_post_dl', 'GenericApril', 'AG_FB_TTL_Franchise_Marathahalli', 'bd_us_rmtg_2805', 'Android-game-development-tutorial-MaSkfad6Ihc', 'enrol-G5Ch8qLdyVE', 'big_data_display', 'enrol-android-interview-questions-part2-tQDEgTdDmKc_medium=VM', 'DAM_1', '5_mail_series', 'lookalike_greengrl', 'enrol-nCXTMXC81Uo', 'FullStackJuly', 'seminar_event', 'enrol-5dsCNhSQ5HI', 'android_lowintent_fb', 'ag_g_display_android_ind', 'AprilWebsite', 'Enroll-dldXFZKdi_g', 'dataanalytics_search_2506', 'DataScience27June', 'Website22June', 'enroll-devops-tut-for-beginners-2YTRUvcBOyA', 'DataScience_2303', 'blockchain', 'data_science_adcanopus_nov', 'gamer', 'ag_bd_pythonpage_1804', 'DA_LowIntent_mail5', 'datascience', 'hbase-introduction-VRD775iqAko_medium=VM', 'bd_mktg_1905', 'BigdataJuly', 'DataAnalytics_1080', 'AG_DATA_ANALYTICS_DISPLAY_2103', 'Enrol-iX7vtso2X-g', '1c300b7511-EMAIL_CAMPAIGN_2017_05_17', 'DataScience_1276', 'data_science_display', 'DataScience_1188', 'Enrol-nmaA5_d4E8c', 'Android-Display-USA-similaraudience', 'home-fWeUZjBljWQ', 'DataAnalytics', 'BigData', 'NodeJs Lead Generation', 'enrol-BDH-essentials-part-2-KyUYY5TOnnI_medium=VM', 'home-A3H_El3AjFo', 'Data_Analytics', 'Big_Data', 'btm_main_lp', 'ag_bd_gmail_1904', 'campaign 1', 'intro_mail', 'DataScienceOffer30thMay', 'MayBlockchainCert', 'MF_Reskill_FrontEndWebDevelopment', 'da_1606', 'top_IT_company_in_', 'FB_AG_BidData_WebClicks_mobile_carousel', 'Int_add_int_JT_in_', 'webclicks', 'Android_Int_in_JT_grengrl', 'Bigdata_in_JT_Add_INT_Emp_FOS_BLR_pinksweat', 'Android_int_in_greengrl', 'FB_AG_DataScience_Web_Clicks_25-45_alldivices_lp_video', 'Blockchain', 'Enroll-7WADJpEbEXA', 'enrol-huNqlWz157A', 'AG_FB_NC_IN_WC_DataScience_25-45_alldevices_lp_video', 'FB_AG_DataR_TTL', 'FB_AG_Fullstack_IN_WC_traffic_adweb_click', 'AG_FB_NC_IN_WC_BigData_remarketing_carousel', 'webinar20', 'DataScience_US', 'ag_g_display_ceh_ind', 'Frontend', '5_steps_3', 'AG_FB_NC_US/CAN_WC_LC_DataScience_lp', 'ag_da_pythonpage_1804', 'enrol-machine-learning-G6_nU_YO8jg', 'Mobilenetwork', 'Data_Science_1030', 'ag_fb_nc_in_wc_bigdata_alldevices_remarketing', 'ag_fb_nc_in_wc_bigdata_mobile_group', 'fb_ag_wc_in_datascience_bootcamp', 'ag_fb_nc_us_wc_lc_datascience_bal', 'ag_fb_nc_us_wc_lc_datascience_lp', 'ag_fb_nc_in_wc_datar_alldevices_remarketing', 'ag_fb_nc_in_wc_datar_alldevices_lookalike', 'ag_fb_nc_in_wc_datascience_25-35_mobile_lp_trired', 'ag_fb_nc_in_wc_datascience_lookalike_25-45_alldevices_lp_indgirl', 'ag_fb_nc_in_wc_data_analytics_for_managers_remarketing', 'Acadgild_HomePage_March', 'DS_Offline_5', 'DataAnalytics_1004', 'enrol-pmp-tute-1-nILBEE6w7g0_medium=VM', 'DataAnalytics_1276', 'Website18June', 'Big-Data-Dev', 'JobT_Industry_Int_in_', 'hbase-commands-', 'enrol-RG6NNYF3uWk', 'Enroll-DM-Promo-A1Z2cRNZXBI', 'datascience_US_1004', 'DS_Offline_4', 'DAM_4', 'websiteJuly9', 'datascience_desktop', 'FB_AG_BidData_WebClicks_lookalike_mobile_2girl', 'enrol-ldn0WnrV-qY', 'fullstack_us_0904', 'BlockchainCourse', 'first_sms', 'Android Lead Generation', 'ds_us_rmtg_2805', 'buffer', 'datascience_linkedin_1007', 'enrol-SPAs-intro-7v2zCZsKufc_medium=VM', 'AG_HOMEPAGE_RMTG_ALL_COURSES', 'DataAnalytics_1188', 'datascience_display', 'FullStack_1562', 'DM-webinar-wm-sepe-rtg', 'FB_AG_DataR_WebClicks_alldevices_lookalike', 'enroll-machinelearnin…', 'websiteJuly11', 'News', 'enrol-android-interview-questions-part6-2ISikgzd-lI_medium=VM', 'Seminar_RTNagar_21_Jul', 'enrol-I30g6SaJPqs', 'front_end_adcanopus_Dec', 'enrol-seo-tutorial-beginners-yWaWuucJKcA', 'NodeJs', 'M_38-55_android_acadgildjunior1', 'softsell', 'Yotube_ggWwzoKMEPc-faqs-data-science_20180507', 'quora_ds', 'YT-channel-icon', 'AG_FB_NC_IN_WC_DataScience_25-45_alldevices_lp_remarket', 'enrol-hdfs-tutorial-AHLEPyGYaXg', 'Yotube_P2I2S5xlmtI-big-data-casestudy5_20180507', 'Yotube_zDchks6coak-excel-for-data-analytics1_20180507', 'enrol-java-tutorial-beginners-UQ8vke6C2HM', 'enrol-devops-lesson2-X6gpBj4RyKk_medium=VM', 'ag_fb_nc_in_wc_datascience_lookalike_25-45_alldevices_lp_trired', 'ag_fb_nc_in_wc_datascience_lookalike_25-45_alldevices_lp_white', 'shopping-deep', 'FRS-vau4JpcOZ8Q', 'Yotube_TYlWj4JuA7w-statistics-using-python-ds-series-1_20180507', 'jJ35Se19W8-da-webinar-june-2018', 'AG_Br_G_Branding_Apr_2018', 'Android', 'ag_main_post', 'Frontend-top-cities', 'AG_FB_WC_CEH', 'Enrol-9QLe7dSNPjE', 'ag_g_display_data_science_lp', 'AG_FB_TTL_Franchise_BTM', 'all_course', 'AG_FB_NC_IN_TTL_DataAnalytics_Geo_Hyd', 'AG_FB_NC_IN_TTL_DataAnalytics_Geo_Del', 'AG_FB_NC_IN_TTL_DataAnalytics_Geo_Mum', 'enrol-devops-lesson3-Klfjr4TF9i0_medium=VM', 'Yotube_Tq_NL2HEdfM-hive-spark-integration-hadoop-series-1_20180507', 'FB_AG_TTL_DataScienceBootcamp_Seminar_28_Jul', 'Yotube_l7S-Xks0vwc-ds-salary-faq_20180507', 'enrol-android-interview-questions-part4-zTy_ImwjQ1E_medium=VM', 'US_Mobile_iOS_NF_Frontend_M_jacketguy_BFD_CodeLearningSites', 'AprilMLCourse', 'enrol-bigdata-usecase-part1-VfOJonHRb6g_medium=VM', 'AG_NC_IN_TTL_DataScience_Geo', 'AG_FB_NC_IN_TTL_Fullstack_Geo', 'AG_FB_NC_IN_TTL_BigData_Geo', 'AG_NC_IN_TTL_DataScience_Geo_Blr', 'Yotube_Btu6O9XTIWw-hypothesis-testing-mon1_20180507', 'home-a9Rw3rB_63g', 'DAM', 'youtube_channehttps://acadgild.com/?aff_id=6003', 'UX', 'AG_FB_TTL_NC_US_FS_May_201', 'webinar', 'enrol-ilfs-training-program-DOV96lGzmwo', 'enroll-an9PXNtTSSc', 'Seminar_28Jul', 'onesignal', 'Yotube_UqT-Auk2RB0-bda-vs-bde-faq_20180507', 'Android-truecaller-app-development-tutorial-mlEdGe4vui4', 'Seminar_DS_28July', 'Yotube_INHrKxwH1wc-ds-career-choice_20180507', 'Facebook-Android-Top-Cities', 'FB_AG_DataScience_Web_Clicks_25-35_mobile_lp_trired', 'Yotube_I3WzvSjYf3Q-parsing-csv-files-hadoop-series-2_20180507', 'FB_AG_DataR_WebClicks_mobile', 'eBookDownload', 'Data_Analytics_1016', 'budget_mail', 'fullstack_mail1_cold', 'FB_AG_UIUX_TTL', 'fullStack_Mail1_cold', 'AG_G_DISPLAY_BIG_DATA_2007', 'enrol-pmp-exam-prep-RyDJKwF9e8s_medium=VM', 'AG_G_DISPLAY_DATA_SCIENCE_IND_2007', 'data_analytics_lowintent_ind_0905', 'AG_DATA_ANALYTICS_DISPLAY_2007', 'DS_Mail2', 'AG_FB_NC_IN_WC_Data_analytics_for_managers_lp', 'FB_AG_Fullstack_IN_WC_traffic_ad_cp', 'FB_AG_WC_IN_DataScience_bootcamp_cp', 'AG_FB_NC_IN_WC_Data_analytics_for_managers_remarketing_cp', 'enrol-statistics-tutorial-part2-OMwiCAlwGUw_medium=VM', 'Yotube_85WFr8S0urE-hive-table-views_20180507', 'Enrol-ZC0Ye__hB7k', 'Yotube_SNhZirP1zBE-da-vs-ds-course-faq_20180507', 'Bigdatajuly', 'datasciencejuly', 'Bootcamo_QRScan', 'Enrol-qk-ApPa-jQw', 'event', 'ag_fb_nc_in_wc_data_analytics_for_managers_lp', 'fb_ag_wc_in_datascience_bootcamp_cp', 'ag_fb_nc_in_wc_data_analytics_for_managers_remarketing_cp', 'Yotube_nryXZ-e64hg-hive-intro_20180507', 'MF_Lookalike_FrontEndWebDevelopment', 'Frontend_Android_TopCities_NF_India_Nov11', 'android_email', 'seminar_28July', 'AG_FB_WC_Blr_Seminar_New', 'DS_Mail3', 'Yotube_PqXxjqMV0WY-statistics-using-python-ds-series-2_20180507', 'FB-28-Jul-Event-Post-Boost', 'Yotube_n3owBqa9ATQ-nested-json-working-hadoop-series-2_20180507', 'DS_Seminar_mail1_fillers', 'DataAnalytics_1073', 'Feb_AV_Banner', 'DataScience_1080', 'AG_FB_NC_IN_WC_DataScience_lookalike_25-45_alldevices_lp', 'July_2018', 'Seminar_DS_HomePage_28July', 'MF_Age_IndustryITandTech_Reskill_Fasttrack_LadyBrown_AndroidBeginners', 'enroll-Data-Science-PgVT7WnKyEI', 'US_CodeLearningSites1_NF_Desktop_frontend_CPC', 'UX_mail2', 'Mdigital_AG_DataAnalytics_July_2018', 'DS_Mail4', 'Yotube_8FEZ45EGD7Y-full-stack-series-1_20180507', 'enrol-pmp-tute-3-hZxNVsMwuvo_medium=VM', 'v4LAdqVOE9w-excel-tute9', 'HadoopCourseApril', 'da_manager_mktg_1706_search', 'Devops_BLR_JT_add_int_in_video', 'Big-Data - Website Conversions - 4 July 2016', 'US_Desktop_NF_Android_M_whiteshirtguy_ACB_CompetitorInterest', 'datascience_rmtg_1204', 'bigdata_search', 'FB_AG_bigdata_TTL', 'fullstack_mail3_cold', 'fullstack_mail2_cold', 'enrol-android-interview-questions-part5-qvmTcaNIVVs_medium=VM', 'Yotube_X9bPIiUELcc-full-stack-series-2_20180507', '4_Aug_Seminar_DSBC', 'Yotube_Z6tg9MJrvBc-full-stack-series-4_20180507', 'Yotube_fRJ-IEALx64-full-stack-series-5_20180507', 'front-end-career-post', 'shopping-react', 'FB-4-Aug-Event-Post-Boost', 'fullstack_mail5_cold', 'AG_FB_TTL_Franchise_Marathahalli_11_Aug_Seminar', 'Yotube_mCLrqne5X8M-full-stack-series-6_20180507', 'Android-for-kids-realativelayout-8eUHREr64zo', 'fb_ag_datascience_web_clicks_25-35_mobile_lp', 'enrol-VGY7xZF2TT0', 'Enroll-tlSZgyjJPL4', 'big_data_display_image', 'DataAnalyticsAug', 'BDH', 'DataScienceAug', 'FullStackAug', 'Yotube_EL_FAsdSsM-full-stack-series-8_20180507', 'Yotube_l01VJAan1bo-ds-decoded-in-60-seconds_20180507', 'Enroll-UeW71BjyR10', 'fb-4-aug-event-post-boost', 'MF_Age_LadyBrown_Lookalike_freshers2', 'Data_Analytics_1503', 'BigdataAug', 'Big_Data_1503', 'Data_Science_1503', 'Big_Data_2480', 'cust_testimonial', 'Data_Science_{affiliate_id}', 'Big_Data_1481', 'Yotube_DPJgDVIuuUU-hive-architecture_20180507', 'Yotube_Um1CG0vSm5E-nosql-vs-rdbms_20180507', 'Data_Science_1481', 'Yotube_a5FiA2d4lXI-full-stack-series-9_20180507', 'Big_Data_2426', 'US_CodeLearningSites1_NF__Mobile_noniOS_frontend_CPC', 'Yotube_UxwJAdXIwE0-hive-data-load_20180507', 'Data_Science_2480', 'Yotube_sRsaAaPDviE-ux-design-questions_20180507', 'Android_Desktop_TopCities', 'Data_Science_1009', 'Enroll-zB8jv6f8MSo', 'DataSciencemasterAug', 'DS_Mail5', 'FB_event_11_Aug_Marathahalli_DS', 'Yotube_iL_iWFSzjK8-linear-regression-monica1_20180507', 'Yotube_XTghZFPezoQ-excel-tut-12_20180507', 'Data_Science_2030', 'BD', 'Data_Analytics_1481', 'Data_Science_2426', 'Yotube_M1mzE1IT-Is-linear-regression-monica2_20180507', 'Yotube_CN8IkgZDz2k-ux-vs-ui_20180507', 'MF_Age_LadyBrown_Lookalike_AndroidBeginners', 'bd_newlp_2304', 'AG_FB_TTL_Cert_IN_CEH', 'FB_AG_BidData_WebClicks_mobile_group', 'AG_FB_TTL_Cert_IN_ITIL_Aug_2018', 'Big-Data-FB', 'FB_AG_DataR_WebClicks_desktop', 'Yotube_fqyNUL8C58E-hive-table-types_20180507', 'DataScience_blog2', 'visit_company_button_click', 'Data_Analytics_2480', 'Youtube_banners', 'Yotube_RO35pR9zsUA-hive-array-explode-function_20180507', 'hot_warm_9thAug', 'Yotube_xJobPiNDsHw-why-ux-exciting-job_20180507', 'FB_Social_Comment_Response_DS_Aug_2018', '25_Aug_Seminar_DSBC_Hyderabad', '1_Sep_Seminar_DSBC_Hyderabad', 'India_Desktop_NF_Fullstack_M_bluetshirtguy_Fullstack_FewProgLanguages', '1_Sep_Seminar_DSBC_Hyd', 'bN1AUaWk-b8-how-da-impacts', 'DataScience_blog1', 'AG_FB_TTL_Analytics_for_Non_Programmers_Aug_18', 'AG_FB_NC_IN_WC_BigData_alldevices_remarketing_lp', 'AG_G_BIGDATA_SEARCH_bigdatatraining', 'WebsiteAug', 'Yotube_5C3_HZY2Ek4-hive-partition_20180507', 'fullstack_mail6_cold', 'DataScience_blog3', 'EthicalHackingAug', 'AG_FB_TTL_IN_BigData', 'AG_FB_TTL_IN_DataR_Aug_18', 'AG_FB_TTL_IN_DataScience_Aug_18', 'AG_FB_TTL_IN_Fullstack_Aug_18', 'AG_FB_TTL_18_Aug_Webinar', 'dVRTFvJtpPo-excel-tute7', 'DS_mail1', 'FB_Social_Comment_Response_DAM_Aug_2018', '18_Aug_Webinar', 'FB_Social_Comment_Response_DSBC_Aug_2018', 'AG_FULLSTACK_SEARCH_IND', 'DAnonprogrammersAug', 'DataScience_blog6', 'FB_Social_Comment_Response_BD_Aug_2018', 'Yotube_6yp4Za9jBxM-nosql-types-on-storage_20180507', 'Yotube_qGCCBvtYBM0-statistics-using-python-ds-series-3_20180507', 'new_drip', 'Frontend_Android_Top_cities', 'Iday15Aug', 'EGzZzS3e620-neural-networks-decoded', 'BigDataCourseMay', 'DataAnalytics_2303', 'Yotube_Q9a2DQy0X9o-full-stack-series-10_20180507', 'FB_Social_Comment_Response_FS_Aug_2018', 'Enroll-dMGBBNQaeZQ', 'BigDataCourseApril', 'Yotube_bjyH8nlHKHA-hbase-design-tutorial_20180507', 'enrol-data-anal', 'DataScience_blog5', 'FB_Social_Comment_Response_DA_Aug_2018', 'M_34-52_android_acadgildjunior1_bnglore', 'dataanalyticsAug', 'AG_GMAIL_DS_NEW_RMTG_IND', 'Yotube_0W-byMDE-4g-hw-to-become-uxdesigner_20180507', 'AG_DATA_SCIENCE_SEARCH_DYNAMIC', 'AG_GMAIL_BD_NEW_IND', 'AG_FB_TTL_25_Aug_Webinar', 'AG_DA_GMAIL_1005_RMTG_IND', 'DataScience_blog4', 'DS_mail2', 'Brand', 'DataScience_blog7', 'MF_Remarketing_FrontEndWebDevelopment', 'FB_AG_DataR_WebClicks_alldevices_remarketing', 'Yotube_Howstu8-zAU-full-stack-series-7_20180507', '1_Sept_Hyd_Seminar', 'Course_Announcement', 'data_science_valueleaf_nov', 'Yotube_X8ylgV4YsJk-how-to-interact-hbase-part3_20180507', 'hinpengrl', 'FullStack_1276', 'ag_g_smart_bd_new', 'DataAnalyticsMay', 'DS_mail4', 'Yotube_5m3h_aPih9Q-data-analysis-vinod-1_20180507', 'Yotube_CcDbMgvU6-M-skills-for-uxdesigner_20180507', 'ag_g_brand_home_3', '25_Aug_Webinar', 'email_reply', 'AG_LI_TTL_IN_DSBC_Aug_18', 'AG_LI_TTL_IN_DataAnalytics_Aug_18', 'FB_AG_android_TTL', 'Aug5FreeCourses', 'Yotube_4KXesZ3Yw8M-pmbok6-raining-krishna-1_20180507', 'AG_LI_TTL_IN_BD_Aug_18', 'AG_LI_TTL_IN_FS_Aug_18', 'Yotube_KQMCOgVdsiw-how-to-interact-hbase_20180507', 'WebsiteGenericMay', 'Yotube_MViPRjaqfaA-window-function-spark-1_20180507', 'FullStack_1730', 'CKWs', 'Acadgild-India', 'FB_AG_DataScience_US_WC_DS_image2_lp', 'FB_AG_Android_Web_Clicks_30-45_Mobile', 'MayWebsite', 'hyderabad_seminar2708', 'G_AG_IN_Search_Fulllstack', 'Yotube_tsQ2oQieBGY-window-function-spark-2_20180507', 'G_AG_IN_Search_Fullstack', 'enrol-ITIL-service-lifecycle-HEW74OEzAew', 'AG_FB_TTL_IN_DS_Bootcamp_Hyd', 'AG_FB_TTL_Franchise_Marathahalli_8_Sep_Seminar', 'DSBootCampAug', 'Yotube_6ZA5lvooc5I-statistics-using-python-ds-series-4_20180507', 'G_AG_IN_Search_DS_Bootcamp_Blr', 'G_AG_IN_Search_DS_Bootcamp_Hyd', 'Yotube_CISnF83dGTc-statistics-using-python-ds-series-5_20180507', 'Yotube_gGwB0kCcdu0-hbase-spark-integration_20180507', 'AG_FB_TTL_8_Sep_Webinar', 'g_ag_in_search_DSM_AI', 'g_ag_in_search_DSM_ML', 'August_2018']\n"
     ]
    },
    {
     "data": {
      "text/plain": [
       "<matplotlib.axes._subplots.AxesSubplot at 0x7fb336647a90>"
      ]
     },
     "execution_count": 46,
     "metadata": {},
     "output_type": "execute_result"
    },
    {
     "data": {
      "image/png": "[encoded data removed]",
      "text/plain": [
       "<Figure size 432x288 with 1 Axes>"
      ]
     },
     "metadata": {},
     "output_type": "display_data"
    }
   ],
   "source": [
    "print(list(b_data['utm_campaign'].unique()))\n",
    "sns.countplot(x=\"utm_campaign\", data=b_data, palette=\"Set3\")"
   ]
  },
  {
   "cell_type": "code",
   "execution_count": 47,
   "metadata": {},
   "outputs": [
    {
     "name": "stdout",
     "output_type": "stream",
     "text": [
      "['android_lowintent_fb?aff_id=5074', 'android_lowintent', 'android_display', 'enrol-android-interview-questions-part1-tQDEgTdDmKc_medium=VM', 'android_adcanopus_Dec', 'enrol-android-interview-questions-part3-4B_HLt4tDAk_medium=VM', 'enrol-android-interview-questions-part2-tQDEgTdDmKc_medium=VM', 'android_lowintent_fb', 'ag_g_display_android_ind', 'enrol-android-interview-questions-part6-2ISikgzd-lI_medium=VM', 'M_38-55_android_acadgildjunior1', 'enrol-android-interview-questions-part4-zTy_ImwjQ1E_medium=VM', 'android_email', 'enrol-android-interview-questions-part5-qvmTcaNIVVs_medium=VM', 'M_34-52_android_acadgildjunior1_bnglore', 'FB_AG_android_TTL']\n",
      "id                          712\n",
      "event                       712\n",
      "utm_content                  22\n",
      "browser_version             709\n",
      "search_engine                25\n",
      "city                        658\n",
      "initial_referring_domain    712\n",
      "lib_version                 712\n",
      "utm_medium                  547\n",
      "browser                     712\n",
      "screen_width                712\n",
      "initial_referrer            712\n",
      "utm_campaign                712\n",
      "time                        712\n",
      "current_url                 712\n",
      "distinct_id                 712\n",
      "utm_source                  712\n",
      "device                      540\n",
      "mp_country_code             706\n",
      "referrer                    243\n",
      "region                      664\n",
      "mp_lib                      712\n",
      "mp_processing_time_ms        33\n",
      "referring_domain            243\n",
      "os                          712\n",
      "screen_height               712\n",
      "dtype: int64\n",
      "['Android']\n",
      "id                          712\n",
      "event                       712\n",
      "utm_content                  22\n",
      "browser_version             709\n",
      "search_engine                25\n",
      "city                        658\n",
      "initial_referring_domain    712\n",
      "lib_version                 712\n",
      "utm_medium                  547\n",
      "browser                     712\n",
      "screen_width                712\n",
      "initial_referrer            712\n",
      "utm_campaign                712\n",
      "time                        712\n",
      "current_url                 712\n",
      "distinct_id                 712\n",
      "utm_source                  712\n",
      "device                      540\n",
      "mp_country_code             706\n",
      "referrer                    243\n",
      "region                      664\n",
      "mp_lib                      712\n",
      "mp_processing_time_ms        33\n",
      "referring_domain            243\n",
      "os                          712\n",
      "screen_height               712\n",
      "dtype: int64\n"
     ]
    },
    {
     "name": "stderr",
     "output_type": "stream",
     "text": [
      "/home/monica/anaconda3/lib/python3.6/site-packages/pandas/core/generic.py:5890: SettingWithCopyWarning: \n",
      "A value is trying to be set on a copy of a slice from a DataFrame\n",
      "\n",
      "See the caveats in the documentation: http://pandas.pydata.org/pandas-docs/stable/indexing.html#indexing-view-versus-copy\n",
      "  self._update_inplace(new_data)\n"
     ]
    }
   ],
   "source": [
    "#b_data['utm_campaign'] = b_data['utm_campaign'].str.lower()\n",
    "\n",
    "android_records = b_data[(b_data[\"utm_campaign\"].str.contains('android',na=False))]\n",
    "\n",
    "print(list(android_records['utm_campaign'].unique()))\n",
    "\n",
    "print(android_records.count())\n",
    "\n",
    "android_records['utm_campaign'].replace('.*android.*', 'Android', regex=True, inplace=True,)\n",
    "print(list(android_records['utm_campaign'].unique()))\n",
    "print(android_records.count())"
   ]
  },
  {
   "cell_type": "code",
   "execution_count": 48,
   "metadata": {},
   "outputs": [
    {
     "data": {
      "text/plain": [
       "\"\\nb_data['utm_campaign'].replace('.*android.*', 'Android', regex=True, inplace=True)\\nb_data['utm_campaign'].replace('.*statistics.*', 'Statistics', regex=True, inplace=True)\\nb_data['utm_campaign'].replace('.*fullstack.*', 'Fullstack', regex=True, inplace=True)\\nb_data['utm_campaign'].replace('.*bigData.*', 'BigData', regex=True, inplace=True)\\n\\nb_data['utm_campaign'].replace('.*dataanalytics.*', 'DataAnalytics', regex=True, inplace=True)\\nb_data['utm_campaign'].replace('.*data_analytics.*', 'DataAnalytics', regex=True, inplace=True)\\nb_data['utm_campaign'].replace('.*data_science.*', 'DataScience', regex=True, inplace=True)\\nb_data['utm_campaign'].replace('.*bigData.*', 'BigData', regex=True, inplace=True)\\n\""
      ]
     },
     "execution_count": 48,
     "metadata": {},
     "output_type": "execute_result"
    }
   ],
   "source": [
    "'''\n",
    "b_data['utm_campaign'].replace('.*android.*', 'Android', regex=True, inplace=True)\n",
    "b_data['utm_campaign'].replace('.*statistics.*', 'Statistics', regex=True, inplace=True)\n",
    "b_data['utm_campaign'].replace('.*fullstack.*', 'Fullstack', regex=True, inplace=True)\n",
    "b_data['utm_campaign'].replace('.*bigData.*', 'BigData', regex=True, inplace=True)\n",
    "\n",
    "b_data['utm_campaign'].replace('.*dataanalytics.*', 'DataAnalytics', regex=True, inplace=True)\n",
    "b_data['utm_campaign'].replace('.*data_analytics.*', 'DataAnalytics', regex=True, inplace=True)\n",
    "b_data['utm_campaign'].replace('.*data_science.*', 'DataScience', regex=True, inplace=True)\n",
    "b_data['utm_campaign'].replace('.*bigData.*', 'BigData', regex=True, inplace=True)\n",
    "'''"
   ]
  },
  {
   "cell_type": "code",
   "execution_count": 49,
   "metadata": {},
   "outputs": [
    {
     "data": {
      "text/plain": [
       "'\\nds_cnt = b_data[(b_data[\"utm_campaign\"].str.contains(\\'datascience\\',na=False))].count()\\nprint(ds_cnt)\\nds_cnt1 = b_data[(b_data[\"utm_campaign\"].str.contains(\\'data_science\\',na=False))].count()\\nprint(ds_cnt1)\\n#regex_pat = re.compile(r\\'data_science\\', flags=re.IGNORECASE)\\n#b_data[\\'utm_campaign\\'].str.replace(regex_pat, \\'datascience\\')\\n#print(b_data[b_data[\\'utm_campaign\\'] == \\'datascience\\'].count())\\n'"
      ]
     },
     "execution_count": 49,
     "metadata": {},
     "output_type": "execute_result"
    }
   ],
   "source": [
    "'''\n",
    "ds_cnt = b_data[(b_data[\"utm_campaign\"].str.contains('datascience',na=False))].count()\n",
    "print(ds_cnt)\n",
    "ds_cnt1 = b_data[(b_data[\"utm_campaign\"].str.contains('data_science',na=False))].count()\n",
    "print(ds_cnt1)\n",
    "#regex_pat = re.compile(r'data_science', flags=re.IGNORECASE)\n",
    "#b_data['utm_campaign'].str.replace(regex_pat, 'datascience')\n",
    "#print(b_data[b_data['utm_campaign'] == 'datascience'].count())\n",
    "'''"
   ]
  },
  {
   "cell_type": "code",
   "execution_count": 50,
   "metadata": {},
   "outputs": [
    {
     "name": "stdout",
     "output_type": "stream",
     "text": [
      "55\n",
      "['youtube', nan, 'display', 'google', 'adcanopus', 'paid', 'affiliate', 'facebook', 'google_lowintent', 'Facebook', 'Facebook-TTL', 'drip', 'email', 'Quora(organic)', 'Blog(organic)', 'Instagram', 'Facebook?utm_medium=social', 'linkedin', 'facebook-paid-ttl', 'drip_mailer2', 'Quora', 'Chat', 'CourseReport', 'collegeduniya', 'netcore', 'andorid course', 'CareerMeet', 'google,google', 'churn', 'dsvsde', 'socialmedia', 'face', 'quora', 'way2online', 'twitter.com', 'twitter', 'DataCamp.com', 'pla', 'sulekha', 'rss', 'indira_nagar', 'onesignal', 'Brochure', 'sms', 'blog-post', 'blog', 'trustpilot', 'Google', 'coursereport', 'youtubehttps://www.google.com.bd', 'webpush', 'Website Event Page', 'Linkedin', 'Quora?utm_medium=social', 'popup']\n"
     ]
    }
   ],
   "source": [
    "print(len(list(b_data['utm_source'].unique())))\n",
    "print(list(b_data['utm_source'].unique()))"
   ]
  },
  {
   "cell_type": "code",
   "execution_count": 51,
   "metadata": {},
   "outputs": [
    {
     "name": "stdout",
     "output_type": "stream",
     "text": [
      "32\n",
      "32\n"
     ]
    },
    {
     "data": {
      "image/png": "[encoded data removed]",
      "text/plain": [
       "<Figure size 3600x720 with 1 Axes>"
      ]
     },
     "metadata": {},
     "output_type": "display_data"
    }
   ],
   "source": [
    "fig = plt.gcf()\n",
    "fig.set_size_inches(50,10) \n",
    "\n",
    "sources = list(b_data['utm_source'].unique())\n",
    "source_freq = [b_data[b_data['utm_source'] == s].shape[0] for s in sources]\n",
    "\n",
    "s1 = []\n",
    "s_f1 = []\n",
    "\n",
    "for i in range(len(sources)):\n",
    "    if(source_freq[i] > 20):\n",
    "        s1.append(sources[i])\n",
    "        s_f1.append(source_freq[i])\n",
    "\n",
    "print(len(s1))\n",
    "print(len(s_f1))\n",
    "\n",
    "\n",
    "# Plot\n",
    "#plt.pie(s_f1, labels=s1, autopct='%1.1f%%', startangle=30)\n",
    " \n",
    "#plt.axis('equal')\n",
    "plt.bar(s1, s_f1)\n",
    "plt.show()"
   ]
  },
  {
   "cell_type": "raw",
   "metadata": {},
   "source": [
    "print(len(list(b_data['current_url'].unique())))"
   ]
  },
  {
   "cell_type": "code",
   "execution_count": 52,
   "metadata": {},
   "outputs": [
    {
     "name": "stdout",
     "output_type": "stream",
     "text": [
      "['https://acadgild.com/big-data/deep-learning-course-training-certification?utm_campaign=enrol-statistics-tutorial-FmWz4deqo9g_medium=VM&utm_source=youtube', 'https://acadgild.com/big-data/data-analytics-training-certification', 'https://acadgild.com/web-development/full-stack-web-development-training-certification?aff_id=6026&source=display&account=facebook_marketinglead&campaign=FB_AG_Fullstack_IN_WC_traffic_ad&utm_source=display&utm_medium=facebook_marketinglead&utm_campaign=FB', 'https://acadgild.com/web-development/full-stack-web-development-training-certification/?aff_id=5080&utm_source=google&utm_medium=search&utm_campaign=fulllstack_search&gclid=Cj0KCQjw1NzZBRCoARIsAIaMwuupyZ2ENDpkGDGMI1QWEoeHXvt00DgSLsrzyHwNOBedQyXQaIbJbcgaAq', 'https://acadgild.com/our-bangalore-marathahalli-center', 'https://acadgild.com/', 'https://acadgild.com/big-data/big-data-development-training-certification?aff_id=6026&source=display&account=facebook_marketinglead&campaign=AG_FB_NC_IN_WC_BigData_lookalike_mobile_2girl&utm_source=display&utm_medium=facebook_marketinglead&utm_campaign=AG', 'https://acadgild.com/big-data/data-science-training-certification?aff_id=5067&source=affiliate&account=adcanopus&campaign=Data_Science&utm_source=adcanopus&utm_medium=affiliate&utm_campaign=Data_Science&business_id=1009', 'https://acadgild.com/web-development/full-stack-web-development-training-certification', 'https://acadgild.com/big-data/big-data-development-training-certification']\n"
     ]
    }
   ],
   "source": [
    "print(list(b_data['current_url'].unique())[:10])"
   ]
  },
  {
   "cell_type": "code",
   "execution_count": 55,
   "metadata": {},
   "outputs": [
    {
     "name": "stdout",
     "output_type": "stream",
     "text": [
      "[False, True]\n"
     ]
    }
   ],
   "source": [
    "#data2=b_data[b_data.id.str.contains(r'[^@]+@[^@]+\\.[^@]+', na=False, regex=True)]\n",
    "pattern = re.compile(r\"(^[a-zA-Z0-9_.+-]+@[a-zA-Z0-9-]+\\.[a-zA-Z0-9-.]+$)\") \n",
    "#b_data['isemail'] = b_data['id'].apply(lambda x: True if pattern.match(x) else False)\n",
    "b_data['is_valid_email'] = b_data['distinct_id'].apply(lambda x:validate_email(x))\n",
    "print(list(b_data['is_valid_email'].unique()))\n"
   ]
  },
  {
   "cell_type": "code",
   "execution_count": 57,
   "metadata": {},
   "outputs": [],
   "source": [
    "valid_leads = b_data[b_data['is_valid_email'] == True]"
   ]
  },
  {
   "cell_type": "code",
   "execution_count": 58,
   "metadata": {},
   "outputs": [
    {
     "name": "stdout",
     "output_type": "stream",
     "text": [
      "<class 'pandas.core.frame.DataFrame'>\n",
      "Int64Index: 32914 entries, 14 to 306789\n",
      "Data columns (total 27 columns):\n",
      "id                          32914 non-null object\n",
      "event                       32914 non-null object\n",
      "utm_content                 75 non-null object\n",
      "browser_version             20399 non-null object\n",
      "search_engine               8866 non-null object\n",
      "city                        19271 non-null object\n",
      "initial_referring_domain    20544 non-null object\n",
      "lib_version                 20544 non-null object\n",
      "utm_medium                  7504 non-null object\n",
      "browser                     20544 non-null object\n",
      "screen_width                20544 non-null object\n",
      "initial_referrer            20544 non-null object\n",
      "utm_campaign                7467 non-null object\n",
      "time                        32914 non-null object\n",
      "current_url                 20544 non-null object\n",
      "distinct_id                 32914 non-null object\n",
      "utm_source                  7555 non-null object\n",
      "device                      5667 non-null object\n",
      "mp_country_code             20512 non-null object\n",
      "referrer                    15666 non-null object\n",
      "region                      19360 non-null object\n",
      "mp_lib                      20544 non-null object\n",
      "mp_processing_time_ms       13258 non-null object\n",
      "referring_domain            15666 non-null object\n",
      "os                          20540 non-null object\n",
      "screen_height               20544 non-null object\n",
      "is_valid_email              32914 non-null bool\n",
      "dtypes: bool(1), object(26)\n",
      "memory usage: 6.8+ MB\n",
      "None\n"
     ]
    }
   ],
   "source": [
    "print(valid_leads.info())"
   ]
  },
  {
   "cell_type": "code",
   "execution_count": 59,
   "metadata": {},
   "outputs": [
    {
     "name": "stdout",
     "output_type": "stream",
     "text": [
      "                           id     event utm_content browser_version  \\\n",
      "14   5b87bcabb56baf6f61c255c2  pageView         NaN              67   \n",
      "102  5b87bcabb56baf6f61c2561a  pageView         NaN              67   \n",
      "110  5b87bcabb56baf6f61c25622  pageView         NaN              67   \n",
      "167  5b87bcabb56baf6f61c2565b  pageView         NaN              59   \n",
      "200  5b87bcabb56baf6f61c2567c  pageView         NaN              67   \n",
      "204  5b87bcabb56baf6f61c25680  pageView         NaN              67   \n",
      "296  5b87bcabb56baf6f61c256dc  pageView         NaN              67   \n",
      "313  5b87bcabb56baf6f61c256ed  pageView         NaN              67   \n",
      "320  5b87bcabb56baf6f61c256f4  pageView         NaN              67   \n",
      "322  5b87bcabb56baf6f61c256f6  pageView         NaN              61   \n",
      "\n",
      "    search_engine       city  initial_referring_domain lib_version  \\\n",
      "14            NaN  Bengaluru    dashboard.acadgild.com      2.22.4   \n",
      "102           NaN  Hyderabad            m.facebook.com      2.22.4   \n",
      "110           NaN  Hyderabad            m.facebook.com      2.22.4   \n",
      "167           NaN      Amman  marketing.susu-sahoo.com      2.22.4   \n",
      "200           NaN     Mumbai                    direct      2.22.4   \n",
      "204           NaN    Chennai                    direct      2.22.4   \n",
      "296           NaN  Bengaluru                    direct      2.22.4   \n",
      "313           NaN  Ernakulam     com.google.android.gm      2.22.4   \n",
      "320        google  Bengaluru          www.google.co.in      2.22.4   \n",
      "322           NaN  Ghaziabad                    direct      2.22.4   \n",
      "\n",
      "                 utm_medium  browser      ...         device mp_country_code  \\\n",
      "14                      NaN   Chrome      ...            NaN              IN   \n",
      "102  facebook_marketinglead   Chrome      ...        Android              IN   \n",
      "110  facebook_marketinglead   Chrome      ...        Android              IN   \n",
      "167                 netcore   Chrome      ...        Android              JO   \n",
      "200                     NaN   Chrome      ...            NaN              IN   \n",
      "204                     NaN   Chrome      ...            NaN              IN   \n",
      "296                     NaN   Chrome      ...            NaN              IN   \n",
      "313                     NaN   Chrome      ...        Android              IN   \n",
      "320                     cpc   Chrome      ...        Android              IN   \n",
      "322                     NaN  Firefox      ...            NaN              IN   \n",
      "\n",
      "                                              referrer             region  \\\n",
      "14            https://dashboard.acadgild.com/mytickets          Karnataka   \n",
      "102  https://acadgild.com/big-data/big-data-develop...          Telangana   \n",
      "110  https://acadgild.com/big-data/big-data-develop...          Telangana   \n",
      "167  https://acadgild.com/big-data/data-analytics-t...  Amman Governorate   \n",
      "200            https://acadgild.com/browse-all-courses        Maharashtra   \n",
      "204                                                NaN         Tamil Nadu   \n",
      "296      https://dashboard.acadgild.com/user/dashboard          Karnataka   \n",
      "313                                                NaN             Kerala   \n",
      "320                          https://www.google.co.in/          Karnataka   \n",
      "322  https://dashboard.acadgild.com/student_course_...      Uttar Pradesh   \n",
      "\n",
      "    mp_lib mp_processing_time_ms        referring_domain       os  \\\n",
      "14     web                   NaN  dashboard.acadgild.com  Windows   \n",
      "102    web                   NaN            acadgild.com  Android   \n",
      "110    web                   NaN            acadgild.com  Android   \n",
      "167    web                   NaN            acadgild.com  Android   \n",
      "200    web                   NaN            acadgild.com    Linux   \n",
      "204    web                   NaN                     NaN  Windows   \n",
      "296    web                   NaN  dashboard.acadgild.com  Windows   \n",
      "313    web                   NaN                     NaN  Android   \n",
      "320    web                   NaN        www.google.co.in  Android   \n",
      "322    web                   NaN  dashboard.acadgild.com  Windows   \n",
      "\n",
      "    screen_height is_valid_email  \n",
      "14            768           True  \n",
      "102           640           True  \n",
      "110           640           True  \n",
      "167           732           True  \n",
      "200           768           True  \n",
      "204           768           True  \n",
      "296           768           True  \n",
      "313           640           True  \n",
      "320           786           True  \n",
      "322           900           True  \n",
      "\n",
      "[10 rows x 27 columns]\n"
     ]
    }
   ],
   "source": [
    "print(valid_leads.head(10))"
   ]
  },
  {
   "cell_type": "code",
   "execution_count": 61,
   "metadata": {},
   "outputs": [
    {
     "name": "stdout",
     "output_type": "stream",
     "text": [
      "59\n"
     ]
    }
   ],
   "source": [
    "print(len(valid_leads['mp_country_code'].unique()))"
   ]
  },
  {
   "cell_type": "code",
   "execution_count": 65,
   "metadata": {},
   "outputs": [
    {
     "data": {
      "text/plain": [
       "<BarContainer object of 6 artists>"
      ]
     },
     "execution_count": 65,
     "metadata": {},
     "output_type": "execute_result"
    },
    {
     "data": {
      "image/png": "[encoded data removed]",
      "text/plain": [
       "<Figure size 1440x720 with 1 Axes>"
      ]
     },
     "metadata": {},
     "output_type": "display_data"
    }
   ],
   "source": [
    "grouped_data = valid_leads['mp_country_code'].groupby([valid_leads['mp_country_code']]).count()\n",
    "new_df = grouped_data.to_frame(name = 'size').reset_index()\n",
    "\n",
    "new_df1 = new_df[new_df['size'] >= 50]\n",
    "\n",
    "plt.figure(figsize=(20,10))\n",
    "plt.bar(new_df1['mp_country_code'], new_df1['size'])"
   ]
  },
  {
   "cell_type": "code",
   "execution_count": 66,
   "metadata": {},
   "outputs": [],
   "source": [
    "valid_leads.to_csv('mixpanel_leads.csv')"
   ]
  },
  {
   "cell_type": "code",
   "execution_count": null,
   "metadata": {},
   "outputs": [],
   "source": []
  }
 ],
 "metadata": {
  "kernelspec": {
   "display_name": "Python 3",
   "language": "python",
   "name": "python3"
  },
  "language_info": {
   "codemirror_mode": {
    "name": "ipython",
    "version": 3
   },
   "file_extension": ".py",
   "mimetype": "text/x-python",
   "name": "python",
   "nbconvert_exporter": "python",
   "pygments_lexer": "ipython3",
   "version": "3.6.6"
  }
 },
 "nbformat": 4,
 "nbformat_minor": 2
}
