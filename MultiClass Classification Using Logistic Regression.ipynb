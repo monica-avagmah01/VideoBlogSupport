{
 "cells": [
  {
   "cell_type": "markdown",
   "metadata": {},
   "source": [
    "Import the libraries"
   ]
  },
  {
   "cell_type": "code",
   "execution_count": 1,
   "metadata": {},
   "outputs": [
    {
     "name": "stderr",
     "output_type": "stream",
     "text": [
      "/home/monica/anaconda3/lib/python3.6/site-packages/h5py/__init__.py:36: FutureWarning: Conversion of the second argument of issubdtype from `float` to `np.floating` is deprecated. In future, it will be treated as `np.float64 == np.dtype(float).type`.\n",
      "  from ._conv import register_converters as _register_converters\n"
     ]
    }
   ],
   "source": [
    "import tensorflow.examples.tutorials.mnist.input_data as input_data\n",
    "import pandas as pd\n",
    "import numpy as np\n",
    "import matplotlib.pyplot as plt\n",
    "import time\n",
    "from sklearn.decomposition import PCA\n",
    "from sklearn.preprocessing import StandardScaler\n",
    "from sklearn import metrics\n",
    "from sklearn.model_selection import train_test_split\n",
    "from sklearn.linear_model import LogisticRegression"
   ]
  },
  {
   "cell_type": "markdown",
   "metadata": {},
   "source": [
    "Load the dataset"
   ]
  },
  {
   "cell_type": "code",
   "execution_count": 2,
   "metadata": {},
   "outputs": [
    {
     "name": "stdout",
     "output_type": "stream",
     "text": [
      "WARNING:tensorflow:From <ipython-input-2-7186b8f20acc>:2: read_data_sets (from tensorflow.contrib.learn.python.learn.datasets.mnist) is deprecated and will be removed in a future version.\n",
      "Instructions for updating:\n",
      "Please use alternatives such as official/mnist/dataset.py from tensorflow/models.\n",
      "WARNING:tensorflow:From /home/monica/anaconda3/lib/python3.6/site-packages/tensorflow/contrib/learn/python/learn/datasets/mnist.py:260: maybe_download (from tensorflow.contrib.learn.python.learn.datasets.base) is deprecated and will be removed in a future version.\n",
      "Instructions for updating:\n",
      "Please write your own downloading logic.\n",
      "WARNING:tensorflow:From /home/monica/anaconda3/lib/python3.6/site-packages/tensorflow/contrib/learn/python/learn/datasets/mnist.py:262: extract_images (from tensorflow.contrib.learn.python.learn.datasets.mnist) is deprecated and will be removed in a future version.\n",
      "Instructions for updating:\n",
      "Please use tf.data to implement this functionality.\n",
      "Extracting MNIST/train-images-idx3-ubyte.gz\n",
      "WARNING:tensorflow:From /home/monica/anaconda3/lib/python3.6/site-packages/tensorflow/contrib/learn/python/learn/datasets/mnist.py:267: extract_labels (from tensorflow.contrib.learn.python.learn.datasets.mnist) is deprecated and will be removed in a future version.\n",
      "Instructions for updating:\n",
      "Please use tf.data to implement this functionality.\n",
      "Extracting MNIST/train-labels-idx1-ubyte.gz\n",
      "Extracting MNIST/t10k-images-idx3-ubyte.gz\n",
      "Extracting MNIST/t10k-labels-idx1-ubyte.gz\n",
      "WARNING:tensorflow:From /home/monica/anaconda3/lib/python3.6/site-packages/tensorflow/contrib/learn/python/learn/datasets/mnist.py:290: DataSet.__init__ (from tensorflow.contrib.learn.python.learn.datasets.mnist) is deprecated and will be removed in a future version.\n",
      "Instructions for updating:\n",
      "Please use alternatives such as official/mnist/dataset.py from tensorflow/models.\n"
     ]
    }
   ],
   "source": [
    "#mnist = fetch_mldata('MNIST original', data_home = 'home/monica/data/')\n",
    "mnist=input_data.read_data_sets(\"MNIST\")\n",
    "\n",
    "global benchmark_cols\n",
    "benchmark_cols = ['Variance retained','n_Components','Time(s)','Accuracy_percentage']\n",
    "global benchmarking_data\n",
    "benchmarking_data = pd.DataFrame(columns = benchmark_cols)\n"
   ]
  },
  {
   "cell_type": "code",
   "execution_count": 3,
   "metadata": {},
   "outputs": [],
   "source": [
    "train_data = mnist.train.images \n",
    "train_labels = np.asarray(mnist.train.labels, dtype=np.int32)\n",
    "test_data = mnist.test.images\n",
    "test_labels = np.asarray(mnist.test.labels, dtype = np.int32)"
   ]
  },
  {
   "cell_type": "markdown",
   "metadata": {},
   "source": [
    "Preprocess data"
   ]
  },
  {
   "cell_type": "code",
   "execution_count": 4,
   "metadata": {},
   "outputs": [],
   "source": [
    "scaler = StandardScaler()\n",
    "scaler.fit(train_data)\n",
    "train_data = scaler.transform(train_data)\n",
    "test_data = scaler.transform(test_data)"
   ]
  },
  {
   "cell_type": "markdown",
   "metadata": {},
   "source": [
    "Let’s collect the following benchmarking information:\n",
    "<br>1) Variance: The variance of the original data that is retained\n",
    "<br>2) N_components: number of principal components \n",
    "<br>3) Timing: time to fit  training\n",
    "<br>4) Accuracy: Accuracy obtained\n",
    "We will capture the above attributes from each experiment run."
   ]
  },
  {
   "cell_type": "markdown",
   "metadata": {},
   "source": [
    "Fit the model and collect the benchmarking metrics when all dimensions are used"
   ]
  },
  {
   "cell_type": "code",
   "execution_count": 5,
   "metadata": {},
   "outputs": [],
   "source": [
    "variance = 1.0\n",
    "n_components = train_data.shape[1]\n",
    "model = LogisticRegression(solver = 'lbfgs')\n",
    "start = time.time()\n",
    "model.fit(train_data, train_labels)\n",
    "end =  time.time()\n",
    "timing = end-start"
   ]
  },
  {
   "cell_type": "markdown",
   "metadata": {},
   "source": [
    "Validate the model fit"
   ]
  },
  {
   "cell_type": "code",
   "execution_count": 6,
   "metadata": {},
   "outputs": [
    {
     "name": "stdout",
     "output_type": "stream",
     "text": [
      "Misclassified samples: 826\n",
      "Accuracy: 0.92\n"
     ]
    }
   ],
   "source": [
    "y_pred = model.predict(test_data)\n",
    "count_misclassified = (test_labels != y_pred).sum()\n",
    "print('Misclassified samples: {}'.format(count_misclassified))\n",
    "accuracy = metrics.accuracy_score(test_labels, y_pred)\n",
    "print('Accuracy: {:.2f}'.format(accuracy))"
   ]
  },
  {
   "cell_type": "markdown",
   "metadata": {},
   "source": [
    "Print the benchmarking metrics"
   ]
  },
  {
   "cell_type": "code",
   "execution_count": 7,
   "metadata": {},
   "outputs": [
    {
     "name": "stdout",
     "output_type": "stream",
     "text": [
      "{'Variance retained': 1.0, 'n_Components': 784, 'Time(s)': 48.936928272247314, 'Accuracy_percentage': 0.9174}\n"
     ]
    }
   ],
   "source": [
    "print(dict(zip(benchmark_cols,[variance,n_components,timing,accuracy])))\n",
    "benchmarking_data = benchmarking_data.iloc[0:0]\n",
    "benchmarking_data = benchmarking_data.append(dict(zip(benchmark_cols,[variance,n_components,timing,accuracy])),ignore_index=True)"
   ]
  },
  {
   "cell_type": "markdown",
   "metadata": {},
   "source": [
    "Decide on the variance percentages for which we would like to conduct experiments."
   ]
  },
  {
   "cell_type": "code",
   "execution_count": 8,
   "metadata": {},
   "outputs": [],
   "source": [
    "variance_list = [0.95,0.90,0.85,0.80,0.75,0.70]"
   ]
  },
  {
   "cell_type": "markdown",
   "metadata": {},
   "source": [
    "Define a function to run the same model with various variances and run it"
   ]
  },
  {
   "cell_type": "code",
   "execution_count": 9,
   "metadata": {},
   "outputs": [],
   "source": [
    "def benchmark_pca(variance,train_img,train_lbl,test_img,test_lbl):\n",
    "    global benchmarking_data\n",
    "    pca = PCA(variance)\n",
    "    pca.fit(train_img)\n",
    "    n_components = pca.n_components_\n",
    "    train_img = pca.transform(train_img)\n",
    "\n",
    "    # pca.fit(test_img)\n",
    "    test_img = pca.transform(test_img)\n",
    "    logisticRegr = LogisticRegression(solver = 'lbfgs')\n",
    "    start = time.time()\n",
    "    logisticRegr.fit(train_img, train_lbl)\n",
    "    end =  time.time()\n",
    "    \n",
    "    timing = end-start\n",
    "    \n",
    "    # Predict for Multiple Observations (images) at Once\n",
    "    predicted = logisticRegr.predict(test_img)\n",
    "    \n",
    "    # generate evaluation metrics\n",
    "    accuracy = (metrics.accuracy_score(test_lbl, predicted))\n",
    "    #return \n",
    "    vals = dict(zip(benchmark_cols,[variance,n_components,timing,accuracy]))\n",
    "    benchmarking_data = benchmarking_data.append(vals,ignore_index=True)\n",
    "    \n",
    "\n",
    "for variance in variance_list:\n",
    "    benchmark_pca(variance,train_data,train_labels,test_data,test_labels)"
   ]
  },
  {
   "cell_type": "code",
   "execution_count": 10,
   "metadata": {},
   "outputs": [
    {
     "name": "stdout",
     "output_type": "stream",
     "text": [
      "   Variance retained  n_Components    Time(s)  Accuracy_percentage\n",
      "0               1.00         784.0  48.936928               0.9174\n",
      "1               0.95         330.0  26.438228               0.9215\n",
      "2               0.90         236.0  18.421920               0.9185\n",
      "3               0.85         185.0  15.343364               0.9169\n",
      "4               0.80         148.0  12.913184               0.9142\n",
      "5               0.75         120.0  11.310373               0.9135\n",
      "6               0.70          98.0  10.191293               0.9093\n"
     ]
    }
   ],
   "source": [
    "print(benchmarking_data)"
   ]
  },
  {
   "cell_type": "code",
   "execution_count": 11,
   "metadata": {},
   "outputs": [
    {
     "data": {
      "image/png": "[encoded data removed]",
      "text/plain": [
       "<Figure size 432x288 with 1 Axes>"
      ]
     },
     "metadata": {},
     "output_type": "display_data"
    }
   ],
   "source": [
    "plt.plot(benchmarking_data['n_Components'], benchmarking_data['Accuracy_percentage'],color = 'c', ls = 'dotted', lw = 3.4)\n",
    "plt.xlabel(\"Number of Components\")\n",
    "plt.ylabel(\"Accuracy_percentage\")\n",
    "plt.show()\n"
   ]
  },
  {
   "cell_type": "code",
   "execution_count": 14,
   "metadata": {},
   "outputs": [
    {
     "data": {
      "image/png": "[encoded data removed]",
      "text/plain": [
       "<Figure size 432x288 with 1 Axes>"
      ]
     },
     "metadata": {},
     "output_type": "display_data"
    }
   ],
   "source": [
    "plt.plot(benchmarking_data['n_Components'], benchmarking_data['Variance retained'], color = 'orange', ls = 'dotted', lw = 3.4)\n",
    "plt.xlabel(\"n_Components\")\n",
    "plt.ylabel(\"Variance\")\n",
    "plt.show()"
   ]
  },
  {
   "cell_type": "code",
   "execution_count": 15,
   "metadata": {},
   "outputs": [
    {
     "data": {
      "image/png": "[encoded data removed]",
      "text/plain": [
       "<Figure size 432x288 with 1 Axes>"
      ]
     },
     "metadata": {},
     "output_type": "display_data"
    }
   ],
   "source": [
    "plt.plot(benchmarking_data['Time(s)'], benchmarking_data['Accuracy_percentage'],color = 'm', ls = 'dotted', lw = 3.4)\n",
    "plt.xlabel('Time(s)')\n",
    "plt.ylabel('Accuracy_percentage')\n",
    "plt.show()"
   ]
  },
  {
   "cell_type": "code",
   "execution_count": null,
   "metadata": {},
   "outputs": [],
   "source": []
  }
 ],
 "metadata": {
  "kernelspec": {
   "display_name": "Python 3",
   "language": "python",
   "name": "python3"
  },
  "language_info": {
   "codemirror_mode": {
    "name": "ipython",
    "version": 3
   },
   "file_extension": ".py",
   "mimetype": "text/x-python",
   "name": "python",
   "nbconvert_exporter": "python",
   "pygments_lexer": "ipython3",
   "version": "3.6.5"
  }
 },
 "nbformat": 4,
 "nbformat_minor": 2
}
