{
 "cells": [
  {
   "cell_type": "code",
   "execution_count": 2,
   "metadata": {},
   "outputs": [
    {
     "name": "stdout",
     "output_type": "stream",
     "text": [
      "['banana', 'pineapple', 'strawberry', 'mulberry']\n"
     ]
    }
   ],
   "source": [
    "def filter_long_words(word, n):\n",
    "    if(len(word) > n):\n",
    "        return True\n",
    "    else:\n",
    "        return False\n",
    "    \n",
    "list_words = ['apple', 'banana', 'grape', 'pineapple', 'strawberry', 'mulberry']\n",
    "\n",
    "long_words = list(filter(lambda x: filter_long_words(x, 5), list_words))\n",
    "print(long_words)"
   ]
  },
  {
   "cell_type": "code",
   "execution_count": 3,
   "metadata": {},
   "outputs": [
    {
     "name": "stdout",
     "output_type": "stream",
     "text": [
      "[5, 6, 5, 9, 10, 8]\n"
     ]
    }
   ],
   "source": [
    "words = ['apple', 'banana', 'grape', 'pineapple', 'strawberry', 'mulberry']\n",
    "lengths = list(map(len, words))\n",
    "print(lengths)"
   ]
  },
  {
   "cell_type": "code",
   "execution_count": 5,
   "metadata": {},
   "outputs": [
    {
     "name": "stdout",
     "output_type": "stream",
     "text": [
      "['a', 'e']\n"
     ]
    }
   ],
   "source": [
    "def filter_vowel(char):\n",
    "    if(char.lower() in ['a','e','i','o','u']):\n",
    "       return True\n",
    "    else:\n",
    "       return False\n",
    "       \n",
    "       \n",
    "print(list(filter(lambda x: filter_vowel(x), 'apple')))"
   ]
  },
  {
   "cell_type": "code",
   "execution_count": null,
   "metadata": {},
   "outputs": [],
   "source": []
  }
 ],
 "metadata": {
  "kernelspec": {
   "display_name": "Python 3",
   "language": "python",
   "name": "python3"
  },
  "language_info": {
   "codemirror_mode": {
    "name": "ipython",
    "version": 3
   },
   "file_extension": ".py",
   "mimetype": "text/x-python",
   "name": "python",
   "nbconvert_exporter": "python",
   "pygments_lexer": "ipython3",
   "version": "3.6.6"
  }
 },
 "nbformat": 4,
 "nbformat_minor": 2
}
